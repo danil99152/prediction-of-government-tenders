{
  "nbformat": 4,
  "nbformat_minor": 0,
  "metadata": {
    "colab": {
      "name": "forecasting_future_contract_stage.ipynb",
      "provenance": [],
      "collapsed_sections": [
        "_01Imd1P1YMo",
        "RdMmduLB1gAA",
        "psGoXXPzXxEb"
      ],
      "include_colab_link": true
    },
    "kernelspec": {
      "display_name": "Python 3",
      "language": "python",
      "name": "python3"
    },
    "language_info": {
      "codemirror_mode": {
        "name": "ipython",
        "version": 3
      },
      "file_extension": ".py",
      "mimetype": "text/x-python",
      "name": "python",
      "nbconvert_exporter": "python",
      "pygments_lexer": "ipython3",
      "version": "3.8.3"
    },
    "accelerator": "GPU"
  },
  "cells": [
    {
      "cell_type": "markdown",
      "metadata": {
        "id": "view-in-github",
        "colab_type": "text"
      },
      "source": [
        "<a href=\"https://colab.research.google.com/github/danil99152/prediction-of-government-tenders/blob/main/forecasting_future_contract_stage.ipynb\" target=\"_parent\"><img src=\"https://colab.research.google.com/assets/colab-badge.svg\" alt=\"Open In Colab\"/></a>"
      ]
    },
    {
      "cell_type": "markdown",
      "metadata": {
        "id": "S7141lhsNOEl"
      },
      "source": [
        "#Changelog\n",
        "*  Убрал полиномиальную и линейную регрессии из-за плохих результатов\n",
        "*  Вынес подсчет ошибок в отдельный метод\n",
        "*  Добавил проверку на значимость признаков через дерево решений (тоже склерн)\n",
        "*  Случайный лес не оправдал ожиданий\n",
        "*  Добавил XGBoost - результат как у нейронки и на 1% лучше, чем у логической регрессии\n",
        "*  Проведен анализ по registration_period\n",
        "*  registration_period выкинут из тренировочных и тестовых данных\n",
        "*  Объединение в ансамбль\n",
        "* Убрать форму поставщика\n",
        "* Сплит по времени регистрации контракта\n",
        "* CatBoost, xgboost c gridsearchcv - упор на них, отказаться от нейронки в последствии\n",
        "* Добавили бейслайны\n",
        "* Confusion matrix\n",
        "* Добавил sklearn pipline with gridsearchcv"
      ]
    },
    {
      "cell_type": "code",
      "metadata": {
        "colab": {
          "base_uri": "https://localhost:8080/"
        },
        "id": "_wioS7c3Y0hr",
        "outputId": "106c45c4-3b37-4b96-cc5a-43e9201102ac"
      },
      "source": [
        "from google.colab import drive\n",
        "drive.mount('/content/drive')"
      ],
      "execution_count": 1,
      "outputs": [
        {
          "output_type": "stream",
          "text": [
            "Mounted at /content/drive\n"
          ],
          "name": "stdout"
        }
      ]
    },
    {
      "cell_type": "markdown",
      "metadata": {
        "id": "_01Imd1P1YMo"
      },
      "source": [
        "# Импорт"
      ]
    },
    {
      "cell_type": "code",
      "metadata": {
        "colab": {
          "base_uri": "https://localhost:8080/"
        },
        "id": "UvcmYIhNh7Pn",
        "outputId": "4a7f334d-95f9-4779-9493-b7443c42b32d"
      },
      "source": [
        "!pip install catboost"
      ],
      "execution_count": 2,
      "outputs": [
        {
          "output_type": "stream",
          "text": [
            "Collecting catboost\n",
            "\u001b[?25l  Downloading https://files.pythonhosted.org/packages/5a/41/24e14322b9986cf72a8763e0a0a69cc256cf963cf9502c8f0044a62c1ae8/catboost-0.26-cp37-none-manylinux1_x86_64.whl (69.2MB)\n",
            "\u001b[K     |████████████████████████████████| 69.2MB 41kB/s \n",
            "\u001b[?25hRequirement already satisfied: six in /usr/local/lib/python3.7/dist-packages (from catboost) (1.15.0)\n",
            "Requirement already satisfied: matplotlib in /usr/local/lib/python3.7/dist-packages (from catboost) (3.2.2)\n",
            "Requirement already satisfied: pandas>=0.24.0 in /usr/local/lib/python3.7/dist-packages (from catboost) (1.1.5)\n",
            "Requirement already satisfied: plotly in /usr/local/lib/python3.7/dist-packages (from catboost) (4.4.1)\n",
            "Requirement already satisfied: graphviz in /usr/local/lib/python3.7/dist-packages (from catboost) (0.10.1)\n",
            "Requirement already satisfied: scipy in /usr/local/lib/python3.7/dist-packages (from catboost) (1.4.1)\n",
            "Requirement already satisfied: numpy>=1.16.0 in /usr/local/lib/python3.7/dist-packages (from catboost) (1.19.5)\n",
            "Requirement already satisfied: cycler>=0.10 in /usr/local/lib/python3.7/dist-packages (from matplotlib->catboost) (0.10.0)\n",
            "Requirement already satisfied: pyparsing!=2.0.4,!=2.1.2,!=2.1.6,>=2.0.1 in /usr/local/lib/python3.7/dist-packages (from matplotlib->catboost) (2.4.7)\n",
            "Requirement already satisfied: kiwisolver>=1.0.1 in /usr/local/lib/python3.7/dist-packages (from matplotlib->catboost) (1.3.1)\n",
            "Requirement already satisfied: python-dateutil>=2.1 in /usr/local/lib/python3.7/dist-packages (from matplotlib->catboost) (2.8.1)\n",
            "Requirement already satisfied: pytz>=2017.2 in /usr/local/lib/python3.7/dist-packages (from pandas>=0.24.0->catboost) (2018.9)\n",
            "Requirement already satisfied: retrying>=1.3.3 in /usr/local/lib/python3.7/dist-packages (from plotly->catboost) (1.3.3)\n",
            "Installing collected packages: catboost\n",
            "Successfully installed catboost-0.26\n"
          ],
          "name": "stdout"
        }
      ]
    },
    {
      "cell_type": "code",
      "metadata": {
        "colab": {
          "base_uri": "https://localhost:8080/"
        },
        "id": "cDd075kQsc12",
        "outputId": "124689ff-e822-4f99-af00-1ac87ab4a0df"
      },
      "source": [
        "from datetime import datetime, date\n",
        "import math\n",
        "import re\n",
        "import gc\n",
        "\n",
        "import pandas as pd\n",
        "import numpy as np\n",
        "from scipy import stats\n",
        "import seaborn as sbs\n",
        "from statsmodels.graphics.mosaicplot import mosaic\n",
        "\n",
        "from matplotlib.ticker import MultipleLocator\n",
        "import matplotlib.pyplot as plt\n",
        "%matplotlib inline\n",
        "\n",
        "import keras\n",
        "from keras import optimizers\n",
        "from keras.models import Sequential\n",
        "from keras.layers import Dense,Dropout\n",
        "from keras.optimizers import RMSprop\n",
        "from keras.callbacks import Callback, TensorBoard, ModelCheckpoint\n",
        "from keras.models import load_model\n",
        "\n",
        "from sklearn.preprocessing import PolynomialFeatures\n",
        "from sklearn.linear_model import LogisticRegression\n",
        "from sklearn.linear_model import LinearRegression\n",
        "from sklearn.ensemble import RandomForestClassifier\n",
        "from sklearn import metrics\n",
        "from sklearn import preprocessing\n",
        "from sklearn.ensemble import ExtraTreesClassifier\n",
        "from sklearn.model_selection import train_test_split\n",
        "from sklearn.feature_selection import RFE\n",
        "from sklearn.metrics import classification_report\n",
        "from sklearn.model_selection import GridSearchCV\n",
        "from sklearn.ensemble import AdaBoostClassifier\n",
        "from sklearn.tree import DecisionTreeClassifier\n",
        "from sklearn.metrics import accuracy_score\n",
        "from sklearn.preprocessing import LabelEncoder\n",
        "from sklearn.neighbors import KNeighborsClassifier\n",
        "from sklearn.metrics import confusion_matrix, ConfusionMatrixDisplay\n",
        "from sklearn.pipeline import Pipeline\n",
        "from sklearn.decomposition import PCA\n",
        "from sklearn.preprocessing import OneHotEncoder\n",
        "\n",
        "import xgboost as xgb\n",
        "import catboost as ctb\n",
        "from xgboost import XGBClassifier\n",
        "from catboost import CatBoostClassifier\n",
        "\n",
        "import joblib\n",
        "import pickle"
      ],
      "execution_count": 3,
      "outputs": [
        {
          "output_type": "stream",
          "text": [
            "/usr/local/lib/python3.7/dist-packages/statsmodels/tools/_testing.py:19: FutureWarning: pandas.util.testing is deprecated. Use the functions in the public API at pandas.testing instead.\n",
            "  import pandas.util.testing as tm\n"
          ],
          "name": "stderr"
        }
      ]
    },
    {
      "cell_type": "code",
      "metadata": {
        "colab": {
          "base_uri": "https://localhost:8080/"
        },
        "id": "VXekzdg5rZj1",
        "outputId": "30175fdb-8f28-46d6-eee2-00586c3760c0"
      },
      "source": [
        "# Загрузка данных\n",
        "!gdown --id 12QEoBsxSipCOdGObwPmU4n0EI96yHBWA"
      ],
      "execution_count": 4,
      "outputs": [
        {
          "output_type": "stream",
          "text": [
            "Downloading...\n",
            "From: https://drive.google.com/uc?id=12QEoBsxSipCOdGObwPmU4n0EI96yHBWA\n",
            "To: /content/contracts.csv\n",
            "395MB [00:01, 229MB/s]\n"
          ],
          "name": "stdout"
        }
      ]
    },
    {
      "cell_type": "markdown",
      "metadata": {
        "id": "RdMmduLB1gAA"
      },
      "source": [
        "# Обработка данных"
      ]
    },
    {
      "cell_type": "markdown",
      "metadata": {
        "id": "xxcMKOMV0U_G"
      },
      "source": [
        "Считывание данных о контрактах"
      ]
    },
    {
      "cell_type": "code",
      "metadata": {
        "colab": {
          "base_uri": "https://localhost:8080/",
          "height": 0
        },
        "id": "q0MqHHaUs3ra",
        "outputId": "5a2ca0a6-17e2-4ac2-8592-02338f65ded3"
      },
      "source": [
        "contract_path = 'contracts.csv'\n",
        "dtypes = {'product_code' : 'category', \n",
        "          'customer_legal_form' : 'category', \n",
        "          'supplier_legal_form' : 'category', \n",
        "          'current_contract_stage' : 'category'}\n",
        "parse_dates = ['execution_period_start']\n",
        "data = pd.read_csv(contract_path, dtype = dtypes, parse_dates = parse_dates, infer_datetime_format = True)\n",
        "gc.collect()\n",
        "data['execution_period_start'] = pd.to_datetime(data['execution_period_start'], format = \"%Y-%m-%d\", errors = 'coerce')\n",
        "data.head()"
      ],
      "execution_count": 5,
      "outputs": [
        {
          "output_type": "execute_result",
          "data": {
            "text/html": [
              "<div>\n",
              "<style scoped>\n",
              "    .dataframe tbody tr th:only-of-type {\n",
              "        vertical-align: middle;\n",
              "    }\n",
              "\n",
              "    .dataframe tbody tr th {\n",
              "        vertical-align: top;\n",
              "    }\n",
              "\n",
              "    .dataframe thead th {\n",
              "        text-align: right;\n",
              "    }\n",
              "</style>\n",
              "<table border=\"1\" class=\"dataframe\">\n",
              "  <thead>\n",
              "    <tr style=\"text-align: right;\">\n",
              "      <th></th>\n",
              "      <th>customer_legal_form</th>\n",
              "      <th>price</th>\n",
              "      <th>execution_period_start</th>\n",
              "      <th>product_code</th>\n",
              "      <th>supplier_legal_form</th>\n",
              "      <th>current_contract_stage</th>\n",
              "      <th>time</th>\n",
              "    </tr>\n",
              "  </thead>\n",
              "  <tbody>\n",
              "    <tr>\n",
              "      <th>0</th>\n",
              "      <td>75403</td>\n",
              "      <td>356244.57</td>\n",
              "      <td>2020-01-01</td>\n",
              "      <td>35.14.10.000</td>\n",
              "      <td>12267</td>\n",
              "      <td>EC</td>\n",
              "      <td>366</td>\n",
              "    </tr>\n",
              "    <tr>\n",
              "      <th>1</th>\n",
              "      <td>75403</td>\n",
              "      <td>4186.65</td>\n",
              "      <td>2020-04-29</td>\n",
              "      <td>10.62.11.190</td>\n",
              "      <td>12300</td>\n",
              "      <td>ET</td>\n",
              "      <td>278</td>\n",
              "    </tr>\n",
              "    <tr>\n",
              "      <th>2</th>\n",
              "      <td>75404</td>\n",
              "      <td>1172120.74</td>\n",
              "      <td>2020-02-12</td>\n",
              "      <td>35.12.10.110</td>\n",
              "      <td>12300</td>\n",
              "      <td>EC</td>\n",
              "      <td>324</td>\n",
              "    </tr>\n",
              "    <tr>\n",
              "      <th>3</th>\n",
              "      <td>75404</td>\n",
              "      <td>2897696.00</td>\n",
              "      <td>2020-09-18</td>\n",
              "      <td>81.30.10.000</td>\n",
              "      <td>12300</td>\n",
              "      <td>EC</td>\n",
              "      <td>44</td>\n",
              "    </tr>\n",
              "    <tr>\n",
              "      <th>4</th>\n",
              "      <td>75203</td>\n",
              "      <td>5719.64</td>\n",
              "      <td>2020-01-01</td>\n",
              "      <td>36.00.20.130</td>\n",
              "      <td>65243</td>\n",
              "      <td>ET</td>\n",
              "      <td>366</td>\n",
              "    </tr>\n",
              "  </tbody>\n",
              "</table>\n",
              "</div>"
            ],
            "text/plain": [
              "  customer_legal_form       price  ... current_contract_stage time\n",
              "0               75403   356244.57  ...                     EC  366\n",
              "1               75403     4186.65  ...                     ET  278\n",
              "2               75404  1172120.74  ...                     EC  324\n",
              "3               75404  2897696.00  ...                     EC   44\n",
              "4               75203     5719.64  ...                     ET  366\n",
              "\n",
              "[5 rows x 7 columns]"
            ]
          },
          "metadata": {
            "tags": []
          },
          "execution_count": 5
        }
      ]
    },
    {
      "cell_type": "markdown",
      "metadata": {
        "id": "arae_vGwz29m"
      },
      "source": [
        "Из системы госзакупок:\n",
        "*   EC - Завершен\n",
        "*   E - Выполяется\n",
        "*   ET - Исполнение прекращено\n",
        "*   IN - Контракт Аннулирован\n",
        "\n",
        "Добавленные:\n",
        "*   Unknown - Результат неизвестен"
      ]
    },
    {
      "cell_type": "markdown",
      "metadata": {
        "id": "psGoXXPzXxEb"
      },
      "source": [
        "# Baselines"
      ]
    },
    {
      "cell_type": "code",
      "metadata": {
        "colab": {
          "base_uri": "https://localhost:8080/"
        },
        "id": "9NG9Uu14NjWJ",
        "outputId": "36be6aa1-663f-4632-e398-86971deb6fbc"
      },
      "source": [
        "EC = 1277451\n",
        "ET = 245403\n",
        "\n",
        "def baseline(major, minor):\n",
        "  print(\"------------------\")\n",
        "  #Accuracy = (TP + TN) / (TP + TN + FP + FN)\n",
        "  print(\"Accuracy:\", (major + 0)/(major + 0 + minor + 0))\n",
        "  #Precision = TP / (TP + FP)\n",
        "  precision = major / (major + minor)\n",
        "  print(\"Precision:\", precision)\n",
        "  #Recall = TP / (TP + FN)\n",
        "  recall = major / (major + 0)\n",
        "  print(\"Recall:\", recall)\n",
        "  #f1 = 2 * (precision * recall) / (precision + recall)\n",
        "  print(\"f1:\", 2 * (precision * recall) / (precision + recall))\n",
        "  print(\"------------------\")\n",
        "\n",
        "def randomBaseline(major, minor):\n",
        "  print(\"------------------\")\n",
        "  #Accuracy = (TP + TN) / (TP + TN + FP + FN)\n",
        "  print(\"Accuracy:\", (0.5*major + 0.5*minor)/(0.5*major + 0.5*minor + 0.5*minor + 0.5*major))\n",
        "  #Precision = TP / (TP + FP)\n",
        "  precision = 0.5*major / (0.5*major + 0.5*minor)\n",
        "  print(\"Precision:\", precision)\n",
        "  #Recall = TP / (TP + FN)\n",
        "  recall = 0.5*major / (0.5*major + 0.5*major)\n",
        "  print(\"Recall:\", recall)\n",
        "  #f1 = 2 * (precision * recall) / (precision + recall)\n",
        "  print(\"f1:\", 2 * (precision * recall) / (precision + recall))\n",
        "  print(\"------------------\")\n",
        "\n",
        "def skewedRandomBaseline(major, minor):\n",
        "  perMajor = major / (major + minor)\n",
        "  perMinor = minor / (minor + major)\n",
        "  print(\"------------------\")\n",
        "  #Accuracy = (TP + TN) / (TP + TN + FP + FN)\n",
        "  print(\"Accuracy:\", (perMajor*major + perMinor*minor)/(perMajor*major + perMinor*minor + (1-perMinor)*minor + (1-perMajor)*major))\n",
        "  #Precision = TP / (TP + FP)\n",
        "  precision = perMajor*major / (perMajor*major + (1-perMinor)*minor)\n",
        "  print(\"Precision:\", precision)\n",
        "  #Recall = TP / (TP + FN)\n",
        "  recall = perMajor*major / (perMajor*major + (1-perMajor)*major)\n",
        "  print(\"Recall:\", recall)\n",
        "  #f1 = 2 * (precision * recall) / (precision + recall)\n",
        "  print(\"f1:\", 2 * (precision * recall) / (precision + recall))\n",
        "  print(\"------------------\")\n",
        "\n",
        "print(\"EC:\")\n",
        "baseline(EC, ET)\n",
        "print(\"ET:\")\n",
        "baseline(ET, EC)\n",
        "print(\"Random Baseline:\")\n",
        "print(\"EC:\")\n",
        "randomBaseline(EC, ET)\n",
        "print(\"ET:\")\n",
        "randomBaseline(ET, EC)\n",
        "print(\"Skewed Random Baseline:\")\n",
        "print(\"EC:\")\n",
        "skewedRandomBaseline(EC, ET)\n",
        "print(\"ET:\")\n",
        "skewedRandomBaseline(ET, EC)"
      ],
      "execution_count": 6,
      "outputs": [
        {
          "output_type": "stream",
          "text": [
            "EC:\n",
            "------------------\n",
            "Accuracy: 0.8388532321548882\n",
            "Precision: 0.8388532321548882\n",
            "Recall: 1.0\n",
            "f1: 0.9123656173166852\n",
            "------------------\n",
            "ET:\n",
            "------------------\n",
            "Accuracy: 0.16114676784511187\n",
            "Precision: 0.16114676784511187\n",
            "Recall: 1.0\n",
            "f1: 0.27756485623978866\n",
            "------------------\n",
            "Random Baseline:\n",
            "EC:\n",
            "------------------\n",
            "Accuracy: 0.5\n",
            "Precision: 0.8388532321548882\n",
            "Recall: 0.5\n",
            "f1: 0.6265460709272453\n",
            "------------------\n",
            "ET:\n",
            "------------------\n",
            "Accuracy: 0.5\n",
            "Precision: 0.16114676784511187\n",
            "Recall: 0.5\n",
            "f1: 0.24373826763207293\n",
            "------------------\n",
            "Skewed Random Baseline:\n",
            "EC:\n",
            "------------------\n",
            "Accuracy: 0.729643025883629\n",
            "Precision: 0.838853232154888\n",
            "Recall: 0.838853232154888\n",
            "f1: 0.838853232154888\n",
            "------------------\n",
            "ET:\n",
            "------------------\n",
            "Accuracy: 0.729643025883629\n",
            "Precision: 0.1611467678451119\n",
            "Recall: 0.16114676784511187\n",
            "f1: 0.16114676784511187\n",
            "------------------\n"
          ],
          "name": "stdout"
        }
      ]
    },
    {
      "cell_type": "markdown",
      "metadata": {
        "id": "_W25zfTmvgw7"
      },
      "source": [
        "# Тестируем бустинги"
      ]
    },
    {
      "cell_type": "code",
      "metadata": {
        "colab": {
          "base_uri": "https://localhost:8080/"
        },
        "id": "RIcqtebXEwrq",
        "outputId": "e69270f0-1a3e-4cc1-946d-14b36ef48417"
      },
      "source": [
        "print(\"EC\", len(data[data['current_contract_stage']=='EC']))\n",
        "print(\"ET\", len(data[data['current_contract_stage']=='ET']))"
      ],
      "execution_count": 7,
      "outputs": [
        {
          "output_type": "stream",
          "text": [
            "EC 6163559\n",
            "ET 1450711\n"
          ],
          "name": "stdout"
        }
      ]
    },
    {
      "cell_type": "code",
      "metadata": {
        "id": "SLeZs4hNlI8x"
      },
      "source": [
        "data.sort_values('execution_period_start', inplace = True)\n",
        "x = data.copy()\n",
        "y = data.drop(['customer_legal_form',\t'price',\t'product_code',\t'supplier_legal_form', 'time'], axis=1)\n",
        "x_train, x_test, y_train, y_test = train_test_split(x, y, test_size=0.2, shuffle = False)"
      ],
      "execution_count": 374,
      "outputs": []
    },
    {
      "cell_type": "code",
      "metadata": {
        "colab": {
          "base_uri": "https://localhost:8080/"
        },
        "id": "AhzCt47ENEPj",
        "outputId": "cd2e244b-799e-4ea5-df5c-4f580baaf19d"
      },
      "source": [
        "#Балансировка тренировочных данных\n",
        "old_indexes = round(len(x_train[x_train['current_contract_stage']=='EC'])\n",
        " - len(x_train[x_train['current_contract_stage']=='ET']))\n",
        "x_train.sort_values('execution_period_start', inplace = True)\n",
        "x_train.sort_values('current_contract_stage', inplace = True)\n",
        "x_train = x_train.reset_index(drop=True)\n",
        "x_train.drop(x_train[((x_train.index < old_indexes) & (x_train['current_contract_stage']==\"EC\"))].index, inplace=True)\n",
        "x_train.sort_values('execution_period_start', inplace = True)\n",
        "\n",
        "y_train.sort_values('execution_period_start', inplace = True)\n",
        "y_train.sort_values('current_contract_stage', inplace = True)\n",
        "y_train = y_train.reset_index(drop=True)\n",
        "y_train.drop(y_train[((y_train.index < old_indexes) & (y_train['current_contract_stage']==\"EC\"))].index, inplace=True)\n",
        "y_train.sort_values('execution_period_start', inplace = True)\n",
        "gc.collect()"
      ],
      "execution_count": 375,
      "outputs": [
        {
          "output_type": "stream",
          "text": [
            "/usr/local/lib/python3.7/dist-packages/ipykernel_launcher.py:4: SettingWithCopyWarning: \n",
            "A value is trying to be set on a copy of a slice from a DataFrame\n",
            "\n",
            "See the caveats in the documentation: https://pandas.pydata.org/pandas-docs/stable/user_guide/indexing.html#returning-a-view-versus-a-copy\n",
            "  after removing the cwd from sys.path.\n",
            "/usr/local/lib/python3.7/dist-packages/ipykernel_launcher.py:5: SettingWithCopyWarning: \n",
            "A value is trying to be set on a copy of a slice from a DataFrame\n",
            "\n",
            "See the caveats in the documentation: https://pandas.pydata.org/pandas-docs/stable/user_guide/indexing.html#returning-a-view-versus-a-copy\n",
            "  \"\"\"\n",
            "/usr/local/lib/python3.7/dist-packages/ipykernel_launcher.py:10: SettingWithCopyWarning: \n",
            "A value is trying to be set on a copy of a slice from a DataFrame\n",
            "\n",
            "See the caveats in the documentation: https://pandas.pydata.org/pandas-docs/stable/user_guide/indexing.html#returning-a-view-versus-a-copy\n",
            "  # Remove the CWD from sys.path while we load stuff.\n",
            "/usr/local/lib/python3.7/dist-packages/ipykernel_launcher.py:11: SettingWithCopyWarning: \n",
            "A value is trying to be set on a copy of a slice from a DataFrame\n",
            "\n",
            "See the caveats in the documentation: https://pandas.pydata.org/pandas-docs/stable/user_guide/indexing.html#returning-a-view-versus-a-copy\n",
            "  # This is added back by InteractiveShellApp.init_path()\n"
          ],
          "name": "stderr"
        },
        {
          "output_type": "execute_result",
          "data": {
            "text/plain": [
              "794"
            ]
          },
          "metadata": {
            "tags": []
          },
          "execution_count": 375
        }
      ]
    },
    {
      "cell_type": "code",
      "metadata": {
        "colab": {
          "base_uri": "https://localhost:8080/"
        },
        "id": "LYLOorGeN8i9",
        "outputId": "cb1fa00d-e742-4a65-cdb1-5e6ce8574362"
      },
      "source": [
        "print(\"EC\", len(x_train[x_train['current_contract_stage']=='EC']))\n",
        "print(\"ET\", len(x_train[x_train['current_contract_stage']=='ET']))"
      ],
      "execution_count": 376,
      "outputs": [
        {
          "output_type": "stream",
          "text": [
            "EC 1205309\n",
            "ET 1205309\n"
          ],
          "name": "stdout"
        }
      ]
    },
    {
      "cell_type": "code",
      "metadata": {
        "colab": {
          "base_uri": "https://localhost:8080/"
        },
        "id": "6A5ZeKMPPXr0",
        "outputId": "1d3c2106-2150-48f0-9850-576eb8eb22be"
      },
      "source": [
        "print(\"EC\", len(x_test[x_test['current_contract_stage']=='EC']))\n",
        "print(\"ET\", len(x_test[x_test['current_contract_stage']=='ET']))"
      ],
      "execution_count": 377,
      "outputs": [
        {
          "output_type": "stream",
          "text": [
            "EC 1277452\n",
            "ET 245402\n"
          ],
          "name": "stdout"
        }
      ]
    },
    {
      "cell_type": "code",
      "metadata": {
        "id": "sCuB1XI6XXhj",
        "colab": {
          "base_uri": "https://localhost:8080/"
        },
        "outputId": "7320e98f-83e7-4829-ffc6-fe6003567381"
      },
      "source": [
        "x_train_EC = x_train[x_train['current_contract_stage']=='EC']\n",
        "x_train_ET = x_train[x_train['current_contract_stage']=='ET']\n",
        "y_train_EC = y_train[y_train['current_contract_stage']=='EC']\n",
        "y_train_ET = y_train[y_train['current_contract_stage']=='ET']\n",
        "\n",
        "percent = 0.62 #% разницы между тренировочными EC и ET\n",
        "droped = round(len(y_train_ET)*percent)\n",
        "x_train_EC.drop(x_train_EC[x_train_EC.index < droped].index, inplace=True)\n",
        "x_train_EC = x_train_EC.reset_index(drop=True)\n",
        "y_train_EC.drop(y_train_EC[y_train_EC.index < droped].index, inplace=True)\n",
        "y_train_EC = y_train_EC.reset_index(drop=True)"
      ],
      "execution_count": 383,
      "outputs": [
        {
          "output_type": "stream",
          "text": [
            "/usr/local/lib/python3.7/dist-packages/pandas/core/frame.py:4174: SettingWithCopyWarning: \n",
            "A value is trying to be set on a copy of a slice from a DataFrame\n",
            "\n",
            "See the caveats in the documentation: https://pandas.pydata.org/pandas-docs/stable/user_guide/indexing.html#returning-a-view-versus-a-copy\n",
            "  errors=errors,\n",
            "/usr/local/lib/python3.7/dist-packages/pandas/core/frame.py:4174: SettingWithCopyWarning: \n",
            "A value is trying to be set on a copy of a slice from a DataFrame\n",
            "\n",
            "See the caveats in the documentation: https://pandas.pydata.org/pandas-docs/stable/user_guide/indexing.html#returning-a-view-versus-a-copy\n",
            "  errors=errors,\n"
          ],
          "name": "stderr"
        }
      ]
    },
    {
      "cell_type": "code",
      "metadata": {
        "id": "TBPAZ0yxNaeb"
      },
      "source": [
        "x_train = pd.concat([x_train_EC, x_train_ET])\n",
        "y_train = pd.concat([y_train_EC, y_train_ET])\n",
        "\n",
        "x_train.sort_values('execution_period_start', inplace = True)\n",
        "y_train.sort_values('execution_period_start', inplace = True)"
      ],
      "execution_count": 384,
      "outputs": []
    },
    {
      "cell_type": "code",
      "metadata": {
        "colab": {
          "base_uri": "https://localhost:8080/"
        },
        "id": "pP2xUpFwWpne",
        "outputId": "6f2a1afc-4ca7-43b7-ae7e-92c722e9101c"
      },
      "source": [
        "print('EC', len(y_test[y_test['current_contract_stage'] == 'EC'].index))\n",
        "print('ET', len(y_test[y_test['current_contract_stage'] == 'ET'].index))"
      ],
      "execution_count": 385,
      "outputs": [
        {
          "output_type": "stream",
          "text": [
            "EC 1277452\n",
            "ET 245402\n"
          ],
          "name": "stdout"
        }
      ]
    },
    {
      "cell_type": "code",
      "metadata": {
        "colab": {
          "base_uri": "https://localhost:8080/"
        },
        "id": "B8XujjamQJ_w",
        "outputId": "191367e6-3f41-4f68-b690-649b0f9ce9b2"
      },
      "source": [
        "print('EC', len(y_train[y_train['current_contract_stage'] == 'EC'].index))\n",
        "print('ET', len(y_train[y_train['current_contract_stage'] == 'ET'].index))"
      ],
      "execution_count": 386,
      "outputs": [
        {
          "output_type": "stream",
          "text": [
            "EC 458017\n",
            "ET 1205309\n"
          ],
          "name": "stdout"
        }
      ]
    },
    {
      "cell_type": "code",
      "metadata": {
        "colab": {
          "base_uri": "https://localhost:8080/"
        },
        "id": "_9T5TibIj0Pr",
        "outputId": "66904989-9fef-46f4-8c62-535c0c8bae2b"
      },
      "source": [
        "print(\"Разница в трен данных:\", 1 - len(y_train[y_train['current_contract_stage'] == 'EC'].index)/len(y_train[y_train['current_contract_stage'] == 'ET'].index))"
      ],
      "execution_count": 387,
      "outputs": [
        {
          "output_type": "stream",
          "text": [
            "Разница в трен данных: 0.620000348458362\n"
          ],
          "name": "stdout"
        }
      ]
    },
    {
      "cell_type": "code",
      "metadata": {
        "id": "mHs0VqiWUiTW"
      },
      "source": [
        "x_train = x_train.drop(['current_contract_stage', 'execution_period_start'], axis=1)\n",
        "y_train = y_train.drop(['execution_period_start'], axis=1)\n",
        "x_test = x_test.drop(['current_contract_stage', 'execution_period_start'], axis=1)\n",
        "y_test = y_test.drop(['execution_period_start'], axis=1)"
      ],
      "execution_count": 388,
      "outputs": []
    },
    {
      "cell_type": "code",
      "metadata": {
        "colab": {
          "base_uri": "https://localhost:8080/"
        },
        "id": "OXvsOr-HPOdP",
        "outputId": "f4eea9fd-f7a4-43fe-f9e4-c384ad239da0"
      },
      "source": [
        "del x_train_EC, x_train_ET, y_train_EC, y_train_ET, x, y\n",
        "gc.collect()"
      ],
      "execution_count": 389,
      "outputs": [
        {
          "output_type": "execute_result",
          "data": {
            "text/plain": [
              "675"
            ]
          },
          "metadata": {
            "tags": []
          },
          "execution_count": 389
        }
      ]
    },
    {
      "cell_type": "markdown",
      "metadata": {
        "id": "HIVzbADGmtox"
      },
      "source": [
        "CatBoost (для поставщиков)"
      ]
    },
    {
      "cell_type": "code",
      "metadata": {
        "colab": {
          "base_uri": "https://localhost:8080/",
          "height": 449
        },
        "id": "inKhQCS6u8XF",
        "outputId": "4d1a67d7-7e60-42ab-c9ff-d6e6775fc194"
      },
      "source": [
        "# 75% - оптимиальная разница между классами\n",
        "\n",
        "cat_features = ['customer_legal_form', 'product_code', 'supplier_legal_form']\n",
        "model_catboost = CatBoostClassifier(\n",
        "    n_estimators = 300,\n",
        "    learning_rate = 0.01,\n",
        "    max_depth = 5,\n",
        "    task_type=\"GPU\",\n",
        "    devices='0:1',\n",
        ").fit(x_train, y_train, cat_features,\n",
        "      eval_set=(x_test, y_test),\n",
        "             use_best_model=True,\n",
        "             verbose=False)\n",
        "y_pred = model_catboost.predict(x_test)\n",
        "print(classification_report(y_test, y_pred, target_names=['EC', 'ET']))\n",
        "\n",
        "cm = confusion_matrix(y_test, y_pred, labels=model_catboost.classes_)\n",
        "disp = ConfusionMatrixDisplay(confusion_matrix=cm, display_labels=model_catboost.classes_)\n",
        "disp.plot()"
      ],
      "execution_count": 240,
      "outputs": [
        {
          "output_type": "stream",
          "text": [
            "              precision    recall  f1-score   support\n",
            "\n",
            "          EC       0.96      0.43      0.60   1277452\n",
            "          ET       0.23      0.90      0.37    245402\n",
            "\n",
            "    accuracy                           0.51   1522854\n",
            "   macro avg       0.60      0.67      0.48   1522854\n",
            "weighted avg       0.84      0.51      0.56   1522854\n",
            "\n"
          ],
          "name": "stdout"
        },
        {
          "output_type": "execute_result",
          "data": {
            "text/plain": [
              "<sklearn.metrics._plot.confusion_matrix.ConfusionMatrixDisplay at 0x7f7ef35ffd90>"
            ]
          },
          "metadata": {
            "tags": []
          },
          "execution_count": 240
        },
        {
          "output_type": "display_data",
          "data": {
            "image/png": "[encoded data removed]",
            "text/plain": [
              "<Figure size 432x288 with 2 Axes>"
            ]
          },
          "metadata": {
            "tags": [],
            "needs_background": "light"
          }
        }
      ]
    },
    {
      "cell_type": "code",
      "metadata": {
        "colab": {
          "base_uri": "https://localhost:8080/",
          "height": 483
        },
        "id": "rVVB1ek5aOGX",
        "outputId": "d57413ef-8711-4bcf-8909-5a93bb100462"
      },
      "source": [
        "cat_features = ['customer_legal_form', 'product_code', 'supplier_legal_form']\n",
        " \n",
        "parameters = {\n",
        "    \"n_estimators\": [300,250],\n",
        "    \"learning_rate\": [0.01],\n",
        "    \"max_depth\": [5,4],\n",
        "}\n",
        " \n",
        "model_catboost = CatBoostClassifier(\n",
        "    cat_features = cat_features,\n",
        "    random_state=42,\n",
        "    task_type=\"GPU\",\n",
        "    devices='0:1',\n",
        ")\n",
        " \n",
        "model_catboost = GridSearchCV(\n",
        "    model_catboost, \n",
        "    parameters, \n",
        "    cv=5,\n",
        "    scoring='accuracy',\n",
        ")\n",
        " \n",
        "model_catboost.fit(x_train, y_train, eval_set=(x_test, y_test),\n",
        "             use_best_model=True,\n",
        "             verbose=False)\n",
        " \n",
        "print(f'Best parameters {model_catboost.best_params_}')\n",
        "print(\n",
        "    f'Mean cross-validated accuracy score of the best_estimator: ' + \n",
        "    f'{model_catboost.best_score_:.3f}'\n",
        ")\n",
        " \n",
        "y_pred = model_catboost.predict(x_test)\n",
        "print(classification_report(y_test, y_pred, target_names=['EC', 'ET']))\n",
        " \n",
        "cm = confusion_matrix(y_test, y_pred, labels=model_catboost.classes_)\n",
        "disp = ConfusionMatrixDisplay(confusion_matrix=cm, display_labels=model_catboost.classes_)\n",
        "disp.plot()\n",
        " \n",
        "del y_pred\n",
        "gc.collect()"
      ],
      "execution_count": 62,
      "outputs": [
        {
          "output_type": "stream",
          "text": [
            "Best parameters {'learning_rate': 0.01, 'max_depth': 5, 'n_estimators': 300}\n",
            "Mean cross-validated accuracy score of the best_estimator: 0.826\n",
            "              precision    recall  f1-score   support\n",
            "\n",
            "          EC       0.96      0.43      0.59   1277449\n",
            "          ET       0.23      0.90      0.37    245405\n",
            "\n",
            "    accuracy                           0.50   1522854\n",
            "   macro avg       0.60      0.66      0.48   1522854\n",
            "weighted avg       0.84      0.50      0.55   1522854\n",
            "\n"
          ],
          "name": "stdout"
        },
        {
          "output_type": "execute_result",
          "data": {
            "text/plain": [
              "3756"
            ]
          },
          "metadata": {
            "tags": []
          },
          "execution_count": 62
        },
        {
          "output_type": "display_data",
          "data": {
            "image/png": "[encoded data removed]",
            "text/plain": [
              "<Figure size 432x288 with 2 Axes>"
            ]
          },
          "metadata": {
            "tags": [],
            "needs_background": "light"
          }
        }
      ]
    },
    {
      "cell_type": "code",
      "metadata": {
        "id": "WhVwkFmf4Qfl"
      },
      "source": [
        "model_catboost.save_model(\"catboost_for_supp\")"
      ],
      "execution_count": 241,
      "outputs": []
    },
    {
      "cell_type": "markdown",
      "metadata": {
        "id": "zo8A43cUVmxf"
      },
      "source": [
        "CatBoost (для заказчиков)"
      ]
    },
    {
      "cell_type": "code",
      "metadata": {
        "id": "9Uq7v7xpVmIJ"
      },
      "source": [
        "x_train = x_train.drop(['supplier_legal_form'], axis=1)\n",
        "x_test = x_test.drop(['supplier_legal_form'], axis=1)"
      ],
      "execution_count": 390,
      "outputs": []
    },
    {
      "cell_type": "code",
      "metadata": {
        "colab": {
          "base_uri": "https://localhost:8080/",
          "height": 449
        },
        "id": "VsuoB2pgV8kD",
        "outputId": "8c65b67f-cf15-446c-a169-3d46b2bae9e8"
      },
      "source": [
        "# 62% - оптимиальная разница между классами\n",
        "\n",
        "cat_features = ['customer_legal_form', 'product_code']\n",
        "model_catboost = CatBoostClassifier(\n",
        "    n_estimators = 200,\n",
        "    learning_rate = 0.01,\n",
        "    max_depth = 2,\n",
        "    task_type=\"GPU\",\n",
        "    devices='0:1',\n",
        ").fit(x_train, y_train, cat_features,\n",
        "      eval_set=(x_test, y_test),\n",
        "             use_best_model=True,\n",
        "             verbose=False)\n",
        "y_pred = model_catboost.predict(x_test)\n",
        "print(classification_report(y_test, y_pred, target_names=['EC', 'ET']))\n",
        "\n",
        "cm = confusion_matrix(y_test, y_pred, labels=model_catboost.classes_)\n",
        "disp = ConfusionMatrixDisplay(confusion_matrix=cm, display_labels=model_catboost.classes_)\n",
        "disp.plot()"
      ],
      "execution_count": 400,
      "outputs": [
        {
          "output_type": "stream",
          "text": [
            "              precision    recall  f1-score   support\n",
            "\n",
            "          EC       0.96      0.44      0.60   1277452\n",
            "          ET       0.24      0.91      0.38    245402\n",
            "\n",
            "    accuracy                           0.52   1522854\n",
            "   macro avg       0.60      0.67      0.49   1522854\n",
            "weighted avg       0.84      0.52      0.57   1522854\n",
            "\n"
          ],
          "name": "stdout"
        },
        {
          "output_type": "execute_result",
          "data": {
            "text/plain": [
              "<sklearn.metrics._plot.confusion_matrix.ConfusionMatrixDisplay at 0x7f7ef2b6fa10>"
            ]
          },
          "metadata": {
            "tags": []
          },
          "execution_count": 400
        },
        {
          "output_type": "display_data",
          "data": {
            "image/png": "[encoded data removed]",
            "text/plain": [
              "<Figure size 432x288 with 2 Axes>"
            ]
          },
          "metadata": {
            "tags": [],
            "needs_background": "light"
          }
        }
      ]
    },
    {
      "cell_type": "code",
      "metadata": {
        "colab": {
          "base_uri": "https://localhost:8080/",
          "height": 483
        },
        "id": "DkRypT0HV_qo",
        "outputId": "dab265ff-896b-44e0-d64e-525d41baeb1e"
      },
      "source": [
        "cat_features = ['customer_legal_form', 'product_code']\n",
        " \n",
        "parameters = {\n",
        "    \"n_estimators\": [100, 50, 250],\n",
        "    \"learning_rate\": [0.01, 0.05, 0.1],\n",
        "    \"max_depth\": [2,3,4],\n",
        "}\n",
        " \n",
        "model_catboost = CatBoostClassifier(\n",
        "    cat_features = cat_features,\n",
        "    random_state=42,\n",
        "    task_type=\"GPU\",\n",
        "    devices='0:1',\n",
        ")\n",
        " \n",
        "model_catboost = GridSearchCV(\n",
        "    model_catboost, \n",
        "    parameters, \n",
        "    cv=5,\n",
        "    scoring='accuracy',\n",
        ")\n",
        " \n",
        "model_catboost.fit(x_train, y_train, eval_set=(x_test, y_test),\n",
        "             use_best_model=True,\n",
        "             verbose=False)\n",
        " \n",
        "print(f'Best parameters {model_catboost.best_params_}')\n",
        "print(\n",
        "    f'Mean cross-validated accuracy score of the best_estimator: ' + \n",
        "    f'{model_catboost.best_score_:.3f}'\n",
        ")\n",
        " \n",
        "y_pred = model_catboost.predict(x_test)\n",
        "print(classification_report(y_test, y_pred, target_names=['EC', 'ET']))\n",
        " \n",
        "cm = confusion_matrix(y_test, y_pred, labels=model_catboost.classes_)\n",
        "disp = ConfusionMatrixDisplay(confusion_matrix=cm, display_labels=model_catboost.classes_)\n",
        "disp.plot()\n",
        " \n",
        "del y_pred\n",
        "gc.collect()"
      ],
      "execution_count": 263,
      "outputs": [
        {
          "output_type": "stream",
          "text": [
            "Best parameters {'learning_rate': 0.05, 'max_depth': 2, 'n_estimators': 250}\n",
            "Mean cross-validated accuracy score of the best_estimator: 0.796\n",
            "              precision    recall  f1-score   support\n",
            "\n",
            "          EC       0.96      0.41      0.57   1277224\n",
            "          ET       0.23      0.92      0.37    245630\n",
            "\n",
            "    accuracy                           0.49   1522854\n",
            "   macro avg       0.60      0.67      0.47   1522854\n",
            "weighted avg       0.85      0.49      0.54   1522854\n",
            "\n"
          ],
          "name": "stdout"
        },
        {
          "output_type": "execute_result",
          "data": {
            "text/plain": [
              "32"
            ]
          },
          "metadata": {
            "tags": []
          },
          "execution_count": 263
        },
        {
          "output_type": "display_data",
          "data": {
            "image/png": "[encoded data removed]",
            "text/plain": [
              "<Figure size 432x288 with 2 Axes>"
            ]
          },
          "metadata": {
            "tags": [],
            "needs_background": "light"
          }
        }
      ]
    },
    {
      "cell_type": "code",
      "metadata": {
        "id": "RkEErU1qWB0y"
      },
      "source": [
        "model_catboost.save_model(\"catboost_for_cust\")"
      ],
      "execution_count": 401,
      "outputs": []
    }
  ]
}