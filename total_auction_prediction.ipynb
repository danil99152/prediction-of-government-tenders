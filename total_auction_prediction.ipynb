{
  "nbformat": 4,
  "nbformat_minor": 0,
  "metadata": {
    "accelerator": "GPU",
    "colab": {
      "name": "total auction prediction.ipynb",
      "provenance": [],
      "collapsed_sections": [
        "6yNSRPpMggUD",
        "J2jzQsmPDWkr"
      ],
      "mount_file_id": "1xS3pZHVHEAWP8gQxfM8mE3mKT2kp-Ua0",
      "authorship_tag": "ABX9TyO9orcVd438KdwN8uVVm19z",
      "include_colab_link": true
    },
    "kernelspec": {
      "display_name": "Python 3",
      "name": "python3"
    },
    "language_info": {
      "name": "python"
    }
  },
  "cells": [
    {
      "cell_type": "markdown",
      "metadata": {
        "id": "view-in-github",
        "colab_type": "text"
      },
      "source": [
        "<a href=\"https://colab.research.google.com/github/danil99152/prediction-of-government-tenders/blob/main/total_auction_prediction.ipynb\" target=\"_parent\"><img src=\"https://colab.research.google.com/assets/colab-badge.svg\" alt=\"Open In Colab\"/></a>"
      ]
    },
    {
      "cell_type": "markdown",
      "metadata": {
        "id": "6yNSRPpMggUD"
      },
      "source": [
        "#Import"
      ]
    },
    {
      "cell_type": "code",
      "metadata": {
        "colab": {
          "base_uri": "https://localhost:8080/"
        },
        "id": "GArPRUefYBSi",
        "outputId": "b649c765-9e4f-4ec3-d7a3-0ce3cbe47fb0"
      },
      "source": [
        "!pip install catboost"
      ],
      "execution_count": 1,
      "outputs": [
        {
          "output_type": "stream",
          "text": [
            "Collecting catboost\n",
            "\u001b[?25l  Downloading https://files.pythonhosted.org/packages/5a/41/24e14322b9986cf72a8763e0a0a69cc256cf963cf9502c8f0044a62c1ae8/catboost-0.26-cp37-none-manylinux1_x86_64.whl (69.2MB)\n",
            "\u001b[K     |████████████████████████████████| 69.2MB 43kB/s \n",
            "\u001b[?25hRequirement already satisfied: numpy>=1.16.0 in /usr/local/lib/python3.7/dist-packages (from catboost) (1.19.5)\n",
            "Requirement already satisfied: pandas>=0.24.0 in /usr/local/lib/python3.7/dist-packages (from catboost) (1.1.5)\n",
            "Requirement already satisfied: scipy in /usr/local/lib/python3.7/dist-packages (from catboost) (1.4.1)\n",
            "Requirement already satisfied: matplotlib in /usr/local/lib/python3.7/dist-packages (from catboost) (3.2.2)\n",
            "Requirement already satisfied: plotly in /usr/local/lib/python3.7/dist-packages (from catboost) (4.4.1)\n",
            "Requirement already satisfied: graphviz in /usr/local/lib/python3.7/dist-packages (from catboost) (0.10.1)\n",
            "Requirement already satisfied: six in /usr/local/lib/python3.7/dist-packages (from catboost) (1.15.0)\n",
            "Requirement already satisfied: python-dateutil>=2.7.3 in /usr/local/lib/python3.7/dist-packages (from pandas>=0.24.0->catboost) (2.8.1)\n",
            "Requirement already satisfied: pytz>=2017.2 in /usr/local/lib/python3.7/dist-packages (from pandas>=0.24.0->catboost) (2018.9)\n",
            "Requirement already satisfied: kiwisolver>=1.0.1 in /usr/local/lib/python3.7/dist-packages (from matplotlib->catboost) (1.3.1)\n",
            "Requirement already satisfied: cycler>=0.10 in /usr/local/lib/python3.7/dist-packages (from matplotlib->catboost) (0.10.0)\n",
            "Requirement already satisfied: pyparsing!=2.0.4,!=2.1.2,!=2.1.6,>=2.0.1 in /usr/local/lib/python3.7/dist-packages (from matplotlib->catboost) (2.4.7)\n",
            "Requirement already satisfied: retrying>=1.3.3 in /usr/local/lib/python3.7/dist-packages (from plotly->catboost) (1.3.3)\n",
            "Installing collected packages: catboost\n",
            "Successfully installed catboost-0.26\n"
          ],
          "name": "stdout"
        }
      ]
    },
    {
      "cell_type": "code",
      "metadata": {
        "colab": {
          "base_uri": "https://localhost:8080/"
        },
        "id": "kiQoEPexgmxe",
        "outputId": "bdd320f2-7ed4-4048-9be5-3a8ef66b3fff"
      },
      "source": [
        "from datetime import datetime, date\n",
        "import math\n",
        "import re\n",
        "import gc\n",
        "\n",
        "import pandas as pd\n",
        "import numpy as np\n",
        "from scipy import stats\n",
        "import seaborn as sbs\n",
        "from statsmodels.graphics.mosaicplot import mosaic\n",
        "\n",
        "from matplotlib.ticker import MultipleLocator\n",
        "import matplotlib.pyplot as plt\n",
        "%matplotlib inline\n",
        "\n",
        "from sklearn.preprocessing import PolynomialFeatures\n",
        "from sklearn.linear_model import LogisticRegression\n",
        "from sklearn.linear_model import LinearRegression\n",
        "from sklearn.ensemble import RandomForestClassifier\n",
        "from sklearn import metrics\n",
        "from sklearn import preprocessing\n",
        "from sklearn.ensemble import ExtraTreesClassifier\n",
        "from sklearn.model_selection import train_test_split\n",
        "from sklearn.feature_selection import RFE\n",
        "from sklearn.metrics import classification_report\n",
        "from sklearn.model_selection import GridSearchCV\n",
        "from sklearn.ensemble import AdaBoostClassifier\n",
        "from sklearn.tree import DecisionTreeClassifier\n",
        "from sklearn.metrics import accuracy_score\n",
        "from sklearn.preprocessing import LabelEncoder\n",
        "from sklearn.neighbors import KNeighborsClassifier\n",
        "from sklearn.metrics import confusion_matrix, ConfusionMatrixDisplay\n",
        "from sklearn.pipeline import Pipeline\n",
        "from sklearn.decomposition import PCA\n",
        "from sklearn.preprocessing import OneHotEncoder\n",
        "from sklearn.ensemble import RandomForestRegressor\n",
        "from sklearn.linear_model import Ridge\n",
        "from sklearn.pipeline import make_pipeline\n",
        "\n",
        "import xgboost as xgb\n",
        "from xgboost import XGBRegressor\n",
        "import catboost as ctb\n",
        "from catboost import CatBoostRegressor\n",
        "\n",
        "import joblib\n",
        "import pickle"
      ],
      "execution_count": 2,
      "outputs": [
        {
          "output_type": "stream",
          "text": [
            "/usr/local/lib/python3.7/dist-packages/statsmodels/tools/_testing.py:19: FutureWarning: pandas.util.testing is deprecated. Use the functions in the public API at pandas.testing instead.\n",
            "  import pandas.util.testing as tm\n"
          ],
          "name": "stderr"
        }
      ]
    },
    {
      "cell_type": "code",
      "metadata": {
        "colab": {
          "base_uri": "https://localhost:8080/"
        },
        "id": "0Ef0KImNgqLn",
        "outputId": "a3f33eda-5dec-40d8-90bc-8767aebb7b58"
      },
      "source": [
        "!gdown --id 1L6BffI4zO8ZMOtTOle3XABOXQ-5ZcfTU"
      ],
      "execution_count": 3,
      "outputs": [
        {
          "output_type": "stream",
          "text": [
            "Downloading...\n",
            "From: https://drive.google.com/uc?id=1L6BffI4zO8ZMOtTOle3XABOXQ-5ZcfTU\n",
            "To: /content/purchase_plans.csv\n",
            "\r0.00B [00:00, ?B/s]\r5.52MB [00:00, 86.2MB/s]\n"
          ],
          "name": "stdout"
        }
      ]
    },
    {
      "cell_type": "markdown",
      "metadata": {
        "id": "ybxrTt7ShGfS"
      },
      "source": [
        "#Обработка данных"
      ]
    },
    {
      "cell_type": "markdown",
      "metadata": {
        "id": "FP1ukWs6hJlZ"
      },
      "source": [
        "Считывание данных о заявках"
      ]
    },
    {
      "cell_type": "code",
      "metadata": {
        "colab": {
          "base_uri": "https://localhost:8080/",
          "height": 224
        },
        "id": "OYVdYrp0hDeU",
        "outputId": "e9fbc326-e7e3-4a42-f294-cba63f4df6b3"
      },
      "source": [
        "contract_path = 'purchase_plans.csv'\n",
        "dtypes = {'plan_number' : 'category', \n",
        "          'customer_legal_form' : 'category', \n",
        "          'positionNumber' : 'category', \n",
        "          'product_info' : 'category',\n",
        "          'publicDiscussion' : 'category',\n",
        "          'isEnergyServiceContract': 'category',\n",
        "          'OKPD': 'category'}\n",
        "data = pd.read_csv(contract_path, dtype = dtypes)\n",
        "gc.collect()\n",
        "\n",
        "data.head()"
      ],
      "execution_count": 95,
      "outputs": [
        {
          "output_type": "execute_result",
          "data": {
            "text/html": [
              "<div>\n",
              "<style scoped>\n",
              "    .dataframe tbody tr th:only-of-type {\n",
              "        vertical-align: middle;\n",
              "    }\n",
              "\n",
              "    .dataframe tbody tr th {\n",
              "        vertical-align: top;\n",
              "    }\n",
              "\n",
              "    .dataframe thead th {\n",
              "        text-align: right;\n",
              "    }\n",
              "</style>\n",
              "<table border=\"1\" class=\"dataframe\">\n",
              "  <thead>\n",
              "    <tr style=\"text-align: right;\">\n",
              "      <th></th>\n",
              "      <th>plan_number</th>\n",
              "      <th>customer_legal_form</th>\n",
              "      <th>positionNumber</th>\n",
              "      <th>positionCanceled</th>\n",
              "      <th>publicDiscussion</th>\n",
              "      <th>total</th>\n",
              "      <th>isEnergyServiceContract</th>\n",
              "      <th>time</th>\n",
              "      <th>OKPD</th>\n",
              "      <th>log_total</th>\n",
              "    </tr>\n",
              "  </thead>\n",
              "  <tbody>\n",
              "    <tr>\n",
              "      <th>0</th>\n",
              "      <td>201801133000253003</td>\n",
              "      <td>75404</td>\n",
              "      <td>201801133000253003000150</td>\n",
              "      <td>False</td>\n",
              "      <td>false</td>\n",
              "      <td>97522.23</td>\n",
              "      <td>false</td>\n",
              "      <td>44</td>\n",
              "      <td>95.12.10.000</td>\n",
              "      <td>11.487836</td>\n",
              "    </tr>\n",
              "    <tr>\n",
              "      <th>1</th>\n",
              "      <td>201901133000089001</td>\n",
              "      <td>75404</td>\n",
              "      <td>201901133000089001000001</td>\n",
              "      <td>True</td>\n",
              "      <td>false</td>\n",
              "      <td>195000.00</td>\n",
              "      <td>false</td>\n",
              "      <td>31</td>\n",
              "      <td>35.11.10.000</td>\n",
              "      <td>12.180755</td>\n",
              "    </tr>\n",
              "    <tr>\n",
              "      <th>2</th>\n",
              "      <td>201901133000074001</td>\n",
              "      <td>75404</td>\n",
              "      <td>201901133000074001000001</td>\n",
              "      <td>False</td>\n",
              "      <td>false</td>\n",
              "      <td>3117.87</td>\n",
              "      <td>false</td>\n",
              "      <td>365</td>\n",
              "      <td>19.20.21.125</td>\n",
              "      <td>8.044905</td>\n",
              "    </tr>\n",
              "    <tr>\n",
              "      <th>3</th>\n",
              "      <td>201901133000089001</td>\n",
              "      <td>75404</td>\n",
              "      <td>201901133000089001000016</td>\n",
              "      <td>False</td>\n",
              "      <td>false</td>\n",
              "      <td>16000.00</td>\n",
              "      <td>false</td>\n",
              "      <td>365</td>\n",
              "      <td>61.10.11.110</td>\n",
              "      <td>9.680344</td>\n",
              "    </tr>\n",
              "    <tr>\n",
              "      <th>4</th>\n",
              "      <td>201901133000089001</td>\n",
              "      <td>75404</td>\n",
              "      <td>201901133000089001000001</td>\n",
              "      <td>True</td>\n",
              "      <td>false</td>\n",
              "      <td>195000.00</td>\n",
              "      <td>false</td>\n",
              "      <td>31</td>\n",
              "      <td>35.11.10.000</td>\n",
              "      <td>12.180755</td>\n",
              "    </tr>\n",
              "  </tbody>\n",
              "</table>\n",
              "</div>"
            ],
            "text/plain": [
              "          plan_number customer_legal_form  ...          OKPD  log_total\n",
              "0  201801133000253003               75404  ...  95.12.10.000  11.487836\n",
              "1  201901133000089001               75404  ...  35.11.10.000  12.180755\n",
              "2  201901133000074001               75404  ...  19.20.21.125   8.044905\n",
              "3  201901133000089001               75404  ...  61.10.11.110   9.680344\n",
              "4  201901133000089001               75404  ...  35.11.10.000  12.180755\n",
              "\n",
              "[5 rows x 10 columns]"
            ]
          },
          "metadata": {
            "tags": []
          },
          "execution_count": 95
        }
      ]
    },
    {
      "cell_type": "markdown",
      "metadata": {
        "id": "J2jzQsmPDWkr"
      },
      "source": [
        "#Корреляция ОКПД с ценой"
      ]
    },
    {
      "cell_type": "code",
      "metadata": {
        "colab": {
          "base_uri": "https://localhost:8080/"
        },
        "id": "4lgzmSD3w9Y6",
        "outputId": "8f0daf06-b651-44f8-b149-76ae422a98b1"
      },
      "source": [
        "data['total'].describe()"
      ],
      "execution_count": null,
      "outputs": [
        {
          "output_type": "execute_result",
          "data": {
            "text/plain": [
              "count    4.920400e+04\n",
              "mean     3.033807e+06\n",
              "std      1.161167e+08\n",
              "min      1.000000e-02\n",
              "25%      2.800000e+04\n",
              "50%      8.756000e+04\n",
              "75%      2.999925e+05\n",
              "max      7.154803e+09\n",
              "Name: total, dtype: float64"
            ]
          },
          "metadata": {
            "tags": []
          },
          "execution_count": 24
        }
      ]
    },
    {
      "cell_type": "code",
      "metadata": {
        "colab": {
          "base_uri": "https://localhost:8080/"
        },
        "id": "34RNFUirxRMM",
        "outputId": "b7988a3f-3398-479f-aad1-d54bc06b6090"
      },
      "source": [
        "data['log_total'].describe()"
      ],
      "execution_count": null,
      "outputs": [
        {
          "output_type": "execute_result",
          "data": {
            "text/plain": [
              "count    49204.000000\n",
              "mean        11.485621\n",
              "std          1.919036\n",
              "min         -4.605170\n",
              "25%         10.239960\n",
              "50%         11.380080\n",
              "75%         12.611513\n",
              "max         22.691050\n",
              "Name: log_total, dtype: float64"
            ]
          },
          "metadata": {
            "tags": []
          },
          "execution_count": 25
        }
      ]
    },
    {
      "cell_type": "code",
      "metadata": {
        "colab": {
          "base_uri": "https://localhost:8080/"
        },
        "id": "HRN_wo99EezX",
        "outputId": "59bacd3c-2b73-4668-e7da-f688d0a5aae4"
      },
      "source": [
        "len(data['OKPD'].unique())"
      ],
      "execution_count": null,
      "outputs": [
        {
          "output_type": "execute_result",
          "data": {
            "text/plain": [
              "276"
            ]
          },
          "metadata": {
            "tags": []
          },
          "execution_count": 109
        }
      ]
    },
    {
      "cell_type": "code",
      "metadata": {
        "colab": {
          "base_uri": "https://localhost:8080/",
          "height": 296
        },
        "id": "WWK6Tz9UwOCE",
        "outputId": "d0ca7abd-1c93-4a21-d1c0-4f06bc49a46d"
      },
      "source": [
        "g = sbs.scatterplot(x = ('OKPD'), y = ('total'), data = data)\n",
        "g.set(yscale = 'log', xlabel = 'Типы продукции', ylabel = 'Цена')\n",
        "\n",
        "del g\n",
        "gc.collect()"
      ],
      "execution_count": 107,
      "outputs": [
        {
          "output_type": "execute_result",
          "data": {
            "text/plain": [
              "18369"
            ]
          },
          "metadata": {
            "tags": []
          },
          "execution_count": 107
        },
        {
          "output_type": "display_data",
          "data": {
            "image/png": "[encoded data removed]",
            "text/plain": [
              "<Figure size 432x288 with 1 Axes>"
            ]
          },
          "metadata": {
            "tags": [],
            "needs_background": "light"
          }
        }
      ]
    },
    {
      "cell_type": "code",
      "metadata": {
        "colab": {
          "base_uri": "https://localhost:8080/"
        },
        "id": "9s1MAbqeNL8W",
        "outputId": "f3893818-c130-4b03-c66f-ddb3b11981a5"
      },
      "source": [
        "len(data['customer_legal_form'].unique())"
      ],
      "execution_count": null,
      "outputs": [
        {
          "output_type": "execute_result",
          "data": {
            "text/plain": [
              "9"
            ]
          },
          "metadata": {
            "tags": []
          },
          "execution_count": 125
        }
      ]
    },
    {
      "cell_type": "code",
      "metadata": {
        "colab": {
          "base_uri": "https://localhost:8080/",
          "height": 650
        },
        "id": "nNpRvM7ANP9x",
        "outputId": "8770e2e0-cda2-4384-dccf-afab12aa2b2f"
      },
      "source": [
        "with sbs.plotting_context(font_scale=1.6):\n",
        "  data_to_plot = data.filter(['customer_legal_form', 'total'], axis=1).sort_values('customer_legal_form')\n",
        "  g = sbs.catplot(y = 'customer_legal_form', x = 'total', kind ='box', height = 10, aspect = 2, data = data_to_plot, orient = 'h')\n",
        "  g.set(xscale = 'log', xlabel = 'Цена', ylabel = 'customer_legal_form')\n",
        "  \n",
        "del data_to_plot\n",
        "del g\n",
        "gc.collect()"
      ],
      "execution_count": null,
      "outputs": [
        {
          "output_type": "execute_result",
          "data": {
            "text/plain": [
              "79"
            ]
          },
          "metadata": {
            "tags": []
          },
          "execution_count": 126
        },
        {
          "output_type": "display_data",
          "data": {
            "image/png": "[encoded data removed]",
            "text/plain": [
              "<Figure size 1440x720 with 1 Axes>"
            ]
          },
          "metadata": {
            "tags": []
          }
        }
      ]
    },
    {
      "cell_type": "markdown",
      "metadata": {
        "id": "koYttT7go1QN"
      },
      "source": [
        "# Total:\n",
        "* count    4.920400e+04\n",
        "* mean     3.033807e+06\n",
        "* std      1.161167e+08\n",
        "* min      1.000000e-02\n",
        "* 25%      2.800000e+04\n",
        "* 50%      8.756000e+04\n",
        "* 75%      2.999925e+05\n",
        "* max      7.154803e+09"
      ]
    },
    {
      "cell_type": "markdown",
      "metadata": {
        "id": "rpJgZT21pWeO"
      },
      "source": [
        "# log(total):\n",
        "* count    49204.000000\n",
        "* mean        11.485621\n",
        "* std          1.919036\n",
        "* min         -4.605170\n",
        "* 25%         10.239960\n",
        "* 50%         11.380080\n",
        "* 75%         12.611513\n",
        "* max         22.691050"
      ]
    },
    {
      "cell_type": "markdown",
      "metadata": {
        "id": "PUAnnZBYoIIK"
      },
      "source": [
        "# XGBoost feature importances\n",
        "* [0.8741, 'customer_legal_form'],\n",
        "* [0.0884, 'publicDiscussion'],\n",
        "* [0.0299, 'plan_number'],\n",
        "* [0.0054, 'time'],\n",
        "* [0.0015, 'OKPD'],\n",
        "* [0.0008, 'isEnergyServiceContract'],\n",
        "* [0.0, 'positionNumber']"
      ]
    },
    {
      "cell_type": "markdown",
      "metadata": {
        "id": "Bz1RHW2-docO"
      },
      "source": [
        "# CatBoost feature importances\n",
        "* [36.6925, 'OKPD'],\n",
        "* [34.4718, 'plan_number'],\n",
        "* [23.376, 'positionNumber'],\n",
        "* [3.1276, 'customer_legal_form'],\n",
        "*  [2.2142, 'time'],\n",
        "* [0.1179, 'publicDiscussion'],\n",
        "* [0.0, 'isEnergyServiceContract']"
      ]
    },
    {
      "cell_type": "markdown",
      "metadata": {
        "id": "61HXTm-coQJu"
      },
      "source": [
        "#Прогноз цены"
      ]
    },
    {
      "cell_type": "code",
      "metadata": {
        "id": "gf2dWcRXNSCa"
      },
      "source": [
        "cat_var = [\n",
        "          'plan_number', \n",
        "          'customer_legal_form', \n",
        "          'positionNumber', \n",
        "          'publicDiscussion',\n",
        "          # 'isEnergyServiceContract',\n",
        "          'OKPD'\n",
        "          ]"
      ],
      "execution_count": 87,
      "outputs": []
    },
    {
      "cell_type": "code",
      "metadata": {
        "id": "eF6wAKDOL1bE"
      },
      "source": [
        "def errors(model, x_test, y_test):\n",
        "  y_pred = np.exp(model.predict(x_test))\n",
        "  y_test = np.exp(y_test)\n",
        "  accuracy = 0\n",
        "  for pred, test in zip(y_pred, y_test):\n",
        "    if np.abs(pred - test)/test <= 0.1:\n",
        "      accuracy += 1\n",
        "  print('y_pred:', np.mean(y_pred))\n",
        "  print('y_test:', np.mean(y_test))\n",
        "  print(\"MSE:\", metrics.mean_squared_error(y_pred, y_test))\n",
        "  print(\"Accuracy:\", accuracy/len(y_test))  \n",
        "  print(\"MSLE:\", metrics.mean_squared_log_error(y_pred, y_test))\n",
        "  print(\"RMSLE:\", np.sqrt(metrics.mean_squared_log_error(y_pred, y_test)))"
      ],
      "execution_count": 88,
      "outputs": []
    },
    {
      "cell_type": "code",
      "metadata": {
        "colab": {
          "base_uri": "https://localhost:8080/"
        },
        "id": "2GQvHzW1egbQ",
        "outputId": "0ce3be3c-fc85-4446-db08-6085aed3482c"
      },
      "source": [
        "print(\"Кол-во меньше 10ка:\",len(data[data['total']<10000]))\n",
        "print(\"Процент от меньше 10ка:\",len(data[data['total']<10000])/len(data)*100)\n",
        "print(\"Больше 100млн:\", len(data[data['total']>=100000000]))\n",
        "print(\"Процент от больше 100млн:\", len(data[data['total']>=100000000])/len(data)*100)"
      ],
      "execution_count": 38,
      "outputs": [
        {
          "output_type": "stream",
          "text": [
            "Кол-во меньше 10ка: 5349\n",
            "Процент от меньше 10ка: 10.871067392894886\n",
            "Больше 100млн: 27\n",
            "Процент от больше 100млн: 0.054873587513210316\n"
          ],
          "name": "stdout"
        }
      ]
    },
    {
      "cell_type": "code",
      "metadata": {
        "id": "faPXCTwzeVdf"
      },
      "source": [
        "# data.drop(data[((data['total']<10000) | (data['total']>=100000000))].index, inplace=True)"
      ],
      "execution_count": 69,
      "outputs": []
    },
    {
      "cell_type": "code",
      "metadata": {
        "id": "ijvnkRgUJvd-"
      },
      "source": [
        "x = data.drop(['positionCanceled', 'total', 'log_total', 'isEnergyServiceContract'], axis=1)\n",
        "y = data['log_total']"
      ],
      "execution_count": 89,
      "outputs": []
    },
    {
      "cell_type": "code",
      "metadata": {
        "id": "CntEoGNNJiGg"
      },
      "source": [
        "x_train, x_test, y_train, y_test = train_test_split(x, y, test_size=0.2, shuffle = False)"
      ],
      "execution_count": 90,
      "outputs": []
    },
    {
      "cell_type": "code",
      "metadata": {
        "colab": {
          "base_uri": "https://localhost:8080/"
        },
        "id": "sEkzXkRyLMe0",
        "outputId": "84010b7f-15c5-4460-8ae3-4e8ad7e5d93f"
      },
      "source": [
        "print(len(x_train))\n",
        "print(len(y_train))"
      ],
      "execution_count": 91,
      "outputs": [
        {
          "output_type": "stream",
          "text": [
            "39363\n",
            "39363\n"
          ],
          "name": "stdout"
        }
      ]
    },
    {
      "cell_type": "code",
      "metadata": {
        "colab": {
          "base_uri": "https://localhost:8080/"
        },
        "id": "gwDhTDvcYYwB",
        "outputId": "04a401b7-0770-4137-a9fb-d599a7a2bf0c"
      },
      "source": [
        "cat_features = cat_var\n",
        "model_catboost = CatBoostRegressor(\n",
        "    n_estimators = 150,\n",
        "    learning_rate = 0.09,\n",
        "    max_depth = 10,\n",
        "    task_type=\"GPU\",\n",
        "    devices='0:1',\n",
        ").fit(x_train, y_train, cat_features,\n",
        "      eval_set=(x_test, y_test),\n",
        "             use_best_model=True,\n",
        "             verbose=False)\n",
        "errors(model_catboost, x_test, y_test)"
      ],
      "execution_count": 92,
      "outputs": [
        {
          "output_type": "stream",
          "text": [
            "y_pred: 188296.79097084506\n",
            "y_test: 498594.80300681293\n",
            "MSE: 3858246580568.4487\n",
            "Accuracy: 0.0947058225790062\n",
            "MSLE: 1.6393705982087228\n",
            "RMSLE: 1.280379083790704\n"
          ],
          "name": "stdout"
        }
      ]
    },
    {
      "cell_type": "code",
      "metadata": {
        "id": "bcmZZSPKY7GR",
        "colab": {
          "base_uri": "https://localhost:8080/"
        },
        "outputId": "f5ab1d33-f56b-4708-9c5d-696599a9e42c"
      },
      "source": [
        "#значимость признаков для леса\n",
        "importances = model_catboost.get_feature_importance()\n",
        "indices = np.argsort(importances)[::-1]\n",
        "col = ['plan_number', 'customer_legal_form', 'positionNumber', 'publicDiscussion', 'time', 'OKPD']\n",
        "ar_f=[]\n",
        "for f, idx in enumerate(indices):\n",
        "    ar_f.append([round(importances[idx],4), col[idx]])\n",
        "print(\"Значимость признака:\")\n",
        "ar_f.sort(reverse=True)\n",
        "ar_f"
      ],
      "execution_count": 94,
      "outputs": [
        {
          "output_type": "stream",
          "text": [
            "Значимость признака:\n"
          ],
          "name": "stdout"
        },
        {
          "output_type": "execute_result",
          "data": {
            "text/plain": [
              "[[32.3129, 'OKPD'],\n",
              " [24.2822, 'positionNumber'],\n",
              " [16.6016, 'plan_number'],\n",
              " [16.3216, 'time'],\n",
              " [10.4734, 'customer_legal_form'],\n",
              " [0.0082, 'publicDiscussion']]"
            ]
          },
          "metadata": {
            "tags": []
          },
          "execution_count": 94
        }
      ]
    },
    {
      "cell_type": "code",
      "metadata": {
        "colab": {
          "base_uri": "https://localhost:8080/",
          "height": 306
        },
        "id": "we1GIQLsOc5E",
        "outputId": "190cc581-990d-4e85-fbea-64221474a026"
      },
      "source": [
        "enc = LabelEncoder()\n",
        "for param in cat_var:\n",
        "  x_train.loc[:,param] = enc.fit_transform(x_train[param])\n",
        "  x_test.loc[:,param] = enc.fit_transform(x_test[param])\n",
        "x_train.head()"
      ],
      "execution_count": null,
      "outputs": [
        {
          "output_type": "stream",
          "text": [
            "/usr/local/lib/python3.7/dist-packages/pandas/core/indexing.py:1743: SettingWithCopyWarning: \n",
            "A value is trying to be set on a copy of a slice from a DataFrame.\n",
            "Try using .loc[row_indexer,col_indexer] = value instead\n",
            "\n",
            "See the caveats in the documentation: https://pandas.pydata.org/pandas-docs/stable/user_guide/indexing.html#returning-a-view-versus-a-copy\n",
            "  isetter(ilocs[0], value)\n"
          ],
          "name": "stderr"
        },
        {
          "output_type": "execute_result",
          "data": {
            "text/html": [
              "<div>\n",
              "<style scoped>\n",
              "    .dataframe tbody tr th:only-of-type {\n",
              "        vertical-align: middle;\n",
              "    }\n",
              "\n",
              "    .dataframe tbody tr th {\n",
              "        vertical-align: top;\n",
              "    }\n",
              "\n",
              "    .dataframe thead th {\n",
              "        text-align: right;\n",
              "    }\n",
              "</style>\n",
              "<table border=\"1\" class=\"dataframe\">\n",
              "  <thead>\n",
              "    <tr style=\"text-align: right;\">\n",
              "      <th></th>\n",
              "      <th>plan_number</th>\n",
              "      <th>customer_legal_form</th>\n",
              "      <th>positionNumber</th>\n",
              "      <th>publicDiscussion</th>\n",
              "      <th>isEnergyServiceContract</th>\n",
              "      <th>time</th>\n",
              "      <th>OKPD</th>\n",
              "    </tr>\n",
              "  </thead>\n",
              "  <tbody>\n",
              "    <tr>\n",
              "      <th>0</th>\n",
              "      <td>0</td>\n",
              "      <td>7</td>\n",
              "      <td>0</td>\n",
              "      <td>0</td>\n",
              "      <td>0</td>\n",
              "      <td>44</td>\n",
              "      <td>239</td>\n",
              "    </tr>\n",
              "    <tr>\n",
              "      <th>1</th>\n",
              "      <td>41</td>\n",
              "      <td>7</td>\n",
              "      <td>183</td>\n",
              "      <td>0</td>\n",
              "      <td>0</td>\n",
              "      <td>31</td>\n",
              "      <td>129</td>\n",
              "    </tr>\n",
              "    <tr>\n",
              "      <th>2</th>\n",
              "      <td>37</td>\n",
              "      <td>7</td>\n",
              "      <td>117</td>\n",
              "      <td>0</td>\n",
              "      <td>0</td>\n",
              "      <td>365</td>\n",
              "      <td>56</td>\n",
              "    </tr>\n",
              "    <tr>\n",
              "      <th>3</th>\n",
              "      <td>41</td>\n",
              "      <td>7</td>\n",
              "      <td>184</td>\n",
              "      <td>0</td>\n",
              "      <td>0</td>\n",
              "      <td>365</td>\n",
              "      <td>182</td>\n",
              "    </tr>\n",
              "    <tr>\n",
              "      <th>4</th>\n",
              "      <td>41</td>\n",
              "      <td>7</td>\n",
              "      <td>183</td>\n",
              "      <td>0</td>\n",
              "      <td>0</td>\n",
              "      <td>31</td>\n",
              "      <td>129</td>\n",
              "    </tr>\n",
              "  </tbody>\n",
              "</table>\n",
              "</div>"
            ],
            "text/plain": [
              "   plan_number  customer_legal_form  ...  time  OKPD\n",
              "0            0                    7  ...    44   239\n",
              "1           41                    7  ...    31   129\n",
              "2           37                    7  ...   365    56\n",
              "3           41                    7  ...   365   182\n",
              "4           41                    7  ...    31   129\n",
              "\n",
              "[5 rows x 7 columns]"
            ]
          },
          "metadata": {
            "tags": []
          },
          "execution_count": 240
        }
      ]
    },
    {
      "cell_type": "code",
      "metadata": {
        "colab": {
          "base_uri": "https://localhost:8080/"
        },
        "id": "zyosfvBmO46F",
        "outputId": "6504b8d3-e43b-4200-8f90-91a156dc7dfc"
      },
      "source": [
        "x_train = x_train.to_numpy()\n",
        "x_test = x_test.to_numpy()\n",
        "\n",
        "y_train = y_train.to_numpy()\n",
        "y_test = y_test.to_numpy()\n",
        "\n",
        "gc.collect()"
      ],
      "execution_count": null,
      "outputs": [
        {
          "output_type": "execute_result",
          "data": {
            "text/plain": [
              "498"
            ]
          },
          "metadata": {
            "tags": []
          },
          "execution_count": 243
        }
      ]
    },
    {
      "cell_type": "code",
      "metadata": {
        "colab": {
          "base_uri": "https://localhost:8080/"
        },
        "id": "ndLZ1ZAcIpQw",
        "outputId": "5d82522e-03f7-4c6e-b48e-a5d4ffd414df"
      },
      "source": [
        "len(np.unique(y_train))"
      ],
      "execution_count": null,
      "outputs": [
        {
          "output_type": "execute_result",
          "data": {
            "text/plain": [
              "2553"
            ]
          },
          "metadata": {
            "tags": []
          },
          "execution_count": 77
        }
      ]
    },
    {
      "cell_type": "code",
      "metadata": {
        "colab": {
          "base_uri": "https://localhost:8080/"
        },
        "id": "X9iU3EstIabp",
        "outputId": "849cf037-0a75-458f-9083-b7c6d22096f4"
      },
      "source": [
        "len(np.unique(y_train))"
      ],
      "execution_count": null,
      "outputs": [
        {
          "output_type": "execute_result",
          "data": {
            "text/plain": [
              "2553"
            ]
          },
          "metadata": {
            "tags": []
          },
          "execution_count": 78
        }
      ]
    },
    {
      "cell_type": "code",
      "metadata": {
        "colab": {
          "base_uri": "https://localhost:8080/"
        },
        "id": "VuObnv8LM_LW",
        "outputId": "347a099c-0fb7-4480-ad07-f4faf9ad6ced"
      },
      "source": [
        "lin_model = LinearRegression()\n",
        "lin_model.fit(x_train, y_train)\n",
        "errors(lin_model, x_test, y_test)"
      ],
      "execution_count": null,
      "outputs": [
        {
          "output_type": "stream",
          "text": [
            "y_pred: 167482.2218925993\n",
            "y_test: 498594.8030068084\n",
            "MSE: 4273786195071.787\n",
            "Accuracy: 0.0458286759475663\n",
            "MSLE: 3.6236394905063785\n",
            "RMSLE: 1.9035859556390877\n"
          ],
          "name": "stdout"
        }
      ]
    },
    {
      "cell_type": "code",
      "metadata": {
        "colab": {
          "base_uri": "https://localhost:8080/"
        },
        "id": "CEalQnEADjEA",
        "outputId": "269cd72b-22a9-4582-9d9a-33d4de0a0c90"
      },
      "source": [
        "rf_model = RandomForestRegressor(n_estimators=1000, \n",
        "                               bootstrap = True,\n",
        "                               warm_start = True,\n",
        "                               oob_score = True)\n",
        "rf_model.fit(x_train, y_train.ravel())\n",
        "errors(rf_model, x_test, y_test.ravel())"
      ],
      "execution_count": null,
      "outputs": [
        {
          "output_type": "stream",
          "text": [
            "y_pred: 727892.8903976767\n",
            "y_test: 498594.8030068084\n",
            "MSE: 15425819572303.762\n",
            "Accuracy: 0.036784879585407985\n",
            "MSLE: 5.559141831218799\n",
            "RMSLE: 2.3577832451730587\n"
          ],
          "name": "stdout"
        }
      ]
    },
    {
      "cell_type": "code",
      "metadata": {
        "colab": {
          "base_uri": "https://localhost:8080/"
        },
        "id": "OdxNAPNvDkkw",
        "outputId": "f6c818c7-8c73-4f3f-aa4d-5d80f0c79587"
      },
      "source": [
        "model = XGBRegressor(seed=42,\n",
        "                      n_estimators=1000,\n",
        "                      max_depth=16,\n",
        "                      learning_rate=0.01)\n",
        "model.fit(x_train, y_train.ravel())\n",
        "errors(model, x_test, y_test.ravel())"
      ],
      "execution_count": null,
      "outputs": [
        {
          "output_type": "stream",
          "text": [
            "[19:04:53] WARNING: /workspace/src/objective/regression_obj.cu:152: reg:linear is now deprecated in favor of reg:squarederror.\n",
            "y_pred: 230014.5\n",
            "y_test: 498594.8030068084\n",
            "MSE: 4346158613405.03\n",
            "Accuracy: 0.0373945737221827\n",
            "MSLE: 4.240312451078501\n",
            "RMSLE: 2.059201896628522\n"
          ],
          "name": "stdout"
        }
      ]
    },
    {
      "cell_type": "code",
      "metadata": {
        "id": "q6ZtL6VEEpsK"
      },
      "source": [
        "#Полиномиальная интерполяция\n",
        "\n",
        "interpolation = make_pipeline(PolynomialFeatures(4), Ridge())\n",
        "interpolation.fit(x_train, y_train)\n",
        "errors(interpolation, x_test, y_test)"
      ],
      "execution_count": null,
      "outputs": []
    }
  ]
}