{
  "nbformat": 4,
  "nbformat_minor": 0,
  "metadata": {
    "colab": {
      "name": "total auction prediction.ipynb",
      "provenance": [],
      "collapsed_sections": [
        "6yNSRPpMggUD",
        "ybxrTt7ShGfS",
        "J2jzQsmPDWkr",
        "61HXTm-coQJu",
        "zFB8Bv5ms9It"
      ],
      "mount_file_id": "1xS3pZHVHEAWP8gQxfM8mE3mKT2kp-Ua0",
      "authorship_tag": "ABX9TyN1AUs3u53eX3rCtrazchBA",
      "include_colab_link": true
    },
    "kernelspec": {
      "display_name": "Python 3",
      "name": "python3"
    },
    "language_info": {
      "name": "python"
    }
  },
  "cells": [
    {
      "cell_type": "markdown",
      "metadata": {
        "id": "view-in-github",
        "colab_type": "text"
      },
      "source": [
        "<a href=\"https://colab.research.google.com/github/danil99152/prediction-of-government-tenders/blob/main/total_auction_prediction.ipynb\" target=\"_parent\"><img src=\"https://colab.research.google.com/assets/colab-badge.svg\" alt=\"Open In Colab\"/></a>"
      ]
    },
    {
      "cell_type": "markdown",
      "metadata": {
        "id": "UBqbQVl1gb_A"
      },
      "source": [
        "#TODO\n",
        "Добавить метрику RMSLE"
      ]
    },
    {
      "cell_type": "markdown",
      "metadata": {
        "id": "6yNSRPpMggUD"
      },
      "source": [
        "#Import"
      ]
    },
    {
      "cell_type": "code",
      "metadata": {
        "colab": {
          "base_uri": "https://localhost:8080/"
        },
        "id": "WtDySRe-gT87",
        "outputId": "9da13e3b-5d07-463d-8873-8ad88c00d8bf"
      },
      "source": [
        "!pip install catboost"
      ],
      "execution_count": 1,
      "outputs": [
        {
          "output_type": "stream",
          "text": [
            "Collecting catboost\n",
            "\u001b[?25l  Downloading https://files.pythonhosted.org/packages/47/80/8e9c57ec32dfed6ba2922bc5c96462cbf8596ce1a6f5de532ad1e43e53fe/catboost-0.25.1-cp37-none-manylinux1_x86_64.whl (67.3MB)\n",
            "\u001b[K     |████████████████████████████████| 67.3MB 49kB/s \n",
            "\u001b[?25hRequirement already satisfied: six in /usr/local/lib/python3.7/dist-packages (from catboost) (1.15.0)\n",
            "Requirement already satisfied: plotly in /usr/local/lib/python3.7/dist-packages (from catboost) (4.4.1)\n",
            "Requirement already satisfied: scipy in /usr/local/lib/python3.7/dist-packages (from catboost) (1.4.1)\n",
            "Requirement already satisfied: numpy>=1.16.0 in /usr/local/lib/python3.7/dist-packages (from catboost) (1.19.5)\n",
            "Requirement already satisfied: graphviz in /usr/local/lib/python3.7/dist-packages (from catboost) (0.10.1)\n",
            "Requirement already satisfied: matplotlib in /usr/local/lib/python3.7/dist-packages (from catboost) (3.2.2)\n",
            "Requirement already satisfied: pandas>=0.24.0 in /usr/local/lib/python3.7/dist-packages (from catboost) (1.1.5)\n",
            "Requirement already satisfied: retrying>=1.3.3 in /usr/local/lib/python3.7/dist-packages (from plotly->catboost) (1.3.3)\n",
            "Requirement already satisfied: cycler>=0.10 in /usr/local/lib/python3.7/dist-packages (from matplotlib->catboost) (0.10.0)\n",
            "Requirement already satisfied: pyparsing!=2.0.4,!=2.1.2,!=2.1.6,>=2.0.1 in /usr/local/lib/python3.7/dist-packages (from matplotlib->catboost) (2.4.7)\n",
            "Requirement already satisfied: kiwisolver>=1.0.1 in /usr/local/lib/python3.7/dist-packages (from matplotlib->catboost) (1.3.1)\n",
            "Requirement already satisfied: python-dateutil>=2.1 in /usr/local/lib/python3.7/dist-packages (from matplotlib->catboost) (2.8.1)\n",
            "Requirement already satisfied: pytz>=2017.2 in /usr/local/lib/python3.7/dist-packages (from pandas>=0.24.0->catboost) (2018.9)\n",
            "Installing collected packages: catboost\n",
            "Successfully installed catboost-0.25.1\n"
          ],
          "name": "stdout"
        }
      ]
    },
    {
      "cell_type": "code",
      "metadata": {
        "colab": {
          "base_uri": "https://localhost:8080/"
        },
        "id": "kiQoEPexgmxe",
        "outputId": "f09a564f-04b9-491f-8893-dc128ad5891e"
      },
      "source": [
        "from datetime import datetime, date\n",
        "import math\n",
        "import re\n",
        "import gc\n",
        "\n",
        "import pandas as pd\n",
        "import numpy as np\n",
        "from scipy import stats\n",
        "import seaborn as sbs\n",
        "from statsmodels.graphics.mosaicplot import mosaic\n",
        "\n",
        "\n",
        "from matplotlib.ticker import MultipleLocator\n",
        "import matplotlib.pyplot as plt\n",
        "%matplotlib inline\n",
        "\n",
        "import keras\n",
        "from keras import optimizers\n",
        "from keras.models import Sequential\n",
        "from keras.layers import Dense,Dropout\n",
        "from keras.optimizers import RMSprop\n",
        "from keras.callbacks import Callback, TensorBoard, ModelCheckpoint\n",
        "from keras.models import load_model\n",
        "\n",
        "from sklearn.preprocessing import PolynomialFeatures\n",
        "from sklearn.linear_model import LogisticRegression\n",
        "from sklearn.linear_model import LinearRegression\n",
        "from sklearn.ensemble import RandomForestClassifier\n",
        "from sklearn import metrics\n",
        "from sklearn import preprocessing\n",
        "from sklearn.ensemble import ExtraTreesClassifier\n",
        "from sklearn.model_selection import train_test_split\n",
        "from sklearn.feature_selection import RFE\n",
        "from sklearn.metrics import classification_report\n",
        "from sklearn.model_selection import GridSearchCV\n",
        "from sklearn.ensemble import AdaBoostClassifier\n",
        "from sklearn.tree import DecisionTreeClassifier\n",
        "from sklearn.metrics import accuracy_score\n",
        "from sklearn.preprocessing import LabelEncoder\n",
        "from sklearn.neighbors import KNeighborsClassifier\n",
        "from sklearn.metrics import confusion_matrix, ConfusionMatrixDisplay\n",
        "from sklearn.pipeline import Pipeline\n",
        "from sklearn.decomposition import PCA\n",
        "from sklearn.preprocessing import OneHotEncoder\n",
        "from sklearn.ensemble import RandomForestRegressor\n",
        "\n",
        "import tensorflow as tf\n",
        "\n",
        "import xgboost as xgb\n",
        "import catboost as ctb\n",
        "from xgboost import XGBRegressor\n",
        "from catboost import CatBoostRegressor\n",
        "\n",
        "import joblib\n",
        "import pickle"
      ],
      "execution_count": 2,
      "outputs": [
        {
          "output_type": "stream",
          "text": [
            "/usr/local/lib/python3.7/dist-packages/statsmodels/tools/_testing.py:19: FutureWarning: pandas.util.testing is deprecated. Use the functions in the public API at pandas.testing instead.\n",
            "  import pandas.util.testing as tm\n"
          ],
          "name": "stderr"
        }
      ]
    },
    {
      "cell_type": "code",
      "metadata": {
        "colab": {
          "base_uri": "https://localhost:8080/"
        },
        "id": "0Ef0KImNgqLn",
        "outputId": "4793ee9c-f691-4c26-d0af-d72da9549f49"
      },
      "source": [
        "!gdown --id 1L6BffI4zO8ZMOtTOle3XABOXQ-5ZcfTU"
      ],
      "execution_count": 27,
      "outputs": [
        {
          "output_type": "stream",
          "text": [
            "Downloading...\n",
            "From: https://drive.google.com/uc?id=1L6BffI4zO8ZMOtTOle3XABOXQ-5ZcfTU\n",
            "To: /content/purchase_plans.csv\n",
            "\r0.00B [00:00, ?B/s]\r5.52MB [00:00, 82.8MB/s]\n"
          ],
          "name": "stdout"
        }
      ]
    },
    {
      "cell_type": "markdown",
      "metadata": {
        "id": "ybxrTt7ShGfS"
      },
      "source": [
        "#Обработка данных"
      ]
    },
    {
      "cell_type": "markdown",
      "metadata": {
        "id": "FP1ukWs6hJlZ"
      },
      "source": [
        "Считывание данных о заявках"
      ]
    },
    {
      "cell_type": "code",
      "metadata": {
        "colab": {
          "base_uri": "https://localhost:8080/",
          "height": 224
        },
        "id": "OYVdYrp0hDeU",
        "outputId": "8a12e932-2c41-4353-e7d7-e4ea04e773b1"
      },
      "source": [
        "contract_path = 'purchase_plans.csv'\n",
        "dtypes = {'plan_number' : 'category', \n",
        "          'customer_legal_form' : 'category', \n",
        "          'positionNumber' : 'category', \n",
        "          'product_info' : 'category',\n",
        "          'publicDiscussion' : 'category',\n",
        "          'isEnergyServiceContract': 'category',\n",
        "          'OKPD': 'category'}\n",
        "data = pd.read_csv(contract_path, dtype = dtypes)\n",
        "gc.collect()\n",
        "\n",
        "data.head()"
      ],
      "execution_count": 31,
      "outputs": [
        {
          "output_type": "execute_result",
          "data": {
            "text/html": [
              "<div>\n",
              "<style scoped>\n",
              "    .dataframe tbody tr th:only-of-type {\n",
              "        vertical-align: middle;\n",
              "    }\n",
              "\n",
              "    .dataframe tbody tr th {\n",
              "        vertical-align: top;\n",
              "    }\n",
              "\n",
              "    .dataframe thead th {\n",
              "        text-align: right;\n",
              "    }\n",
              "</style>\n",
              "<table border=\"1\" class=\"dataframe\">\n",
              "  <thead>\n",
              "    <tr style=\"text-align: right;\">\n",
              "      <th></th>\n",
              "      <th>plan_number</th>\n",
              "      <th>customer_legal_form</th>\n",
              "      <th>positionNumber</th>\n",
              "      <th>positionCanceled</th>\n",
              "      <th>publicDiscussion</th>\n",
              "      <th>total</th>\n",
              "      <th>isEnergyServiceContract</th>\n",
              "      <th>time</th>\n",
              "      <th>OKPD</th>\n",
              "      <th>log_total</th>\n",
              "    </tr>\n",
              "  </thead>\n",
              "  <tbody>\n",
              "    <tr>\n",
              "      <th>0</th>\n",
              "      <td>201801133000253003</td>\n",
              "      <td>75404</td>\n",
              "      <td>201801133000253003000150</td>\n",
              "      <td>False</td>\n",
              "      <td>false</td>\n",
              "      <td>97522.23</td>\n",
              "      <td>false</td>\n",
              "      <td>44</td>\n",
              "      <td>95.12.10.000</td>\n",
              "      <td>11.487836</td>\n",
              "    </tr>\n",
              "    <tr>\n",
              "      <th>1</th>\n",
              "      <td>201901133000089001</td>\n",
              "      <td>75404</td>\n",
              "      <td>201901133000089001000001</td>\n",
              "      <td>True</td>\n",
              "      <td>false</td>\n",
              "      <td>195000.00</td>\n",
              "      <td>false</td>\n",
              "      <td>31</td>\n",
              "      <td>35.11.10.000</td>\n",
              "      <td>12.180755</td>\n",
              "    </tr>\n",
              "    <tr>\n",
              "      <th>2</th>\n",
              "      <td>201901133000074001</td>\n",
              "      <td>75404</td>\n",
              "      <td>201901133000074001000001</td>\n",
              "      <td>False</td>\n",
              "      <td>false</td>\n",
              "      <td>3117.87</td>\n",
              "      <td>false</td>\n",
              "      <td>365</td>\n",
              "      <td>19.20.21.125</td>\n",
              "      <td>8.044905</td>\n",
              "    </tr>\n",
              "    <tr>\n",
              "      <th>3</th>\n",
              "      <td>201901133000089001</td>\n",
              "      <td>75404</td>\n",
              "      <td>201901133000089001000016</td>\n",
              "      <td>False</td>\n",
              "      <td>false</td>\n",
              "      <td>16000.00</td>\n",
              "      <td>false</td>\n",
              "      <td>365</td>\n",
              "      <td>61.10.11.110</td>\n",
              "      <td>9.680344</td>\n",
              "    </tr>\n",
              "    <tr>\n",
              "      <th>4</th>\n",
              "      <td>201901133000089001</td>\n",
              "      <td>75404</td>\n",
              "      <td>201901133000089001000001</td>\n",
              "      <td>True</td>\n",
              "      <td>false</td>\n",
              "      <td>195000.00</td>\n",
              "      <td>false</td>\n",
              "      <td>31</td>\n",
              "      <td>35.11.10.000</td>\n",
              "      <td>12.180755</td>\n",
              "    </tr>\n",
              "  </tbody>\n",
              "</table>\n",
              "</div>"
            ],
            "text/plain": [
              "          plan_number customer_legal_form  ...          OKPD  log_total\n",
              "0  201801133000253003               75404  ...  95.12.10.000  11.487836\n",
              "1  201901133000089001               75404  ...  35.11.10.000  12.180755\n",
              "2  201901133000074001               75404  ...  19.20.21.125   8.044905\n",
              "3  201901133000089001               75404  ...  61.10.11.110   9.680344\n",
              "4  201901133000089001               75404  ...  35.11.10.000  12.180755\n",
              "\n",
              "[5 rows x 10 columns]"
            ]
          },
          "metadata": {
            "tags": []
          },
          "execution_count": 31
        }
      ]
    },
    {
      "cell_type": "markdown",
      "metadata": {
        "id": "J2jzQsmPDWkr"
      },
      "source": [
        "#Корреляция ОКПД и КТРУ с ценой"
      ]
    },
    {
      "cell_type": "code",
      "metadata": {
        "colab": {
          "base_uri": "https://localhost:8080/"
        },
        "id": "4lgzmSD3w9Y6",
        "outputId": "8f0daf06-b651-44f8-b149-76ae422a98b1"
      },
      "source": [
        "data['total'].describe()"
      ],
      "execution_count": 24,
      "outputs": [
        {
          "output_type": "execute_result",
          "data": {
            "text/plain": [
              "count    4.920400e+04\n",
              "mean     3.033807e+06\n",
              "std      1.161167e+08\n",
              "min      1.000000e-02\n",
              "25%      2.800000e+04\n",
              "50%      8.756000e+04\n",
              "75%      2.999925e+05\n",
              "max      7.154803e+09\n",
              "Name: total, dtype: float64"
            ]
          },
          "metadata": {
            "tags": []
          },
          "execution_count": 24
        }
      ]
    },
    {
      "cell_type": "code",
      "metadata": {
        "colab": {
          "base_uri": "https://localhost:8080/"
        },
        "id": "34RNFUirxRMM",
        "outputId": "b7988a3f-3398-479f-aad1-d54bc06b6090"
      },
      "source": [
        "data['log_total'].describe()"
      ],
      "execution_count": 25,
      "outputs": [
        {
          "output_type": "execute_result",
          "data": {
            "text/plain": [
              "count    49204.000000\n",
              "mean        11.485621\n",
              "std          1.919036\n",
              "min         -4.605170\n",
              "25%         10.239960\n",
              "50%         11.380080\n",
              "75%         12.611513\n",
              "max         22.691050\n",
              "Name: log_total, dtype: float64"
            ]
          },
          "metadata": {
            "tags": []
          },
          "execution_count": 25
        }
      ]
    },
    {
      "cell_type": "code",
      "metadata": {
        "colab": {
          "base_uri": "https://localhost:8080/"
        },
        "id": "HRN_wo99EezX",
        "outputId": "59bacd3c-2b73-4668-e7da-f688d0a5aae4"
      },
      "source": [
        "len(data['OKPD'].unique())"
      ],
      "execution_count": null,
      "outputs": [
        {
          "output_type": "execute_result",
          "data": {
            "text/plain": [
              "276"
            ]
          },
          "metadata": {
            "tags": []
          },
          "execution_count": 109
        }
      ]
    },
    {
      "cell_type": "code",
      "metadata": {
        "colab": {
          "base_uri": "https://localhost:8080/",
          "height": 651
        },
        "id": "OKKKFrrSDhAQ",
        "outputId": "e1b4f453-d653-43b9-e766-73effae52c36"
      },
      "source": [
        "with sbs.plotting_context(font_scale=1.6):\n",
        "  data_to_plot = data.filter(['OKPD', 'total'], axis=1).sort_values('OKPD')\n",
        "  g = sbs.catplot(y = 'OKPD', x = 'total', kind ='box', height = 10, aspect = 2, data = data_to_plot, orient = 'h')\n",
        "  g.set(xscale = 'log', xlabel = 'Цена', ylabel = 'ОКПД')\n",
        "  \n",
        "del data_to_plot\n",
        "del g\n",
        "gc.collect()"
      ],
      "execution_count": null,
      "outputs": [
        {
          "output_type": "execute_result",
          "data": {
            "text/plain": [
              "34"
            ]
          },
          "metadata": {
            "tags": []
          },
          "execution_count": 112
        },
        {
          "output_type": "display_data",
          "data": {
            "image/png": "[encoded data removed]",
            "text/plain": [
              "<Figure size 1440x720 with 1 Axes>"
            ]
          },
          "metadata": {
            "tags": [],
            "needs_background": "light"
          }
        }
      ]
    },
    {
      "cell_type": "code",
      "metadata": {
        "colab": {
          "base_uri": "https://localhost:8080/"
        },
        "id": "9s1MAbqeNL8W",
        "outputId": "f3893818-c130-4b03-c66f-ddb3b11981a5"
      },
      "source": [
        "len(data['customer_legal_form'].unique())"
      ],
      "execution_count": null,
      "outputs": [
        {
          "output_type": "execute_result",
          "data": {
            "text/plain": [
              "9"
            ]
          },
          "metadata": {
            "tags": []
          },
          "execution_count": 125
        }
      ]
    },
    {
      "cell_type": "code",
      "metadata": {
        "colab": {
          "base_uri": "https://localhost:8080/",
          "height": 650
        },
        "id": "nNpRvM7ANP9x",
        "outputId": "8770e2e0-cda2-4384-dccf-afab12aa2b2f"
      },
      "source": [
        "with sbs.plotting_context(font_scale=1.6):\n",
        "  data_to_plot = data.filter(['customer_legal_form', 'total'], axis=1).sort_values('customer_legal_form')\n",
        "  g = sbs.catplot(y = 'customer_legal_form', x = 'total', kind ='box', height = 10, aspect = 2, data = data_to_plot, orient = 'h')\n",
        "  g.set(xscale = 'log', xlabel = 'Цена', ylabel = 'customer_legal_form')\n",
        "  \n",
        "del data_to_plot\n",
        "del g\n",
        "gc.collect()"
      ],
      "execution_count": null,
      "outputs": [
        {
          "output_type": "execute_result",
          "data": {
            "text/plain": [
              "79"
            ]
          },
          "metadata": {
            "tags": []
          },
          "execution_count": 126
        },
        {
          "output_type": "display_data",
          "data": {
            "image/png": "[encoded data removed]",
            "text/plain": [
              "<Figure size 1440x720 with 1 Axes>"
            ]
          },
          "metadata": {
            "tags": [],
            "needs_background": "light"
          }
        }
      ]
    },
    {
      "cell_type": "markdown",
      "metadata": {
        "id": "61HXTm-coQJu"
      },
      "source": [
        "#Прогноз цены"
      ]
    },
    {
      "cell_type": "code",
      "metadata": {
        "id": "gf2dWcRXNSCa"
      },
      "source": [
        "cat_var = ['plan_number', \n",
        "          'customer_legal_form', \n",
        "          'positionNumber', \n",
        "          'publicDiscussion',\n",
        "          'isEnergyServiceContract',\n",
        "          'OKPD',\n",
        "          'KTRU']"
      ],
      "execution_count": null,
      "outputs": []
    },
    {
      "cell_type": "code",
      "metadata": {
        "id": "eF6wAKDOL1bE"
      },
      "source": [
        "def errors(model, x_test, y_test):\n",
        "  outputs = model.predict(x_test)\n",
        "  error = np.absolute(outputs - y_test) * test_max\n",
        "  mae = np.sum(error) / len(error)\n",
        "  error = ((outputs - y_test)**2) * test_max\n",
        "  mse = np.sum(error) / len(error)\n",
        "  print(\"R2:\", metrics.r2_score(outputs, y_test))\n",
        "  print(\"MAE:\", mae) #абсолютная ошибка (MAE)\n",
        "  print(\"MSE:\", mse) #среднеквадратичная ошибка (MSE)\n",
        "  print(\"RMSE:\", np.sqrt(mse)) #корень среднеквадратичной ошибки (RMSE)"
      ],
      "execution_count": null,
      "outputs": []
    },
    {
      "cell_type": "code",
      "metadata": {
        "id": "ijvnkRgUJvd-"
      },
      "source": [
        "x = data.drop(['positionCanceled', 'total'], axis=1)\n",
        "y = data['total']"
      ],
      "execution_count": null,
      "outputs": []
    },
    {
      "cell_type": "code",
      "metadata": {
        "id": "CntEoGNNJiGg"
      },
      "source": [
        "x_train, x_test, y_train, y_test = train_test_split(x, y, test_size=0.2, shuffle = False)"
      ],
      "execution_count": null,
      "outputs": []
    },
    {
      "cell_type": "code",
      "metadata": {
        "colab": {
          "base_uri": "https://localhost:8080/"
        },
        "id": "sEkzXkRyLMe0",
        "outputId": "7852be5e-50ff-4fa4-a5b6-f7d49ad9c772"
      },
      "source": [
        "print(len(x_train))\n",
        "print(len(y_train))"
      ],
      "execution_count": null,
      "outputs": [
        {
          "output_type": "stream",
          "text": [
            "39363\n",
            "39363\n"
          ],
          "name": "stdout"
        }
      ]
    },
    {
      "cell_type": "code",
      "metadata": {
        "id": "qXc9rhjNROG0"
      },
      "source": [
        "cat_features = cat_var\n",
        "model_catboost = CatBoostRegressor(\n",
        "    n_estimators = 1000,\n",
        "    learning_rate = 0.01,\n",
        "    max_depth = 16,\n",
        "    task_type=\"GPU\",\n",
        "    devices='0:1',\n",
        ").fit(x_train, y_train, cat_features,\n",
        "      eval_set=(x_test, y_test),\n",
        "             use_best_model=True,\n",
        "             verbose=False)\n",
        "errors(model_catboost, x_test, y_test)"
      ],
      "execution_count": null,
      "outputs": []
    },
    {
      "cell_type": "code",
      "metadata": {
        "colab": {
          "base_uri": "https://localhost:8080/",
          "height": 428
        },
        "id": "we1GIQLsOc5E",
        "outputId": "277c7982-c659-493c-efb2-c4a5dbd5fc56"
      },
      "source": [
        "enc = LabelEncoder()\n",
        "for param in cat_var:\n",
        "  x_train[param] = enc.fit_transform(x_train[param])\n",
        "  x_test[param] = enc.fit_transform(x_test[param])\n",
        "x_train.head()"
      ],
      "execution_count": null,
      "outputs": [
        {
          "output_type": "stream",
          "text": [
            "/usr/local/lib/python3.7/dist-packages/ipykernel_launcher.py:3: SettingWithCopyWarning: \n",
            "A value is trying to be set on a copy of a slice from a DataFrame.\n",
            "Try using .loc[row_indexer,col_indexer] = value instead\n",
            "\n",
            "See the caveats in the documentation: https://pandas.pydata.org/pandas-docs/stable/user_guide/indexing.html#returning-a-view-versus-a-copy\n",
            "  This is separate from the ipykernel package so we can avoid doing imports until\n",
            "/usr/local/lib/python3.7/dist-packages/ipykernel_launcher.py:4: SettingWithCopyWarning: \n",
            "A value is trying to be set on a copy of a slice from a DataFrame.\n",
            "Try using .loc[row_indexer,col_indexer] = value instead\n",
            "\n",
            "See the caveats in the documentation: https://pandas.pydata.org/pandas-docs/stable/user_guide/indexing.html#returning-a-view-versus-a-copy\n",
            "  after removing the cwd from sys.path.\n"
          ],
          "name": "stderr"
        },
        {
          "output_type": "execute_result",
          "data": {
            "text/html": [
              "<div>\n",
              "<style scoped>\n",
              "    .dataframe tbody tr th:only-of-type {\n",
              "        vertical-align: middle;\n",
              "    }\n",
              "\n",
              "    .dataframe tbody tr th {\n",
              "        vertical-align: top;\n",
              "    }\n",
              "\n",
              "    .dataframe thead th {\n",
              "        text-align: right;\n",
              "    }\n",
              "</style>\n",
              "<table border=\"1\" class=\"dataframe\">\n",
              "  <thead>\n",
              "    <tr style=\"text-align: right;\">\n",
              "      <th></th>\n",
              "      <th>plan_number</th>\n",
              "      <th>customer_legal_form</th>\n",
              "      <th>positionNumber</th>\n",
              "      <th>publicDiscussion</th>\n",
              "      <th>isEnergyServiceContract</th>\n",
              "      <th>time</th>\n",
              "      <th>OKPD</th>\n",
              "      <th>KTRU</th>\n",
              "    </tr>\n",
              "  </thead>\n",
              "  <tbody>\n",
              "    <tr>\n",
              "      <th>0</th>\n",
              "      <td>0</td>\n",
              "      <td>7</td>\n",
              "      <td>0</td>\n",
              "      <td>0</td>\n",
              "      <td>0</td>\n",
              "      <td>44</td>\n",
              "      <td>239</td>\n",
              "      <td>0</td>\n",
              "    </tr>\n",
              "    <tr>\n",
              "      <th>1</th>\n",
              "      <td>41</td>\n",
              "      <td>7</td>\n",
              "      <td>183</td>\n",
              "      <td>0</td>\n",
              "      <td>0</td>\n",
              "      <td>31</td>\n",
              "      <td>129</td>\n",
              "      <td>0</td>\n",
              "    </tr>\n",
              "    <tr>\n",
              "      <th>2</th>\n",
              "      <td>37</td>\n",
              "      <td>7</td>\n",
              "      <td>117</td>\n",
              "      <td>0</td>\n",
              "      <td>0</td>\n",
              "      <td>365</td>\n",
              "      <td>56</td>\n",
              "      <td>63</td>\n",
              "    </tr>\n",
              "    <tr>\n",
              "      <th>3</th>\n",
              "      <td>41</td>\n",
              "      <td>7</td>\n",
              "      <td>184</td>\n",
              "      <td>0</td>\n",
              "      <td>0</td>\n",
              "      <td>365</td>\n",
              "      <td>182</td>\n",
              "      <td>5</td>\n",
              "    </tr>\n",
              "    <tr>\n",
              "      <th>4</th>\n",
              "      <td>41</td>\n",
              "      <td>7</td>\n",
              "      <td>183</td>\n",
              "      <td>0</td>\n",
              "      <td>0</td>\n",
              "      <td>31</td>\n",
              "      <td>129</td>\n",
              "      <td>0</td>\n",
              "    </tr>\n",
              "  </tbody>\n",
              "</table>\n",
              "</div>"
            ],
            "text/plain": [
              "   plan_number  customer_legal_form  positionNumber  ...  time  OKPD  KTRU\n",
              "0            0                    7               0  ...    44   239     0\n",
              "1           41                    7             183  ...    31   129     0\n",
              "2           37                    7             117  ...   365    56    63\n",
              "3           41                    7             184  ...   365   182     5\n",
              "4           41                    7             183  ...    31   129     0\n",
              "\n",
              "[5 rows x 8 columns]"
            ]
          },
          "metadata": {
            "tags": []
          },
          "execution_count": 17
        }
      ]
    },
    {
      "cell_type": "code",
      "metadata": {
        "colab": {
          "base_uri": "https://localhost:8080/"
        },
        "id": "zyosfvBmO46F",
        "outputId": "9369abbd-c860-4cf5-c88a-708f9c753536"
      },
      "source": [
        "x_train = x_train.to_numpy()\n",
        "x_test = x_test.to_numpy()\n",
        "\n",
        "y_train = y_train.to_numpy()\n",
        "y_test = y_test.to_numpy()\n",
        "test_max = np.max(y_test)\n",
        "train_max = np.max(y_train)\n",
        "\n",
        "gc.collect()"
      ],
      "execution_count": null,
      "outputs": [
        {
          "output_type": "execute_result",
          "data": {
            "text/plain": [
              "296"
            ]
          },
          "metadata": {
            "tags": []
          },
          "execution_count": 16
        }
      ]
    },
    {
      "cell_type": "code",
      "metadata": {
        "colab": {
          "base_uri": "https://localhost:8080/"
        },
        "id": "WKsO_PVmIvMl",
        "outputId": "5fdd297d-c816-4fdd-8d6e-aa886b609f81"
      },
      "source": [
        "rf_model = RandomForestRegressor(n_estimators=1000, \n",
        "                               bootstrap = True,\n",
        "                               warm_start = True,\n",
        "                               oob_score = True)\n",
        "rf_model.fit(x_train, y_train.ravel())\n",
        "errors(rf_model, x_test, y_test.ravel())"
      ],
      "execution_count": null,
      "outputs": [
        {
          "output_type": "stream",
          "text": [
            "R2: -574426.2919836317\n",
            "MAE: 0.02627075667516478\n",
            "MSE: 0.012580815470335972\n",
            "RMSE: 0.11216423436343678\n"
          ],
          "name": "stdout"
        }
      ]
    },
    {
      "cell_type": "code",
      "metadata": {
        "colab": {
          "base_uri": "https://localhost:8080/"
        },
        "id": "ivwEopgfSgRm",
        "outputId": "5a8c96ce-c123-42e3-8893-7cece19e04a7"
      },
      "source": [
        "model = XGBRegressor(seed=42,\n",
        "                      n_estimators=1000,\n",
        "                      max_depth=16,\n",
        "                      learning_rate=0.01)\n",
        "model.fit(x_train, y_train.ravel())\n",
        "errors(model, x_test, y_test.ravel())"
      ],
      "execution_count": null,
      "outputs": [
        {
          "output_type": "stream",
          "text": [
            "[14:05:28] WARNING: /workspace/src/objective/regression_obj.cu:152: reg:linear is now deprecated in favor of reg:squarederror.\n",
            "R2: -643500.6753118397\n",
            "MAE: 0.026248819858801824\n",
            "MSE: 0.012579159019027538\n",
            "RMSE: 0.11215685007625499\n"
          ],
          "name": "stdout"
        }
      ]
    },
    {
      "cell_type": "code",
      "metadata": {
        "colab": {
          "base_uri": "https://localhost:8080/"
        },
        "id": "BZwj3sD7V86f",
        "outputId": "bf59f1ec-097d-4fc8-cb0d-bf85933a08ee"
      },
      "source": [
        "#значимость признаков для леса\n",
        "importances = model.feature_importances_\n",
        "indices = np.argsort(importances)[::-1]\n",
        "col = ['plan_number',\t'customer_legal_form',\t'positionNumber',\t'publicDiscussion',\t'isEnergyServiceContract',\t'time',\t'OKPD', 'KTRU']\n",
        "ar_f=[]\n",
        "for f, idx in enumerate(indices):\n",
        "    ar_f.append([round(importances[idx],4), col[idx]])\n",
        "print(\"Значимость признака:\")\n",
        "ar_f.sort(reverse=True)\n",
        "ar_f"
      ],
      "execution_count": null,
      "outputs": [
        {
          "output_type": "stream",
          "text": [
            "Значимость признака:\n"
          ],
          "name": "stdout"
        },
        {
          "output_type": "execute_result",
          "data": {
            "text/plain": [
              "[[0.9071, 'positionNumber'],\n",
              " [0.0793, 'plan_number'],\n",
              " [0.0125, 'time'],\n",
              " [0.0009, 'OKPD'],\n",
              " [0.0002, 'customer_legal_form'],\n",
              " [1e-04, 'KTRU'],\n",
              " [0.0, 'publicDiscussion'],\n",
              " [0.0, 'isEnergyServiceContract']]"
            ]
          },
          "metadata": {
            "tags": []
          },
          "execution_count": 47
        }
      ]
    },
    {
      "cell_type": "code",
      "metadata": {
        "id": "iVe27d5E0qyA"
      },
      "source": [
        "def normalize(y):\n",
        "  max = np.max(y)\n",
        "  return y/max"
      ],
      "execution_count": null,
      "outputs": []
    },
    {
      "cell_type": "code",
      "metadata": {
        "id": "D-2_ZTAwDZni"
      },
      "source": [
        "x_train[:,0] = normalize(x_train[:,0])\n",
        "x_train[:,1] = normalize(x_train[:,1])\n",
        "x_train[:,2] = normalize(x_train[:,2])\n",
        "x_train[:,5] = normalize(x_train[:,5])\n",
        "x_train[:,6] = normalize(x_train[:,6])\n",
        "x_train[:,7] = normalize(x_train[:,7])\n",
        "\n",
        "x_test[:,0] = normalize(x_test[:,0])\n",
        "x_test[:,1] = normalize(x_test[:,1])\n",
        "x_test[:,2] = normalize(x_test[:,2])\n",
        "x_test[:,5] = normalize(x_test[:,5])\n",
        "x_test[:,6] = normalize(x_test[:,6])\n",
        "x_test[:,7] = normalize(x_test[:,7])"
      ],
      "execution_count": null,
      "outputs": []
    },
    {
      "cell_type": "code",
      "metadata": {
        "colab": {
          "base_uri": "https://localhost:8080/"
        },
        "id": "VuObnv8LM_LW",
        "outputId": "856250d5-3247-477e-e5c7-d51b4d7dc9e9"
      },
      "source": [
        "lin_model = LinearRegression()\n",
        "lin_model.fit(x_train, y_train)\n",
        "errors(lin_model, x_test, y_test)"
      ],
      "execution_count": null,
      "outputs": [
        {
          "output_type": "stream",
          "text": [
            "R2: -582107.833605254\n",
            "MAE: 491130.6274452734\n",
            "MSE: 235188.3696023744\n",
            "RMSE: 484.9622352331926\n"
          ],
          "name": "stdout"
        }
      ]
    },
    {
      "cell_type": "code",
      "metadata": {
        "colab": {
          "base_uri": "https://localhost:8080/"
        },
        "id": "OhnfSVSyNUor",
        "outputId": "0f69bc1e-32c4-4f31-f1b1-114ee899ae04"
      },
      "source": [
        "poly_model = LinearRegression()\n",
        "polynomial_features= PolynomialFeatures(degree=3)\n",
        "x_train_poly = polynomial_features.fit_transform(x_train)\n",
        "x_test_poly = polynomial_features.fit_transform(x_test)\n",
        "poly_model.fit(x_train_poly, y_train)\n",
        "errors(poly_model, x_test_poly, y_test)"
      ],
      "execution_count": null,
      "outputs": [
        {
          "output_type": "stream",
          "text": [
            "R2: -0.0013227535111628441\n",
            "MAE: 28001.495454174645\n",
            "MSE: 593550284560.9375\n",
            "RMSE: 770422.1469823784\n"
          ],
          "name": "stdout"
        }
      ]
    },
    {
      "cell_type": "code",
      "metadata": {
        "id": "mDPKYYgE5S-J"
      },
      "source": [
        "x_train = np.asarray(x_train).astype(np.float32)\n",
        "x_test = np.asarray(x_test).astype(np.float32)\n",
        "\n",
        "# y_train = np.asarray(y_train.reshape(-1,1)).astype(np.float32)\n",
        "# y_test = np.asarray(y_test.reshape(-1,1)).astype(np.float32)"
      ],
      "execution_count": null,
      "outputs": []
    },
    {
      "cell_type": "code",
      "metadata": {
        "id": "i4GoAVHG9Mg9"
      },
      "source": [
        "batch_size = 10\n",
        "epochs = 10\n",
        "learning_rate = 0.01\n",
        "\n",
        "loss = \"mean_squared_error\"\n",
        "optimizer = optimizers.SGD(lr = learning_rate)"
      ],
      "execution_count": null,
      "outputs": []
    },
    {
      "cell_type": "code",
      "metadata": {
        "colab": {
          "base_uri": "https://localhost:8080/"
        },
        "id": "FYXfWd8n9M-v",
        "outputId": "d5fff066-1d2b-4649-d089-d72ffca902d5"
      },
      "source": [
        "model = Sequential()\n",
        "model.add(Dense(units = 30, activation = \"sigmoid\", input_dim=8, use_bias=True))\n",
        "model.add(Dense(units = 30, activation = \"sigmoid\", use_bias=True))\n",
        "model.add(Dense(units = 30, activation = \"sigmoid\", use_bias=True))\n",
        "model.add(Dense(units = 1,  activation = \"sigmoid\"))\n",
        "\n",
        "model.compile(loss = loss,\n",
        "              optimizer = optimizer,\n",
        "              metrics = [\"accuracy\"])\n",
        "\n",
        "model.summary()"
      ],
      "execution_count": null,
      "outputs": [
        {
          "output_type": "stream",
          "text": [
            "Model: \"sequential\"\n",
            "_________________________________________________________________\n",
            "Layer (type)                 Output Shape              Param #   \n",
            "=================================================================\n",
            "dense (Dense)                (None, 30)                270       \n",
            "_________________________________________________________________\n",
            "dense_1 (Dense)              (None, 30)                930       \n",
            "_________________________________________________________________\n",
            "dense_2 (Dense)              (None, 30)                930       \n",
            "_________________________________________________________________\n",
            "dense_3 (Dense)              (None, 1)                 31        \n",
            "=================================================================\n",
            "Total params: 2,161\n",
            "Trainable params: 2,161\n",
            "Non-trainable params: 0\n",
            "_________________________________________________________________\n"
          ],
          "name": "stdout"
        }
      ]
    },
    {
      "cell_type": "code",
      "metadata": {
        "colab": {
          "base_uri": "https://localhost:8080/"
        },
        "id": "-__ncCpT9OWH",
        "outputId": "4b460560-0829-4be6-d15b-11718c6e100c"
      },
      "source": [
        "history = model.fit(x_train,y_train,\n",
        "                    epochs = epochs,\n",
        "                    batch_size = batch_size,\n",
        "                    verbose = 1,\n",
        "                    validation_data = (x_test,y_test),\n",
        "                    callbacks=None)\n",
        "\n",
        "score = model.evaluate(x_test,y_test,verbose = 1)\n",
        "print(\"test loss:\",score[0])\n",
        "print(\"test accuracy:\",score[1])"
      ],
      "execution_count": null,
      "outputs": [
        {
          "output_type": "stream",
          "text": [
            "Epoch 1/10\n",
            "3937/3937 [==============================] - 5s 1ms/step - loss: 0.0411 - accuracy: 0.0000e+00 - val_loss: 0.0119 - val_accuracy: 0.0000e+00\n",
            "Epoch 2/10\n",
            "3937/3937 [==============================] - 4s 1ms/step - loss: 0.0010 - accuracy: 0.0000e+00 - val_loss: 0.0120 - val_accuracy: 0.0000e+00\n",
            "Epoch 3/10\n",
            "3937/3937 [==============================] - 4s 1ms/step - loss: 5.9822e-04 - accuracy: 0.0000e+00 - val_loss: 0.0120 - val_accuracy: 0.0000e+00\n",
            "Epoch 4/10\n",
            "3937/3937 [==============================] - 4s 1ms/step - loss: 6.0495e-04 - accuracy: 0.0000e+00 - val_loss: 0.0121 - val_accuracy: 0.0000e+00\n",
            "Epoch 5/10\n",
            "3937/3937 [==============================] - 4s 1ms/step - loss: 3.7188e-04 - accuracy: 0.0000e+00 - val_loss: 0.0121 - val_accuracy: 0.0000e+00\n",
            "Epoch 6/10\n",
            "3937/3937 [==============================] - 4s 1ms/step - loss: 5.0605e-04 - accuracy: 0.0000e+00 - val_loss: 0.0122 - val_accuracy: 0.0000e+00\n",
            "Epoch 7/10\n",
            "3937/3937 [==============================] - 4s 1ms/step - loss: 4.8755e-04 - accuracy: 0.0000e+00 - val_loss: 0.0122 - val_accuracy: 0.0000e+00\n",
            "Epoch 8/10\n",
            "3937/3937 [==============================] - 4s 1ms/step - loss: 4.5058e-04 - accuracy: 0.0000e+00 - val_loss: 0.0122 - val_accuracy: 0.0000e+00\n",
            "Epoch 9/10\n",
            "3937/3937 [==============================] - 4s 1ms/step - loss: 4.1329e-04 - accuracy: 0.0000e+00 - val_loss: 0.0122 - val_accuracy: 0.0000e+00\n",
            "Epoch 10/10\n",
            "3937/3937 [==============================] - 4s 1ms/step - loss: 2.7219e-04 - accuracy: 0.0000e+00 - val_loss: 0.0122 - val_accuracy: 0.0000e+00\n",
            "308/308 [==============================] - 0s 796us/step - loss: 0.0122 - accuracy: 0.0000e+00\n",
            "test loss: 0.012248027138411999\n",
            "test accuracy: 0.0\n"
          ],
          "name": "stdout"
        }
      ]
    },
    {
      "cell_type": "code",
      "metadata": {
        "colab": {
          "base_uri": "https://localhost:8080/"
        },
        "id": "WTrgioEe8-eh",
        "outputId": "f2d656ea-cabd-4b3d-faa1-6a8c26b92a82"
      },
      "source": [
        "test_max*0.0122"
      ],
      "execution_count": null,
      "outputs": [
        {
          "output_type": "execute_result",
          "data": {
            "text/plain": [
              "228066.50720000002"
            ]
          },
          "metadata": {
            "tags": []
          },
          "execution_count": 98
        }
      ]
    },
    {
      "cell_type": "markdown",
      "metadata": {
        "id": "zFB8Bv5ms9It"
      },
      "source": [
        "#Перевод y в бинарное число и использование нейронной сети"
      ]
    },
    {
      "cell_type": "code",
      "metadata": {
        "colab": {
          "base_uri": "https://localhost:8080/",
          "height": 439
        },
        "id": "8clrQxhkMpd_",
        "outputId": "0ad49e31-3276-4b5f-81e7-08f6236660d9"
      },
      "source": [
        "d = {'0': [], '1': [], '3': [], \n",
        "     '4': [], '5': [], '6': [], \n",
        "     '7': [], '8': [], '9': [], \n",
        "     '10': [], '11': [], '12': [], \n",
        "     '13': [], '14': [], '15': [], \n",
        "     '16': [], '17': [], '18': [], \n",
        "     '19': [], '20': [], '21': [], \n",
        "     '21': [], '22': [], '23': [], \n",
        "     '24': [], '25': [], '26': [], \n",
        "     '27': [], '28': [], '29': [], \n",
        "     '30': [], '31': [], '32': []}\n",
        "y_vector = pd.DataFrame(data=d)\n",
        "\n",
        "for i, elem in enumerate(y_train):\n",
        "  for el, num in zip(bin(int(elem)).replace(\"0b\", \"\")[::-1], y_vector.columns[::-1]):\n",
        "    y_vector.loc[i,num] = int(el)\n",
        "\n",
        "y_vector.iloc[pd.isnull(y_vector)] = 0\n",
        "\n",
        "y_vector"
      ],
      "execution_count": null,
      "outputs": [
        {
          "output_type": "execute_result",
          "data": {
            "text/html": [
              "<div>\n",
              "<style scoped>\n",
              "    .dataframe tbody tr th:only-of-type {\n",
              "        vertical-align: middle;\n",
              "    }\n",
              "\n",
              "    .dataframe tbody tr th {\n",
              "        vertical-align: top;\n",
              "    }\n",
              "\n",
              "    .dataframe thead th {\n",
              "        text-align: right;\n",
              "    }\n",
              "</style>\n",
              "<table border=\"1\" class=\"dataframe\">\n",
              "  <thead>\n",
              "    <tr style=\"text-align: right;\">\n",
              "      <th></th>\n",
              "      <th>0</th>\n",
              "      <th>1</th>\n",
              "      <th>3</th>\n",
              "      <th>4</th>\n",
              "      <th>5</th>\n",
              "      <th>6</th>\n",
              "      <th>7</th>\n",
              "      <th>8</th>\n",
              "      <th>9</th>\n",
              "      <th>10</th>\n",
              "      <th>11</th>\n",
              "      <th>12</th>\n",
              "      <th>13</th>\n",
              "      <th>14</th>\n",
              "      <th>15</th>\n",
              "      <th>16</th>\n",
              "      <th>17</th>\n",
              "      <th>18</th>\n",
              "      <th>19</th>\n",
              "      <th>20</th>\n",
              "      <th>21</th>\n",
              "      <th>22</th>\n",
              "      <th>23</th>\n",
              "      <th>24</th>\n",
              "      <th>25</th>\n",
              "      <th>26</th>\n",
              "      <th>27</th>\n",
              "      <th>28</th>\n",
              "      <th>29</th>\n",
              "      <th>30</th>\n",
              "      <th>31</th>\n",
              "      <th>32</th>\n",
              "    </tr>\n",
              "  </thead>\n",
              "  <tbody>\n",
              "    <tr>\n",
              "      <th>0</th>\n",
              "      <td>0.0</td>\n",
              "      <td>0.0</td>\n",
              "      <td>0.0</td>\n",
              "      <td>0.0</td>\n",
              "      <td>0.0</td>\n",
              "      <td>0.0</td>\n",
              "      <td>0.0</td>\n",
              "      <td>0.0</td>\n",
              "      <td>0.0</td>\n",
              "      <td>0.0</td>\n",
              "      <td>0.0</td>\n",
              "      <td>0.0</td>\n",
              "      <td>0.0</td>\n",
              "      <td>0.0</td>\n",
              "      <td>0.0</td>\n",
              "      <td>1.0</td>\n",
              "      <td>0.0</td>\n",
              "      <td>1.0</td>\n",
              "      <td>1.0</td>\n",
              "      <td>1.0</td>\n",
              "      <td>1.0</td>\n",
              "      <td>1.0</td>\n",
              "      <td>0.0</td>\n",
              "      <td>0.0</td>\n",
              "      <td>1.0</td>\n",
              "      <td>1.0</td>\n",
              "      <td>1.0</td>\n",
              "      <td>1.0</td>\n",
              "      <td>0.0</td>\n",
              "      <td>0.0</td>\n",
              "      <td>1.0</td>\n",
              "      <td>0.0</td>\n",
              "    </tr>\n",
              "    <tr>\n",
              "      <th>1</th>\n",
              "      <td>0.0</td>\n",
              "      <td>0.0</td>\n",
              "      <td>0.0</td>\n",
              "      <td>0.0</td>\n",
              "      <td>0.0</td>\n",
              "      <td>0.0</td>\n",
              "      <td>0.0</td>\n",
              "      <td>0.0</td>\n",
              "      <td>0.0</td>\n",
              "      <td>0.0</td>\n",
              "      <td>0.0</td>\n",
              "      <td>0.0</td>\n",
              "      <td>0.0</td>\n",
              "      <td>0.0</td>\n",
              "      <td>1.0</td>\n",
              "      <td>0.0</td>\n",
              "      <td>1.0</td>\n",
              "      <td>1.0</td>\n",
              "      <td>1.0</td>\n",
              "      <td>1.0</td>\n",
              "      <td>1.0</td>\n",
              "      <td>0.0</td>\n",
              "      <td>0.0</td>\n",
              "      <td>1.0</td>\n",
              "      <td>1.0</td>\n",
              "      <td>0.0</td>\n",
              "      <td>1.0</td>\n",
              "      <td>1.0</td>\n",
              "      <td>1.0</td>\n",
              "      <td>0.0</td>\n",
              "      <td>0.0</td>\n",
              "      <td>0.0</td>\n",
              "    </tr>\n",
              "    <tr>\n",
              "      <th>2</th>\n",
              "      <td>0.0</td>\n",
              "      <td>0.0</td>\n",
              "      <td>0.0</td>\n",
              "      <td>0.0</td>\n",
              "      <td>0.0</td>\n",
              "      <td>0.0</td>\n",
              "      <td>0.0</td>\n",
              "      <td>0.0</td>\n",
              "      <td>0.0</td>\n",
              "      <td>0.0</td>\n",
              "      <td>0.0</td>\n",
              "      <td>0.0</td>\n",
              "      <td>0.0</td>\n",
              "      <td>0.0</td>\n",
              "      <td>0.0</td>\n",
              "      <td>0.0</td>\n",
              "      <td>0.0</td>\n",
              "      <td>0.0</td>\n",
              "      <td>0.0</td>\n",
              "      <td>0.0</td>\n",
              "      <td>1.0</td>\n",
              "      <td>1.0</td>\n",
              "      <td>0.0</td>\n",
              "      <td>0.0</td>\n",
              "      <td>0.0</td>\n",
              "      <td>0.0</td>\n",
              "      <td>1.0</td>\n",
              "      <td>0.0</td>\n",
              "      <td>1.0</td>\n",
              "      <td>1.0</td>\n",
              "      <td>0.0</td>\n",
              "      <td>1.0</td>\n",
              "    </tr>\n",
              "    <tr>\n",
              "      <th>3</th>\n",
              "      <td>0.0</td>\n",
              "      <td>0.0</td>\n",
              "      <td>0.0</td>\n",
              "      <td>0.0</td>\n",
              "      <td>0.0</td>\n",
              "      <td>0.0</td>\n",
              "      <td>0.0</td>\n",
              "      <td>0.0</td>\n",
              "      <td>0.0</td>\n",
              "      <td>0.0</td>\n",
              "      <td>0.0</td>\n",
              "      <td>0.0</td>\n",
              "      <td>0.0</td>\n",
              "      <td>0.0</td>\n",
              "      <td>0.0</td>\n",
              "      <td>0.0</td>\n",
              "      <td>0.0</td>\n",
              "      <td>0.0</td>\n",
              "      <td>1.0</td>\n",
              "      <td>1.0</td>\n",
              "      <td>1.0</td>\n",
              "      <td>1.0</td>\n",
              "      <td>1.0</td>\n",
              "      <td>0.0</td>\n",
              "      <td>1.0</td>\n",
              "      <td>0.0</td>\n",
              "      <td>0.0</td>\n",
              "      <td>0.0</td>\n",
              "      <td>0.0</td>\n",
              "      <td>0.0</td>\n",
              "      <td>0.0</td>\n",
              "      <td>0.0</td>\n",
              "    </tr>\n",
              "    <tr>\n",
              "      <th>4</th>\n",
              "      <td>0.0</td>\n",
              "      <td>0.0</td>\n",
              "      <td>0.0</td>\n",
              "      <td>0.0</td>\n",
              "      <td>0.0</td>\n",
              "      <td>0.0</td>\n",
              "      <td>0.0</td>\n",
              "      <td>0.0</td>\n",
              "      <td>0.0</td>\n",
              "      <td>0.0</td>\n",
              "      <td>0.0</td>\n",
              "      <td>0.0</td>\n",
              "      <td>0.0</td>\n",
              "      <td>0.0</td>\n",
              "      <td>1.0</td>\n",
              "      <td>0.0</td>\n",
              "      <td>1.0</td>\n",
              "      <td>1.0</td>\n",
              "      <td>1.0</td>\n",
              "      <td>1.0</td>\n",
              "      <td>1.0</td>\n",
              "      <td>0.0</td>\n",
              "      <td>0.0</td>\n",
              "      <td>1.0</td>\n",
              "      <td>1.0</td>\n",
              "      <td>0.0</td>\n",
              "      <td>1.0</td>\n",
              "      <td>1.0</td>\n",
              "      <td>1.0</td>\n",
              "      <td>0.0</td>\n",
              "      <td>0.0</td>\n",
              "      <td>0.0</td>\n",
              "    </tr>\n",
              "    <tr>\n",
              "      <th>...</th>\n",
              "      <td>...</td>\n",
              "      <td>...</td>\n",
              "      <td>...</td>\n",
              "      <td>...</td>\n",
              "      <td>...</td>\n",
              "      <td>...</td>\n",
              "      <td>...</td>\n",
              "      <td>...</td>\n",
              "      <td>...</td>\n",
              "      <td>...</td>\n",
              "      <td>...</td>\n",
              "      <td>...</td>\n",
              "      <td>...</td>\n",
              "      <td>...</td>\n",
              "      <td>...</td>\n",
              "      <td>...</td>\n",
              "      <td>...</td>\n",
              "      <td>...</td>\n",
              "      <td>...</td>\n",
              "      <td>...</td>\n",
              "      <td>...</td>\n",
              "      <td>...</td>\n",
              "      <td>...</td>\n",
              "      <td>...</td>\n",
              "      <td>...</td>\n",
              "      <td>...</td>\n",
              "      <td>...</td>\n",
              "      <td>...</td>\n",
              "      <td>...</td>\n",
              "      <td>...</td>\n",
              "      <td>...</td>\n",
              "      <td>...</td>\n",
              "    </tr>\n",
              "    <tr>\n",
              "      <th>39358</th>\n",
              "      <td>0.0</td>\n",
              "      <td>0.0</td>\n",
              "      <td>0.0</td>\n",
              "      <td>0.0</td>\n",
              "      <td>0.0</td>\n",
              "      <td>0.0</td>\n",
              "      <td>0.0</td>\n",
              "      <td>0.0</td>\n",
              "      <td>0.0</td>\n",
              "      <td>0.0</td>\n",
              "      <td>0.0</td>\n",
              "      <td>0.0</td>\n",
              "      <td>0.0</td>\n",
              "      <td>1.0</td>\n",
              "      <td>0.0</td>\n",
              "      <td>0.0</td>\n",
              "      <td>0.0</td>\n",
              "      <td>0.0</td>\n",
              "      <td>0.0</td>\n",
              "      <td>1.0</td>\n",
              "      <td>1.0</td>\n",
              "      <td>1.0</td>\n",
              "      <td>1.0</td>\n",
              "      <td>1.0</td>\n",
              "      <td>0.0</td>\n",
              "      <td>1.0</td>\n",
              "      <td>1.0</td>\n",
              "      <td>0.0</td>\n",
              "      <td>1.0</td>\n",
              "      <td>1.0</td>\n",
              "      <td>0.0</td>\n",
              "      <td>0.0</td>\n",
              "    </tr>\n",
              "    <tr>\n",
              "      <th>39359</th>\n",
              "      <td>0.0</td>\n",
              "      <td>0.0</td>\n",
              "      <td>0.0</td>\n",
              "      <td>0.0</td>\n",
              "      <td>0.0</td>\n",
              "      <td>0.0</td>\n",
              "      <td>0.0</td>\n",
              "      <td>0.0</td>\n",
              "      <td>0.0</td>\n",
              "      <td>0.0</td>\n",
              "      <td>0.0</td>\n",
              "      <td>0.0</td>\n",
              "      <td>0.0</td>\n",
              "      <td>1.0</td>\n",
              "      <td>1.0</td>\n",
              "      <td>0.0</td>\n",
              "      <td>1.0</td>\n",
              "      <td>0.0</td>\n",
              "      <td>0.0</td>\n",
              "      <td>1.0</td>\n",
              "      <td>1.0</td>\n",
              "      <td>0.0</td>\n",
              "      <td>1.0</td>\n",
              "      <td>0.0</td>\n",
              "      <td>1.0</td>\n",
              "      <td>1.0</td>\n",
              "      <td>0.0</td>\n",
              "      <td>0.0</td>\n",
              "      <td>1.0</td>\n",
              "      <td>0.0</td>\n",
              "      <td>0.0</td>\n",
              "      <td>0.0</td>\n",
              "    </tr>\n",
              "    <tr>\n",
              "      <th>39360</th>\n",
              "      <td>0.0</td>\n",
              "      <td>0.0</td>\n",
              "      <td>0.0</td>\n",
              "      <td>0.0</td>\n",
              "      <td>0.0</td>\n",
              "      <td>0.0</td>\n",
              "      <td>0.0</td>\n",
              "      <td>0.0</td>\n",
              "      <td>0.0</td>\n",
              "      <td>0.0</td>\n",
              "      <td>0.0</td>\n",
              "      <td>0.0</td>\n",
              "      <td>0.0</td>\n",
              "      <td>0.0</td>\n",
              "      <td>0.0</td>\n",
              "      <td>0.0</td>\n",
              "      <td>1.0</td>\n",
              "      <td>0.0</td>\n",
              "      <td>0.0</td>\n",
              "      <td>1.0</td>\n",
              "      <td>0.0</td>\n",
              "      <td>0.0</td>\n",
              "      <td>1.0</td>\n",
              "      <td>0.0</td>\n",
              "      <td>0.0</td>\n",
              "      <td>1.0</td>\n",
              "      <td>1.0</td>\n",
              "      <td>1.0</td>\n",
              "      <td>1.0</td>\n",
              "      <td>1.0</td>\n",
              "      <td>0.0</td>\n",
              "      <td>0.0</td>\n",
              "    </tr>\n",
              "    <tr>\n",
              "      <th>39361</th>\n",
              "      <td>0.0</td>\n",
              "      <td>0.0</td>\n",
              "      <td>0.0</td>\n",
              "      <td>0.0</td>\n",
              "      <td>0.0</td>\n",
              "      <td>0.0</td>\n",
              "      <td>0.0</td>\n",
              "      <td>0.0</td>\n",
              "      <td>0.0</td>\n",
              "      <td>0.0</td>\n",
              "      <td>0.0</td>\n",
              "      <td>0.0</td>\n",
              "      <td>0.0</td>\n",
              "      <td>0.0</td>\n",
              "      <td>0.0</td>\n",
              "      <td>0.0</td>\n",
              "      <td>1.0</td>\n",
              "      <td>0.0</td>\n",
              "      <td>0.0</td>\n",
              "      <td>1.0</td>\n",
              "      <td>0.0</td>\n",
              "      <td>0.0</td>\n",
              "      <td>1.0</td>\n",
              "      <td>0.0</td>\n",
              "      <td>0.0</td>\n",
              "      <td>1.0</td>\n",
              "      <td>1.0</td>\n",
              "      <td>1.0</td>\n",
              "      <td>1.0</td>\n",
              "      <td>1.0</td>\n",
              "      <td>0.0</td>\n",
              "      <td>0.0</td>\n",
              "    </tr>\n",
              "    <tr>\n",
              "      <th>39362</th>\n",
              "      <td>0.0</td>\n",
              "      <td>0.0</td>\n",
              "      <td>0.0</td>\n",
              "      <td>0.0</td>\n",
              "      <td>0.0</td>\n",
              "      <td>0.0</td>\n",
              "      <td>0.0</td>\n",
              "      <td>0.0</td>\n",
              "      <td>0.0</td>\n",
              "      <td>0.0</td>\n",
              "      <td>0.0</td>\n",
              "      <td>0.0</td>\n",
              "      <td>0.0</td>\n",
              "      <td>1.0</td>\n",
              "      <td>1.0</td>\n",
              "      <td>1.0</td>\n",
              "      <td>1.0</td>\n",
              "      <td>1.0</td>\n",
              "      <td>0.0</td>\n",
              "      <td>0.0</td>\n",
              "      <td>1.0</td>\n",
              "      <td>1.0</td>\n",
              "      <td>1.0</td>\n",
              "      <td>0.0</td>\n",
              "      <td>1.0</td>\n",
              "      <td>0.0</td>\n",
              "      <td>0.0</td>\n",
              "      <td>1.0</td>\n",
              "      <td>1.0</td>\n",
              "      <td>1.0</td>\n",
              "      <td>1.0</td>\n",
              "      <td>1.0</td>\n",
              "    </tr>\n",
              "  </tbody>\n",
              "</table>\n",
              "<p>39363 rows × 32 columns</p>\n",
              "</div>"
            ],
            "text/plain": [
              "         0    1    3    4    5    6    7  ...   26   27   28   29   30   31   32\n",
              "0      0.0  0.0  0.0  0.0  0.0  0.0  0.0  ...  1.0  1.0  1.0  0.0  0.0  1.0  0.0\n",
              "1      0.0  0.0  0.0  0.0  0.0  0.0  0.0  ...  0.0  1.0  1.0  1.0  0.0  0.0  0.0\n",
              "2      0.0  0.0  0.0  0.0  0.0  0.0  0.0  ...  0.0  1.0  0.0  1.0  1.0  0.0  1.0\n",
              "3      0.0  0.0  0.0  0.0  0.0  0.0  0.0  ...  0.0  0.0  0.0  0.0  0.0  0.0  0.0\n",
              "4      0.0  0.0  0.0  0.0  0.0  0.0  0.0  ...  0.0  1.0  1.0  1.0  0.0  0.0  0.0\n",
              "...    ...  ...  ...  ...  ...  ...  ...  ...  ...  ...  ...  ...  ...  ...  ...\n",
              "39358  0.0  0.0  0.0  0.0  0.0  0.0  0.0  ...  1.0  1.0  0.0  1.0  1.0  0.0  0.0\n",
              "39359  0.0  0.0  0.0  0.0  0.0  0.0  0.0  ...  1.0  0.0  0.0  1.0  0.0  0.0  0.0\n",
              "39360  0.0  0.0  0.0  0.0  0.0  0.0  0.0  ...  1.0  1.0  1.0  1.0  1.0  0.0  0.0\n",
              "39361  0.0  0.0  0.0  0.0  0.0  0.0  0.0  ...  1.0  1.0  1.0  1.0  1.0  0.0  0.0\n",
              "39362  0.0  0.0  0.0  0.0  0.0  0.0  0.0  ...  0.0  0.0  1.0  1.0  1.0  1.0  1.0\n",
              "\n",
              "[39363 rows x 32 columns]"
            ]
          },
          "metadata": {
            "tags": []
          },
          "execution_count": 24
        }
      ]
    },
    {
      "cell_type": "code",
      "metadata": {
        "colab": {
          "base_uri": "https://localhost:8080/",
          "height": 439
        },
        "id": "vZ98zNqvtSoA",
        "outputId": "438abb40-fab0-4ff6-fb4b-b795c6e4c8c5"
      },
      "source": [
        "y_vector_test = pd.DataFrame(data=d)\n",
        "\n",
        "for i, elem in enumerate(y_test):\n",
        "  for el, num in zip(bin(int(elem)).replace(\"0b\", \"\")[::-1], y_vector_test.columns[::-1]):\n",
        "    y_vector_test.loc[i,num] = int(el)\n",
        "\n",
        "y_vector_test.iloc[pd.isnull(y_vector_test)] = 0\n",
        "\n",
        "y_vector_test"
      ],
      "execution_count": null,
      "outputs": [
        {
          "output_type": "execute_result",
          "data": {
            "text/html": [
              "<div>\n",
              "<style scoped>\n",
              "    .dataframe tbody tr th:only-of-type {\n",
              "        vertical-align: middle;\n",
              "    }\n",
              "\n",
              "    .dataframe tbody tr th {\n",
              "        vertical-align: top;\n",
              "    }\n",
              "\n",
              "    .dataframe thead th {\n",
              "        text-align: right;\n",
              "    }\n",
              "</style>\n",
              "<table border=\"1\" class=\"dataframe\">\n",
              "  <thead>\n",
              "    <tr style=\"text-align: right;\">\n",
              "      <th></th>\n",
              "      <th>0</th>\n",
              "      <th>1</th>\n",
              "      <th>3</th>\n",
              "      <th>4</th>\n",
              "      <th>5</th>\n",
              "      <th>6</th>\n",
              "      <th>7</th>\n",
              "      <th>8</th>\n",
              "      <th>9</th>\n",
              "      <th>10</th>\n",
              "      <th>11</th>\n",
              "      <th>12</th>\n",
              "      <th>13</th>\n",
              "      <th>14</th>\n",
              "      <th>15</th>\n",
              "      <th>16</th>\n",
              "      <th>17</th>\n",
              "      <th>18</th>\n",
              "      <th>19</th>\n",
              "      <th>20</th>\n",
              "      <th>21</th>\n",
              "      <th>22</th>\n",
              "      <th>23</th>\n",
              "      <th>24</th>\n",
              "      <th>25</th>\n",
              "      <th>26</th>\n",
              "      <th>27</th>\n",
              "      <th>28</th>\n",
              "      <th>29</th>\n",
              "      <th>30</th>\n",
              "      <th>31</th>\n",
              "      <th>32</th>\n",
              "    </tr>\n",
              "  </thead>\n",
              "  <tbody>\n",
              "    <tr>\n",
              "      <th>0</th>\n",
              "      <td>0.0</td>\n",
              "      <td>0.0</td>\n",
              "      <td>0.0</td>\n",
              "      <td>0.0</td>\n",
              "      <td>0.0</td>\n",
              "      <td>0.0</td>\n",
              "      <td>0.0</td>\n",
              "      <td>0.0</td>\n",
              "      <td>0.0</td>\n",
              "      <td>0.0</td>\n",
              "      <td>0.0</td>\n",
              "      <td>0.0</td>\n",
              "      <td>0.0</td>\n",
              "      <td>0.0</td>\n",
              "      <td>0.0</td>\n",
              "      <td>1.0</td>\n",
              "      <td>0.0</td>\n",
              "      <td>0.0</td>\n",
              "      <td>0.0</td>\n",
              "      <td>0.0</td>\n",
              "      <td>1.0</td>\n",
              "      <td>0.0</td>\n",
              "      <td>0.0</td>\n",
              "      <td>0.0</td>\n",
              "      <td>1.0</td>\n",
              "      <td>1.0</td>\n",
              "      <td>1.0</td>\n",
              "      <td>0.0</td>\n",
              "      <td>0.0</td>\n",
              "      <td>0.0</td>\n",
              "      <td>1.0</td>\n",
              "      <td>0.0</td>\n",
              "    </tr>\n",
              "    <tr>\n",
              "      <th>1</th>\n",
              "      <td>0.0</td>\n",
              "      <td>0.0</td>\n",
              "      <td>0.0</td>\n",
              "      <td>0.0</td>\n",
              "      <td>0.0</td>\n",
              "      <td>0.0</td>\n",
              "      <td>0.0</td>\n",
              "      <td>0.0</td>\n",
              "      <td>0.0</td>\n",
              "      <td>0.0</td>\n",
              "      <td>0.0</td>\n",
              "      <td>0.0</td>\n",
              "      <td>0.0</td>\n",
              "      <td>0.0</td>\n",
              "      <td>0.0</td>\n",
              "      <td>1.0</td>\n",
              "      <td>1.0</td>\n",
              "      <td>0.0</td>\n",
              "      <td>1.0</td>\n",
              "      <td>0.0</td>\n",
              "      <td>0.0</td>\n",
              "      <td>1.0</td>\n",
              "      <td>1.0</td>\n",
              "      <td>0.0</td>\n",
              "      <td>0.0</td>\n",
              "      <td>0.0</td>\n",
              "      <td>0.0</td>\n",
              "      <td>1.0</td>\n",
              "      <td>1.0</td>\n",
              "      <td>0.0</td>\n",
              "      <td>0.0</td>\n",
              "      <td>1.0</td>\n",
              "    </tr>\n",
              "    <tr>\n",
              "      <th>2</th>\n",
              "      <td>0.0</td>\n",
              "      <td>0.0</td>\n",
              "      <td>0.0</td>\n",
              "      <td>0.0</td>\n",
              "      <td>0.0</td>\n",
              "      <td>0.0</td>\n",
              "      <td>0.0</td>\n",
              "      <td>0.0</td>\n",
              "      <td>0.0</td>\n",
              "      <td>0.0</td>\n",
              "      <td>0.0</td>\n",
              "      <td>0.0</td>\n",
              "      <td>0.0</td>\n",
              "      <td>0.0</td>\n",
              "      <td>1.0</td>\n",
              "      <td>0.0</td>\n",
              "      <td>0.0</td>\n",
              "      <td>0.0</td>\n",
              "      <td>0.0</td>\n",
              "      <td>1.0</td>\n",
              "      <td>1.0</td>\n",
              "      <td>1.0</td>\n",
              "      <td>1.0</td>\n",
              "      <td>0.0</td>\n",
              "      <td>1.0</td>\n",
              "      <td>0.0</td>\n",
              "      <td>1.0</td>\n",
              "      <td>1.0</td>\n",
              "      <td>0.0</td>\n",
              "      <td>0.0</td>\n",
              "      <td>1.0</td>\n",
              "      <td>1.0</td>\n",
              "    </tr>\n",
              "    <tr>\n",
              "      <th>3</th>\n",
              "      <td>0.0</td>\n",
              "      <td>0.0</td>\n",
              "      <td>0.0</td>\n",
              "      <td>0.0</td>\n",
              "      <td>0.0</td>\n",
              "      <td>0.0</td>\n",
              "      <td>0.0</td>\n",
              "      <td>0.0</td>\n",
              "      <td>0.0</td>\n",
              "      <td>0.0</td>\n",
              "      <td>0.0</td>\n",
              "      <td>0.0</td>\n",
              "      <td>0.0</td>\n",
              "      <td>0.0</td>\n",
              "      <td>0.0</td>\n",
              "      <td>1.0</td>\n",
              "      <td>0.0</td>\n",
              "      <td>0.0</td>\n",
              "      <td>0.0</td>\n",
              "      <td>0.0</td>\n",
              "      <td>1.0</td>\n",
              "      <td>1.0</td>\n",
              "      <td>1.0</td>\n",
              "      <td>1.0</td>\n",
              "      <td>0.0</td>\n",
              "      <td>1.0</td>\n",
              "      <td>0.0</td>\n",
              "      <td>1.0</td>\n",
              "      <td>1.0</td>\n",
              "      <td>0.0</td>\n",
              "      <td>0.0</td>\n",
              "      <td>1.0</td>\n",
              "    </tr>\n",
              "    <tr>\n",
              "      <th>4</th>\n",
              "      <td>0.0</td>\n",
              "      <td>0.0</td>\n",
              "      <td>0.0</td>\n",
              "      <td>0.0</td>\n",
              "      <td>0.0</td>\n",
              "      <td>0.0</td>\n",
              "      <td>0.0</td>\n",
              "      <td>0.0</td>\n",
              "      <td>0.0</td>\n",
              "      <td>0.0</td>\n",
              "      <td>0.0</td>\n",
              "      <td>0.0</td>\n",
              "      <td>0.0</td>\n",
              "      <td>0.0</td>\n",
              "      <td>0.0</td>\n",
              "      <td>0.0</td>\n",
              "      <td>1.0</td>\n",
              "      <td>0.0</td>\n",
              "      <td>0.0</td>\n",
              "      <td>0.0</td>\n",
              "      <td>1.0</td>\n",
              "      <td>1.0</td>\n",
              "      <td>0.0</td>\n",
              "      <td>0.0</td>\n",
              "      <td>0.0</td>\n",
              "      <td>0.0</td>\n",
              "      <td>0.0</td>\n",
              "      <td>1.0</td>\n",
              "      <td>1.0</td>\n",
              "      <td>0.0</td>\n",
              "      <td>0.0</td>\n",
              "      <td>1.0</td>\n",
              "    </tr>\n",
              "    <tr>\n",
              "      <th>...</th>\n",
              "      <td>...</td>\n",
              "      <td>...</td>\n",
              "      <td>...</td>\n",
              "      <td>...</td>\n",
              "      <td>...</td>\n",
              "      <td>...</td>\n",
              "      <td>...</td>\n",
              "      <td>...</td>\n",
              "      <td>...</td>\n",
              "      <td>...</td>\n",
              "      <td>...</td>\n",
              "      <td>...</td>\n",
              "      <td>...</td>\n",
              "      <td>...</td>\n",
              "      <td>...</td>\n",
              "      <td>...</td>\n",
              "      <td>...</td>\n",
              "      <td>...</td>\n",
              "      <td>...</td>\n",
              "      <td>...</td>\n",
              "      <td>...</td>\n",
              "      <td>...</td>\n",
              "      <td>...</td>\n",
              "      <td>...</td>\n",
              "      <td>...</td>\n",
              "      <td>...</td>\n",
              "      <td>...</td>\n",
              "      <td>...</td>\n",
              "      <td>...</td>\n",
              "      <td>...</td>\n",
              "      <td>...</td>\n",
              "      <td>...</td>\n",
              "    </tr>\n",
              "    <tr>\n",
              "      <th>9836</th>\n",
              "      <td>0.0</td>\n",
              "      <td>0.0</td>\n",
              "      <td>0.0</td>\n",
              "      <td>0.0</td>\n",
              "      <td>0.0</td>\n",
              "      <td>0.0</td>\n",
              "      <td>0.0</td>\n",
              "      <td>0.0</td>\n",
              "      <td>0.0</td>\n",
              "      <td>0.0</td>\n",
              "      <td>0.0</td>\n",
              "      <td>0.0</td>\n",
              "      <td>0.0</td>\n",
              "      <td>0.0</td>\n",
              "      <td>1.0</td>\n",
              "      <td>1.0</td>\n",
              "      <td>0.0</td>\n",
              "      <td>0.0</td>\n",
              "      <td>0.0</td>\n",
              "      <td>0.0</td>\n",
              "      <td>1.0</td>\n",
              "      <td>1.0</td>\n",
              "      <td>0.0</td>\n",
              "      <td>1.0</td>\n",
              "      <td>0.0</td>\n",
              "      <td>1.0</td>\n",
              "      <td>0.0</td>\n",
              "      <td>0.0</td>\n",
              "      <td>0.0</td>\n",
              "      <td>0.0</td>\n",
              "      <td>0.0</td>\n",
              "      <td>0.0</td>\n",
              "    </tr>\n",
              "    <tr>\n",
              "      <th>9837</th>\n",
              "      <td>0.0</td>\n",
              "      <td>0.0</td>\n",
              "      <td>0.0</td>\n",
              "      <td>0.0</td>\n",
              "      <td>0.0</td>\n",
              "      <td>0.0</td>\n",
              "      <td>0.0</td>\n",
              "      <td>0.0</td>\n",
              "      <td>0.0</td>\n",
              "      <td>0.0</td>\n",
              "      <td>0.0</td>\n",
              "      <td>0.0</td>\n",
              "      <td>0.0</td>\n",
              "      <td>0.0</td>\n",
              "      <td>1.0</td>\n",
              "      <td>1.0</td>\n",
              "      <td>0.0</td>\n",
              "      <td>0.0</td>\n",
              "      <td>0.0</td>\n",
              "      <td>0.0</td>\n",
              "      <td>1.0</td>\n",
              "      <td>1.0</td>\n",
              "      <td>0.0</td>\n",
              "      <td>1.0</td>\n",
              "      <td>0.0</td>\n",
              "      <td>1.0</td>\n",
              "      <td>0.0</td>\n",
              "      <td>0.0</td>\n",
              "      <td>0.0</td>\n",
              "      <td>0.0</td>\n",
              "      <td>0.0</td>\n",
              "      <td>0.0</td>\n",
              "    </tr>\n",
              "    <tr>\n",
              "      <th>9838</th>\n",
              "      <td>0.0</td>\n",
              "      <td>0.0</td>\n",
              "      <td>0.0</td>\n",
              "      <td>0.0</td>\n",
              "      <td>0.0</td>\n",
              "      <td>0.0</td>\n",
              "      <td>0.0</td>\n",
              "      <td>0.0</td>\n",
              "      <td>0.0</td>\n",
              "      <td>0.0</td>\n",
              "      <td>0.0</td>\n",
              "      <td>0.0</td>\n",
              "      <td>0.0</td>\n",
              "      <td>0.0</td>\n",
              "      <td>1.0</td>\n",
              "      <td>1.0</td>\n",
              "      <td>0.0</td>\n",
              "      <td>0.0</td>\n",
              "      <td>0.0</td>\n",
              "      <td>0.0</td>\n",
              "      <td>1.0</td>\n",
              "      <td>1.0</td>\n",
              "      <td>0.0</td>\n",
              "      <td>1.0</td>\n",
              "      <td>0.0</td>\n",
              "      <td>1.0</td>\n",
              "      <td>0.0</td>\n",
              "      <td>0.0</td>\n",
              "      <td>0.0</td>\n",
              "      <td>0.0</td>\n",
              "      <td>0.0</td>\n",
              "      <td>0.0</td>\n",
              "    </tr>\n",
              "    <tr>\n",
              "      <th>9839</th>\n",
              "      <td>0.0</td>\n",
              "      <td>0.0</td>\n",
              "      <td>0.0</td>\n",
              "      <td>0.0</td>\n",
              "      <td>0.0</td>\n",
              "      <td>0.0</td>\n",
              "      <td>0.0</td>\n",
              "      <td>0.0</td>\n",
              "      <td>0.0</td>\n",
              "      <td>0.0</td>\n",
              "      <td>0.0</td>\n",
              "      <td>0.0</td>\n",
              "      <td>0.0</td>\n",
              "      <td>0.0</td>\n",
              "      <td>1.0</td>\n",
              "      <td>1.0</td>\n",
              "      <td>0.0</td>\n",
              "      <td>0.0</td>\n",
              "      <td>0.0</td>\n",
              "      <td>0.0</td>\n",
              "      <td>1.0</td>\n",
              "      <td>1.0</td>\n",
              "      <td>0.0</td>\n",
              "      <td>1.0</td>\n",
              "      <td>0.0</td>\n",
              "      <td>1.0</td>\n",
              "      <td>0.0</td>\n",
              "      <td>0.0</td>\n",
              "      <td>0.0</td>\n",
              "      <td>0.0</td>\n",
              "      <td>0.0</td>\n",
              "      <td>0.0</td>\n",
              "    </tr>\n",
              "    <tr>\n",
              "      <th>9840</th>\n",
              "      <td>0.0</td>\n",
              "      <td>0.0</td>\n",
              "      <td>0.0</td>\n",
              "      <td>0.0</td>\n",
              "      <td>0.0</td>\n",
              "      <td>0.0</td>\n",
              "      <td>0.0</td>\n",
              "      <td>0.0</td>\n",
              "      <td>0.0</td>\n",
              "      <td>0.0</td>\n",
              "      <td>0.0</td>\n",
              "      <td>0.0</td>\n",
              "      <td>0.0</td>\n",
              "      <td>0.0</td>\n",
              "      <td>1.0</td>\n",
              "      <td>1.0</td>\n",
              "      <td>0.0</td>\n",
              "      <td>0.0</td>\n",
              "      <td>0.0</td>\n",
              "      <td>0.0</td>\n",
              "      <td>1.0</td>\n",
              "      <td>1.0</td>\n",
              "      <td>0.0</td>\n",
              "      <td>1.0</td>\n",
              "      <td>0.0</td>\n",
              "      <td>1.0</td>\n",
              "      <td>0.0</td>\n",
              "      <td>0.0</td>\n",
              "      <td>0.0</td>\n",
              "      <td>0.0</td>\n",
              "      <td>0.0</td>\n",
              "      <td>0.0</td>\n",
              "    </tr>\n",
              "  </tbody>\n",
              "</table>\n",
              "<p>9841 rows × 32 columns</p>\n",
              "</div>"
            ],
            "text/plain": [
              "        0    1    3    4    5    6    7  ...   26   27   28   29   30   31   32\n",
              "0     0.0  0.0  0.0  0.0  0.0  0.0  0.0  ...  1.0  1.0  0.0  0.0  0.0  1.0  0.0\n",
              "1     0.0  0.0  0.0  0.0  0.0  0.0  0.0  ...  0.0  0.0  1.0  1.0  0.0  0.0  1.0\n",
              "2     0.0  0.0  0.0  0.0  0.0  0.0  0.0  ...  0.0  1.0  1.0  0.0  0.0  1.0  1.0\n",
              "3     0.0  0.0  0.0  0.0  0.0  0.0  0.0  ...  1.0  0.0  1.0  1.0  0.0  0.0  1.0\n",
              "4     0.0  0.0  0.0  0.0  0.0  0.0  0.0  ...  0.0  0.0  1.0  1.0  0.0  0.0  1.0\n",
              "...   ...  ...  ...  ...  ...  ...  ...  ...  ...  ...  ...  ...  ...  ...  ...\n",
              "9836  0.0  0.0  0.0  0.0  0.0  0.0  0.0  ...  1.0  0.0  0.0  0.0  0.0  0.0  0.0\n",
              "9837  0.0  0.0  0.0  0.0  0.0  0.0  0.0  ...  1.0  0.0  0.0  0.0  0.0  0.0  0.0\n",
              "9838  0.0  0.0  0.0  0.0  0.0  0.0  0.0  ...  1.0  0.0  0.0  0.0  0.0  0.0  0.0\n",
              "9839  0.0  0.0  0.0  0.0  0.0  0.0  0.0  ...  1.0  0.0  0.0  0.0  0.0  0.0  0.0\n",
              "9840  0.0  0.0  0.0  0.0  0.0  0.0  0.0  ...  1.0  0.0  0.0  0.0  0.0  0.0  0.0\n",
              "\n",
              "[9841 rows x 32 columns]"
            ]
          },
          "metadata": {
            "tags": []
          },
          "execution_count": 25
        }
      ]
    },
    {
      "cell_type": "code",
      "metadata": {
        "id": "rhoaRbp7shzH"
      },
      "source": [
        "batch_size = 10\n",
        "epochs = 10\n",
        "learning_rate = 0.01\n",
        "\n",
        "loss = \"categorical_crossentropy\"\n",
        "optimizer = optimizers.Adam(lr = learning_rate)"
      ],
      "execution_count": null,
      "outputs": []
    },
    {
      "cell_type": "code",
      "metadata": {
        "colab": {
          "base_uri": "https://localhost:8080/"
        },
        "id": "9yF6PGEcskc2",
        "outputId": "452bcba2-7f29-4059-d342-87c17c2ab141"
      },
      "source": [
        "model = Sequential()\n",
        "model.add(Dense(units = 40, activation = \"sigmoid\", input_dim=8, use_bias=False))\n",
        "model.add(Dense(units = 40, activation = \"sigmoid\", use_bias=False))\n",
        "model.add(Dense(units = 40, activation = \"relu\", use_bias=False))\n",
        "model.add(Dense(units = 32,  activation = \"softmax\"))\n",
        "\n",
        "model.compile(loss = loss,\n",
        "              optimizer = optimizer,\n",
        "              metrics = [\"accuracy\"])\n",
        "\n",
        "model.summary()"
      ],
      "execution_count": null,
      "outputs": [
        {
          "output_type": "stream",
          "text": [
            "Model: \"sequential_16\"\n",
            "_________________________________________________________________\n",
            "Layer (type)                 Output Shape              Param #   \n",
            "=================================================================\n",
            "dense_94 (Dense)             (None, 40)                320       \n",
            "_________________________________________________________________\n",
            "dense_95 (Dense)             (None, 40)                1600      \n",
            "_________________________________________________________________\n",
            "dense_96 (Dense)             (None, 40)                1600      \n",
            "_________________________________________________________________\n",
            "dense_97 (Dense)             (None, 32)                1312      \n",
            "=================================================================\n",
            "Total params: 4,832\n",
            "Trainable params: 4,832\n",
            "Non-trainable params: 0\n",
            "_________________________________________________________________\n"
          ],
          "name": "stdout"
        }
      ]
    },
    {
      "cell_type": "code",
      "metadata": {
        "id": "CFPXyTT5syVv",
        "colab": {
          "base_uri": "https://localhost:8080/"
        },
        "outputId": "1855cce6-de36-46b8-91f7-5a4cd90de3fe"
      },
      "source": [
        "history = model.fit(x_train,y_vector,\n",
        "                    epochs = epochs,\n",
        "                    batch_size = batch_size,\n",
        "                    verbose = 1,\n",
        "                    validation_data = (x_test,y_vector_test),\n",
        "                    callbacks=None)\n",
        "\n",
        "score = model.evaluate(x_test,y_vector_test,verbose = 1)\n",
        "print(\"test loss:\",score[0])\n",
        "print(\"test accuracy:\",score[1])"
      ],
      "execution_count": null,
      "outputs": [
        {
          "output_type": "stream",
          "text": [
            "Epoch 1/10\n",
            "3937/3937 [==============================] - 14s 4ms/step - loss: 17293.9169 - accuracy: 0.0260 - val_loss: 63798.8242 - val_accuracy: 0.0774\n",
            "Epoch 2/10\n",
            "3937/3937 [==============================] - 13s 3ms/step - loss: 177803.2954 - accuracy: 0.0302 - val_loss: 204401.4531 - val_accuracy: 0.1871\n",
            "Epoch 3/10\n",
            "3937/3937 [==============================] - 14s 3ms/step - loss: 469587.6580 - accuracy: 0.0288 - val_loss: 400185.2188 - val_accuracy: 0.0101\n",
            "Epoch 4/10\n",
            "3937/3937 [==============================] - 13s 3ms/step - loss: 866692.7593 - accuracy: 0.0308 - val_loss: 661641.0000 - val_accuracy: 0.0047\n",
            "Epoch 5/10\n",
            "3937/3937 [==============================] - 13s 3ms/step - loss: 1392773.4147 - accuracy: 0.0327 - val_loss: 972148.0000 - val_accuracy: 0.1871\n",
            "Epoch 6/10\n",
            "3937/3937 [==============================] - 13s 3ms/step - loss: 2018974.4656 - accuracy: 0.0314 - val_loss: 1361612.2500 - val_accuracy: 0.0000e+00\n",
            "Epoch 7/10\n",
            "3937/3937 [==============================] - 13s 3ms/step - loss: 2794708.9561 - accuracy: 0.0319 - val_loss: 1792697.0000 - val_accuracy: 0.0000e+00\n",
            "Epoch 8/10\n",
            "3937/3937 [==============================] - 13s 3ms/step - loss: 3715212.5206 - accuracy: 0.0308 - val_loss: 2290235.5000 - val_accuracy: 0.0017\n",
            "Epoch 9/10\n",
            "3937/3937 [==============================] - 13s 3ms/step - loss: 4566898.8677 - accuracy: 0.0324 - val_loss: 2838757.2500 - val_accuracy: 7.1131e-04\n",
            "Epoch 10/10\n",
            "3937/3937 [==============================] - 13s 3ms/step - loss: 5642446.1755 - accuracy: 0.0326 - val_loss: 3444523.0000 - val_accuracy: 0.0609\n",
            "308/308 [==============================] - 1s 3ms/step - loss: 3444523.7500 - accuracy: 0.0609\n",
            "test loss: 3444523.75\n",
            "test accuracy: 0.0608677975833416\n"
          ],
          "name": "stdout"
        }
      ]
    },
    {
      "cell_type": "code",
      "metadata": {
        "colab": {
          "base_uri": "https://localhost:8080/"
        },
        "id": "buBXN8mIktKd",
        "outputId": "f9456841-3741-441f-e395-a20825f0e688"
      },
      "source": [
        "#RMSprop\n",
        "bin_error(model.predict(x_test), y_test)\n",
        "print(get_num(model.predict(x_test))[5])\n",
        "y_test[5]"
      ],
      "execution_count": null,
      "outputs": [
        {
          "output_type": "stream",
          "text": [
            "R2: 0.0\n",
            "MAE: 9315950148213.297\n",
            "MSE: 8.231893155364395e+19\n",
            "RMSE: 9072978097.275665\n",
            "256.0\n"
          ],
          "name": "stdout"
        },
        {
          "output_type": "execute_result",
          "data": {
            "text/plain": [
              "46751.84"
            ]
          },
          "metadata": {
            "tags": []
          },
          "execution_count": 90
        }
      ]
    },
    {
      "cell_type": "code",
      "metadata": {
        "colab": {
          "base_uri": "https://localhost:8080/"
        },
        "id": "1IxepTQ39Z8C",
        "outputId": "5b345820-b916-4e20-bb72-273a78fcf500"
      },
      "source": [
        "#Adam\n",
        "bin_error(model.predict(x_test), y_test)\n",
        "print(get_num(model.predict(x_test))[5])\n",
        "y_test[5]"
      ],
      "execution_count": null,
      "outputs": [
        {
          "output_type": "stream",
          "text": [
            "R2: 0.0\n",
            "MAE: 9245948137952.672\n",
            "MSE: 8.22476608373097e+19\n",
            "RMSE: 9069049610.477919\n",
            "4096.0\n"
          ],
          "name": "stdout"
        },
        {
          "output_type": "execute_result",
          "data": {
            "text/plain": [
              "46751.84"
            ]
          },
          "metadata": {
            "tags": []
          },
          "execution_count": 96
        }
      ]
    },
    {
      "cell_type": "code",
      "metadata": {
        "id": "TwV3kVgugYXG"
      },
      "source": [
        "def get_num(bin_pred):\n",
        "  y_pred = np.array([])\n",
        "  for pred in bin_pred:\n",
        "    y_pred = np.concatenate((y_pred, [int(np.array2string(pred.astype('int'), separator = '').replace(\"[\", \"\").replace(\"]\", \"\"), 2)]), axis=0)\n",
        "  return y_pred\n",
        "\n",
        "def bin_error(bin_pred, y_test):\n",
        "  y_pred = get_num(bin_pred)\n",
        "  error = np.absolute(y_pred - y_test) * test_max\n",
        "  mae = np.sum(error) / len(error)\n",
        "  error = ((y_pred - y_test)**2) * test_max\n",
        "  mse = np.sum(error) / len(error)\n",
        "  print(\"R2:\", metrics.r2_score(y_pred, y_test))\n",
        "  print(\"MAE:\", mae) #абсолютная ошибка (MAE)\n",
        "  print(\"MSE:\", mse) #среднеквадратичная ошибка (MSE)\n",
        "  print(\"RMSE:\", np.sqrt(mse)) #корень среднеквадратичной ошибки (RMSE)"
      ],
      "execution_count": null,
      "outputs": []
    }
  ]
}