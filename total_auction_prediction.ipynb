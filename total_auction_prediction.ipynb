{
  "nbformat": 4,
  "nbformat_minor": 0,
  "metadata": {
    "colab": {
      "name": "total auction prediction.ipynb",
      "provenance": [],
      "collapsed_sections": [],
      "toc_visible": true,
      "mount_file_id": "1xS3pZHVHEAWP8gQxfM8mE3mKT2kp-Ua0",
      "authorship_tag": "ABX9TyMveWOHMas2w2QU5ngmc3us",
      "include_colab_link": true
    },
    "kernelspec": {
      "name": "python3",
      "display_name": "Python 3"
    },
    "language_info": {
      "name": "python"
    },
    "accelerator": "GPU"
  },
  "cells": [
    {
      "cell_type": "markdown",
      "metadata": {
        "id": "view-in-github",
        "colab_type": "text"
      },
      "source": [
        "<a href=\"https://colab.research.google.com/github/danil99152/prediction-of-government-tenders/blob/main/total_auction_prediction.ipynb\" target=\"_parent\"><img src=\"https://colab.research.google.com/assets/colab-badge.svg\" alt=\"Open In Colab\"/></a>"
      ]
    },
    {
      "cell_type": "markdown",
      "metadata": {
        "id": "UBqbQVl1gb_A"
      },
      "source": [
        "#Changelog"
      ]
    },
    {
      "cell_type": "markdown",
      "metadata": {
        "id": "6yNSRPpMggUD"
      },
      "source": [
        "#Import"
      ]
    },
    {
      "cell_type": "code",
      "metadata": {
        "id": "WtDySRe-gT87",
        "colab": {
          "base_uri": "https://localhost:8080/"
        },
        "outputId": "126c7e34-5d72-4190-84d6-5d69d25e171d"
      },
      "source": [
        "!pip install catboost"
      ],
      "execution_count": 2,
      "outputs": [
        {
          "output_type": "stream",
          "text": [
            "Requirement already satisfied: catboost in /usr/local/lib/python3.7/dist-packages (0.25.1)\n",
            "Requirement already satisfied: scipy in /usr/local/lib/python3.7/dist-packages (from catboost) (1.4.1)\n",
            "Requirement already satisfied: six in /usr/local/lib/python3.7/dist-packages (from catboost) (1.15.0)\n",
            "Requirement already satisfied: matplotlib in /usr/local/lib/python3.7/dist-packages (from catboost) (3.2.2)\n",
            "Requirement already satisfied: pandas>=0.24.0 in /usr/local/lib/python3.7/dist-packages (from catboost) (1.1.5)\n",
            "Requirement already satisfied: numpy>=1.16.0 in /usr/local/lib/python3.7/dist-packages (from catboost) (1.19.5)\n",
            "Requirement already satisfied: plotly in /usr/local/lib/python3.7/dist-packages (from catboost) (4.4.1)\n",
            "Requirement already satisfied: graphviz in /usr/local/lib/python3.7/dist-packages (from catboost) (0.10.1)\n",
            "Requirement already satisfied: kiwisolver>=1.0.1 in /usr/local/lib/python3.7/dist-packages (from matplotlib->catboost) (1.3.1)\n",
            "Requirement already satisfied: cycler>=0.10 in /usr/local/lib/python3.7/dist-packages (from matplotlib->catboost) (0.10.0)\n",
            "Requirement already satisfied: python-dateutil>=2.1 in /usr/local/lib/python3.7/dist-packages (from matplotlib->catboost) (2.8.1)\n",
            "Requirement already satisfied: pyparsing!=2.0.4,!=2.1.2,!=2.1.6,>=2.0.1 in /usr/local/lib/python3.7/dist-packages (from matplotlib->catboost) (2.4.7)\n",
            "Requirement already satisfied: pytz>=2017.2 in /usr/local/lib/python3.7/dist-packages (from pandas>=0.24.0->catboost) (2018.9)\n",
            "Requirement already satisfied: retrying>=1.3.3 in /usr/local/lib/python3.7/dist-packages (from plotly->catboost) (1.3.3)\n"
          ],
          "name": "stdout"
        }
      ]
    },
    {
      "cell_type": "code",
      "metadata": {
        "id": "kiQoEPexgmxe",
        "colab": {
          "base_uri": "https://localhost:8080/"
        },
        "outputId": "abde762c-de86-46be-e420-a10508e1343a"
      },
      "source": [
        "from datetime import datetime, date\n",
        "import math\n",
        "import re\n",
        "import gc\n",
        "\n",
        "import pandas as pd\n",
        "import numpy as np\n",
        "from scipy import stats\n",
        "import seaborn as sbs\n",
        "from statsmodels.graphics.mosaicplot import mosaic\n",
        "\n",
        "\n",
        "from matplotlib.ticker import MultipleLocator\n",
        "import matplotlib.pyplot as plt\n",
        "%matplotlib inline\n",
        "\n",
        "import keras\n",
        "from keras import optimizers\n",
        "from keras.models import Sequential\n",
        "from keras.layers import Dense,Dropout\n",
        "from keras.optimizers import RMSprop\n",
        "from keras.callbacks import Callback, TensorBoard, ModelCheckpoint\n",
        "from keras.models import load_model\n",
        "\n",
        "from sklearn.preprocessing import PolynomialFeatures\n",
        "from sklearn.linear_model import LogisticRegression\n",
        "from sklearn.linear_model import LinearRegression\n",
        "from sklearn.ensemble import RandomForestClassifier\n",
        "from sklearn import metrics\n",
        "from sklearn import preprocessing\n",
        "from sklearn.ensemble import ExtraTreesClassifier\n",
        "from sklearn.model_selection import train_test_split\n",
        "from sklearn.feature_selection import RFE\n",
        "from sklearn.metrics import classification_report\n",
        "from sklearn.model_selection import GridSearchCV\n",
        "from sklearn.ensemble import AdaBoostClassifier\n",
        "from sklearn.tree import DecisionTreeClassifier\n",
        "from sklearn.metrics import accuracy_score\n",
        "from sklearn.preprocessing import LabelEncoder\n",
        "from sklearn.neighbors import KNeighborsClassifier\n",
        "from sklearn.metrics import confusion_matrix, ConfusionMatrixDisplay\n",
        "from sklearn.pipeline import Pipeline\n",
        "from sklearn.decomposition import PCA\n",
        "from sklearn.preprocessing import OneHotEncoder\n",
        "from sklearn.ensemble import RandomForestRegressor\n",
        "\n",
        "import tensorflow as tf\n",
        "\n",
        "import xgboost as xgb\n",
        "import catboost as ctb\n",
        "from xgboost import XGBRegressor\n",
        "from catboost import CatBoostRegressor\n",
        "\n",
        "import joblib\n",
        "import pickle"
      ],
      "execution_count": 3,
      "outputs": [
        {
          "output_type": "stream",
          "text": [
            "/usr/local/lib/python3.7/dist-packages/statsmodels/tools/_testing.py:19: FutureWarning: pandas.util.testing is deprecated. Use the functions in the public API at pandas.testing instead.\n",
            "  import pandas.util.testing as tm\n"
          ],
          "name": "stderr"
        }
      ]
    },
    {
      "cell_type": "code",
      "metadata": {
        "colab": {
          "base_uri": "https://localhost:8080/"
        },
        "id": "0Ef0KImNgqLn",
        "outputId": "38e2b901-31bb-41de-9529-3b66812099c7"
      },
      "source": [
        "!gdown --id 1L6BffI4zO8ZMOtTOle3XABOXQ-5ZcfTU"
      ],
      "execution_count": 4,
      "outputs": [
        {
          "output_type": "stream",
          "text": [
            "Downloading...\n",
            "From: https://drive.google.com/uc?id=1L6BffI4zO8ZMOtTOle3XABOXQ-5ZcfTU\n",
            "To: /content/purchase_plans.csv\n",
            "63.2MB [00:00, 174MB/s]\n"
          ],
          "name": "stdout"
        }
      ]
    },
    {
      "cell_type": "markdown",
      "metadata": {
        "id": "ybxrTt7ShGfS"
      },
      "source": [
        "#Обработка данных"
      ]
    },
    {
      "cell_type": "markdown",
      "metadata": {
        "id": "FP1ukWs6hJlZ"
      },
      "source": [
        "Считывание данных о заявках"
      ]
    },
    {
      "cell_type": "code",
      "metadata": {
        "colab": {
          "base_uri": "https://localhost:8080/"
        },
        "id": "OYVdYrp0hDeU",
        "outputId": "3d520c30-5aa9-4b5b-b704-7636fd34664c"
      },
      "source": [
        "contract_path = 'purchase_plans.csv'\n",
        "dtypes = {'plan_number' : 'category', \n",
        "          'customer_legal_form' : 'category', \n",
        "          'positionNumber' : 'category', \n",
        "          'product_info' : 'category',\n",
        "          'publicDiscussion' : 'category',\n",
        "          'isEnergyServiceContract': 'category'}\n",
        "data = pd.read_csv(contract_path, dtype = dtypes)\n",
        "\n",
        "gc.collect()"
      ],
      "execution_count": 5,
      "outputs": [
        {
          "output_type": "execute_result",
          "data": {
            "text/plain": [
              "0"
            ]
          },
          "metadata": {
            "tags": []
          },
          "execution_count": 5
        }
      ]
    },
    {
      "cell_type": "markdown",
      "metadata": {
        "id": "0d0753bfZ4gO"
      },
      "source": [
        "1-КТРУ, 2-ОКПД2"
      ]
    },
    {
      "cell_type": "code",
      "metadata": {
        "id": "Y3v3hbU4WHhb"
      },
      "source": [
        "ktru = data['product_info'].str.split(pat=\"-\", expand=True)"
      ],
      "execution_count": 6,
      "outputs": []
    },
    {
      "cell_type": "code",
      "metadata": {
        "id": "oK57zLLfZ_ls"
      },
      "source": [
        "ktru.columns = ['OKPD','KTRU']"
      ],
      "execution_count": 7,
      "outputs": []
    },
    {
      "cell_type": "code",
      "metadata": {
        "id": "Kf0KN6sNaXTI"
      },
      "source": [
        "data = pd.concat([data, ktru], axis=1)"
      ],
      "execution_count": 8,
      "outputs": []
    },
    {
      "cell_type": "code",
      "metadata": {
        "id": "JwSLd3Z1Yy8B"
      },
      "source": [
        "data.dropna(inplace = True)"
      ],
      "execution_count": 9,
      "outputs": []
    },
    {
      "cell_type": "code",
      "metadata": {
        "id": "fEts-Jtlaqd7"
      },
      "source": [
        "data = data.drop(['product_info'], axis=1)"
      ],
      "execution_count": 10,
      "outputs": []
    },
    {
      "cell_type": "code",
      "metadata": {
        "id": "Swdz0TxwY8ji"
      },
      "source": [
        "data = data.reset_index(drop=True)"
      ],
      "execution_count": 11,
      "outputs": []
    },
    {
      "cell_type": "code",
      "metadata": {
        "colab": {
          "base_uri": "https://localhost:8080/",
          "height": 224
        },
        "id": "1KcYncGsrgMy",
        "outputId": "4b599194-9d5a-4768-e5e9-aae8b9d3108e"
      },
      "source": [
        "data.head()"
      ],
      "execution_count": 12,
      "outputs": [
        {
          "output_type": "execute_result",
          "data": {
            "text/html": [
              "<div>\n",
              "<style scoped>\n",
              "    .dataframe tbody tr th:only-of-type {\n",
              "        vertical-align: middle;\n",
              "    }\n",
              "\n",
              "    .dataframe tbody tr th {\n",
              "        vertical-align: top;\n",
              "    }\n",
              "\n",
              "    .dataframe thead th {\n",
              "        text-align: right;\n",
              "    }\n",
              "</style>\n",
              "<table border=\"1\" class=\"dataframe\">\n",
              "  <thead>\n",
              "    <tr style=\"text-align: right;\">\n",
              "      <th></th>\n",
              "      <th>plan_number</th>\n",
              "      <th>customer_legal_form</th>\n",
              "      <th>positionNumber</th>\n",
              "      <th>positionCanceled</th>\n",
              "      <th>publicDiscussion</th>\n",
              "      <th>total</th>\n",
              "      <th>isEnergyServiceContract</th>\n",
              "      <th>time</th>\n",
              "      <th>OKPD</th>\n",
              "      <th>KTRU</th>\n",
              "    </tr>\n",
              "  </thead>\n",
              "  <tbody>\n",
              "    <tr>\n",
              "      <th>0</th>\n",
              "      <td>201801133000253003</td>\n",
              "      <td>75404</td>\n",
              "      <td>201801133000253003000150</td>\n",
              "      <td>False</td>\n",
              "      <td>false</td>\n",
              "      <td>97522.23</td>\n",
              "      <td>false</td>\n",
              "      <td>44</td>\n",
              "      <td>95.12.10.000</td>\n",
              "      <td>00000001</td>\n",
              "    </tr>\n",
              "    <tr>\n",
              "      <th>1</th>\n",
              "      <td>201901133000089001</td>\n",
              "      <td>75404</td>\n",
              "      <td>201901133000089001000001</td>\n",
              "      <td>True</td>\n",
              "      <td>false</td>\n",
              "      <td>195000.00</td>\n",
              "      <td>false</td>\n",
              "      <td>31</td>\n",
              "      <td>35.11.10.000</td>\n",
              "      <td>00000001</td>\n",
              "    </tr>\n",
              "    <tr>\n",
              "      <th>2</th>\n",
              "      <td>201901133000074001</td>\n",
              "      <td>75404</td>\n",
              "      <td>201901133000074001000001</td>\n",
              "      <td>False</td>\n",
              "      <td>false</td>\n",
              "      <td>3117.87</td>\n",
              "      <td>false</td>\n",
              "      <td>365</td>\n",
              "      <td>19.20.21.125</td>\n",
              "      <td>00001</td>\n",
              "    </tr>\n",
              "    <tr>\n",
              "      <th>3</th>\n",
              "      <td>201901133000089001</td>\n",
              "      <td>75404</td>\n",
              "      <td>201901133000089001000016</td>\n",
              "      <td>False</td>\n",
              "      <td>false</td>\n",
              "      <td>16000.00</td>\n",
              "      <td>false</td>\n",
              "      <td>365</td>\n",
              "      <td>61.10.11.110</td>\n",
              "      <td>00000006</td>\n",
              "    </tr>\n",
              "    <tr>\n",
              "      <th>4</th>\n",
              "      <td>201901133000089001</td>\n",
              "      <td>75404</td>\n",
              "      <td>201901133000089001000001</td>\n",
              "      <td>True</td>\n",
              "      <td>false</td>\n",
              "      <td>195000.00</td>\n",
              "      <td>false</td>\n",
              "      <td>31</td>\n",
              "      <td>35.11.10.000</td>\n",
              "      <td>00000001</td>\n",
              "    </tr>\n",
              "  </tbody>\n",
              "</table>\n",
              "</div>"
            ],
            "text/plain": [
              "          plan_number customer_legal_form  ...          OKPD      KTRU\n",
              "0  201801133000253003               75404  ...  95.12.10.000  00000001\n",
              "1  201901133000089001               75404  ...  35.11.10.000  00000001\n",
              "2  201901133000074001               75404  ...  19.20.21.125     00001\n",
              "3  201901133000089001               75404  ...  61.10.11.110  00000006\n",
              "4  201901133000089001               75404  ...  35.11.10.000  00000001\n",
              "\n",
              "[5 rows x 10 columns]"
            ]
          },
          "metadata": {
            "tags": []
          },
          "execution_count": 12
        }
      ]
    },
    {
      "cell_type": "markdown",
      "metadata": {
        "id": "61HXTm-coQJu"
      },
      "source": [
        "#Прогноз цены"
      ]
    },
    {
      "cell_type": "code",
      "metadata": {
        "id": "gf2dWcRXNSCa"
      },
      "source": [
        "cat_var = ['plan_number', \n",
        "          'customer_legal_form', \n",
        "          'positionNumber', \n",
        "          'publicDiscussion',\n",
        "          'isEnergyServiceContract',\n",
        "          'OKPD',\n",
        "          'KTRU']"
      ],
      "execution_count": 42,
      "outputs": []
    },
    {
      "cell_type": "code",
      "metadata": {
        "id": "eF6wAKDOL1bE"
      },
      "source": [
        "def errors(model, x_test, y_test):\n",
        "  outputs = model.predict(x_test)\n",
        "  error = np.absolute(outputs - y_test)\n",
        "  mae = np.sum(error) / len(error)\n",
        "  error = (outputs - y_test)**2\n",
        "  mse = np.sum(error) / len(error)\n",
        "  print(\"R2:\", metrics.r2_score(outputs, y_test))\n",
        "  print(\"MAE:\", mae) #абсолютная ошибка (MAE)\n",
        "  print(\"MSE:\", mse) #среднеквадратичная ошибка (MSE)\n",
        "  print(\"RMSE:\", np.sqrt(mse)) #корень среднеквадратичной ошибки (RMSE)"
      ],
      "execution_count": 15,
      "outputs": []
    },
    {
      "cell_type": "code",
      "metadata": {
        "id": "ijvnkRgUJvd-"
      },
      "source": [
        "x = data.drop(['positionCanceled', 'total'], axis=1)\n",
        "y = data['total']"
      ],
      "execution_count": 41,
      "outputs": []
    },
    {
      "cell_type": "code",
      "metadata": {
        "id": "CntEoGNNJiGg"
      },
      "source": [
        "x_train, x_test, y_train, y_test = train_test_split(x, y, test_size=0.2, shuffle = False)"
      ],
      "execution_count": 64,
      "outputs": []
    },
    {
      "cell_type": "code",
      "metadata": {
        "colab": {
          "base_uri": "https://localhost:8080/"
        },
        "id": "sEkzXkRyLMe0",
        "outputId": "519a306f-3827-4ea9-8a46-0c374e3322d9"
      },
      "source": [
        "print(len(x_train))\n",
        "print(len(y_train))"
      ],
      "execution_count": 376,
      "outputs": [
        {
          "output_type": "stream",
          "text": [
            "39363\n",
            "39363\n"
          ],
          "name": "stdout"
        }
      ]
    },
    {
      "cell_type": "code",
      "metadata": {
        "colab": {
          "base_uri": "https://localhost:8080/"
        },
        "id": "qXc9rhjNROG0",
        "outputId": "b2b99acd-285e-47bb-aee8-229fc9b9da3a"
      },
      "source": [
        "cat_features = cat_var\n",
        "model_catboost = CatBoostRegressor(\n",
        "    n_estimators = 1000,\n",
        "    learning_rate = 0.01,\n",
        "    max_depth = 16,\n",
        "    task_type=\"GPU\",\n",
        "    devices='0:1',\n",
        ").fit(x_train, y_train, cat_features,\n",
        "      eval_set=(x_test, y_test),\n",
        "             use_best_model=True,\n",
        "             verbose=False)\n",
        "errors(model_catboost, x_test, y_test)"
      ],
      "execution_count": 27,
      "outputs": [
        {
          "output_type": "stream",
          "text": [
            "R2: -16947.99576420564\n",
            "MAE: 3534848.8727485323\n",
            "MSE: 13993401652212.846\n",
            "RMSE: 3740775.5415438716\n"
          ],
          "name": "stdout"
        }
      ]
    },
    {
      "cell_type": "code",
      "metadata": {
        "colab": {
          "base_uri": "https://localhost:8080/",
          "height": 428
        },
        "id": "we1GIQLsOc5E",
        "outputId": "afa0e1aa-a394-4897-ee11-c112005a8679"
      },
      "source": [
        "enc = LabelEncoder()\n",
        "for param in cat_var:\n",
        "  x_train[param] = enc.fit_transform(x_train[param])\n",
        "  x_test[param] = enc.fit_transform(x_test[param])\n",
        "x_train.head()"
      ],
      "execution_count": 65,
      "outputs": [
        {
          "output_type": "stream",
          "text": [
            "/usr/local/lib/python3.7/dist-packages/ipykernel_launcher.py:3: SettingWithCopyWarning: \n",
            "A value is trying to be set on a copy of a slice from a DataFrame.\n",
            "Try using .loc[row_indexer,col_indexer] = value instead\n",
            "\n",
            "See the caveats in the documentation: https://pandas.pydata.org/pandas-docs/stable/user_guide/indexing.html#returning-a-view-versus-a-copy\n",
            "  This is separate from the ipykernel package so we can avoid doing imports until\n",
            "/usr/local/lib/python3.7/dist-packages/ipykernel_launcher.py:4: SettingWithCopyWarning: \n",
            "A value is trying to be set on a copy of a slice from a DataFrame.\n",
            "Try using .loc[row_indexer,col_indexer] = value instead\n",
            "\n",
            "See the caveats in the documentation: https://pandas.pydata.org/pandas-docs/stable/user_guide/indexing.html#returning-a-view-versus-a-copy\n",
            "  after removing the cwd from sys.path.\n"
          ],
          "name": "stderr"
        },
        {
          "output_type": "execute_result",
          "data": {
            "text/html": [
              "<div>\n",
              "<style scoped>\n",
              "    .dataframe tbody tr th:only-of-type {\n",
              "        vertical-align: middle;\n",
              "    }\n",
              "\n",
              "    .dataframe tbody tr th {\n",
              "        vertical-align: top;\n",
              "    }\n",
              "\n",
              "    .dataframe thead th {\n",
              "        text-align: right;\n",
              "    }\n",
              "</style>\n",
              "<table border=\"1\" class=\"dataframe\">\n",
              "  <thead>\n",
              "    <tr style=\"text-align: right;\">\n",
              "      <th></th>\n",
              "      <th>plan_number</th>\n",
              "      <th>customer_legal_form</th>\n",
              "      <th>positionNumber</th>\n",
              "      <th>publicDiscussion</th>\n",
              "      <th>isEnergyServiceContract</th>\n",
              "      <th>time</th>\n",
              "      <th>OKPD</th>\n",
              "      <th>KTRU</th>\n",
              "    </tr>\n",
              "  </thead>\n",
              "  <tbody>\n",
              "    <tr>\n",
              "      <th>0</th>\n",
              "      <td>0</td>\n",
              "      <td>7</td>\n",
              "      <td>0</td>\n",
              "      <td>0</td>\n",
              "      <td>0</td>\n",
              "      <td>44</td>\n",
              "      <td>239</td>\n",
              "      <td>0</td>\n",
              "    </tr>\n",
              "    <tr>\n",
              "      <th>1</th>\n",
              "      <td>41</td>\n",
              "      <td>7</td>\n",
              "      <td>183</td>\n",
              "      <td>0</td>\n",
              "      <td>0</td>\n",
              "      <td>31</td>\n",
              "      <td>129</td>\n",
              "      <td>0</td>\n",
              "    </tr>\n",
              "    <tr>\n",
              "      <th>2</th>\n",
              "      <td>37</td>\n",
              "      <td>7</td>\n",
              "      <td>117</td>\n",
              "      <td>0</td>\n",
              "      <td>0</td>\n",
              "      <td>365</td>\n",
              "      <td>56</td>\n",
              "      <td>63</td>\n",
              "    </tr>\n",
              "    <tr>\n",
              "      <th>3</th>\n",
              "      <td>41</td>\n",
              "      <td>7</td>\n",
              "      <td>184</td>\n",
              "      <td>0</td>\n",
              "      <td>0</td>\n",
              "      <td>365</td>\n",
              "      <td>182</td>\n",
              "      <td>5</td>\n",
              "    </tr>\n",
              "    <tr>\n",
              "      <th>4</th>\n",
              "      <td>41</td>\n",
              "      <td>7</td>\n",
              "      <td>183</td>\n",
              "      <td>0</td>\n",
              "      <td>0</td>\n",
              "      <td>31</td>\n",
              "      <td>129</td>\n",
              "      <td>0</td>\n",
              "    </tr>\n",
              "  </tbody>\n",
              "</table>\n",
              "</div>"
            ],
            "text/plain": [
              "   plan_number  customer_legal_form  positionNumber  ...  time  OKPD  KTRU\n",
              "0            0                    7               0  ...    44   239     0\n",
              "1           41                    7             183  ...    31   129     0\n",
              "2           37                    7             117  ...   365    56    63\n",
              "3           41                    7             184  ...   365   182     5\n",
              "4           41                    7             183  ...    31   129     0\n",
              "\n",
              "[5 rows x 8 columns]"
            ]
          },
          "metadata": {
            "tags": []
          },
          "execution_count": 65
        }
      ]
    },
    {
      "cell_type": "code",
      "metadata": {
        "colab": {
          "base_uri": "https://localhost:8080/"
        },
        "id": "zyosfvBmO46F",
        "outputId": "32494c9f-1534-4934-b53c-cd5b717b9f70"
      },
      "source": [
        "x_train = x_train.to_numpy()\n",
        "x_test = x_test.to_numpy()\n",
        "\n",
        "y_train = y_train.to_numpy()\n",
        "y_test = y_test.to_numpy()\n",
        "\n",
        "gc.collect()"
      ],
      "execution_count": 58,
      "outputs": [
        {
          "output_type": "execute_result",
          "data": {
            "text/plain": [
              "88"
            ]
          },
          "metadata": {
            "tags": []
          },
          "execution_count": 58
        }
      ]
    },
    {
      "cell_type": "code",
      "metadata": {
        "colab": {
          "base_uri": "https://localhost:8080/"
        },
        "id": "WKsO_PVmIvMl",
        "outputId": "94f95423-a075-4cce-fc85-350f3f4fffa3"
      },
      "source": [
        "rf_model = RandomForestRegressor(n_estimators=1000, \n",
        "                               bootstrap = True,\n",
        "                               warm_start = True,\n",
        "                               oob_score = True)\n",
        "rf_model.fit(x_train, y_train.ravel())\n",
        "errors(rf_model, x_test, y_test.ravel())"
      ],
      "execution_count": 45,
      "outputs": [
        {
          "output_type": "stream",
          "text": [
            "R2: -0.002165418418826004\n",
            "MAE: 8007774.883023535\n",
            "MSE: 2.3163623939143252e+16\n",
            "RMSE: 152196005.00388718\n"
          ],
          "name": "stdout"
        }
      ]
    },
    {
      "cell_type": "code",
      "metadata": {
        "colab": {
          "base_uri": "https://localhost:8080/"
        },
        "id": "ivwEopgfSgRm",
        "outputId": "4b8c474e-8624-4240-dc71-a93779a63a24"
      },
      "source": [
        "model = XGBRegressor(seed=42,\n",
        "                      n_estimators=1000,\n",
        "                      max_depth=16,\n",
        "                      learning_rate=0.01,\n",
        "                      task_type=\"GPU\",\n",
        "                      devices='0:1',)\n",
        "model.fit(x_train, y_train.ravel())\n",
        "errors(model, x_test, y_test.ravel())"
      ],
      "execution_count": 46,
      "outputs": [
        {
          "output_type": "stream",
          "text": [
            "[21:41:54] WARNING: /workspace/src/objective/regression_obj.cu:152: reg:linear is now deprecated in favor of reg:squarederror.\n",
            "R2: 0.004839528798751269\n",
            "MAE: 2126063.3539188914\n",
            "MSE: 621209147871603.1\n",
            "RMSE: 24924067.642975196\n"
          ],
          "name": "stdout"
        }
      ]
    },
    {
      "cell_type": "code",
      "metadata": {
        "colab": {
          "base_uri": "https://localhost:8080/"
        },
        "id": "BZwj3sD7V86f",
        "outputId": "bf59f1ec-097d-4fc8-cb0d-bf85933a08ee"
      },
      "source": [
        "#значимость признаков для леса\n",
        "importances = model.feature_importances_\n",
        "indices = np.argsort(importances)[::-1]\n",
        "col = ['plan_number',\t'customer_legal_form',\t'positionNumber',\t'publicDiscussion',\t'isEnergyServiceContract',\t'time',\t'OKPD', 'KTRU']\n",
        "ar_f=[]\n",
        "for f, idx in enumerate(indices):\n",
        "    ar_f.append([round(importances[idx],4), col[idx]])\n",
        "print(\"Значимость признака:\")\n",
        "ar_f.sort(reverse=True)\n",
        "ar_f"
      ],
      "execution_count": 47,
      "outputs": [
        {
          "output_type": "stream",
          "text": [
            "Значимость признака:\n"
          ],
          "name": "stdout"
        },
        {
          "output_type": "execute_result",
          "data": {
            "text/plain": [
              "[[0.9071, 'positionNumber'],\n",
              " [0.0793, 'plan_number'],\n",
              " [0.0125, 'time'],\n",
              " [0.0009, 'OKPD'],\n",
              " [0.0002, 'customer_legal_form'],\n",
              " [1e-04, 'KTRU'],\n",
              " [0.0, 'publicDiscussion'],\n",
              " [0.0, 'isEnergyServiceContract']]"
            ]
          },
          "metadata": {
            "tags": []
          },
          "execution_count": 47
        }
      ]
    },
    {
      "cell_type": "code",
      "metadata": {
        "id": "D-2_ZTAwDZni"
      },
      "source": [
        "#стандартизация\n",
        "x_train = preprocessing.scale(x_train)\n",
        "x_test = preprocessing.scale(x_test)\n",
        "y_train = preprocessing.scale(y_train)\n",
        "y_test = preprocessing.scale(y_test)"
      ],
      "execution_count": 67,
      "outputs": []
    },
    {
      "cell_type": "code",
      "metadata": {
        "colab": {
          "base_uri": "https://localhost:8080/"
        },
        "id": "VuObnv8LM_LW",
        "outputId": "09d38d10-d220-4125-b874-c3b3bc0fa929"
      },
      "source": [
        "lin_model = LinearRegression()\n",
        "lin_model.fit(x_train, y_train)\n",
        "errors(lin_model, x_test, y_test)"
      ],
      "execution_count": 68,
      "outputs": [
        {
          "output_type": "stream",
          "text": [
            "R2: -78.96768251434372\n",
            "MAE: 0.3607978815460613\n",
            "MSE: 1.0523618389442686\n",
            "RMSE: 1.0258468886458\n"
          ],
          "name": "stdout"
        }
      ]
    },
    {
      "cell_type": "code",
      "metadata": {
        "colab": {
          "base_uri": "https://localhost:8080/"
        },
        "id": "OhnfSVSyNUor",
        "outputId": "0922437a-e640-48d4-c29f-3b37e6802755"
      },
      "source": [
        "poly_model = LinearRegression()\n",
        "polynomial_features= PolynomialFeatures(degree=3)\n",
        "x_train_poly = polynomial_features.fit_transform(x_train)\n",
        "x_test_poly = polynomial_features.fit_transform(x_test)\n",
        "poly_model.fit(x_train_poly, y_train)\n",
        "errors(poly_model, x_test_poly, y_test)"
      ],
      "execution_count": 69,
      "outputs": [
        {
          "output_type": "stream",
          "text": [
            "R2: -0.44679681547217287\n",
            "MAE: 1.3870546261090382\n",
            "MSE: 6.344609848330906\n",
            "RMSE: 2.518850898392143\n"
          ],
          "name": "stdout"
        }
      ]
    }
  ]
}