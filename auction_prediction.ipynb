{
  "nbformat": 4,
  "nbformat_minor": 0,
  "metadata": {
    "colab": {
      "name": "auction prediction.ipynb",
      "provenance": [],
      "collapsed_sections": [
        "6yNSRPpMggUD",
        "wTC590uSGN1t"
      ],
      "mount_file_id": "1IUaCOIM7i18Lt_Ny02LO6DMlIk_ZyCkb",
      "authorship_tag": "ABX9TyNJTDEz42iXu4DtV3Scy6Zf",
      "include_colab_link": true
    },
    "kernelspec": {
      "name": "python3",
      "display_name": "Python 3"
    },
    "language_info": {
      "name": "python"
    },
    "accelerator": "GPU"
  },
  "cells": [
    {
      "cell_type": "markdown",
      "metadata": {
        "id": "view-in-github",
        "colab_type": "text"
      },
      "source": [
        "<a href=\"https://colab.research.google.com/github/danil99152/prediction-of-government-tenders/blob/main/auction_prediction.ipynb\" target=\"_parent\"><img src=\"https://colab.research.google.com/assets/colab-badge.svg\" alt=\"Open In Colab\"/></a>"
      ]
    },
    {
      "cell_type": "markdown",
      "metadata": {
        "id": "6yNSRPpMggUD"
      },
      "source": [
        "#Import"
      ]
    },
    {
      "cell_type": "code",
      "metadata": {
        "id": "WtDySRe-gT87",
        "colab": {
          "base_uri": "https://localhost:8080/"
        },
        "outputId": "1665fad6-687d-4549-929e-130e01de6831"
      },
      "source": [
        "!pip install catboost"
      ],
      "execution_count": 1,
      "outputs": [
        {
          "output_type": "stream",
          "text": [
            "Collecting catboost\n",
            "\u001b[?25l  Downloading https://files.pythonhosted.org/packages/5a/41/24e14322b9986cf72a8763e0a0a69cc256cf963cf9502c8f0044a62c1ae8/catboost-0.26-cp37-none-manylinux1_x86_64.whl (69.2MB)\n",
            "\u001b[K     |████████████████████████████████| 69.2MB 46kB/s \n",
            "\u001b[?25hRequirement already satisfied: six in /usr/local/lib/python3.7/dist-packages (from catboost) (1.15.0)\n",
            "Requirement already satisfied: plotly in /usr/local/lib/python3.7/dist-packages (from catboost) (4.4.1)\n",
            "Requirement already satisfied: matplotlib in /usr/local/lib/python3.7/dist-packages (from catboost) (3.2.2)\n",
            "Requirement already satisfied: numpy>=1.16.0 in /usr/local/lib/python3.7/dist-packages (from catboost) (1.19.5)\n",
            "Requirement already satisfied: pandas>=0.24.0 in /usr/local/lib/python3.7/dist-packages (from catboost) (1.1.5)\n",
            "Requirement already satisfied: graphviz in /usr/local/lib/python3.7/dist-packages (from catboost) (0.10.1)\n",
            "Requirement already satisfied: scipy in /usr/local/lib/python3.7/dist-packages (from catboost) (1.4.1)\n",
            "Requirement already satisfied: retrying>=1.3.3 in /usr/local/lib/python3.7/dist-packages (from plotly->catboost) (1.3.3)\n",
            "Requirement already satisfied: python-dateutil>=2.1 in /usr/local/lib/python3.7/dist-packages (from matplotlib->catboost) (2.8.1)\n",
            "Requirement already satisfied: cycler>=0.10 in /usr/local/lib/python3.7/dist-packages (from matplotlib->catboost) (0.10.0)\n",
            "Requirement already satisfied: kiwisolver>=1.0.1 in /usr/local/lib/python3.7/dist-packages (from matplotlib->catboost) (1.3.1)\n",
            "Requirement already satisfied: pyparsing!=2.0.4,!=2.1.2,!=2.1.6,>=2.0.1 in /usr/local/lib/python3.7/dist-packages (from matplotlib->catboost) (2.4.7)\n",
            "Requirement already satisfied: pytz>=2017.2 in /usr/local/lib/python3.7/dist-packages (from pandas>=0.24.0->catboost) (2018.9)\n",
            "Installing collected packages: catboost\n",
            "Successfully installed catboost-0.26\n"
          ],
          "name": "stdout"
        }
      ]
    },
    {
      "cell_type": "code",
      "metadata": {
        "id": "kiQoEPexgmxe",
        "colab": {
          "base_uri": "https://localhost:8080/"
        },
        "outputId": "b418897c-d31f-4769-809d-7874d34c9f8a"
      },
      "source": [
        "from datetime import datetime, date\n",
        "import math\n",
        "import re\n",
        "import gc\n",
        "\n",
        "import pandas as pd\n",
        "import numpy as np\n",
        "from scipy import stats\n",
        "import seaborn as sbs\n",
        "from statsmodels.graphics.mosaicplot import mosaic\n",
        "\n",
        "\n",
        "from matplotlib.ticker import MultipleLocator\n",
        "import matplotlib.pyplot as plt\n",
        "%matplotlib inline\n",
        "\n",
        "import keras\n",
        "from keras import optimizers\n",
        "from keras.models import Sequential\n",
        "from keras.layers import Dense,Dropout\n",
        "from keras.optimizers import RMSprop\n",
        "from keras.callbacks import Callback, TensorBoard, ModelCheckpoint\n",
        "from keras.models import load_model\n",
        "\n",
        "from sklearn.preprocessing import PolynomialFeatures\n",
        "from sklearn.linear_model import LogisticRegression\n",
        "from sklearn.linear_model import LinearRegression\n",
        "from sklearn.ensemble import RandomForestClassifier\n",
        "from sklearn import metrics\n",
        "from sklearn import preprocessing\n",
        "from sklearn.ensemble import ExtraTreesClassifier\n",
        "from sklearn.model_selection import train_test_split\n",
        "from sklearn.feature_selection import RFE\n",
        "from sklearn.metrics import classification_report\n",
        "from sklearn.model_selection import GridSearchCV\n",
        "from sklearn.ensemble import AdaBoostClassifier\n",
        "from sklearn.tree import DecisionTreeClassifier\n",
        "from sklearn.metrics import accuracy_score\n",
        "from sklearn.preprocessing import LabelEncoder\n",
        "from sklearn.neighbors import KNeighborsClassifier\n",
        "from sklearn.metrics import confusion_matrix, ConfusionMatrixDisplay\n",
        "from sklearn.pipeline import Pipeline\n",
        "from sklearn.decomposition import PCA\n",
        "from sklearn.preprocessing import OneHotEncoder\n",
        "\n",
        "import xgboost as xgb\n",
        "import catboost as ctb\n",
        "from xgboost import XGBClassifier\n",
        "from catboost import CatBoostClassifier\n",
        "from xgboost import XGBRegressor\n",
        "from catboost import CatBoostRegressor\n",
        "# from lightgbm import LGBMClassifier\n",
        "\n",
        "import joblib\n",
        "import pickle"
      ],
      "execution_count": 2,
      "outputs": [
        {
          "output_type": "stream",
          "text": [
            "/usr/local/lib/python3.7/dist-packages/statsmodels/tools/_testing.py:19: FutureWarning: pandas.util.testing is deprecated. Use the functions in the public API at pandas.testing instead.\n",
            "  import pandas.util.testing as tm\n"
          ],
          "name": "stderr"
        }
      ]
    },
    {
      "cell_type": "code",
      "metadata": {
        "colab": {
          "base_uri": "https://localhost:8080/"
        },
        "id": "0Ef0KImNgqLn",
        "outputId": "f3ac7b8f-c82f-4d9a-af42-cf704a708337"
      },
      "source": [
        "!gdown --id 1L6BffI4zO8ZMOtTOle3XABOXQ-5ZcfTU"
      ],
      "execution_count": 3,
      "outputs": [
        {
          "output_type": "stream",
          "text": [
            "Downloading...\n",
            "From: https://drive.google.com/uc?id=1L6BffI4zO8ZMOtTOle3XABOXQ-5ZcfTU\n",
            "To: /content/purchase_plans.csv\n",
            "5.52MB [00:00, 48.5MB/s]\n"
          ],
          "name": "stdout"
        }
      ]
    },
    {
      "cell_type": "markdown",
      "metadata": {
        "id": "ybxrTt7ShGfS"
      },
      "source": [
        "#Обработка данных"
      ]
    },
    {
      "cell_type": "markdown",
      "metadata": {
        "id": "FP1ukWs6hJlZ"
      },
      "source": [
        "Считывание данных о заявках"
      ]
    },
    {
      "cell_type": "code",
      "metadata": {
        "colab": {
          "base_uri": "https://localhost:8080/",
          "height": 224
        },
        "id": "OYVdYrp0hDeU",
        "outputId": "d9c8ea3a-2895-43af-d8cc-dbca25a90dd1"
      },
      "source": [
        "contract_path = 'purchase_plans.csv'\n",
        "dtypes = {'plan_number' : 'category', \n",
        "          'positionNumber' : 'category', \n",
        "          'customer_legal_form' : 'category', \n",
        "          'KTRU' : 'category',\n",
        "          'publicDiscussion' : 'category',\n",
        "          'isEnergyServiceContract': 'category'}\n",
        "data = pd.read_csv(contract_path, dtype = dtypes)\n",
        "gc.collect()\n",
        "data.head()"
      ],
      "execution_count": 13,
      "outputs": [
        {
          "output_type": "execute_result",
          "data": {
            "text/html": [
              "<div>\n",
              "<style scoped>\n",
              "    .dataframe tbody tr th:only-of-type {\n",
              "        vertical-align: middle;\n",
              "    }\n",
              "\n",
              "    .dataframe tbody tr th {\n",
              "        vertical-align: top;\n",
              "    }\n",
              "\n",
              "    .dataframe thead th {\n",
              "        text-align: right;\n",
              "    }\n",
              "</style>\n",
              "<table border=\"1\" class=\"dataframe\">\n",
              "  <thead>\n",
              "    <tr style=\"text-align: right;\">\n",
              "      <th></th>\n",
              "      <th>plan_number</th>\n",
              "      <th>customer_legal_form</th>\n",
              "      <th>positionNumber</th>\n",
              "      <th>positionCanceled</th>\n",
              "      <th>publicDiscussion</th>\n",
              "      <th>total</th>\n",
              "      <th>isEnergyServiceContract</th>\n",
              "      <th>time</th>\n",
              "      <th>OKPD</th>\n",
              "      <th>log_total</th>\n",
              "    </tr>\n",
              "  </thead>\n",
              "  <tbody>\n",
              "    <tr>\n",
              "      <th>0</th>\n",
              "      <td>201801133000253003</td>\n",
              "      <td>75404</td>\n",
              "      <td>201801133000253003000150</td>\n",
              "      <td>False</td>\n",
              "      <td>false</td>\n",
              "      <td>97522.23</td>\n",
              "      <td>false</td>\n",
              "      <td>44</td>\n",
              "      <td>95.12.10.000</td>\n",
              "      <td>11.487836</td>\n",
              "    </tr>\n",
              "    <tr>\n",
              "      <th>1</th>\n",
              "      <td>201901133000089001</td>\n",
              "      <td>75404</td>\n",
              "      <td>201901133000089001000001</td>\n",
              "      <td>True</td>\n",
              "      <td>false</td>\n",
              "      <td>195000.00</td>\n",
              "      <td>false</td>\n",
              "      <td>31</td>\n",
              "      <td>35.11.10.000</td>\n",
              "      <td>12.180755</td>\n",
              "    </tr>\n",
              "    <tr>\n",
              "      <th>2</th>\n",
              "      <td>201901133000074001</td>\n",
              "      <td>75404</td>\n",
              "      <td>201901133000074001000001</td>\n",
              "      <td>False</td>\n",
              "      <td>false</td>\n",
              "      <td>3117.87</td>\n",
              "      <td>false</td>\n",
              "      <td>365</td>\n",
              "      <td>19.20.21.125</td>\n",
              "      <td>8.044905</td>\n",
              "    </tr>\n",
              "    <tr>\n",
              "      <th>3</th>\n",
              "      <td>201901133000089001</td>\n",
              "      <td>75404</td>\n",
              "      <td>201901133000089001000016</td>\n",
              "      <td>False</td>\n",
              "      <td>false</td>\n",
              "      <td>16000.00</td>\n",
              "      <td>false</td>\n",
              "      <td>365</td>\n",
              "      <td>61.10.11.110</td>\n",
              "      <td>9.680344</td>\n",
              "    </tr>\n",
              "    <tr>\n",
              "      <th>4</th>\n",
              "      <td>201901133000089001</td>\n",
              "      <td>75404</td>\n",
              "      <td>201901133000089001000001</td>\n",
              "      <td>True</td>\n",
              "      <td>false</td>\n",
              "      <td>195000.00</td>\n",
              "      <td>false</td>\n",
              "      <td>31</td>\n",
              "      <td>35.11.10.000</td>\n",
              "      <td>12.180755</td>\n",
              "    </tr>\n",
              "  </tbody>\n",
              "</table>\n",
              "</div>"
            ],
            "text/plain": [
              "          plan_number customer_legal_form  ...          OKPD  log_total\n",
              "0  201801133000253003               75404  ...  95.12.10.000  11.487836\n",
              "1  201901133000089001               75404  ...  35.11.10.000  12.180755\n",
              "2  201901133000074001               75404  ...  19.20.21.125   8.044905\n",
              "3  201901133000089001               75404  ...  61.10.11.110   9.680344\n",
              "4  201901133000089001               75404  ...  35.11.10.000  12.180755\n",
              "\n",
              "[5 rows x 10 columns]"
            ]
          },
          "metadata": {
            "tags": []
          },
          "execution_count": 13
        }
      ]
    },
    {
      "cell_type": "code",
      "metadata": {
        "id": "7_zcVis3Ijrj"
      },
      "source": [
        "num_var = ['total', 'time']\n",
        "cat_var = ['plan_number', \n",
        "          'positionNumber', \n",
        "          'customer_legal_form', \n",
        "          'publicDiscussion',\n",
        "          'isEnergyServiceContract',\n",
        "           'OKPD']"
      ],
      "execution_count": 37,
      "outputs": []
    },
    {
      "cell_type": "markdown",
      "metadata": {
        "id": "wTC590uSGN1t"
      },
      "source": [
        "#Анализ"
      ]
    },
    {
      "cell_type": "code",
      "metadata": {
        "colab": {
          "base_uri": "https://localhost:8080/",
          "height": 111
        },
        "id": "EUbHoFjjGQYP",
        "outputId": "6c62576f-c58a-40f9-bf33-d11fdb643b07"
      },
      "source": [
        "data.corr()"
      ],
      "execution_count": null,
      "outputs": [
        {
          "output_type": "execute_result",
          "data": {
            "text/html": [
              "<div>\n",
              "<style scoped>\n",
              "    .dataframe tbody tr th:only-of-type {\n",
              "        vertical-align: middle;\n",
              "    }\n",
              "\n",
              "    .dataframe tbody tr th {\n",
              "        vertical-align: top;\n",
              "    }\n",
              "\n",
              "    .dataframe thead th {\n",
              "        text-align: right;\n",
              "    }\n",
              "</style>\n",
              "<table border=\"1\" class=\"dataframe\">\n",
              "  <thead>\n",
              "    <tr style=\"text-align: right;\">\n",
              "      <th></th>\n",
              "      <th>total</th>\n",
              "      <th>time</th>\n",
              "    </tr>\n",
              "  </thead>\n",
              "  <tbody>\n",
              "    <tr>\n",
              "      <th>total</th>\n",
              "      <td>1.000000</td>\n",
              "      <td>0.026131</td>\n",
              "    </tr>\n",
              "    <tr>\n",
              "      <th>time</th>\n",
              "      <td>0.026131</td>\n",
              "      <td>1.000000</td>\n",
              "    </tr>\n",
              "  </tbody>\n",
              "</table>\n",
              "</div>"
            ],
            "text/plain": [
              "          total      time\n",
              "total  1.000000  0.026131\n",
              "time   0.026131  1.000000"
            ]
          },
          "metadata": {
            "tags": []
          },
          "execution_count": 11
        }
      ]
    },
    {
      "cell_type": "markdown",
      "metadata": {
        "id": "v2nskHLVH3N1"
      },
      "source": [
        "Описание цены"
      ]
    },
    {
      "cell_type": "code",
      "metadata": {
        "colab": {
          "base_uri": "https://localhost:8080/"
        },
        "id": "CV-8K9PfGpnk",
        "outputId": "6a017425-3d5a-4bb3-f6ab-dcd1d1c600ff"
      },
      "source": [
        "data['total'].describe()"
      ],
      "execution_count": null,
      "outputs": [
        {
          "output_type": "execute_result",
          "data": {
            "text/plain": [
              "count    4.920400e+04\n",
              "mean     3.033807e+06\n",
              "std      1.161167e+08\n",
              "min      1.000000e-02\n",
              "25%      2.800000e+04\n",
              "50%      8.756000e+04\n",
              "75%      2.999925e+05\n",
              "max      7.154803e+09\n",
              "Name: total, dtype: float64"
            ]
          },
          "metadata": {
            "tags": []
          },
          "execution_count": 6
        }
      ]
    },
    {
      "cell_type": "code",
      "metadata": {
        "id": "fWhFT87aH72T",
        "colab": {
          "base_uri": "https://localhost:8080/",
          "height": 111
        },
        "outputId": "2d42ffdd-96bf-4df2-f081-898ab8d0270b"
      },
      "source": [
        "# Мода, медиана, среднее\n",
        "result = {'mode': [], 'median': [], 'mean': []}\n",
        "for nv in num_var:\n",
        "    result['mode'].append(int(data[nv].mode()[0]))\n",
        "    result['median'].append(int(data[nv].median()))\n",
        "    result['mean'].append(int(data[nv].mean()))\n",
        "\n",
        "result = pd.DataFrame(result, index=num_var)\n",
        "result = result[['mode', 'median', 'mean']]\n",
        "result"
      ],
      "execution_count": null,
      "outputs": [
        {
          "output_type": "execute_result",
          "data": {
            "text/html": [
              "<div>\n",
              "<style scoped>\n",
              "    .dataframe tbody tr th:only-of-type {\n",
              "        vertical-align: middle;\n",
              "    }\n",
              "\n",
              "    .dataframe tbody tr th {\n",
              "        vertical-align: top;\n",
              "    }\n",
              "\n",
              "    .dataframe thead th {\n",
              "        text-align: right;\n",
              "    }\n",
              "</style>\n",
              "<table border=\"1\" class=\"dataframe\">\n",
              "  <thead>\n",
              "    <tr style=\"text-align: right;\">\n",
              "      <th></th>\n",
              "      <th>mode</th>\n",
              "      <th>median</th>\n",
              "      <th>mean</th>\n",
              "    </tr>\n",
              "  </thead>\n",
              "  <tbody>\n",
              "    <tr>\n",
              "      <th>total</th>\n",
              "      <td>50000</td>\n",
              "      <td>87560</td>\n",
              "      <td>3033806</td>\n",
              "    </tr>\n",
              "    <tr>\n",
              "      <th>time</th>\n",
              "      <td>365</td>\n",
              "      <td>258</td>\n",
              "      <td>255</td>\n",
              "    </tr>\n",
              "  </tbody>\n",
              "</table>\n",
              "</div>"
            ],
            "text/plain": [
              "        mode  median     mean\n",
              "total  50000   87560  3033806\n",
              "time     365     258      255"
            ]
          },
          "metadata": {
            "tags": []
          },
          "execution_count": 13
        }
      ]
    },
    {
      "cell_type": "code",
      "metadata": {
        "id": "hkuCqbYAYwhA"
      },
      "source": [
        "OKOPF = {\n",
        "    '10000' : 'Юридические лица - коммерческие корпоративные организации',\n",
        "    '11000' : 'Хозяйственные товарищества',\n",
        "    '11051' : 'Полные товарищества',\n",
        "    '11064' : 'Товарищества на вере (коммандитные товарищества)',\n",
        "    '12000' : 'Хозяйственные общества',\n",
        "    '12200' : 'Акционерные общества',\n",
        "    '12247' : 'Публичные акционерные общества',\n",
        "    '12267' : 'Непубличные акционерные общества',\n",
        "    '12300' : 'Общества с ограниченной ответственностью',\n",
        "    '13000' : 'Хозяйственные партнерства',\n",
        "    '14000' : 'Производственные кооперативы (артели)',\n",
        "    '14100' : 'Сельскохозяйственные производственные кооперативы',\n",
        "    '14153' : 'Сельскохозяйственные артели (колхозы)',\n",
        "    '14154' : 'Рыболовецкие артели (колхозы)',\n",
        "    '14155' : 'Кооперативные хозяйства (коопхозы)',\n",
        "    '14200' : 'Производственные кооперативы',\n",
        "    '15300' : 'Крестьянские (фермерские) хозяйства',\n",
        "    '19000' : 'Юридические лица - прочие коммерческие организации',\n",
        "    '20000' : 'Юридические лица - некоммерческие корпоративные организации',\n",
        "    '20100' : 'Потребительские кооперативы',\n",
        "    '20101' : 'Гаражные и гаражно-строительные кооперативы',\n",
        "    '20102' : 'Жилищные или жилищно-строительные кооперативы',\n",
        "    '20103' : 'Жилищные накопительные кооперативы',\n",
        "    '20104' : 'Кредитные потребительские кооперативы',\n",
        "    '20105' : 'Кредитные потребительские кооперативы граждан',\n",
        "    '20106' : 'Кредитные кооперативы второго уровня',\n",
        "    '20107' : 'Потребительские общества',\n",
        "    '20108' : 'Общества взаимного страхования',\n",
        "    '20109' : 'Сельскохозяйственные потребительские перерабатывающие кооперативы',\n",
        "    '20110' : 'Сельскохозяйственные потребительские сбытовые (торговые) кооперативы',\n",
        "    '20111' : 'Сельскохозяйственные потребительские обслуживающие кооперативы',\n",
        "    '20112' : 'Сельскохозяйственные потребительские снабженческие кооперативы',\n",
        "    '20113' : 'Объединения фермерских хозяйств',\n",
        "    '20115' : 'Сельскохозяйственные потребительские животноводческие кооперативы',\n",
        "    '20121' : 'Фонды проката',\n",
        "    '20200' : 'Общественные организации',\n",
        "    '20201' : 'Политические партии',\n",
        "    '20202' : 'Профсоюзные организации',\n",
        "    '20210' : 'Общественные движения',\n",
        "    '20211' : 'Органы общественной самодеятельности',\n",
        "    '20217' : 'Территориальные общественные самоуправления',\n",
        "    '20600' : 'Ассоциации (союзы)',\n",
        "    '20601' : 'Ассоциации (союзы) экономического взаимодействия субъектов Российской Федерации',\n",
        "    '20603' : 'Советы муниципальных образований субъектов РФ',\n",
        "    '20604' : 'Союзы (ассоциации) кредитных кооперативов',\n",
        "    '20605' : 'Союзы (ассоциации) кооперативов',\n",
        "    '20606' : 'Союзы (ассоциации) общественных объединений',\n",
        "    '20608' : 'Союзы потребительских обществ',\n",
        "    '20609' : 'Адвокатские палаты',\n",
        "    '20610' : 'Нотариальные палаты',\n",
        "    '20611' : 'Торгово-промышленные палаты',\n",
        "    '20612' : 'Объединения работодателей',\n",
        "    '20613' : 'Объединения фермерских хозяйств',\n",
        "    '20614' : 'Некоммерческие партнерства',\n",
        "    '20615' : 'Адвокатские бюро',\n",
        "    '20616' : 'Коллегии адвокатов',\n",
        "    '20619' : 'Саморегулируемые организации',\n",
        "    '20620' : 'Объединения (ассоциации и союзы) благотворительных организаций',\n",
        "    '20700' : 'Товарищества собственников недвижимости',\n",
        "    '20702' : 'Садоводческие или огороднические некоммерческие товарищества',\n",
        "    '20716' : 'Товарищества собственников жилья',\n",
        "    '20900' : 'Учреждения',\n",
        "    '21100' : 'Казачьи общества',\n",
        "    '21200' : 'Общины коренных малочисленных народов РФ',\n",
        "    '30000' : 'Организации без прав юридического лица',\n",
        "    '30001' : 'Представительства юридических лиц',\n",
        "    '30002' : 'Филиалы юридических лиц',\n",
        "    '30003' : 'Обособленные подразделения юридических лиц',\n",
        "    '30004' : 'Структурные подразделения обособленных подразделений юридических лиц',\n",
        "    '30005' : 'Паевые инвестиционные фонды',\n",
        "    '30006' : 'Простые товарищества',\n",
        "    '30008' : 'Районные суды, городские суды, межрайонные суды (районные суды)',\n",
        "    '40000' : 'Международные организации на территории РФ',\n",
        "    '40001' : 'Межправительственные международные организации',\n",
        "    '40002' : 'Неправительственные международные организации',\n",
        "    '50000' : 'Физическое лицо',\n",
        "    '50100' : 'Организационно-правовые формы для коммерческой деятельности граждан',\n",
        "    '50101' : 'Главы крестьянских (фермерских) хозяйств',\n",
        "    '50102' : 'Индивидуальные предприниматели',\n",
        "    '50200' : 'Организационно-правовые формы для деятельности граждан, не отнесенной к предпринимательству',\n",
        "    '50201' : 'Адвокаты, учредившие адвокатский кабинет',\n",
        "    '50202' : 'Нотариусы, занимающиеся частной практикой',\n",
        "    '60000' : 'Юридические лица - коммерческие унитарные организации',\n",
        "    '65000' : 'Унитарные предприятия',\n",
        "    '65100' : 'Казенные предприятия',\n",
        "    '65141' : 'Федеральные казенные предприятия',\n",
        "    '65142' : 'Казенные предприятия субъектов РФ',\n",
        "    '65143' : 'Муниципальные казенные предприятия',\n",
        "    '65200' : 'Унитарные предприятия, основанные на праве хозяйственного ведения',\n",
        "    '65241' : 'Федеральные государственные унитарные предприятия',\n",
        "    '65242' : 'Государственные унитарные предприятия субъектов РФ',\n",
        "    '65243' : 'Муниципальные унитарные предприятия',\n",
        "    '70000' : 'Юридические лица - некоммерческие унитарные организации',\n",
        "    '70400' : 'Фонды',\n",
        "    '70401' : 'Благотворительные фонды',\n",
        "    '70402' : 'Негосударственные пенсионные фонды',\n",
        "    '70403' : 'Общественные фонды',\n",
        "    '70404' : 'Экологические фонды',\n",
        "    '71400' : 'Автономные некоммерческие организации',\n",
        "    '71500' : 'Религиозные организации',\n",
        "    '71600' : 'Публично-правовые компании',\n",
        "    '71601' : 'Государственные корпорации',\n",
        "    '71602' : 'Государственные компании',\n",
        "    '71610' : 'Отделения иностранных некоммерческих неправительственных организаций',\n",
        "    '75000' : 'Учреждения',\n",
        "    '75100' : 'Учреждения, созданные Российской Федерацией',\n",
        "    '75101' : 'Федеральные государственные автономные учреждения',\n",
        "    '75103' : 'Федеральные государственные бюджетные учреждения',\n",
        "    '75104' : 'Федеральные государственные казенные учреждения',\n",
        "    '75200' : 'Учреждения, созданные субъектом РФ',\n",
        "    '75201' : 'Государственные автономные учреждения субъектов РФ',\n",
        "    '75203' : 'Государственные бюджетные учреждения субъектов РФ',\n",
        "    '75204' : 'Государственные казенные учреждения субъектов РФ',\n",
        "    '75300' : 'Государственные академии наук',\n",
        "    '75400' : 'Муниципальные учреждения',\n",
        "    '75401' : 'Муниципальные автономные учреждения',\n",
        "    '75403' : 'Муниципальные бюджетные учреждения',\n",
        "    '75404' : 'Муниципальные казенные учреждения',\n",
        "    '75500' : 'Частные учреждения',\n",
        "    '75502' : 'Благотворительные учреждения',\n",
        "    '75505' : 'Общественные учреждения',\n",
        "}"
      ],
      "execution_count": null,
      "outputs": []
    },
    {
      "cell_type": "code",
      "metadata": {
        "id": "T87koQJcYPQp"
      },
      "source": [
        "def OKOPF_sub(x):\n",
        "  return f\"({x}) {OKOPF[x]}\""
      ],
      "execution_count": null,
      "outputs": []
    },
    {
      "cell_type": "code",
      "metadata": {
        "colab": {
          "base_uri": "https://localhost:8080/",
          "height": 502
        },
        "id": "cG9Y9945YP_R",
        "outputId": "85adc0f8-2108-4346-f9fe-933eaed366ab"
      },
      "source": [
        "with sbs.plotting_context(font_scale=1.6):\n",
        "  data_to_plot = data.filter(['customer_legal_form', 'total'], axis=1).sort_values('customer_legal_form')\n",
        "  data_to_plot['customer_legal_form'] = data_to_plot['customer_legal_form'].map(OKOPF_sub)\n",
        "  g = sbs.catplot(y = 'customer_legal_form', x = 'total', kind ='box', height = 10, aspect = 2, data = data_to_plot, orient = 'h')\n",
        "  g.set(xscale = 'log', xlabel = 'Цена', ylabel = 'Типы Клиентов')\n",
        "  \n",
        "del data_to_plot\n",
        "del g\n",
        "gc.collect()"
      ],
      "execution_count": null,
      "outputs": [
        {
          "output_type": "execute_result",
          "data": {
            "text/plain": [
              "10251"
            ]
          },
          "metadata": {
            "tags": []
          },
          "execution_count": 23
        },
        {
          "output_type": "display_data",
          "data": {
            "image/png": "[encoded data removed]",
            "text/plain": [
              "<Figure size 1440x720 with 1 Axes>"
            ]
          },
          "metadata": {
            "tags": [],
            "needs_background": "light"
          }
        }
      ]
    },
    {
      "cell_type": "markdown",
      "metadata": {
        "id": "7NxUSeZUayPL"
      },
      "source": [
        "Цена и продолжительность"
      ]
    },
    {
      "cell_type": "code",
      "metadata": {
        "colab": {
          "base_uri": "https://localhost:8080/",
          "height": 300
        },
        "id": "_MizqRJwZo3T",
        "outputId": "7af077e3-362c-47d0-998a-e02ed4ac203a"
      },
      "source": [
        "g = sbs.scatterplot(x = 'time', y = 'total', data = data)\n",
        "g.set(xscale = 'log', yscale = 'log', xlabel = 'Продолжительность контракта', ylabel = 'Цена')\n",
        "\n",
        "del g\n",
        "gc.collect()"
      ],
      "execution_count": null,
      "outputs": [
        {
          "output_type": "execute_result",
          "data": {
            "text/plain": [
              "9889"
            ]
          },
          "metadata": {
            "tags": []
          },
          "execution_count": 24
        },
        {
          "output_type": "display_data",
          "data": {
            "image/png": "[encoded data removed]",
            "text/plain": [
              "<Figure size 432x288 with 1 Axes>"
            ]
          },
          "metadata": {
            "tags": [],
            "needs_background": "light"
          }
        }
      ]
    },
    {
      "cell_type": "code",
      "metadata": {
        "colab": {
          "base_uri": "https://localhost:8080/",
          "height": 296
        },
        "id": "9QxvstqnnWNH",
        "outputId": "3a8a2c83-c140-4ab3-d3d5-88672d625a82"
      },
      "source": [
        "g = sbs.countplot(x = 'positionCanceled', data = data)\n",
        "g.set(xlabel = 'Отмена', ylabel = 'Отмена заявок')\n",
        "\n",
        "del g\n",
        "gc.collect()"
      ],
      "execution_count": null,
      "outputs": [
        {
          "output_type": "execute_result",
          "data": {
            "text/plain": [
              "1975"
            ]
          },
          "metadata": {
            "tags": []
          },
          "execution_count": 27
        },
        {
          "output_type": "display_data",
          "data": {
            "image/png": "[encoded data removed]",
            "text/plain": [
              "<Figure size 432x288 with 1 Axes>"
            ]
          },
          "metadata": {
            "tags": [],
            "needs_background": "light"
          }
        }
      ]
    },
    {
      "cell_type": "markdown",
      "metadata": {
        "id": "ZkKP8_0ZnDx5"
      },
      "source": [
        "Время и отмена"
      ]
    },
    {
      "cell_type": "code",
      "metadata": {
        "colab": {
          "base_uri": "https://localhost:8080/",
          "height": 400
        },
        "id": "a5oXrXL5nDFj",
        "outputId": "1c2e4672-47de-4899-a542-ca7e66a5e27d"
      },
      "source": [
        "g = sbs.catplot(x = 'positionCanceled', y = 'time', kind ='box', aspect = 1, data = data)\n",
        "g.set(yscale = 'log', xlabel = 'Отмена', ylabel = 'Время')\n",
        "\n",
        "del g\n",
        "gc.collect()"
      ],
      "execution_count": null,
      "outputs": [
        {
          "output_type": "execute_result",
          "data": {
            "text/plain": [
              "2058"
            ]
          },
          "metadata": {
            "tags": []
          },
          "execution_count": 28
        },
        {
          "output_type": "display_data",
          "data": {
            "image/png": "[encoded data removed]",
            "text/plain": [
              "<Figure size 360x360 with 1 Axes>"
            ]
          },
          "metadata": {
            "tags": [],
            "needs_background": "light"
          }
        }
      ]
    },
    {
      "cell_type": "markdown",
      "metadata": {
        "id": "w6gONroSnzbd"
      },
      "source": [
        "Цена и отмена"
      ]
    },
    {
      "cell_type": "code",
      "metadata": {
        "colab": {
          "base_uri": "https://localhost:8080/",
          "height": 389
        },
        "id": "z8E8CLREnx-c",
        "outputId": "f61ed89d-850e-45ad-dc18-9c1d7fa60de7"
      },
      "source": [
        "g = sbs.catplot(x = 'positionCanceled', y = 'total', kind ='box', aspect = 1, data = data)\n",
        "g.set(yscale = 'log', xlabel = 'Отмена', ylabel = 'Цена')\n",
        "\n",
        "del g\n",
        "gc.collect()"
      ],
      "execution_count": null,
      "outputs": [
        {
          "output_type": "execute_result",
          "data": {
            "text/plain": [
              "8479"
            ]
          },
          "metadata": {
            "tags": []
          },
          "execution_count": 29
        },
        {
          "output_type": "display_data",
          "data": {
            "image/png": "[encoded data removed]",
            "text/plain": [
              "<Figure size 360x360 with 1 Axes>"
            ]
          },
          "metadata": {
            "tags": [],
            "needs_background": "light"
          }
        }
      ]
    },
    {
      "cell_type": "markdown",
      "metadata": {
        "id": "qR5h1t6SoMT8"
      },
      "source": [
        "#Прогноз отмены"
      ]
    },
    {
      "cell_type": "code",
      "metadata": {
        "id": "OfLJKNfSVsMG"
      },
      "source": [
        "#Балансировка данных\n",
        "old_indexes = round(len(data[data['positionCanceled']==False])\n",
        " - len(data[data['positionCanceled']==True]))\n",
        "data.sort_values('positionCanceled', inplace = True)\n",
        "data = data.reset_index()\n",
        "data.drop(data[((data.index < old_indexes) & (data['positionCanceled']==False))].index, inplace=True)\n",
        "data.sort_values('index', inplace = True)\n",
        "data = data.drop(['index'], axis=1)\n",
        "data = data.reset_index(drop=True)\n",
        "gc.collect()"
      ],
      "execution_count": 15,
      "outputs": []
    },
    {
      "cell_type": "code",
      "metadata": {
        "colab": {
          "base_uri": "https://localhost:8080/"
        },
        "id": "fVsnoZczXogp",
        "outputId": "7b5815c0-fc0d-4bd5-c6b3-0ec360dedb32"
      },
      "source": [
        "print(\"True\", len(data[data['positionCanceled']==True]))\n",
        "print(\"False\", len(data[data['positionCanceled']==False]))"
      ],
      "execution_count": 25,
      "outputs": [
        {
          "output_type": "stream",
          "text": [
            "True 3671\n",
            "False 3671\n"
          ],
          "name": "stdout"
        }
      ]
    },
    {
      "cell_type": "code",
      "metadata": {
        "id": "8WFPPrG5ZCb3"
      },
      "source": [
        "data_True = data[data['positionCanceled']==True]\n",
        "data_True = data_True.reset_index(drop=True)\n",
        "data_False = data[data['positionCanceled']==False]\n",
        "data_False = data_False.reset_index(drop=True)"
      ],
      "execution_count": 27,
      "outputs": []
    },
    {
      "cell_type": "code",
      "metadata": {
        "colab": {
          "base_uri": "https://localhost:8080/"
        },
        "id": "BRR3WmxFZuZk",
        "outputId": "d9dac1b5-380f-4cde-da8f-b47aeb3ff3d0"
      },
      "source": [
        "x_True = data_True.drop(['positionCanceled', 'total', 'log_total'], axis=1)\n",
        "y_True = data_True['positionCanceled']\n",
        "\n",
        "x_False = data_False.drop(['positionCanceled', 'total', 'log_total'], axis=1)\n",
        "y_False = data_False['positionCanceled']\n",
        "\n",
        "gc.collect()"
      ],
      "execution_count": 38,
      "outputs": [
        {
          "output_type": "execute_result",
          "data": {
            "text/plain": [
              "219"
            ]
          },
          "metadata": {
            "tags": []
          },
          "execution_count": 38
        }
      ]
    },
    {
      "cell_type": "code",
      "metadata": {
        "id": "7xbHZxQMaID6"
      },
      "source": [
        "x_train_True, x_test_True, y_train_True, y_test_True = train_test_split(x_True, y_True, test_size=0.2, shuffle = False)\n",
        "x_train_False, x_test_False, y_train_False, y_test_False = train_test_split(x_False, y_False, test_size=0.2, shuffle = False)"
      ],
      "execution_count": 90,
      "outputs": []
    },
    {
      "cell_type": "code",
      "metadata": {
        "colab": {
          "base_uri": "https://localhost:8080/"
        },
        "id": "b9zIMmPSaxg3",
        "outputId": "d455c8af-8553-447d-a053-e5b018743b93"
      },
      "source": [
        "percent = 0.5 #% разницы между тренировочными True и False\n",
        "droped = round(len(y_train_True)*percent)\n",
        "x_train_False.drop(x_train_False[x_train_False.index < droped].index, inplace=True)\n",
        "x_train_False = x_train_False.reset_index(drop=True)\n",
        "y_train_False.drop(y_train_False[y_train_False.index < droped].index, inplace=True)\n",
        "y_train_False = y_train_False.reset_index(drop=True)"
      ],
      "execution_count": 91,
      "outputs": [
        {
          "output_type": "stream",
          "text": [
            "/usr/local/lib/python3.7/dist-packages/pandas/core/frame.py:4174: SettingWithCopyWarning: \n",
            "A value is trying to be set on a copy of a slice from a DataFrame\n",
            "\n",
            "See the caveats in the documentation: https://pandas.pydata.org/pandas-docs/stable/user_guide/indexing.html#returning-a-view-versus-a-copy\n",
            "  errors=errors,\n"
          ],
          "name": "stderr"
        }
      ]
    },
    {
      "cell_type": "code",
      "metadata": {
        "id": "FgQDiGHtbTXZ"
      },
      "source": [
        "x_train = pd.concat([x_train_False, x_train_True])\n",
        "y_train = pd.concat([y_train_False, y_train_True])\n",
        "x_test = pd.concat([x_test_False, x_test_True])\n",
        "y_test = pd.concat([y_test_False, y_test_True])"
      ],
      "execution_count": 92,
      "outputs": []
    },
    {
      "cell_type": "code",
      "metadata": {
        "colab": {
          "base_uri": "https://localhost:8080/"
        },
        "id": "W3UgL0Bmbnsb",
        "outputId": "3511f5c2-ef75-486a-e6be-c9821d86517c"
      },
      "source": [
        "print('True', len(y_train[y_train == True].index))\n",
        "print('False', len(y_train[y_train == False].index))\n",
        "print(\"Разница в трен данных:\", 1 - len(y_train[y_train == False].index)/len(y_train[y_train == True].index))"
      ],
      "execution_count": 93,
      "outputs": [
        {
          "output_type": "stream",
          "text": [
            "True 2936\n",
            "False 1468\n",
            "Разница в трен данных: 0.5\n"
          ],
          "name": "stdout"
        }
      ]
    },
    {
      "cell_type": "code",
      "metadata": {
        "colab": {
          "base_uri": "https://localhost:8080/"
        },
        "id": "52YhVRevbr-i",
        "outputId": "43ea98ca-a351-404e-cbab-7bfc3e433e29"
      },
      "source": [
        "print('True', len(y_test[y_test == True].index))\n",
        "print('False', len(y_test[y_test == False].index))"
      ],
      "execution_count": 94,
      "outputs": [
        {
          "output_type": "stream",
          "text": [
            "True 735\n",
            "False 735\n"
          ],
          "name": "stdout"
        }
      ]
    },
    {
      "cell_type": "code",
      "metadata": {
        "id": "XVkYCrfqiLUb"
      },
      "source": [
        "y_train = LabelEncoder().fit_transform(y_train)\n",
        "y_test = LabelEncoder().fit_transform(y_test)"
      ],
      "execution_count": 95,
      "outputs": []
    },
    {
      "cell_type": "code",
      "metadata": {
        "colab": {
          "base_uri": "https://localhost:8080/",
          "height": 503
        },
        "id": "VkW3uvK-ogLf",
        "outputId": "a02dd5cf-50a2-43c0-ce29-0437d4911da4"
      },
      "source": [
        "%%time\n",
        "cat_features = cat_var\n",
        "\n",
        "parameters = {\n",
        "    \"n_estimators\": [10, 20, 30],\n",
        "    \"learning_rate\": [0.5, 1, 0.01],\n",
        "    \"max_depth\": [5,4,6],\n",
        "}\n",
        "\n",
        "model_catboost = CatBoostClassifier(\n",
        "    cat_features = cat_features,\n",
        "    random_state=42,\n",
        "    task_type=\"GPU\",\n",
        "    devices='0:1',\n",
        ")\n",
        "\n",
        "model_catboost = GridSearchCV(\n",
        "    model_catboost, \n",
        "    parameters, \n",
        "    cv=5,\n",
        "    scoring='accuracy',\n",
        ")\n",
        "\n",
        "model_catboost.fit(x_train, y_train, eval_set=(x_test, y_test),\n",
        "             use_best_model=True,\n",
        "             verbose=False)\n",
        "\n",
        "print(f'Best parameters {model_catboost.best_params_}')\n",
        "print(\n",
        "    f'Mean cross-validated accuracy score of the best_estimator: ' + \n",
        "    f'{model_catboost.best_score_:.3f}'\n",
        ")\n",
        "\n",
        "y_pred = model_catboost.predict(x_test)\n",
        "print(classification_report(y_test, y_pred, target_names=['False', 'True']))\n",
        "\n",
        "cm = confusion_matrix(y_test, y_pred, labels=model_catboost.classes_)\n",
        "disp = ConfusionMatrixDisplay(confusion_matrix=cm, display_labels=model_catboost.classes_)\n",
        "disp.plot()\n",
        "\n",
        "del y_pred\n",
        "gc.collect()"
      ],
      "execution_count": 96,
      "outputs": [
        {
          "output_type": "stream",
          "text": [
            "Best parameters {'learning_rate': 0.01, 'max_depth': 4, 'n_estimators': 30}\n",
            "Mean cross-validated accuracy score of the best_estimator: 0.806\n",
            "              precision    recall  f1-score   support\n",
            "\n",
            "       False       0.95      0.90      0.93       735\n",
            "        True       0.91      0.96      0.93       735\n",
            "\n",
            "    accuracy                           0.93      1470\n",
            "   macro avg       0.93      0.93      0.93      1470\n",
            "weighted avg       0.93      0.93      0.93      1470\n",
            "\n",
            "CPU times: user 34.2 s, sys: 21 s, total: 55.2 s\n",
            "Wall time: 1min 15s\n"
          ],
          "name": "stdout"
        },
        {
          "output_type": "display_data",
          "data": {
            "image/png": "[encoded data removed]",
            "text/plain": [
              "<Figure size 432x288 with 2 Axes>"
            ]
          },
          "metadata": {
            "tags": [],
            "needs_background": "light"
          }
        }
      ]
    },
    {
      "cell_type": "code",
      "metadata": {
        "id": "fROBxE2dsLX_"
      },
      "source": [
        "model_catboost.best_estimator_.save_model(\"/content/drive/MyDrive/Модели-предсказатели завершенности тендеров/auction/catboost(isCanseled)\")"
      ],
      "execution_count": 100,
      "outputs": []
    },
    {
      "cell_type": "code",
      "metadata": {
        "colab": {
          "base_uri": "https://localhost:8080/"
        },
        "id": "g1oyoi8gk8ZB",
        "outputId": "f4795785-25ee-486f-ea71-7f0666e1dfd4"
      },
      "source": [
        "#значимость признаков для леса\n",
        "importances = model_catboost.best_estimator_.get_feature_importance()\n",
        "indices = np.argsort(importances)[::-1]\n",
        "col = ['plan_number',\t'customer_legal_form',\t'positionNumber',\t'publicDiscussion',\t'isEnergyServiceContract',\t'time',\t'OKPD']\n",
        "ar_f=[]\n",
        "for f, idx in enumerate(indices):\n",
        "    ar_f.append([round(importances[idx],4), col[idx]])\n",
        "print(\"Значимость признака:\")\n",
        "ar_f.sort(reverse=True)\n",
        "ar_f"
      ],
      "execution_count": 98,
      "outputs": [
        {
          "output_type": "stream",
          "text": [
            "Значимость признака:\n"
          ],
          "name": "stdout"
        },
        {
          "output_type": "execute_result",
          "data": {
            "text/plain": [
              "[[89.113, 'positionNumber'],\n",
              " [5.714, 'plan_number'],\n",
              " [1.9724, 'customer_legal_form'],\n",
              " [1.6255, 'time'],\n",
              " [1.5751, 'OKPD'],\n",
              " [0.0, 'publicDiscussion'],\n",
              " [0.0, 'isEnergyServiceContract']]"
            ]
          },
          "metadata": {
            "tags": []
          },
          "execution_count": 98
        }
      ]
    }
  ]
}