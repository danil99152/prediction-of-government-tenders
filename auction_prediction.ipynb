{
  "nbformat": 4,
  "nbformat_minor": 0,
  "metadata": {
    "colab": {
      "name": "auction prediction.ipynb",
      "provenance": [],
      "collapsed_sections": [
        "6yNSRPpMggUD"
      ],
      "mount_file_id": "1IUaCOIM7i18Lt_Ny02LO6DMlIk_ZyCkb",
      "authorship_tag": "ABX9TyNBShbqfvyww8tjHSwzijm1",
      "include_colab_link": true
    },
    "kernelspec": {
      "name": "python3",
      "display_name": "Python 3"
    },
    "language_info": {
      "name": "python"
    },
    "accelerator": "GPU"
  },
  "cells": [
    {
      "cell_type": "markdown",
      "metadata": {
        "id": "view-in-github",
        "colab_type": "text"
      },
      "source": [
        "<a href=\"https://colab.research.google.com/github/danil99152/prediction-of-government-tenders/blob/main/auction_prediction.ipynb\" target=\"_parent\"><img src=\"https://colab.research.google.com/assets/colab-badge.svg\" alt=\"Open In Colab\"/></a>"
      ]
    },
    {
      "cell_type": "markdown",
      "metadata": {
        "id": "jbdAgFbUcPQt"
      },
      "source": [
        "# TODO\n",
        "* Добавить реальный наглядный тест (10-20 примеров)"
      ]
    },
    {
      "cell_type": "markdown",
      "metadata": {
        "id": "6yNSRPpMggUD"
      },
      "source": [
        "#Import"
      ]
    },
    {
      "cell_type": "code",
      "metadata": {
        "id": "WtDySRe-gT87",
        "colab": {
          "base_uri": "https://localhost:8080/"
        },
        "outputId": "d189f241-9b8a-47bf-abad-23477b08b753"
      },
      "source": [
        "!pip install catboost"
      ],
      "execution_count": 1,
      "outputs": [
        {
          "output_type": "stream",
          "text": [
            "Collecting catboost\n",
            "\u001b[?25l  Downloading https://files.pythonhosted.org/packages/5a/41/24e14322b9986cf72a8763e0a0a69cc256cf963cf9502c8f0044a62c1ae8/catboost-0.26-cp37-none-manylinux1_x86_64.whl (69.2MB)\n",
            "\u001b[K     |████████████████████████████████| 69.2MB 43kB/s \n",
            "\u001b[?25hRequirement already satisfied: scipy in /usr/local/lib/python3.7/dist-packages (from catboost) (1.4.1)\n",
            "Requirement already satisfied: pandas>=0.24.0 in /usr/local/lib/python3.7/dist-packages (from catboost) (1.1.5)\n",
            "Requirement already satisfied: plotly in /usr/local/lib/python3.7/dist-packages (from catboost) (4.4.1)\n",
            "Requirement already satisfied: graphviz in /usr/local/lib/python3.7/dist-packages (from catboost) (0.10.1)\n",
            "Requirement already satisfied: numpy>=1.16.0 in /usr/local/lib/python3.7/dist-packages (from catboost) (1.19.5)\n",
            "Requirement already satisfied: six in /usr/local/lib/python3.7/dist-packages (from catboost) (1.15.0)\n",
            "Requirement already satisfied: matplotlib in /usr/local/lib/python3.7/dist-packages (from catboost) (3.2.2)\n",
            "Requirement already satisfied: python-dateutil>=2.7.3 in /usr/local/lib/python3.7/dist-packages (from pandas>=0.24.0->catboost) (2.8.1)\n",
            "Requirement already satisfied: pytz>=2017.2 in /usr/local/lib/python3.7/dist-packages (from pandas>=0.24.0->catboost) (2018.9)\n",
            "Requirement already satisfied: retrying>=1.3.3 in /usr/local/lib/python3.7/dist-packages (from plotly->catboost) (1.3.3)\n",
            "Requirement already satisfied: pyparsing!=2.0.4,!=2.1.2,!=2.1.6,>=2.0.1 in /usr/local/lib/python3.7/dist-packages (from matplotlib->catboost) (2.4.7)\n",
            "Requirement already satisfied: cycler>=0.10 in /usr/local/lib/python3.7/dist-packages (from matplotlib->catboost) (0.10.0)\n",
            "Requirement already satisfied: kiwisolver>=1.0.1 in /usr/local/lib/python3.7/dist-packages (from matplotlib->catboost) (1.3.1)\n",
            "Installing collected packages: catboost\n",
            "Successfully installed catboost-0.26\n"
          ],
          "name": "stdout"
        }
      ]
    },
    {
      "cell_type": "code",
      "metadata": {
        "id": "kiQoEPexgmxe",
        "colab": {
          "base_uri": "https://localhost:8080/"
        },
        "outputId": "87c67196-bd8e-4a45-d268-454794f0122f"
      },
      "source": [
        "from datetime import datetime, date\n",
        "import math\n",
        "import re\n",
        "import gc\n",
        "\n",
        "import pandas as pd\n",
        "import numpy as np\n",
        "from scipy import stats\n",
        "import seaborn as sbs\n",
        "from statsmodels.graphics.mosaicplot import mosaic\n",
        "\n",
        "\n",
        "from matplotlib.ticker import MultipleLocator\n",
        "import matplotlib.pyplot as plt\n",
        "%matplotlib inline\n",
        "\n",
        "import keras\n",
        "from keras import optimizers\n",
        "from keras.models import Sequential\n",
        "from keras.layers import Dense,Dropout\n",
        "from keras.optimizers import RMSprop\n",
        "from keras.callbacks import Callback, TensorBoard, ModelCheckpoint\n",
        "from keras.models import load_model\n",
        "\n",
        "from sklearn.preprocessing import PolynomialFeatures\n",
        "from sklearn.linear_model import LogisticRegression\n",
        "from sklearn.linear_model import LinearRegression\n",
        "from sklearn.ensemble import RandomForestClassifier\n",
        "from sklearn import metrics\n",
        "from sklearn import preprocessing\n",
        "from sklearn.ensemble import ExtraTreesClassifier\n",
        "from sklearn.model_selection import train_test_split\n",
        "from sklearn.feature_selection import RFE\n",
        "from sklearn.metrics import classification_report\n",
        "from sklearn.model_selection import GridSearchCV\n",
        "from sklearn.ensemble import AdaBoostClassifier\n",
        "from sklearn.tree import DecisionTreeClassifier\n",
        "from sklearn.metrics import accuracy_score\n",
        "from sklearn.preprocessing import LabelEncoder\n",
        "from sklearn.neighbors import KNeighborsClassifier\n",
        "from sklearn.metrics import confusion_matrix, ConfusionMatrixDisplay\n",
        "from sklearn.pipeline import Pipeline\n",
        "from sklearn.decomposition import PCA\n",
        "from sklearn.preprocessing import OneHotEncoder\n",
        "\n",
        "import xgboost as xgb\n",
        "import catboost as ctb\n",
        "from xgboost import XGBClassifier\n",
        "from catboost import CatBoostClassifier\n",
        "from xgboost import XGBRegressor\n",
        "from catboost import CatBoostRegressor\n",
        "# from lightgbm import LGBMClassifier\n",
        "\n",
        "import joblib\n",
        "import pickle"
      ],
      "execution_count": 2,
      "outputs": [
        {
          "output_type": "stream",
          "text": [
            "/usr/local/lib/python3.7/dist-packages/statsmodels/tools/_testing.py:19: FutureWarning: pandas.util.testing is deprecated. Use the functions in the public API at pandas.testing instead.\n",
            "  import pandas.util.testing as tm\n"
          ],
          "name": "stderr"
        }
      ]
    },
    {
      "cell_type": "code",
      "metadata": {
        "colab": {
          "base_uri": "https://localhost:8080/"
        },
        "id": "0Ef0KImNgqLn",
        "outputId": "30050204-2e12-4827-bc7a-f0a887349093"
      },
      "source": [
        "!gdown --id 1L6BffI4zO8ZMOtTOle3XABOXQ-5ZcfTU"
      ],
      "execution_count": 3,
      "outputs": [
        {
          "output_type": "stream",
          "text": [
            "Downloading...\n",
            "From: https://drive.google.com/uc?id=1L6BffI4zO8ZMOtTOle3XABOXQ-5ZcfTU\n",
            "To: /content/purchase_plans.csv\n",
            "\r0.00B [00:00, ?B/s]\r5.74MB [00:00, 50.8MB/s]\n"
          ],
          "name": "stdout"
        }
      ]
    },
    {
      "cell_type": "markdown",
      "metadata": {
        "id": "ybxrTt7ShGfS"
      },
      "source": [
        "#Обработка данных"
      ]
    },
    {
      "cell_type": "markdown",
      "metadata": {
        "id": "FP1ukWs6hJlZ"
      },
      "source": [
        "Считывание данных о заявках"
      ]
    },
    {
      "cell_type": "code",
      "metadata": {
        "colab": {
          "base_uri": "https://localhost:8080/",
          "height": 204
        },
        "id": "OYVdYrp0hDeU",
        "outputId": "374d6601-dc0f-4455-f5a2-942a1e45b937"
      },
      "source": [
        "contract_path = 'purchase_plans.csv'\n",
        "dtypes = {'plan_number' : 'category', \n",
        "          'customer_legal_form' : 'category', \n",
        "          'KTRU' : 'category',\n",
        "          'publicDiscussion' : 'category',\n",
        "          'isEnergyServiceContract': 'category',\n",
        "          'KVRInfo': 'category',\n",
        "          'OKFS': 'category'}\n",
        "data = pd.read_csv(contract_path, dtype = dtypes)\n",
        "gc.collect()\n",
        "data.head()"
      ],
      "execution_count": 156,
      "outputs": [
        {
          "output_type": "execute_result",
          "data": {
            "text/html": [
              "<div>\n",
              "<style scoped>\n",
              "    .dataframe tbody tr th:only-of-type {\n",
              "        vertical-align: middle;\n",
              "    }\n",
              "\n",
              "    .dataframe tbody tr th {\n",
              "        vertical-align: top;\n",
              "    }\n",
              "\n",
              "    .dataframe thead th {\n",
              "        text-align: right;\n",
              "    }\n",
              "</style>\n",
              "<table border=\"1\" class=\"dataframe\">\n",
              "  <thead>\n",
              "    <tr style=\"text-align: right;\">\n",
              "      <th></th>\n",
              "      <th>plan_number</th>\n",
              "      <th>customer_legal_form</th>\n",
              "      <th>OKFS</th>\n",
              "      <th>KVRInfo</th>\n",
              "      <th>positionCanceled</th>\n",
              "      <th>publicDiscussion</th>\n",
              "      <th>total</th>\n",
              "      <th>time</th>\n",
              "      <th>OKPD</th>\n",
              "      <th>log_total</th>\n",
              "      <th>maxPrice</th>\n",
              "      <th>log_maxPrice</th>\n",
              "    </tr>\n",
              "  </thead>\n",
              "  <tbody>\n",
              "    <tr>\n",
              "      <th>0</th>\n",
              "      <td>201703133000188001</td>\n",
              "      <td>75403</td>\n",
              "      <td>14.0</td>\n",
              "      <td>244.0</td>\n",
              "      <td>False</td>\n",
              "      <td>False</td>\n",
              "      <td>524637.0</td>\n",
              "      <td>731</td>\n",
              "      <td>35.14.10.000</td>\n",
              "      <td>13.170462</td>\n",
              "      <td>174879.0</td>\n",
              "      <td>12.071850</td>\n",
              "    </tr>\n",
              "    <tr>\n",
              "      <th>1</th>\n",
              "      <td>201703133000164001</td>\n",
              "      <td>75404</td>\n",
              "      <td>14.0</td>\n",
              "      <td>244.0</td>\n",
              "      <td>False</td>\n",
              "      <td>False</td>\n",
              "      <td>30000.0</td>\n",
              "      <td>182</td>\n",
              "      <td>35.11.10.110</td>\n",
              "      <td>10.308953</td>\n",
              "      <td>11700.0</td>\n",
              "      <td>9.367344</td>\n",
              "    </tr>\n",
              "    <tr>\n",
              "      <th>2</th>\n",
              "      <td>201703131000014001</td>\n",
              "      <td>75103</td>\n",
              "      <td>12.0</td>\n",
              "      <td>244.0</td>\n",
              "      <td>False</td>\n",
              "      <td>False</td>\n",
              "      <td>7800000.0</td>\n",
              "      <td>1461</td>\n",
              "      <td>35.30.11.120</td>\n",
              "      <td>15.869634</td>\n",
              "      <td>2600000.0</td>\n",
              "      <td>14.771022</td>\n",
              "    </tr>\n",
              "    <tr>\n",
              "      <th>3</th>\n",
              "      <td>201703131000014001</td>\n",
              "      <td>75103</td>\n",
              "      <td>12.0</td>\n",
              "      <td>244.0</td>\n",
              "      <td>False</td>\n",
              "      <td>False</td>\n",
              "      <td>3675000.0</td>\n",
              "      <td>731</td>\n",
              "      <td>35.11.10.110</td>\n",
              "      <td>15.117064</td>\n",
              "      <td>1225000.0</td>\n",
              "      <td>14.018451</td>\n",
              "    </tr>\n",
              "    <tr>\n",
              "      <th>4</th>\n",
              "      <td>201703131000014001</td>\n",
              "      <td>75103</td>\n",
              "      <td>12.0</td>\n",
              "      <td>244.0</td>\n",
              "      <td>False</td>\n",
              "      <td>False</td>\n",
              "      <td>900000.0</td>\n",
              "      <td>731</td>\n",
              "      <td>35.30.12.120</td>\n",
              "      <td>13.710150</td>\n",
              "      <td>300000.0</td>\n",
              "      <td>12.611538</td>\n",
              "    </tr>\n",
              "  </tbody>\n",
              "</table>\n",
              "</div>"
            ],
            "text/plain": [
              "          plan_number customer_legal_form  ...   maxPrice log_maxPrice\n",
              "0  201703133000188001               75403  ...   174879.0    12.071850\n",
              "1  201703133000164001               75404  ...    11700.0     9.367344\n",
              "2  201703131000014001               75103  ...  2600000.0    14.771022\n",
              "3  201703131000014001               75103  ...  1225000.0    14.018451\n",
              "4  201703131000014001               75103  ...   300000.0    12.611538\n",
              "\n",
              "[5 rows x 12 columns]"
            ]
          },
          "metadata": {
            "tags": []
          },
          "execution_count": 156
        }
      ]
    },
    {
      "cell_type": "code",
      "metadata": {
        "id": "L72RgmRu0AHP"
      },
      "source": [
        "data = data.drop(['plan_number','log_total', 'log_maxPrice'], axis=1)"
      ],
      "execution_count": 157,
      "outputs": []
    },
    {
      "cell_type": "code",
      "metadata": {
        "id": "uh2v7zDu-6V-"
      },
      "source": [
        "def OKPD_mapping(row):\n",
        "  try:\n",
        "    x, y = row.split(\".\", 1)\n",
        "  except ValueError:\n",
        "    x = row\n",
        "  return x\n",
        "\n",
        "data['OKPD'] = data['OKPD'].map(OKPD_mapping)"
      ],
      "execution_count": 158,
      "outputs": []
    },
    {
      "cell_type": "markdown",
      "metadata": {
        "id": "wTC590uSGN1t"
      },
      "source": [
        "#Анализ"
      ]
    },
    {
      "cell_type": "markdown",
      "metadata": {
        "id": "qt6V1RxzzB6y"
      },
      "source": [
        "Прохождение и тип продукта"
      ]
    },
    {
      "cell_type": "code",
      "metadata": {
        "id": "5RaupdzMzezM"
      },
      "source": [
        "OKPD = {\n",
        "    '01' : 'Продукция и услуги сельского хозяйства и охоты',\n",
        "    '02' : 'Продукция лесоводства, лесозаготовок и связанные с этим услуги',\n",
        "    '03' : 'Рыба и прочая продукция рыболовства и рыбоводства; услуги, связанные с рыболовством и рыбоводством',\n",
        "    '05' : 'Уголь',\n",
        "    '06' : 'Нефть и газ природный',\n",
        "    '07' : 'Руды металлические',\n",
        "    '08' : 'Продукция горнодобывающих производств прочая',\n",
        "    '09' : 'Услуги в области добычи полезных ископаемых',\n",
        "    '10' : 'Продукты пищевые',\n",
        "    '11' : 'Напитки',\n",
        "    '12' : 'Изделия табачные',\n",
        "    '13' : 'Текстиль и изделия текстильные',\n",
        "    '14' : 'Одежда',\n",
        "    '15' : 'Кожа и изделия из кожи',\n",
        "    '16' : 'Древесина и изделия из дерева и пробки, кроме мебели; изделия из соломки и материалов для плетения',\n",
        "    '17' : 'Бумага и изделия из бумаги',\n",
        "    '18' : 'Услуги печатные и услуги по копированию звуко- и видеозаписей, а также программных средств',\n",
        "    '19' : 'Кокс и нефтепродукты',\n",
        "    '20' : 'Вещества химические и продукты химические',\n",
        "    '21' : 'Средства лекарственные и материалы, применяемые в медицинских целях',\n",
        "    '22' : 'Изделия резиновые и пластмассовые',\n",
        "    '23' : 'Продукты минеральные неметаллические прочие',\n",
        "    '24' : 'Металлы основные',\n",
        "    '25' : 'Изделия металлические готовые, кроме машин и оборудования',\n",
        "    '26' : 'Оборудование компьютерное, электронное и оптическое',\n",
        "    '27' : 'Оборудование электрическое',\n",
        "    '28' : 'Машины и оборудование, не включенные в другие группировки',\n",
        "    '29' : 'Средства автотранспортные, прицепы и полуприцепы',\n",
        "    '30' : 'Средства транспортные и оборудование, прочие',\n",
        "    '31' : 'Мебель',\n",
        "    '32' : 'Изделия готовые прочие',\n",
        "    '33' : 'Услуги по ремонту и монтажу машин и оборудования',\n",
        "    '35' : 'Электроэнергия, газ, пар и кондиционирование воздуха',\n",
        "    '36' : 'Вода природная; услуги по очистке воды и водоснабжению',\n",
        "    '37' : 'Услуги по водоотведению; шлам сточных вод',\n",
        "    '38' : 'Услуги по сбору, обработке и удалению отходов; услуги по утилизации отходов',\n",
        "    '39' : 'Услуги по рекультивации и прочие услуги по утилизации отходов',\n",
        "    '41' : 'Здания и работы по возведению зданий',\n",
        "    '42' : 'Сооружения и строительные работы в области гражданского строительства',\n",
        "    '43' : 'Работы строительные специализированные',\n",
        "    '45' : 'Услуги по оптовой и розничной торговле и услуги по ремонту автотранспортных средств и мотоциклов',\n",
        "    '46' : 'Услуги по оптовой торговле, кроме оптовой торговли автотранспортными средствами и мотоциклами',\n",
        "    '47' : 'Услуги по розничной торговле, кроме розничной торговли автотранспортными средствами и мотоциклами',\n",
        "    '49' : 'Услуги сухопутного и трубопроводного транспорта',\n",
        "    '50' : 'Услуги водного транспорта',\n",
        "    '51' : 'Услуги воздушного и космического транспорта',\n",
        "    '52' : 'Услуги по складированию и вспомогательные транспортные услуги',\n",
        "    '53' : 'Услуги почтовой связи и услуги курьерские',\n",
        "    '55' : 'Услуги по предоставлению мест для временного проживания',\n",
        "    '56' : 'Услуги общественного питания',\n",
        "    '58' : 'Услуги издательские',\n",
        "    '59' : 'Услуги по производству кинофильмов, видеофильмов и телевизионных программ, звукозаписей и изданию музыкальных записей',\n",
        "    '60' : 'Услуги в области теле- и радиовещания',\n",
        "    '61' : 'Услуги телекоммуникационные',\n",
        "    '62' : 'Продукты программные и услуги по разработке программного обеспечения; консультационные и аналогичные услуги в области информационных технологий',\n",
        "    '63' : 'Услуги в области информационных технологий',\n",
        "    '64' : 'Услуги финансовые, кроме услуг по страхованию и пенсионному обеспечению',\n",
        "    '65' : 'Услуги по страхованию, перестрахованию и негосударственному пенсионному обеспечению, кроме обязательного социального обеспечения',\n",
        "    '66' : 'Услуги вспомогательные, связанные с услугами финансового посредничества и страхования',\n",
        "    '68' : 'Услуги по операциям с недвижимым имуществом',\n",
        "    '69' : 'Услуги юридические и бухгалтерские',\n",
        "    '70' : 'Услуги головных офисов; услуги консультативные в области управления предприятием',\n",
        "    '71' : 'Услуги в области архитектуры и инженерно-технического проектирования, технических испытаний, исследований и анализа',\n",
        "    '72' : 'Услуги и работы, связанные с научными исследованиями и экспериментальными разработками',\n",
        "    '73' : 'Услуги рекламные и услуги по исследованию конъюнктуры рынка',\n",
        "    '74' : 'Услуги профессиональные, научные и технические, прочие',\n",
        "    '75' : 'Услуги ветеринарные',\n",
        "    '77' : 'Услуги по аренде и лизингу',\n",
        "    '78' : 'Услуги по трудоустройству и подбору персонала',\n",
        "    '79' : 'Услуги туристических агентств, туроператоров и прочие услуги по бронированию и сопутствующие им услуги',\n",
        "    '80' : 'Услуги по обеспечению безопасности и проведению расследований',\n",
        "    '81' : 'Услуги по обслуживанию зданий и территорий',\n",
        "    '82' : 'Услуги в области административного, хозяйственного и прочего вспомогательного обслуживания',\n",
        "    '84' : 'Услуги в области государственного управления и обеспечения военной безопасности, услуги в области обязательного социального обеспечения',\n",
        "    '85' : 'Услуги в области образования',\n",
        "    '86' : 'Услуги в области здравоохранения',\n",
        "    '87' : 'Услуги по предоставлению ухода с обеспечением проживания',\n",
        "    '88' : 'Услуги социальные без обеспечения проживания',\n",
        "    '90' : 'Услуги в области творчества, искусства и развлечений',\n",
        "    '91' : 'Услуги библиотек, архивов, музеев и прочие услуги в области культуры',\n",
        "    '92' : 'Услуги по организации и проведению азартных игр и заключению пари, лотерей',\n",
        "    '93' : 'Услуги, связанные со спортом, и услуги по организации развлечений и отдыха',\n",
        "    '94' : 'Услуги общественных организаций',\n",
        "    '95' : 'Услуги по ремонту компьютеров, предметов личного потребления и бытовых товаров',\n",
        "    '96' : 'Услуги персональные прочие',\n",
        "    '97' : 'Услуги домашних хозяйств с наемными работниками',\n",
        "    '98' : 'Продукция и различные услуги частных домашних хозяйств для собственных нужд',\n",
        "    '99' : 'Услуги, предоставляемые экстерриториальными организациями и органами'\n",
        "    }"
      ],
      "execution_count": 131,
      "outputs": []
    },
    {
      "cell_type": "code",
      "metadata": {
        "id": "nQ700n-wzt4B"
      },
      "source": [
        "def OKPD_mapping(row):\n",
        "  try:\n",
        "    x, y = row.split(\".\", 1)\n",
        "    if x in OKPD:\n",
        "      return OKPD[x]\n",
        "    return 'Устаревшие категории'\n",
        "  except ValueError:\n",
        "    print('ValueError')"
      ],
      "execution_count": 191,
      "outputs": []
    },
    {
      "cell_type": "code",
      "metadata": {
        "colab": {
          "base_uri": "https://localhost:8080/",
          "height": 1000
        },
        "id": "uYVqg9Byy_G3",
        "outputId": "16757ef6-06bf-4d8a-c6db-7be3a33d9837"
      },
      "source": [
        "with sbs.plotting_context(font_scale=1.6):\n",
        "  data_to_plot = data.filter(['OKPD', 'positionCanceled'])\n",
        "  data_to_plot['OKPD'] = data_to_plot['OKPD'].map(OKPD_mapping)\n",
        "  g = sbs.catplot(y = 'OKPD', hue=\"positionCanceled\", kind=\"count\", height = 22, aspect = 1, data = data_to_plot, orient = 'h')\n",
        "  g.set(xscale = 'log', xlabel = 'Прохождение заявки', ylabel = 'ОКПД')\n",
        "\n",
        "del data_to_plot\n",
        "del g\n",
        "gc.collect()"
      ],
      "execution_count": 228,
      "outputs": [
        {
          "output_type": "stream",
          "text": [
            "ValueError\n"
          ],
          "name": "stdout"
        },
        {
          "output_type": "execute_result",
          "data": {
            "text/plain": [
              "29649"
            ]
          },
          "metadata": {
            "tags": []
          },
          "execution_count": 228
        },
        {
          "output_type": "display_data",
          "data": {
            "image/png": "[encoded data removed]",
            "text/plain": [
              "<Figure size 1677.88x1584 with 1 Axes>"
            ]
          },
          "metadata": {
            "tags": [],
            "needs_background": "light"
          }
        }
      ]
    },
    {
      "cell_type": "code",
      "metadata": {
        "colab": {
          "base_uri": "https://localhost:8080/",
          "height": 111
        },
        "id": "EUbHoFjjGQYP",
        "outputId": "6c62576f-c58a-40f9-bf33-d11fdb643b07"
      },
      "source": [
        "data.corr()"
      ],
      "execution_count": null,
      "outputs": [
        {
          "output_type": "execute_result",
          "data": {
            "text/html": [
              "<div>\n",
              "<style scoped>\n",
              "    .dataframe tbody tr th:only-of-type {\n",
              "        vertical-align: middle;\n",
              "    }\n",
              "\n",
              "    .dataframe tbody tr th {\n",
              "        vertical-align: top;\n",
              "    }\n",
              "\n",
              "    .dataframe thead th {\n",
              "        text-align: right;\n",
              "    }\n",
              "</style>\n",
              "<table border=\"1\" class=\"dataframe\">\n",
              "  <thead>\n",
              "    <tr style=\"text-align: right;\">\n",
              "      <th></th>\n",
              "      <th>total</th>\n",
              "      <th>time</th>\n",
              "    </tr>\n",
              "  </thead>\n",
              "  <tbody>\n",
              "    <tr>\n",
              "      <th>total</th>\n",
              "      <td>1.000000</td>\n",
              "      <td>0.026131</td>\n",
              "    </tr>\n",
              "    <tr>\n",
              "      <th>time</th>\n",
              "      <td>0.026131</td>\n",
              "      <td>1.000000</td>\n",
              "    </tr>\n",
              "  </tbody>\n",
              "</table>\n",
              "</div>"
            ],
            "text/plain": [
              "          total      time\n",
              "total  1.000000  0.026131\n",
              "time   0.026131  1.000000"
            ]
          },
          "metadata": {
            "tags": []
          },
          "execution_count": 11
        }
      ]
    },
    {
      "cell_type": "markdown",
      "metadata": {
        "id": "v2nskHLVH3N1"
      },
      "source": [
        "Описание цены"
      ]
    },
    {
      "cell_type": "code",
      "metadata": {
        "colab": {
          "base_uri": "https://localhost:8080/"
        },
        "id": "CV-8K9PfGpnk",
        "outputId": "6a017425-3d5a-4bb3-f6ab-dcd1d1c600ff"
      },
      "source": [
        "data['total'].describe()"
      ],
      "execution_count": null,
      "outputs": [
        {
          "output_type": "execute_result",
          "data": {
            "text/plain": [
              "count    4.920400e+04\n",
              "mean     3.033807e+06\n",
              "std      1.161167e+08\n",
              "min      1.000000e-02\n",
              "25%      2.800000e+04\n",
              "50%      8.756000e+04\n",
              "75%      2.999925e+05\n",
              "max      7.154803e+09\n",
              "Name: total, dtype: float64"
            ]
          },
          "metadata": {
            "tags": []
          },
          "execution_count": 6
        }
      ]
    },
    {
      "cell_type": "code",
      "metadata": {
        "id": "fWhFT87aH72T",
        "colab": {
          "base_uri": "https://localhost:8080/",
          "height": 111
        },
        "outputId": "2d42ffdd-96bf-4df2-f081-898ab8d0270b"
      },
      "source": [
        "# Мода, медиана, среднее\n",
        "result = {'mode': [], 'median': [], 'mean': []}\n",
        "for nv in num_var:\n",
        "    result['mode'].append(int(data[nv].mode()[0]))\n",
        "    result['median'].append(int(data[nv].median()))\n",
        "    result['mean'].append(int(data[nv].mean()))\n",
        "\n",
        "result = pd.DataFrame(result, index=num_var)\n",
        "result = result[['mode', 'median', 'mean']]\n",
        "result"
      ],
      "execution_count": null,
      "outputs": [
        {
          "output_type": "execute_result",
          "data": {
            "text/html": [
              "<div>\n",
              "<style scoped>\n",
              "    .dataframe tbody tr th:only-of-type {\n",
              "        vertical-align: middle;\n",
              "    }\n",
              "\n",
              "    .dataframe tbody tr th {\n",
              "        vertical-align: top;\n",
              "    }\n",
              "\n",
              "    .dataframe thead th {\n",
              "        text-align: right;\n",
              "    }\n",
              "</style>\n",
              "<table border=\"1\" class=\"dataframe\">\n",
              "  <thead>\n",
              "    <tr style=\"text-align: right;\">\n",
              "      <th></th>\n",
              "      <th>mode</th>\n",
              "      <th>median</th>\n",
              "      <th>mean</th>\n",
              "    </tr>\n",
              "  </thead>\n",
              "  <tbody>\n",
              "    <tr>\n",
              "      <th>total</th>\n",
              "      <td>50000</td>\n",
              "      <td>87560</td>\n",
              "      <td>3033806</td>\n",
              "    </tr>\n",
              "    <tr>\n",
              "      <th>time</th>\n",
              "      <td>365</td>\n",
              "      <td>258</td>\n",
              "      <td>255</td>\n",
              "    </tr>\n",
              "  </tbody>\n",
              "</table>\n",
              "</div>"
            ],
            "text/plain": [
              "        mode  median     mean\n",
              "total  50000   87560  3033806\n",
              "time     365     258      255"
            ]
          },
          "metadata": {
            "tags": []
          },
          "execution_count": 13
        }
      ]
    },
    {
      "cell_type": "code",
      "metadata": {
        "id": "hkuCqbYAYwhA"
      },
      "source": [
        "OKOPF = {\n",
        "    '10000' : 'Юридические лица - коммерческие корпоративные организации',\n",
        "    '11000' : 'Хозяйственные товарищества',\n",
        "    '11051' : 'Полные товарищества',\n",
        "    '11064' : 'Товарищества на вере (коммандитные товарищества)',\n",
        "    '12000' : 'Хозяйственные общества',\n",
        "    '12200' : 'Акционерные общества',\n",
        "    '12247' : 'Публичные акционерные общества',\n",
        "    '12267' : 'Непубличные акционерные общества',\n",
        "    '12300' : 'Общества с ограниченной ответственностью',\n",
        "    '13000' : 'Хозяйственные партнерства',\n",
        "    '14000' : 'Производственные кооперативы (артели)',\n",
        "    '14100' : 'Сельскохозяйственные производственные кооперативы',\n",
        "    '14153' : 'Сельскохозяйственные артели (колхозы)',\n",
        "    '14154' : 'Рыболовецкие артели (колхозы)',\n",
        "    '14155' : 'Кооперативные хозяйства (коопхозы)',\n",
        "    '14200' : 'Производственные кооперативы',\n",
        "    '15300' : 'Крестьянские (фермерские) хозяйства',\n",
        "    '19000' : 'Юридические лица - прочие коммерческие организации',\n",
        "    '20000' : 'Юридические лица - некоммерческие корпоративные организации',\n",
        "    '20100' : 'Потребительские кооперативы',\n",
        "    '20101' : 'Гаражные и гаражно-строительные кооперативы',\n",
        "    '20102' : 'Жилищные или жилищно-строительные кооперативы',\n",
        "    '20103' : 'Жилищные накопительные кооперативы',\n",
        "    '20104' : 'Кредитные потребительские кооперативы',\n",
        "    '20105' : 'Кредитные потребительские кооперативы граждан',\n",
        "    '20106' : 'Кредитные кооперативы второго уровня',\n",
        "    '20107' : 'Потребительские общества',\n",
        "    '20108' : 'Общества взаимного страхования',\n",
        "    '20109' : 'Сельскохозяйственные потребительские перерабатывающие кооперативы',\n",
        "    '20110' : 'Сельскохозяйственные потребительские сбытовые (торговые) кооперативы',\n",
        "    '20111' : 'Сельскохозяйственные потребительские обслуживающие кооперативы',\n",
        "    '20112' : 'Сельскохозяйственные потребительские снабженческие кооперативы',\n",
        "    '20113' : 'Объединения фермерских хозяйств',\n",
        "    '20115' : 'Сельскохозяйственные потребительские животноводческие кооперативы',\n",
        "    '20121' : 'Фонды проката',\n",
        "    '20200' : 'Общественные организации',\n",
        "    '20201' : 'Политические партии',\n",
        "    '20202' : 'Профсоюзные организации',\n",
        "    '20210' : 'Общественные движения',\n",
        "    '20211' : 'Органы общественной самодеятельности',\n",
        "    '20217' : 'Территориальные общественные самоуправления',\n",
        "    '20600' : 'Ассоциации (союзы)',\n",
        "    '20601' : 'Ассоциации (союзы) экономического взаимодействия субъектов Российской Федерации',\n",
        "    '20603' : 'Советы муниципальных образований субъектов РФ',\n",
        "    '20604' : 'Союзы (ассоциации) кредитных кооперативов',\n",
        "    '20605' : 'Союзы (ассоциации) кооперативов',\n",
        "    '20606' : 'Союзы (ассоциации) общественных объединений',\n",
        "    '20608' : 'Союзы потребительских обществ',\n",
        "    '20609' : 'Адвокатские палаты',\n",
        "    '20610' : 'Нотариальные палаты',\n",
        "    '20611' : 'Торгово-промышленные палаты',\n",
        "    '20612' : 'Объединения работодателей',\n",
        "    '20613' : 'Объединения фермерских хозяйств',\n",
        "    '20614' : 'Некоммерческие партнерства',\n",
        "    '20615' : 'Адвокатские бюро',\n",
        "    '20616' : 'Коллегии адвокатов',\n",
        "    '20619' : 'Саморегулируемые организации',\n",
        "    '20620' : 'Объединения (ассоциации и союзы) благотворительных организаций',\n",
        "    '20700' : 'Товарищества собственников недвижимости',\n",
        "    '20702' : 'Садоводческие или огороднические некоммерческие товарищества',\n",
        "    '20716' : 'Товарищества собственников жилья',\n",
        "    '20900' : 'Учреждения',\n",
        "    '21100' : 'Казачьи общества',\n",
        "    '21200' : 'Общины коренных малочисленных народов РФ',\n",
        "    '30000' : 'Организации без прав юридического лица',\n",
        "    '30001' : 'Представительства юридических лиц',\n",
        "    '30002' : 'Филиалы юридических лиц',\n",
        "    '30003' : 'Обособленные подразделения юридических лиц',\n",
        "    '30004' : 'Структурные подразделения обособленных подразделений юридических лиц',\n",
        "    '30005' : 'Паевые инвестиционные фонды',\n",
        "    '30006' : 'Простые товарищества',\n",
        "    '30008' : 'Районные суды, городские суды, межрайонные суды (районные суды)',\n",
        "    '40000' : 'Международные организации на территории РФ',\n",
        "    '40001' : 'Межправительственные международные организации',\n",
        "    '40002' : 'Неправительственные международные организации',\n",
        "    '50000' : 'Физическое лицо',\n",
        "    '50100' : 'Организационно-правовые формы для коммерческой деятельности граждан',\n",
        "    '50101' : 'Главы крестьянских (фермерских) хозяйств',\n",
        "    '50102' : 'Индивидуальные предприниматели',\n",
        "    '50200' : 'Организационно-правовые формы для деятельности граждан, не отнесенной к предпринимательству',\n",
        "    '50201' : 'Адвокаты, учредившие адвокатский кабинет',\n",
        "    '50202' : 'Нотариусы, занимающиеся частной практикой',\n",
        "    '60000' : 'Юридические лица - коммерческие унитарные организации',\n",
        "    '65000' : 'Унитарные предприятия',\n",
        "    '65100' : 'Казенные предприятия',\n",
        "    '65141' : 'Федеральные казенные предприятия',\n",
        "    '65142' : 'Казенные предприятия субъектов РФ',\n",
        "    '65143' : 'Муниципальные казенные предприятия',\n",
        "    '65200' : 'Унитарные предприятия, основанные на праве хозяйственного ведения',\n",
        "    '65241' : 'Федеральные государственные унитарные предприятия',\n",
        "    '65242' : 'Государственные унитарные предприятия субъектов РФ',\n",
        "    '65243' : 'Муниципальные унитарные предприятия',\n",
        "    '70000' : 'Юридические лица - некоммерческие унитарные организации',\n",
        "    '70400' : 'Фонды',\n",
        "    '70401' : 'Благотворительные фонды',\n",
        "    '70402' : 'Негосударственные пенсионные фонды',\n",
        "    '70403' : 'Общественные фонды',\n",
        "    '70404' : 'Экологические фонды',\n",
        "    '71400' : 'Автономные некоммерческие организации',\n",
        "    '71500' : 'Религиозные организации',\n",
        "    '71600' : 'Публично-правовые компании',\n",
        "    '71601' : 'Государственные корпорации',\n",
        "    '71602' : 'Государственные компании',\n",
        "    '71610' : 'Отделения иностранных некоммерческих неправительственных организаций',\n",
        "    '75000' : 'Учреждения',\n",
        "    '75100' : 'Учреждения, созданные Российской Федерацией',\n",
        "    '75101' : 'Федеральные государственные автономные учреждения',\n",
        "    '75103' : 'Федеральные государственные бюджетные учреждения',\n",
        "    '75104' : 'Федеральные государственные казенные учреждения',\n",
        "    '75200' : 'Учреждения, созданные субъектом РФ',\n",
        "    '75201' : 'Государственные автономные учреждения субъектов РФ',\n",
        "    '75203' : 'Государственные бюджетные учреждения субъектов РФ',\n",
        "    '75204' : 'Государственные казенные учреждения субъектов РФ',\n",
        "    '75300' : 'Государственные академии наук',\n",
        "    '75400' : 'Муниципальные учреждения',\n",
        "    '75401' : 'Муниципальные автономные учреждения',\n",
        "    '75403' : 'Муниципальные бюджетные учреждения',\n",
        "    '75404' : 'Муниципальные казенные учреждения',\n",
        "    '75500' : 'Частные учреждения',\n",
        "    '75502' : 'Благотворительные учреждения',\n",
        "    '75505' : 'Общественные учреждения',\n",
        "}"
      ],
      "execution_count": 31,
      "outputs": []
    },
    {
      "cell_type": "code",
      "metadata": {
        "id": "T87koQJcYPQp"
      },
      "source": [
        "def OKOPF_sub(x):\n",
        "  if x in OKOPF:\n",
        "    return f\"({x}) {OKOPF[x]}\"\n",
        "  return 'Устаревшие категории'"
      ],
      "execution_count": 35,
      "outputs": []
    },
    {
      "cell_type": "code",
      "metadata": {
        "colab": {
          "base_uri": "https://localhost:8080/",
          "height": 651
        },
        "id": "cG9Y9945YP_R",
        "outputId": "170398f5-fa3d-4384-aa30-3db547bdd8b7"
      },
      "source": [
        "with sbs.plotting_context(font_scale=1.6):\n",
        "  data_to_plot = data.filter(['customer_legal_form', 'total'], axis=1).sort_values('customer_legal_form')\n",
        "  data_to_plot['customer_legal_form'] = data_to_plot['customer_legal_form'].map(OKOPF_sub)\n",
        "  g = sbs.catplot(y = 'customer_legal_form', x = 'total', kind ='box', height = 10, aspect = 2, data = data_to_plot, orient = 'h')\n",
        "  g.set(xscale = 'log', xlabel = 'Цена', ylabel = 'Типы Клиентов')\n",
        "  \n",
        "del data_to_plot\n",
        "del g\n",
        "gc.collect()"
      ],
      "execution_count": 36,
      "outputs": [
        {
          "output_type": "execute_result",
          "data": {
            "text/plain": [
              "396"
            ]
          },
          "metadata": {
            "tags": []
          },
          "execution_count": 36
        },
        {
          "output_type": "display_data",
          "data": {
            "image/png": "[encoded data removed]",
            "text/plain": [
              "<Figure size 1440x720 with 1 Axes>"
            ]
          },
          "metadata": {
            "tags": [],
            "needs_background": "light"
          }
        }
      ]
    },
    {
      "cell_type": "markdown",
      "metadata": {
        "id": "NMr5Z-FU14mH"
      },
      "source": [
        "Тип клиента и прохождение заявки"
      ]
    },
    {
      "cell_type": "code",
      "metadata": {
        "colab": {
          "base_uri": "https://localhost:8080/",
          "height": 1000
        },
        "id": "5g6k6PB_14JR",
        "outputId": "cacf95c9-f8a2-47c5-aaab-8e5461f5c7af"
      },
      "source": [
        "with sbs.plotting_context(font_scale=1.6):\n",
        "  data_to_plot = data.filter(['customer_legal_form', 'positionCanceled'])\n",
        "  data_to_plot['customer_legal_form'] = data_to_plot['customer_legal_form'].map(OKOPF_sub)\n",
        "  g = sbs.catplot(y = 'customer_legal_form', hue=\"positionCanceled\", kind=\"count\", height = 22, aspect = 1, data = data_to_plot, orient = 'h')\n",
        "  g.set(xscale = 'log', xlabel = 'Прохождение заявки', ylabel = 'ОКПД')\n",
        "\n",
        "del data_to_plot\n",
        "del g\n",
        "gc.collect()"
      ],
      "execution_count": 37,
      "outputs": [
        {
          "output_type": "execute_result",
          "data": {
            "text/plain": [
              "15476"
            ]
          },
          "metadata": {
            "tags": []
          },
          "execution_count": 37
        },
        {
          "output_type": "display_data",
          "data": {
            "image/png": "[encoded data removed]",
            "text/plain": [
              "<Figure size 1677.88x1584 with 1 Axes>"
            ]
          },
          "metadata": {
            "tags": [],
            "needs_background": "light"
          }
        }
      ]
    },
    {
      "cell_type": "markdown",
      "metadata": {
        "id": "7NxUSeZUayPL"
      },
      "source": [
        "Цена и продолжительность"
      ]
    },
    {
      "cell_type": "code",
      "metadata": {
        "colab": {
          "base_uri": "https://localhost:8080/",
          "height": 300
        },
        "id": "_MizqRJwZo3T",
        "outputId": "7af077e3-362c-47d0-998a-e02ed4ac203a"
      },
      "source": [
        "g = sbs.scatterplot(x = 'time', y = 'total', data = data)\n",
        "g.set(xscale = 'log', yscale = 'log', xlabel = 'Продолжительность контракта', ylabel = 'Цена')\n",
        "\n",
        "del g\n",
        "gc.collect()"
      ],
      "execution_count": null,
      "outputs": [
        {
          "output_type": "execute_result",
          "data": {
            "text/plain": [
              "9889"
            ]
          },
          "metadata": {
            "tags": []
          },
          "execution_count": 24
        },
        {
          "output_type": "display_data",
          "data": {
            "image/png": "[encoded data removed]",
            "text/plain": [
              "<Figure size 432x288 with 1 Axes>"
            ]
          },
          "metadata": {
            "tags": [],
            "needs_background": "light"
          }
        }
      ]
    },
    {
      "cell_type": "code",
      "metadata": {
        "colab": {
          "base_uri": "https://localhost:8080/",
          "height": 296
        },
        "id": "9QxvstqnnWNH",
        "outputId": "3a8a2c83-c140-4ab3-d3d5-88672d625a82"
      },
      "source": [
        "g = sbs.countplot(x = 'positionCanceled', data = data)\n",
        "g.set(xlabel = 'Отмена', ylabel = 'Отмена заявок')\n",
        "\n",
        "del g\n",
        "gc.collect()"
      ],
      "execution_count": null,
      "outputs": [
        {
          "output_type": "execute_result",
          "data": {
            "text/plain": [
              "1975"
            ]
          },
          "metadata": {
            "tags": []
          },
          "execution_count": 27
        },
        {
          "output_type": "display_data",
          "data": {
            "image/png": "[encoded data removed]",
            "text/plain": [
              "<Figure size 432x288 with 1 Axes>"
            ]
          },
          "metadata": {
            "tags": [],
            "needs_background": "light"
          }
        }
      ]
    },
    {
      "cell_type": "markdown",
      "metadata": {
        "id": "ZkKP8_0ZnDx5"
      },
      "source": [
        "Время и отмена"
      ]
    },
    {
      "cell_type": "code",
      "metadata": {
        "colab": {
          "base_uri": "https://localhost:8080/",
          "height": 400
        },
        "id": "a5oXrXL5nDFj",
        "outputId": "1c2e4672-47de-4899-a542-ca7e66a5e27d"
      },
      "source": [
        "g = sbs.catplot(x = 'positionCanceled', y = 'time', kind ='box', aspect = 1, data = data)\n",
        "g.set(yscale = 'log', xlabel = 'Отмена', ylabel = 'Время')\n",
        "\n",
        "del g\n",
        "gc.collect()"
      ],
      "execution_count": null,
      "outputs": [
        {
          "output_type": "execute_result",
          "data": {
            "text/plain": [
              "2058"
            ]
          },
          "metadata": {
            "tags": []
          },
          "execution_count": 28
        },
        {
          "output_type": "display_data",
          "data": {
            "image/png": "[encoded data removed]",
            "text/plain": [
              "<Figure size 360x360 with 1 Axes>"
            ]
          },
          "metadata": {
            "tags": [],
            "needs_background": "light"
          }
        }
      ]
    },
    {
      "cell_type": "markdown",
      "metadata": {
        "id": "w6gONroSnzbd"
      },
      "source": [
        "Цена и отмена"
      ]
    },
    {
      "cell_type": "code",
      "metadata": {
        "colab": {
          "base_uri": "https://localhost:8080/",
          "height": 389
        },
        "id": "z8E8CLREnx-c",
        "outputId": "f61ed89d-850e-45ad-dc18-9c1d7fa60de7"
      },
      "source": [
        "g = sbs.catplot(x = 'positionCanceled', y = 'total', kind ='box', aspect = 1, data = data)\n",
        "g.set(yscale = 'log', xlabel = 'Отмена', ylabel = 'Цена')\n",
        "\n",
        "del g\n",
        "gc.collect()"
      ],
      "execution_count": null,
      "outputs": [
        {
          "output_type": "execute_result",
          "data": {
            "text/plain": [
              "8479"
            ]
          },
          "metadata": {
            "tags": []
          },
          "execution_count": 29
        },
        {
          "output_type": "display_data",
          "data": {
            "image/png": "[encoded data removed]",
            "text/plain": [
              "<Figure size 360x360 with 1 Axes>"
            ]
          },
          "metadata": {
            "tags": [],
            "needs_background": "light"
          }
        }
      ]
    },
    {
      "cell_type": "markdown",
      "metadata": {
        "id": "qR5h1t6SoMT8"
      },
      "source": [
        "#Прогноз отмены"
      ]
    },
    {
      "cell_type": "markdown",
      "metadata": {
        "id": "9k4ba3W6Z_lA"
      },
      "source": [
        "Значимость признаков:\n",
        "* [70.3223, 'customer_legal_form'],\n",
        "* [23.3529, 'OKPD'],\n",
        "* [6.3248, 'KVRInfo'],\n",
        "* [0.0, 'total'],\n",
        "* [0.0, 'time'],\n",
        "* [0.0, 'publicDiscussion'],\n",
        "* [0.0, 'maxPrice'],\n",
        "* [0.0, 'OKFS']"
      ]
    },
    {
      "cell_type": "code",
      "metadata": {
        "id": "sb_851FBMBEe"
      },
      "source": [
        "cat_var = ['customer_legal_form',\n",
        "           'OKPD']"
      ],
      "execution_count": 159,
      "outputs": []
    },
    {
      "cell_type": "code",
      "metadata": {
        "colab": {
          "base_uri": "https://localhost:8080/",
          "height": 204
        },
        "id": "KRm8PUDX0Tpj",
        "outputId": "10e74846-e2ed-4598-ef16-24376466ca5e"
      },
      "source": [
        "data.head()"
      ],
      "execution_count": 284,
      "outputs": [
        {
          "output_type": "execute_result",
          "data": {
            "text/html": [
              "<div>\n",
              "<style scoped>\n",
              "    .dataframe tbody tr th:only-of-type {\n",
              "        vertical-align: middle;\n",
              "    }\n",
              "\n",
              "    .dataframe tbody tr th {\n",
              "        vertical-align: top;\n",
              "    }\n",
              "\n",
              "    .dataframe thead th {\n",
              "        text-align: right;\n",
              "    }\n",
              "</style>\n",
              "<table border=\"1\" class=\"dataframe\">\n",
              "  <thead>\n",
              "    <tr style=\"text-align: right;\">\n",
              "      <th></th>\n",
              "      <th>customer_legal_form</th>\n",
              "      <th>OKFS</th>\n",
              "      <th>KVRInfo</th>\n",
              "      <th>positionCanceled</th>\n",
              "      <th>publicDiscussion</th>\n",
              "      <th>total</th>\n",
              "      <th>time</th>\n",
              "      <th>OKPD</th>\n",
              "      <th>maxPrice</th>\n",
              "    </tr>\n",
              "  </thead>\n",
              "  <tbody>\n",
              "    <tr>\n",
              "      <th>0</th>\n",
              "      <td>75403</td>\n",
              "      <td>14.0</td>\n",
              "      <td>244.0</td>\n",
              "      <td>False</td>\n",
              "      <td>False</td>\n",
              "      <td>524637.0</td>\n",
              "      <td>731</td>\n",
              "      <td>35</td>\n",
              "      <td>174879.0</td>\n",
              "    </tr>\n",
              "    <tr>\n",
              "      <th>1</th>\n",
              "      <td>75404</td>\n",
              "      <td>14.0</td>\n",
              "      <td>244.0</td>\n",
              "      <td>False</td>\n",
              "      <td>False</td>\n",
              "      <td>30000.0</td>\n",
              "      <td>182</td>\n",
              "      <td>35</td>\n",
              "      <td>11700.0</td>\n",
              "    </tr>\n",
              "    <tr>\n",
              "      <th>2</th>\n",
              "      <td>75103</td>\n",
              "      <td>12.0</td>\n",
              "      <td>244.0</td>\n",
              "      <td>False</td>\n",
              "      <td>False</td>\n",
              "      <td>7800000.0</td>\n",
              "      <td>1461</td>\n",
              "      <td>35</td>\n",
              "      <td>2600000.0</td>\n",
              "    </tr>\n",
              "    <tr>\n",
              "      <th>3</th>\n",
              "      <td>75103</td>\n",
              "      <td>12.0</td>\n",
              "      <td>244.0</td>\n",
              "      <td>False</td>\n",
              "      <td>False</td>\n",
              "      <td>3675000.0</td>\n",
              "      <td>731</td>\n",
              "      <td>35</td>\n",
              "      <td>1225000.0</td>\n",
              "    </tr>\n",
              "    <tr>\n",
              "      <th>4</th>\n",
              "      <td>75103</td>\n",
              "      <td>12.0</td>\n",
              "      <td>244.0</td>\n",
              "      <td>False</td>\n",
              "      <td>False</td>\n",
              "      <td>900000.0</td>\n",
              "      <td>731</td>\n",
              "      <td>35</td>\n",
              "      <td>300000.0</td>\n",
              "    </tr>\n",
              "  </tbody>\n",
              "</table>\n",
              "</div>"
            ],
            "text/plain": [
              "  customer_legal_form  OKFS KVRInfo  ...  time OKPD   maxPrice\n",
              "0               75403  14.0   244.0  ...   731   35   174879.0\n",
              "1               75404  14.0   244.0  ...   182   35    11700.0\n",
              "2               75103  12.0   244.0  ...  1461   35  2600000.0\n",
              "3               75103  12.0   244.0  ...   731   35  1225000.0\n",
              "4               75103  12.0   244.0  ...   731   35   300000.0\n",
              "\n",
              "[5 rows x 9 columns]"
            ]
          },
          "metadata": {
            "tags": []
          },
          "execution_count": 284
        }
      ]
    },
    {
      "cell_type": "code",
      "metadata": {
        "id": "OfLJKNfSVsMG"
      },
      "source": [
        "x = data.drop(['publicDiscussion',\t'total', 'time', 'OKFS', 'maxPrice', 'KVRInfo'], axis=1)\n",
        "y = data.drop(['customer_legal_form',\t'publicDiscussion',\t'total', 'time',\t'OKPD', 'OKFS', 'KVRInfo', 'maxPrice'], axis=1)\n",
        "x_train, x_test, y_train, y_test = train_test_split(x, y, test_size=0.2, shuffle = False)"
      ],
      "execution_count": 279,
      "outputs": []
    },
    {
      "cell_type": "code",
      "metadata": {
        "colab": {
          "base_uri": "https://localhost:8080/"
        },
        "id": "-o5jWDXv8ZoM",
        "outputId": "b6962712-9765-4f9a-862a-1d81536d77ed"
      },
      "source": [
        "print(\"True\", len(x_train[x_train['positionCanceled']==True]))\n",
        "print(\"False\", len(x_train[x_train['positionCanceled']==False]))"
      ],
      "execution_count": 280,
      "outputs": [
        {
          "output_type": "stream",
          "text": [
            "True 1851\n",
            "False 37065\n"
          ],
          "name": "stdout"
        }
      ]
    },
    {
      "cell_type": "code",
      "metadata": {
        "colab": {
          "base_uri": "https://localhost:8080/"
        },
        "id": "fVsnoZczXogp",
        "outputId": "8f1ee0d6-9c33-44bf-cc02-59acee78a9ec"
      },
      "source": [
        "#Балансировка данных\n",
        "old_indexes = round(len(x_train[x_train['positionCanceled']==False])\n",
        " - len(x_train[x_train['positionCanceled']==True]))\n",
        "x_train.sort_values('positionCanceled', inplace = True)\n",
        "x_train = x_train.reset_index()\n",
        "x_train.drop(x_train[((x_train.index < old_indexes) & (x_train['positionCanceled']==False))].index, inplace=True)\n",
        "x_train = x_train.reset_index(drop=True)\n",
        "\n",
        "y_train.sort_values('positionCanceled', inplace = True)\n",
        "y_train = y_train.reset_index()\n",
        "y_train.drop(y_train[((y_train.index < old_indexes) & (y_train['positionCanceled']==False))].index, inplace=True)\n",
        "y_train = y_train.reset_index(drop=True)\n",
        "gc.collect()"
      ],
      "execution_count": 281,
      "outputs": [
        {
          "output_type": "stream",
          "text": [
            "/usr/local/lib/python3.7/dist-packages/ipykernel_launcher.py:4: SettingWithCopyWarning: \n",
            "A value is trying to be set on a copy of a slice from a DataFrame\n",
            "\n",
            "See the caveats in the documentation: https://pandas.pydata.org/pandas-docs/stable/user_guide/indexing.html#returning-a-view-versus-a-copy\n",
            "  after removing the cwd from sys.path.\n",
            "/usr/local/lib/python3.7/dist-packages/ipykernel_launcher.py:9: SettingWithCopyWarning: \n",
            "A value is trying to be set on a copy of a slice from a DataFrame\n",
            "\n",
            "See the caveats in the documentation: https://pandas.pydata.org/pandas-docs/stable/user_guide/indexing.html#returning-a-view-versus-a-copy\n",
            "  if __name__ == '__main__':\n"
          ],
          "name": "stderr"
        },
        {
          "output_type": "execute_result",
          "data": {
            "text/plain": [
              "0"
            ]
          },
          "metadata": {
            "tags": []
          },
          "execution_count": 281
        }
      ]
    },
    {
      "cell_type": "code",
      "metadata": {
        "id": "8WFPPrG5ZCb3",
        "colab": {
          "base_uri": "https://localhost:8080/"
        },
        "outputId": "4043110f-9800-40df-b794-4b48031d929d"
      },
      "source": [
        "print(\"True\", len(x_train[x_train['positionCanceled']==True]))\n",
        "print(\"False\", len(x_train[x_train['positionCanceled']==False]))\n",
        "\n",
        "print('True', len(y_train[y_train['positionCanceled'] == True].index))\n",
        "print('False', len(y_train[y_train['positionCanceled'] == False].index))\n",
        "print(\"Разница в трен данных:\", 1 - len(y_train[y_train['positionCanceled'] == False].index)/len(y_train[y_train['positionCanceled'] == True].index))"
      ],
      "execution_count": 282,
      "outputs": [
        {
          "output_type": "stream",
          "text": [
            "True 1851\n",
            "False 1851\n",
            "True 1851\n",
            "False 1851\n",
            "Разница в трен данных: 0.0\n"
          ],
          "name": "stdout"
        }
      ]
    },
    {
      "cell_type": "code",
      "metadata": {
        "colab": {
          "base_uri": "https://localhost:8080/"
        },
        "id": "BRR3WmxFZuZk",
        "outputId": "70150608-33ac-492b-b9cd-e75d629ddb9a"
      },
      "source": [
        "print(\"True\", len(x_test[x_test['positionCanceled']==True]))\n",
        "print(\"False\", len(x_test[x_test['positionCanceled']==False]))"
      ],
      "execution_count": 283,
      "outputs": [
        {
          "output_type": "stream",
          "text": [
            "True 247\n",
            "False 9483\n"
          ],
          "name": "stdout"
        }
      ]
    },
    {
      "cell_type": "code",
      "metadata": {
        "id": "7xbHZxQMaID6",
        "colab": {
          "base_uri": "https://localhost:8080/"
        },
        "outputId": "db306fca-da7f-4077-88f4-19e616d9c4b5"
      },
      "source": [
        "x_train_True = x_train[x_train['positionCanceled']==True]\n",
        "x_train_False = x_train[x_train['positionCanceled']==False]\n",
        "y_train_True = y_train[y_train['positionCanceled']==True]\n",
        "y_train_False = y_train[y_train['positionCanceled']==False]\n",
        "\n",
        "percent = 0.22 #% разницы между тренировочными True и False\n",
        "droped = round(len(y_train_True)*percent)\n",
        "x_train_False.drop(x_train_False[x_train_False.index < droped].index, inplace=True)\n",
        "x_train_False = x_train_False.reset_index(drop=True)\n",
        "y_train_False.drop(y_train_False[y_train_False.index < droped].index, inplace=True)\n",
        "y_train_False = y_train_False.reset_index(drop=True)"
      ],
      "execution_count": 285,
      "outputs": [
        {
          "output_type": "stream",
          "text": [
            "/usr/local/lib/python3.7/dist-packages/pandas/core/frame.py:4174: SettingWithCopyWarning: \n",
            "A value is trying to be set on a copy of a slice from a DataFrame\n",
            "\n",
            "See the caveats in the documentation: https://pandas.pydata.org/pandas-docs/stable/user_guide/indexing.html#returning-a-view-versus-a-copy\n",
            "  errors=errors,\n",
            "/usr/local/lib/python3.7/dist-packages/pandas/core/frame.py:4174: SettingWithCopyWarning: \n",
            "A value is trying to be set on a copy of a slice from a DataFrame\n",
            "\n",
            "See the caveats in the documentation: https://pandas.pydata.org/pandas-docs/stable/user_guide/indexing.html#returning-a-view-versus-a-copy\n",
            "  errors=errors,\n"
          ],
          "name": "stderr"
        }
      ]
    },
    {
      "cell_type": "code",
      "metadata": {
        "id": "b9zIMmPSaxg3"
      },
      "source": [
        "x_train = pd.concat([x_train_False, x_train_True])\n",
        "y_train = pd.concat([y_train_False, y_train_True])\n",
        "\n",
        "x_train.sort_values('index', inplace = True)\n",
        "y_train.sort_values('index', inplace = True)"
      ],
      "execution_count": 286,
      "outputs": []
    },
    {
      "cell_type": "code",
      "metadata": {
        "colab": {
          "base_uri": "https://localhost:8080/"
        },
        "id": "W3UgL0Bmbnsb",
        "outputId": "c13b3aff-87aa-4d6e-b268-7a6b91f70733"
      },
      "source": [
        "print('True', len(y_train[y_train['positionCanceled'] == True].index))\n",
        "print('False', len(y_train[y_train['positionCanceled'] == False].index))\n",
        "print(\"Разница в трен данных:\", 1 - len(y_train[y_train['positionCanceled'] == False].index)/len(y_train[y_train['positionCanceled'] == True].index))"
      ],
      "execution_count": 287,
      "outputs": [
        {
          "output_type": "stream",
          "text": [
            "True 1851\n",
            "False 1444\n",
            "Разница в трен данных: 0.21988114532685032\n"
          ],
          "name": "stdout"
        }
      ]
    },
    {
      "cell_type": "code",
      "metadata": {
        "colab": {
          "base_uri": "https://localhost:8080/"
        },
        "id": "52YhVRevbr-i",
        "outputId": "03cd5a1d-4b45-4256-99c7-7c24c7270e2f"
      },
      "source": [
        "print('True', len(y_test[y_test['positionCanceled'] == True].index))\n",
        "print('False', len(y_test[y_test['positionCanceled'] == False].index))"
      ],
      "execution_count": 288,
      "outputs": [
        {
          "output_type": "stream",
          "text": [
            "True 247\n",
            "False 9483\n"
          ],
          "name": "stdout"
        }
      ]
    },
    {
      "cell_type": "code",
      "metadata": {
        "id": "8IUddto9LrKe"
      },
      "source": [
        "x_train = x_train.drop(['positionCanceled', 'index'], axis=1)\n",
        "y_train = y_train.drop(['index'], axis=1)\n",
        "x_test = x_test.drop(['positionCanceled'], axis=1)"
      ],
      "execution_count": 289,
      "outputs": []
    },
    {
      "cell_type": "code",
      "metadata": {
        "id": "hF8RJq2QLue9",
        "colab": {
          "base_uri": "https://localhost:8080/"
        },
        "outputId": "8e444734-14e7-4ec4-ee4f-c5adfec7a018"
      },
      "source": [
        "del x_train_True, x_train_False, y_train_True, y_train_False, x, y\n",
        "gc.collect()"
      ],
      "execution_count": 290,
      "outputs": [
        {
          "output_type": "execute_result",
          "data": {
            "text/plain": [
              "558"
            ]
          },
          "metadata": {
            "tags": []
          },
          "execution_count": 290
        }
      ]
    },
    {
      "cell_type": "code",
      "metadata": {
        "id": "XVkYCrfqiLUb",
        "colab": {
          "base_uri": "https://localhost:8080/"
        },
        "outputId": "b33c60ce-ac6d-4ffa-d20a-5140d3c18781"
      },
      "source": [
        "y_train = LabelEncoder().fit_transform(y_train)\n",
        "y_test = LabelEncoder().fit_transform(y_test)"
      ],
      "execution_count": 291,
      "outputs": [
        {
          "output_type": "stream",
          "text": [
            "/usr/local/lib/python3.7/dist-packages/sklearn/preprocessing/_label.py:251: DataConversionWarning: A column-vector y was passed when a 1d array was expected. Please change the shape of y to (n_samples, ), for example using ravel().\n",
            "  y = column_or_1d(y, warn=True)\n"
          ],
          "name": "stderr"
        }
      ]
    },
    {
      "cell_type": "code",
      "metadata": {
        "colab": {
          "base_uri": "https://localhost:8080/",
          "height": 483
        },
        "id": "VkW3uvK-ogLf",
        "outputId": "54c343a6-88be-4642-fce3-c4d72df56759"
      },
      "source": [
        "cat_features = cat_var\n",
        "\n",
        "parameters = {\n",
        "    \"n_estimators\": [10],\n",
        "    \"learning_rate\": [0.5],\n",
        "    \"max_depth\": [5],\n",
        "}\n",
        "\n",
        "model_catboost = CatBoostClassifier(\n",
        "    cat_features = cat_features,\n",
        "    random_state=42,\n",
        "    task_type=\"GPU\",\n",
        "    devices='0:1',\n",
        ")\n",
        "\n",
        "model_catboost = GridSearchCV(\n",
        "    model_catboost, \n",
        "    parameters, \n",
        "    cv=5,\n",
        "    scoring='accuracy',\n",
        ")\n",
        "\n",
        "model_catboost.fit(x_train, y_train, eval_set=(x_test, y_test),\n",
        "             use_best_model=True,\n",
        "             verbose=False)\n",
        "\n",
        "print(f'Best parameters {model_catboost.best_params_}')\n",
        "print(\n",
        "    f'Mean cross-validated accuracy score of the best_estimator: ' + \n",
        "    f'{model_catboost.best_score_:.3f}'\n",
        ")\n",
        "\n",
        "y_pred = model_catboost.predict(x_test)\n",
        "print(classification_report(y_test, y_pred, target_names=['False', 'True']))\n",
        "\n",
        "cm = confusion_matrix(y_test, y_pred, labels=model_catboost.classes_)\n",
        "disp = ConfusionMatrixDisplay(confusion_matrix=cm, display_labels=model_catboost.classes_)\n",
        "disp.plot()\n",
        "\n",
        "del y_pred\n",
        "gc.collect()"
      ],
      "execution_count": 296,
      "outputs": [
        {
          "output_type": "stream",
          "text": [
            "Best parameters {'learning_rate': 0.5, 'max_depth': 5, 'n_estimators': 10}\n",
            "Mean cross-validated accuracy score of the best_estimator: 0.662\n",
            "              precision    recall  f1-score   support\n",
            "\n",
            "       False       1.00      0.28      0.44      9483\n",
            "        True       0.03      0.96      0.06       247\n",
            "\n",
            "    accuracy                           0.30      9730\n",
            "   macro avg       0.51      0.62      0.25      9730\n",
            "weighted avg       0.97      0.30      0.43      9730\n",
            "\n"
          ],
          "name": "stdout"
        },
        {
          "output_type": "execute_result",
          "data": {
            "text/plain": [
              "3722"
            ]
          },
          "metadata": {
            "tags": []
          },
          "execution_count": 296
        },
        {
          "output_type": "display_data",
          "data": {
            "image/png": "[encoded data removed]",
            "text/plain": [
              "<Figure size 432x288 with 2 Axes>"
            ]
          },
          "metadata": {
            "tags": [],
            "needs_background": "light"
          }
        }
      ]
    },
    {
      "cell_type": "code",
      "metadata": {
        "colab": {
          "base_uri": "https://localhost:8080/"
        },
        "id": "g1oyoi8gk8ZB",
        "outputId": "d2e1810f-7b41-4708-82b8-82befb6ec767"
      },
      "source": [
        "#значимость признаков для леса\n",
        "importances = model_catboost.best_estimator_.get_feature_importance()\n",
        "indices = np.argsort(importances)[::-1]\n",
        "col = ['customer_legal_form', 'OKPD']\n",
        "ar_f=[]\n",
        "for f, idx in enumerate(indices):\n",
        "    ar_f.append([round(importances[idx],4), col[idx]])\n",
        "print(\"Значимость признаков:\")\n",
        "ar_f.sort(reverse=True)\n",
        "ar_f"
      ],
      "execution_count": 297,
      "outputs": [
        {
          "output_type": "stream",
          "text": [
            "Значимость признаков:\n"
          ],
          "name": "stdout"
        },
        {
          "output_type": "execute_result",
          "data": {
            "text/plain": [
              "[[63.9604, 'customer_legal_form'], [36.0396, 'OKPD']]"
            ]
          },
          "metadata": {
            "tags": []
          },
          "execution_count": 297
        }
      ]
    },
    {
      "cell_type": "code",
      "metadata": {
        "id": "mufIGiRPbDS7"
      },
      "source": [
        "model_catboost.best_estimator_.save_model(\"/content/drive/MyDrive/Модели-предсказатели завершенности тендеров/auction/catboost(isCanseled)\")"
      ],
      "execution_count": 299,
      "outputs": []
    },
    {
      "cell_type": "markdown",
      "metadata": {
        "id": "_IQUHpN2bVg8"
      },
      "source": [
        "# Обработка новых данных"
      ]
    },
    {
      "cell_type": "code",
      "metadata": {
        "colab": {
          "base_uri": "https://localhost:8080/"
        },
        "id": "IFRoAGRCbYjC",
        "outputId": "54ffd8ca-970a-4689-97e0-2199358ce1dd"
      },
      "source": [
        "!gdown --id 18LC4oLeERpFgYrpGT-M6TBMqoZwbYsZR"
      ],
      "execution_count": null,
      "outputs": [
        {
          "output_type": "stream",
          "text": [
            "Downloading...\n",
            "From: https://drive.google.com/uc?id=18LC4oLeERpFgYrpGT-M6TBMqoZwbYsZR\n",
            "To: /content/purchase_plans.csv\n",
            "661MB [00:03, 193MB/s]\n"
          ],
          "name": "stdout"
        }
      ]
    },
    {
      "cell_type": "code",
      "metadata": {
        "colab": {
          "base_uri": "https://localhost:8080/"
        },
        "id": "oI8q--Xabmg5",
        "outputId": "18d80914-0fa8-481b-e9af-97b9a6dcbdf7"
      },
      "source": [
        "!gdown --id 1YTGkut9qlmVSC1o1H6vrzxpR5WsetynX"
      ],
      "execution_count": null,
      "outputs": [
        {
          "output_type": "stream",
          "text": [
            "Downloading...\n",
            "From: https://drive.google.com/uc?id=1YTGkut9qlmVSC1o1H6vrzxpR5WsetynX\n",
            "To: /content/tenderplans2017.csv\n",
            "946MB [00:20, 46.8MB/s]\n"
          ],
          "name": "stdout"
        }
      ]
    },
    {
      "cell_type": "code",
      "metadata": {
        "colab": {
          "base_uri": "https://localhost:8080/"
        },
        "id": "9l1NS7JQbqzy",
        "outputId": "aec0cf31-8e5a-4a9b-c804-b9a93d6433c5"
      },
      "source": [
        "!gdown --id 1JiAvvLATEHx7YFfLYyjQp6U3i80iBVqu"
      ],
      "execution_count": null,
      "outputs": [
        {
          "output_type": "stream",
          "text": [
            "Downloading...\n",
            "From: https://drive.google.com/uc?id=1JiAvvLATEHx7YFfLYyjQp6U3i80iBVqu\n",
            "To: /content/tenderplans2020.csv\n",
            "362MB [00:08, 45.1MB/s]\n"
          ],
          "name": "stdout"
        }
      ]
    },
    {
      "cell_type": "code",
      "metadata": {
        "colab": {
          "base_uri": "https://localhost:8080/",
          "height": 439
        },
        "id": "PTh5cETTfWy0",
        "outputId": "f34a82c0-d42b-4c44-8f0d-e78832b27ab5"
      },
      "source": [
        "data"
      ],
      "execution_count": null,
      "outputs": [
        {
          "output_type": "execute_result",
          "data": {
            "text/html": [
              "<div>\n",
              "<style scoped>\n",
              "    .dataframe tbody tr th:only-of-type {\n",
              "        vertical-align: middle;\n",
              "    }\n",
              "\n",
              "    .dataframe tbody tr th {\n",
              "        vertical-align: top;\n",
              "    }\n",
              "\n",
              "    .dataframe thead th {\n",
              "        text-align: right;\n",
              "    }\n",
              "</style>\n",
              "<table border=\"1\" class=\"dataframe\">\n",
              "  <thead>\n",
              "    <tr style=\"text-align: right;\">\n",
              "      <th></th>\n",
              "      <th>plan_number</th>\n",
              "      <th>customer_legal_form</th>\n",
              "      <th>positionNumber</th>\n",
              "      <th>positionCanceled</th>\n",
              "      <th>publicDiscussion</th>\n",
              "      <th>total</th>\n",
              "      <th>isEnergyServiceContract</th>\n",
              "      <th>time</th>\n",
              "      <th>OKPD</th>\n",
              "      <th>log_total</th>\n",
              "    </tr>\n",
              "  </thead>\n",
              "  <tbody>\n",
              "    <tr>\n",
              "      <th>0</th>\n",
              "      <td>201801133000253003</td>\n",
              "      <td>75404</td>\n",
              "      <td>201801133000253003000150</td>\n",
              "      <td>False</td>\n",
              "      <td>false</td>\n",
              "      <td>97522.23</td>\n",
              "      <td>false</td>\n",
              "      <td>44</td>\n",
              "      <td>95.12.10.000</td>\n",
              "      <td>11.487836</td>\n",
              "    </tr>\n",
              "    <tr>\n",
              "      <th>1</th>\n",
              "      <td>201901133000089001</td>\n",
              "      <td>75404</td>\n",
              "      <td>201901133000089001000001</td>\n",
              "      <td>True</td>\n",
              "      <td>false</td>\n",
              "      <td>195000.00</td>\n",
              "      <td>false</td>\n",
              "      <td>31</td>\n",
              "      <td>35.11.10.000</td>\n",
              "      <td>12.180755</td>\n",
              "    </tr>\n",
              "    <tr>\n",
              "      <th>2</th>\n",
              "      <td>201901133000074001</td>\n",
              "      <td>75404</td>\n",
              "      <td>201901133000074001000001</td>\n",
              "      <td>False</td>\n",
              "      <td>false</td>\n",
              "      <td>3117.87</td>\n",
              "      <td>false</td>\n",
              "      <td>365</td>\n",
              "      <td>19.20.21.125</td>\n",
              "      <td>8.044905</td>\n",
              "    </tr>\n",
              "    <tr>\n",
              "      <th>3</th>\n",
              "      <td>201901133000089001</td>\n",
              "      <td>75404</td>\n",
              "      <td>201901133000089001000016</td>\n",
              "      <td>False</td>\n",
              "      <td>false</td>\n",
              "      <td>16000.00</td>\n",
              "      <td>false</td>\n",
              "      <td>365</td>\n",
              "      <td>61.10.11.110</td>\n",
              "      <td>9.680344</td>\n",
              "    </tr>\n",
              "    <tr>\n",
              "      <th>4</th>\n",
              "      <td>201901133000089001</td>\n",
              "      <td>75404</td>\n",
              "      <td>201901133000089001000001</td>\n",
              "      <td>True</td>\n",
              "      <td>false</td>\n",
              "      <td>195000.00</td>\n",
              "      <td>false</td>\n",
              "      <td>31</td>\n",
              "      <td>35.11.10.000</td>\n",
              "      <td>12.180755</td>\n",
              "    </tr>\n",
              "    <tr>\n",
              "      <th>...</th>\n",
              "      <td>...</td>\n",
              "      <td>...</td>\n",
              "      <td>...</td>\n",
              "      <td>...</td>\n",
              "      <td>...</td>\n",
              "      <td>...</td>\n",
              "      <td>...</td>\n",
              "      <td>...</td>\n",
              "      <td>...</td>\n",
              "      <td>...</td>\n",
              "    </tr>\n",
              "    <tr>\n",
              "      <th>49199</th>\n",
              "      <td>201903133000056002</td>\n",
              "      <td>75404</td>\n",
              "      <td>201903133000056002000060</td>\n",
              "      <td>False</td>\n",
              "      <td>false</td>\n",
              "      <td>200000.00</td>\n",
              "      <td>false</td>\n",
              "      <td>122</td>\n",
              "      <td>62.01.29.000</td>\n",
              "      <td>12.206073</td>\n",
              "    </tr>\n",
              "    <tr>\n",
              "      <th>49200</th>\n",
              "      <td>201903133000056002</td>\n",
              "      <td>75404</td>\n",
              "      <td>201903133000056002000060</td>\n",
              "      <td>False</td>\n",
              "      <td>false</td>\n",
              "      <td>200000.00</td>\n",
              "      <td>false</td>\n",
              "      <td>122</td>\n",
              "      <td>62.01.29.000</td>\n",
              "      <td>12.206073</td>\n",
              "    </tr>\n",
              "    <tr>\n",
              "      <th>49201</th>\n",
              "      <td>201903133000056002</td>\n",
              "      <td>75404</td>\n",
              "      <td>201903133000056002000060</td>\n",
              "      <td>False</td>\n",
              "      <td>false</td>\n",
              "      <td>200000.00</td>\n",
              "      <td>false</td>\n",
              "      <td>122</td>\n",
              "      <td>62.01.29.000</td>\n",
              "      <td>12.206073</td>\n",
              "    </tr>\n",
              "    <tr>\n",
              "      <th>49202</th>\n",
              "      <td>201903133000056002</td>\n",
              "      <td>75404</td>\n",
              "      <td>201903133000056002000060</td>\n",
              "      <td>False</td>\n",
              "      <td>false</td>\n",
              "      <td>200000.00</td>\n",
              "      <td>false</td>\n",
              "      <td>122</td>\n",
              "      <td>62.01.29.000</td>\n",
              "      <td>12.206073</td>\n",
              "    </tr>\n",
              "    <tr>\n",
              "      <th>49203</th>\n",
              "      <td>201903133000056002</td>\n",
              "      <td>75404</td>\n",
              "      <td>201903133000056002000060</td>\n",
              "      <td>False</td>\n",
              "      <td>false</td>\n",
              "      <td>200000.00</td>\n",
              "      <td>false</td>\n",
              "      <td>122</td>\n",
              "      <td>62.01.29.000</td>\n",
              "      <td>12.206073</td>\n",
              "    </tr>\n",
              "  </tbody>\n",
              "</table>\n",
              "<p>49204 rows × 10 columns</p>\n",
              "</div>"
            ],
            "text/plain": [
              "              plan_number customer_legal_form  ...          OKPD  log_total\n",
              "0      201801133000253003               75404  ...  95.12.10.000  11.487836\n",
              "1      201901133000089001               75404  ...  35.11.10.000  12.180755\n",
              "2      201901133000074001               75404  ...  19.20.21.125   8.044905\n",
              "3      201901133000089001               75404  ...  61.10.11.110   9.680344\n",
              "4      201901133000089001               75404  ...  35.11.10.000  12.180755\n",
              "...                   ...                 ...  ...           ...        ...\n",
              "49199  201903133000056002               75404  ...  62.01.29.000  12.206073\n",
              "49200  201903133000056002               75404  ...  62.01.29.000  12.206073\n",
              "49201  201903133000056002               75404  ...  62.01.29.000  12.206073\n",
              "49202  201903133000056002               75404  ...  62.01.29.000  12.206073\n",
              "49203  201903133000056002               75404  ...  62.01.29.000  12.206073\n",
              "\n",
              "[49204 rows x 10 columns]"
            ]
          },
          "metadata": {
            "tags": []
          },
          "execution_count": 170
        }
      ]
    },
    {
      "cell_type": "code",
      "metadata": {
        "colab": {
          "base_uri": "https://localhost:8080/",
          "height": 473
        },
        "id": "ZXgw3MuxcUDd",
        "outputId": "460687c2-e438-4fa0-e49b-edc506efb574"
      },
      "source": [
        "contract_path1 = 'purchase_plans.csv'\n",
        "data = pd.read_csv(contract_path1)\n",
        "data = data.drop(['id', 'periodicity', 'publish_date', 'isEnergyServiceContract', 'currentYear','firstYear', 'secondYear', 'subsecYears'], axis=1)\n",
        "data['execution_period_start'] = pd.to_datetime(data['execution_period_start'], format = \"%Y-%m-%d\", errors = 'coerce')\n",
        "data['execution_period_end'] = pd.to_datetime(data['execution_period_end'], format = \"%Y-%m-%d\", errors = 'coerce')\n",
        "data.sort_values('execution_period_start', inplace = True)\n",
        "data.dropna(inplace = True)\n",
        "data = data.reset_index(drop=True)\n",
        "gc.collect()\n",
        "data"
      ],
      "execution_count": null,
      "outputs": [
        {
          "output_type": "stream",
          "text": [
            "/usr/local/lib/python3.7/dist-packages/IPython/core/interactiveshell.py:2718: DtypeWarning: Columns (18) have mixed types.Specify dtype option on import or set low_memory=False.\n",
            "  interactivity=interactivity, compiler=compiler, result=result)\n"
          ],
          "name": "stderr"
        },
        {
          "output_type": "execute_result",
          "data": {
            "text/html": [
              "<div>\n",
              "<style scoped>\n",
              "    .dataframe tbody tr th:only-of-type {\n",
              "        vertical-align: middle;\n",
              "    }\n",
              "\n",
              "    .dataframe tbody tr th {\n",
              "        vertical-align: top;\n",
              "    }\n",
              "\n",
              "    .dataframe thead th {\n",
              "        text-align: right;\n",
              "    }\n",
              "</style>\n",
              "<table border=\"1\" class=\"dataframe\">\n",
              "  <thead>\n",
              "    <tr style=\"text-align: right;\">\n",
              "      <th></th>\n",
              "      <th>plan_number</th>\n",
              "      <th>customer_legal_form</th>\n",
              "      <th>OKFS</th>\n",
              "      <th>positionNumber</th>\n",
              "      <th>product_info</th>\n",
              "      <th>KVRInfo</th>\n",
              "      <th>execution_period_start</th>\n",
              "      <th>execution_period_end</th>\n",
              "      <th>positionCanceled</th>\n",
              "      <th>publicDiscussion</th>\n",
              "      <th>total</th>\n",
              "    </tr>\n",
              "  </thead>\n",
              "  <tbody>\n",
              "    <tr>\n",
              "      <th>0</th>\n",
              "      <td>201703133000188001</td>\n",
              "      <td>75403</td>\n",
              "      <td>14.0</td>\n",
              "      <td>201703133000188001000001</td>\n",
              "      <td>35.14.10.000</td>\n",
              "      <td>244.0</td>\n",
              "      <td>2016-01-01</td>\n",
              "      <td>2017-12-31</td>\n",
              "      <td>False</td>\n",
              "      <td>False</td>\n",
              "      <td>524637.0</td>\n",
              "    </tr>\n",
              "    <tr>\n",
              "      <th>1</th>\n",
              "      <td>201703133000164001</td>\n",
              "      <td>75404</td>\n",
              "      <td>14.0</td>\n",
              "      <td>201703133000164001000002</td>\n",
              "      <td>35.11.10.110</td>\n",
              "      <td>244.0</td>\n",
              "      <td>2016-01-01</td>\n",
              "      <td>2016-06-30</td>\n",
              "      <td>False</td>\n",
              "      <td>False</td>\n",
              "      <td>30000.0</td>\n",
              "    </tr>\n",
              "    <tr>\n",
              "      <th>2</th>\n",
              "      <td>201703133000499001</td>\n",
              "      <td>75403</td>\n",
              "      <td>14.0</td>\n",
              "      <td>201703133000499001000001</td>\n",
              "      <td>35.30.11.120</td>\n",
              "      <td>244.0</td>\n",
              "      <td>2016-01-01</td>\n",
              "      <td>2016-06-30</td>\n",
              "      <td>False</td>\n",
              "      <td>False</td>\n",
              "      <td>188000.0</td>\n",
              "    </tr>\n",
              "    <tr>\n",
              "      <th>3</th>\n",
              "      <td>201703131000014001</td>\n",
              "      <td>75103</td>\n",
              "      <td>12.0</td>\n",
              "      <td>201703131000014001000001</td>\n",
              "      <td>35.30.11.120</td>\n",
              "      <td>244.0</td>\n",
              "      <td>2016-01-01</td>\n",
              "      <td>2019-12-31</td>\n",
              "      <td>False</td>\n",
              "      <td>False</td>\n",
              "      <td>7800000.0</td>\n",
              "    </tr>\n",
              "    <tr>\n",
              "      <th>4</th>\n",
              "      <td>201703131000014001</td>\n",
              "      <td>75103</td>\n",
              "      <td>12.0</td>\n",
              "      <td>201703131000014001000003</td>\n",
              "      <td>35.11.10.110</td>\n",
              "      <td>244.0</td>\n",
              "      <td>2016-01-01</td>\n",
              "      <td>2017-12-31</td>\n",
              "      <td>False</td>\n",
              "      <td>False</td>\n",
              "      <td>3675000.0</td>\n",
              "    </tr>\n",
              "    <tr>\n",
              "      <th>...</th>\n",
              "      <td>...</td>\n",
              "      <td>...</td>\n",
              "      <td>...</td>\n",
              "      <td>...</td>\n",
              "      <td>...</td>\n",
              "      <td>...</td>\n",
              "      <td>...</td>\n",
              "      <td>...</td>\n",
              "      <td>...</td>\n",
              "      <td>...</td>\n",
              "      <td>...</td>\n",
              "    </tr>\n",
              "    <tr>\n",
              "      <th>1832310</th>\n",
              "      <td>201701131000051001</td>\n",
              "      <td>75104</td>\n",
              "      <td>12.0</td>\n",
              "      <td>201701131000051001000041</td>\n",
              "      <td>35.30.11.111</td>\n",
              "      <td>244.0</td>\n",
              "      <td>2108-01-01</td>\n",
              "      <td>2018-12-01</td>\n",
              "      <td>False</td>\n",
              "      <td>False</td>\n",
              "      <td>1909080.0</td>\n",
              "    </tr>\n",
              "    <tr>\n",
              "      <th>1832311</th>\n",
              "      <td>201701131000051001</td>\n",
              "      <td>75104</td>\n",
              "      <td>12.0</td>\n",
              "      <td>201701131000051001000041</td>\n",
              "      <td>35.30.11.111</td>\n",
              "      <td>244.0</td>\n",
              "      <td>2108-01-01</td>\n",
              "      <td>2018-12-01</td>\n",
              "      <td>False</td>\n",
              "      <td>False</td>\n",
              "      <td>1909080.0</td>\n",
              "    </tr>\n",
              "    <tr>\n",
              "      <th>1832312</th>\n",
              "      <td>201701131000051001</td>\n",
              "      <td>75104</td>\n",
              "      <td>12.0</td>\n",
              "      <td>201701131000051001000041</td>\n",
              "      <td>35.30.11.111</td>\n",
              "      <td>244.0</td>\n",
              "      <td>2108-01-01</td>\n",
              "      <td>2018-12-01</td>\n",
              "      <td>False</td>\n",
              "      <td>False</td>\n",
              "      <td>1909080.0</td>\n",
              "    </tr>\n",
              "    <tr>\n",
              "      <th>1832313</th>\n",
              "      <td>201701131000051001</td>\n",
              "      <td>75104</td>\n",
              "      <td>12.0</td>\n",
              "      <td>201701131000051001000041</td>\n",
              "      <td>35.30.11.111</td>\n",
              "      <td>244.0</td>\n",
              "      <td>2108-01-01</td>\n",
              "      <td>2018-12-01</td>\n",
              "      <td>False</td>\n",
              "      <td>False</td>\n",
              "      <td>1909080.0</td>\n",
              "    </tr>\n",
              "    <tr>\n",
              "      <th>1832314</th>\n",
              "      <td>201701131000051001</td>\n",
              "      <td>75104</td>\n",
              "      <td>12.0</td>\n",
              "      <td>201701131000051001000041</td>\n",
              "      <td>35.30.11.111</td>\n",
              "      <td>244.0</td>\n",
              "      <td>2108-01-01</td>\n",
              "      <td>2018-12-01</td>\n",
              "      <td>False</td>\n",
              "      <td>False</td>\n",
              "      <td>1909080.0</td>\n",
              "    </tr>\n",
              "  </tbody>\n",
              "</table>\n",
              "<p>1832315 rows × 11 columns</p>\n",
              "</div>"
            ],
            "text/plain": [
              "                plan_number  customer_legal_form  ...  publicDiscussion      total\n",
              "0        201703133000188001                75403  ...             False   524637.0\n",
              "1        201703133000164001                75404  ...             False    30000.0\n",
              "2        201703133000499001                75403  ...             False   188000.0\n",
              "3        201703131000014001                75103  ...             False  7800000.0\n",
              "4        201703131000014001                75103  ...             False  3675000.0\n",
              "...                     ...                  ...  ...               ...        ...\n",
              "1832310  201701131000051001                75104  ...             False  1909080.0\n",
              "1832311  201701131000051001                75104  ...             False  1909080.0\n",
              "1832312  201701131000051001                75104  ...             False  1909080.0\n",
              "1832313  201701131000051001                75104  ...             False  1909080.0\n",
              "1832314  201701131000051001                75104  ...             False  1909080.0\n",
              "\n",
              "[1832315 rows x 11 columns]"
            ]
          },
          "metadata": {
            "tags": []
          },
          "execution_count": 7
        }
      ]
    },
    {
      "cell_type": "code",
      "metadata": {
        "id": "HaJrzRUfoe9R"
      },
      "source": [
        "data = data[(data['execution_period_start'] < pd.to_datetime('2100-01-01', format=\"%Y-%m-%d\")) & (data['execution_period_start'] > pd.to_datetime('1991-01-01', format=\"%Y-%m-%d\"))]\n",
        "data = data[(data['execution_period_end'] < pd.to_datetime('2100-01-01', format=\"%Y-%m-%d\")) & (data['execution_period_end'] > pd.to_datetime('1991-01-01', format=\"%Y-%m-%d\"))]"
      ],
      "execution_count": null,
      "outputs": []
    },
    {
      "cell_type": "code",
      "metadata": {
        "colab": {
          "base_uri": "https://localhost:8080/"
        },
        "id": "wVCnUKnSokWh",
        "outputId": "1ef0b888-15db-4348-fb7d-d22efb06a57c"
      },
      "source": [
        "def calculate_time_period(row):\n",
        "  return ((row['execution_period_end'] - row['execution_period_start']).days + 1)\n",
        "\n",
        "data['time'] = data[['execution_period_end', 'execution_period_start']].apply(calculate_time_period, axis=1)\n",
        "gc.collect()"
      ],
      "execution_count": null,
      "outputs": [
        {
          "output_type": "execute_result",
          "data": {
            "text/plain": [
              "0"
            ]
          },
          "metadata": {
            "tags": []
          },
          "execution_count": 9
        }
      ]
    },
    {
      "cell_type": "code",
      "metadata": {
        "id": "4T3R6N2jqvj7"
      },
      "source": [
        "data = data[(data['total'] > 0)]"
      ],
      "execution_count": null,
      "outputs": []
    },
    {
      "cell_type": "code",
      "metadata": {
        "id": "AKmfP4ICrUrS"
      },
      "source": [
        "checkpoint = data.copy()"
      ],
      "execution_count": null,
      "outputs": []
    },
    {
      "cell_type": "code",
      "metadata": {
        "id": "ob6lvx8Srb9k"
      },
      "source": [
        "data = data.drop(['execution_period_start', 'execution_period_end'], axis=1)"
      ],
      "execution_count": null,
      "outputs": []
    },
    {
      "cell_type": "code",
      "metadata": {
        "colab": {
          "base_uri": "https://localhost:8080/"
        },
        "id": "SZC5Z3y9ubmk",
        "outputId": "d5fc54d1-f238-4ca3-f7af-8d4ab1d7f97e"
      },
      "source": [
        "len(data['product_info'].unique())"
      ],
      "execution_count": null,
      "outputs": [
        {
          "output_type": "execute_result",
          "data": {
            "text/plain": [
              "3381"
            ]
          },
          "metadata": {
            "tags": []
          },
          "execution_count": 29
        }
      ]
    },
    {
      "cell_type": "code",
      "metadata": {
        "id": "LyHVTEuHpYho"
      },
      "source": [
        "def new_column(row):\n",
        "  return (row['product_info'].rsplit(\"-\")[0])\n",
        "\n",
        "data['OKPD'] = data[['product_info']].apply(new_column, axis=1)"
      ],
      "execution_count": null,
      "outputs": []
    },
    {
      "cell_type": "code",
      "metadata": {
        "colab": {
          "base_uri": "https://localhost:8080/"
        },
        "id": "V4e1AcUdvL2C",
        "outputId": "5b7f5cc8-6fad-4403-9a39-c59e958c6c0f"
      },
      "source": [
        "len(data['OKPD'].unique())"
      ],
      "execution_count": null,
      "outputs": [
        {
          "output_type": "execute_result",
          "data": {
            "text/plain": [
              "3171"
            ]
          },
          "metadata": {
            "tags": []
          },
          "execution_count": 32
        }
      ]
    },
    {
      "cell_type": "code",
      "metadata": {
        "id": "iBvykI_prcfA"
      },
      "source": [
        "data = data.drop(['product_info'], axis=1)"
      ],
      "execution_count": null,
      "outputs": []
    },
    {
      "cell_type": "code",
      "metadata": {
        "id": "9Ovg35fgri6Q"
      },
      "source": [
        "data = data.reset_index(drop=True)"
      ],
      "execution_count": null,
      "outputs": []
    },
    {
      "cell_type": "code",
      "metadata": {
        "id": "Tq7PVU7jrj6h"
      },
      "source": [
        "data['log_total'] = np.log(data['total'])"
      ],
      "execution_count": null,
      "outputs": []
    },
    {
      "cell_type": "code",
      "metadata": {
        "colab": {
          "base_uri": "https://localhost:8080/",
          "height": 439
        },
        "id": "k7FefL8urvwf",
        "outputId": "ffc093c8-7ce4-4df7-d8e9-4a4627906542"
      },
      "source": [
        "data"
      ],
      "execution_count": null,
      "outputs": [
        {
          "output_type": "execute_result",
          "data": {
            "text/html": [
              "<div>\n",
              "<style scoped>\n",
              "    .dataframe tbody tr th:only-of-type {\n",
              "        vertical-align: middle;\n",
              "    }\n",
              "\n",
              "    .dataframe tbody tr th {\n",
              "        vertical-align: top;\n",
              "    }\n",
              "\n",
              "    .dataframe thead th {\n",
              "        text-align: right;\n",
              "    }\n",
              "</style>\n",
              "<table border=\"1\" class=\"dataframe\">\n",
              "  <thead>\n",
              "    <tr style=\"text-align: right;\">\n",
              "      <th></th>\n",
              "      <th>plan_number</th>\n",
              "      <th>customer_legal_form</th>\n",
              "      <th>OKFS</th>\n",
              "      <th>positionNumber</th>\n",
              "      <th>KVRInfo</th>\n",
              "      <th>positionCanceled</th>\n",
              "      <th>publicDiscussion</th>\n",
              "      <th>total</th>\n",
              "      <th>time</th>\n",
              "      <th>OKPD</th>\n",
              "      <th>log_total</th>\n",
              "    </tr>\n",
              "  </thead>\n",
              "  <tbody>\n",
              "    <tr>\n",
              "      <th>0</th>\n",
              "      <td>201703133000188001</td>\n",
              "      <td>75403</td>\n",
              "      <td>14.0</td>\n",
              "      <td>201703133000188001000001</td>\n",
              "      <td>244.0</td>\n",
              "      <td>False</td>\n",
              "      <td>False</td>\n",
              "      <td>524637.0</td>\n",
              "      <td>731</td>\n",
              "      <td>35.14.10.000</td>\n",
              "      <td>13.170462</td>\n",
              "    </tr>\n",
              "    <tr>\n",
              "      <th>1</th>\n",
              "      <td>201703133000164001</td>\n",
              "      <td>75404</td>\n",
              "      <td>14.0</td>\n",
              "      <td>201703133000164001000002</td>\n",
              "      <td>244.0</td>\n",
              "      <td>False</td>\n",
              "      <td>False</td>\n",
              "      <td>30000.0</td>\n",
              "      <td>182</td>\n",
              "      <td>35.11.10.110</td>\n",
              "      <td>10.308953</td>\n",
              "    </tr>\n",
              "    <tr>\n",
              "      <th>2</th>\n",
              "      <td>201703133000499001</td>\n",
              "      <td>75403</td>\n",
              "      <td>14.0</td>\n",
              "      <td>201703133000499001000001</td>\n",
              "      <td>244.0</td>\n",
              "      <td>False</td>\n",
              "      <td>False</td>\n",
              "      <td>188000.0</td>\n",
              "      <td>182</td>\n",
              "      <td>35.30.11.120</td>\n",
              "      <td>12.144197</td>\n",
              "    </tr>\n",
              "    <tr>\n",
              "      <th>3</th>\n",
              "      <td>201703131000014001</td>\n",
              "      <td>75103</td>\n",
              "      <td>12.0</td>\n",
              "      <td>201703131000014001000001</td>\n",
              "      <td>244.0</td>\n",
              "      <td>False</td>\n",
              "      <td>False</td>\n",
              "      <td>7800000.0</td>\n",
              "      <td>1461</td>\n",
              "      <td>35.30.11.120</td>\n",
              "      <td>15.869634</td>\n",
              "    </tr>\n",
              "    <tr>\n",
              "      <th>4</th>\n",
              "      <td>201703131000014001</td>\n",
              "      <td>75103</td>\n",
              "      <td>12.0</td>\n",
              "      <td>201703131000014001000003</td>\n",
              "      <td>244.0</td>\n",
              "      <td>False</td>\n",
              "      <td>False</td>\n",
              "      <td>3675000.0</td>\n",
              "      <td>731</td>\n",
              "      <td>35.11.10.110</td>\n",
              "      <td>15.117064</td>\n",
              "    </tr>\n",
              "    <tr>\n",
              "      <th>...</th>\n",
              "      <td>...</td>\n",
              "      <td>...</td>\n",
              "      <td>...</td>\n",
              "      <td>...</td>\n",
              "      <td>...</td>\n",
              "      <td>...</td>\n",
              "      <td>...</td>\n",
              "      <td>...</td>\n",
              "      <td>...</td>\n",
              "      <td>...</td>\n",
              "      <td>...</td>\n",
              "    </tr>\n",
              "    <tr>\n",
              "      <th>1709775</th>\n",
              "      <td>201903133000056002</td>\n",
              "      <td>75404</td>\n",
              "      <td>14.0</td>\n",
              "      <td>201903133000056002000061</td>\n",
              "      <td>244.0</td>\n",
              "      <td>False</td>\n",
              "      <td>False</td>\n",
              "      <td>40000.0</td>\n",
              "      <td>92</td>\n",
              "      <td>62.09.20.190</td>\n",
              "      <td>10.596635</td>\n",
              "    </tr>\n",
              "    <tr>\n",
              "      <th>1709776</th>\n",
              "      <td>201903133000056002</td>\n",
              "      <td>75404</td>\n",
              "      <td>14.0</td>\n",
              "      <td>201903133000056002000061</td>\n",
              "      <td>244.0</td>\n",
              "      <td>False</td>\n",
              "      <td>False</td>\n",
              "      <td>40000.0</td>\n",
              "      <td>92</td>\n",
              "      <td>62.09.20.190</td>\n",
              "      <td>10.596635</td>\n",
              "    </tr>\n",
              "    <tr>\n",
              "      <th>1709777</th>\n",
              "      <td>201903133000056002</td>\n",
              "      <td>75404</td>\n",
              "      <td>14.0</td>\n",
              "      <td>201903133000056002000061</td>\n",
              "      <td>244.0</td>\n",
              "      <td>False</td>\n",
              "      <td>False</td>\n",
              "      <td>40000.0</td>\n",
              "      <td>92</td>\n",
              "      <td>62.09.20.190</td>\n",
              "      <td>10.596635</td>\n",
              "    </tr>\n",
              "    <tr>\n",
              "      <th>1709778</th>\n",
              "      <td>201903133000056002</td>\n",
              "      <td>75404</td>\n",
              "      <td>14.0</td>\n",
              "      <td>201903133000056002000061</td>\n",
              "      <td>244.0</td>\n",
              "      <td>False</td>\n",
              "      <td>False</td>\n",
              "      <td>40000.0</td>\n",
              "      <td>92</td>\n",
              "      <td>62.09.20.190</td>\n",
              "      <td>10.596635</td>\n",
              "    </tr>\n",
              "    <tr>\n",
              "      <th>1709779</th>\n",
              "      <td>201903133000056002</td>\n",
              "      <td>75404</td>\n",
              "      <td>14.0</td>\n",
              "      <td>201903133000056002000061</td>\n",
              "      <td>244.0</td>\n",
              "      <td>False</td>\n",
              "      <td>False</td>\n",
              "      <td>40000.0</td>\n",
              "      <td>92</td>\n",
              "      <td>62.09.20.190</td>\n",
              "      <td>10.596635</td>\n",
              "    </tr>\n",
              "  </tbody>\n",
              "</table>\n",
              "<p>1709780 rows × 11 columns</p>\n",
              "</div>"
            ],
            "text/plain": [
              "                plan_number  customer_legal_form  ...          OKPD  log_total\n",
              "0        201703133000188001                75403  ...  35.14.10.000  13.170462\n",
              "1        201703133000164001                75404  ...  35.11.10.110  10.308953\n",
              "2        201703133000499001                75403  ...  35.30.11.120  12.144197\n",
              "3        201703131000014001                75103  ...  35.30.11.120  15.869634\n",
              "4        201703131000014001                75103  ...  35.11.10.110  15.117064\n",
              "...                     ...                  ...  ...           ...        ...\n",
              "1709775  201903133000056002                75404  ...  62.09.20.190  10.596635\n",
              "1709776  201903133000056002                75404  ...  62.09.20.190  10.596635\n",
              "1709777  201903133000056002                75404  ...  62.09.20.190  10.596635\n",
              "1709778  201903133000056002                75404  ...  62.09.20.190  10.596635\n",
              "1709779  201903133000056002                75404  ...  62.09.20.190  10.596635\n",
              "\n",
              "[1709780 rows x 11 columns]"
            ]
          },
          "metadata": {
            "tags": []
          },
          "execution_count": 36
        }
      ]
    },
    {
      "cell_type": "code",
      "metadata": {
        "colab": {
          "base_uri": "https://localhost:8080/",
          "height": 419
        },
        "id": "3aniGR24cbDq",
        "outputId": "66e01b8e-0598-467a-f681-a43e8b829ca2"
      },
      "source": [
        "contract_path2 = 'tenderplans2017.csv'\n",
        "dtypes = {'positionNumber' : 'category'}\n",
        "data = pd.read_csv(contract_path2, dtype = dtypes)\n",
        "data2 = pd.read_csv(contract_path2)\n",
        "data2 = data2.drop(['plan_number', 'publish_date', 'publish_date', 'customer_legal_form', 'OKFS','id', 'purchasePlanPositionNumber', 'placingWayInfo'], axis=1)\n",
        "data2 = data2.reset_index(drop=True)\n",
        "data2.dropna(inplace = True)\n",
        "gc.collect()\n",
        "data2"
      ],
      "execution_count": null,
      "outputs": [
        {
          "output_type": "execute_result",
          "data": {
            "text/html": [
              "<div>\n",
              "<style scoped>\n",
              "    .dataframe tbody tr th:only-of-type {\n",
              "        vertical-align: middle;\n",
              "    }\n",
              "\n",
              "    .dataframe tbody tr th {\n",
              "        vertical-align: top;\n",
              "    }\n",
              "\n",
              "    .dataframe thead th {\n",
              "        text-align: right;\n",
              "    }\n",
              "</style>\n",
              "<table border=\"1\" class=\"dataframe\">\n",
              "  <thead>\n",
              "    <tr style=\"text-align: right;\">\n",
              "      <th></th>\n",
              "      <th>positionNumber</th>\n",
              "      <th>maxPrice</th>\n",
              "    </tr>\n",
              "  </thead>\n",
              "  <tbody>\n",
              "    <tr>\n",
              "      <th>2100</th>\n",
              "      <td>201701133000009002000003</td>\n",
              "      <td>182000.00</td>\n",
              "    </tr>\n",
              "    <tr>\n",
              "      <th>2149</th>\n",
              "      <td>201701133000022002000001</td>\n",
              "      <td>104531.29</td>\n",
              "    </tr>\n",
              "    <tr>\n",
              "      <th>2150</th>\n",
              "      <td>201701133000022002000002</td>\n",
              "      <td>944987.46</td>\n",
              "    </tr>\n",
              "    <tr>\n",
              "      <th>2151</th>\n",
              "      <td>201701133000022002000003</td>\n",
              "      <td>1490403.76</td>\n",
              "    </tr>\n",
              "    <tr>\n",
              "      <th>2152</th>\n",
              "      <td>201701133000022002000004</td>\n",
              "      <td>22345.62</td>\n",
              "    </tr>\n",
              "    <tr>\n",
              "      <th>...</th>\n",
              "      <td>...</td>\n",
              "      <td>...</td>\n",
              "    </tr>\n",
              "    <tr>\n",
              "      <th>5738047</th>\n",
              "      <td>201908136000032001000008</td>\n",
              "      <td>1500000.00</td>\n",
              "    </tr>\n",
              "    <tr>\n",
              "      <th>5738048</th>\n",
              "      <td>201908136000032001000010</td>\n",
              "      <td>279929.40</td>\n",
              "    </tr>\n",
              "    <tr>\n",
              "      <th>5738049</th>\n",
              "      <td>201908136000032001000013</td>\n",
              "      <td>1500000.00</td>\n",
              "    </tr>\n",
              "    <tr>\n",
              "      <th>5738050</th>\n",
              "      <td>201908136000032001000014</td>\n",
              "      <td>1500000.00</td>\n",
              "    </tr>\n",
              "    <tr>\n",
              "      <th>5738051</th>\n",
              "      <td>201908136000040002000002</td>\n",
              "      <td>39991.20</td>\n",
              "    </tr>\n",
              "  </tbody>\n",
              "</table>\n",
              "<p>5732755 rows × 2 columns</p>\n",
              "</div>"
            ],
            "text/plain": [
              "                   positionNumber    maxPrice\n",
              "2100     201701133000009002000003   182000.00\n",
              "2149     201701133000022002000001   104531.29\n",
              "2150     201701133000022002000002   944987.46\n",
              "2151     201701133000022002000003  1490403.76\n",
              "2152     201701133000022002000004    22345.62\n",
              "...                           ...         ...\n",
              "5738047  201908136000032001000008  1500000.00\n",
              "5738048  201908136000032001000010   279929.40\n",
              "5738049  201908136000032001000013  1500000.00\n",
              "5738050  201908136000032001000014  1500000.00\n",
              "5738051  201908136000040002000002    39991.20\n",
              "\n",
              "[5732755 rows x 2 columns]"
            ]
          },
          "metadata": {
            "tags": []
          },
          "execution_count": 98
        }
      ]
    },
    {
      "cell_type": "code",
      "metadata": {
        "colab": {
          "base_uri": "https://localhost:8080/",
          "height": 419
        },
        "id": "1RXD7Sn5cfDz",
        "outputId": "455ff357-9ab7-4984-cde3-fc478f13cfdf"
      },
      "source": [
        "contract_path3 = 'tenderplans2020.csv'\n",
        "dtypes = {'positionNumber' : 'category'}\n",
        "data = pd.read_csv(contract_path3, dtype = dtypes)\n",
        "data3 = pd.read_csv(contract_path3)\n",
        "data3 = data3.drop(['plan_number', 'publish_date', 'publish_date', 'customer_legal_form', 'OKFS','id', 'purchasePlanPositionNumber', 'placingWayInfo'], axis=1)\n",
        "data3 = data3.reset_index(drop=True)\n",
        "data3.dropna(inplace = True)\n",
        "gc.collect()\n",
        "data3"
      ],
      "execution_count": null,
      "outputs": [
        {
          "output_type": "execute_result",
          "data": {
            "text/html": [
              "<div>\n",
              "<style scoped>\n",
              "    .dataframe tbody tr th:only-of-type {\n",
              "        vertical-align: middle;\n",
              "    }\n",
              "\n",
              "    .dataframe tbody tr th {\n",
              "        vertical-align: top;\n",
              "    }\n",
              "\n",
              "    .dataframe thead th {\n",
              "        text-align: right;\n",
              "    }\n",
              "</style>\n",
              "<table border=\"1\" class=\"dataframe\">\n",
              "  <thead>\n",
              "    <tr style=\"text-align: right;\">\n",
              "      <th></th>\n",
              "      <th>positionNumber</th>\n",
              "      <th>maxPrice</th>\n",
              "    </tr>\n",
              "  </thead>\n",
              "  <tbody>\n",
              "    <tr>\n",
              "      <th>0</th>\n",
              "      <td>202003133000034001000001</td>\n",
              "      <td>1182667.50</td>\n",
              "    </tr>\n",
              "    <tr>\n",
              "      <th>1</th>\n",
              "      <td>202001131000070001000071</td>\n",
              "      <td>2455872.74</td>\n",
              "    </tr>\n",
              "    <tr>\n",
              "      <th>2</th>\n",
              "      <td>202001131000070001000075</td>\n",
              "      <td>3479931.94</td>\n",
              "    </tr>\n",
              "    <tr>\n",
              "      <th>3</th>\n",
              "      <td>202001131000070001000009</td>\n",
              "      <td>203000.00</td>\n",
              "    </tr>\n",
              "    <tr>\n",
              "      <th>4</th>\n",
              "      <td>202001131000070001000010</td>\n",
              "      <td>1190400.00</td>\n",
              "    </tr>\n",
              "    <tr>\n",
              "      <th>...</th>\n",
              "      <td>...</td>\n",
              "      <td>...</td>\n",
              "    </tr>\n",
              "    <tr>\n",
              "      <th>2273920</th>\n",
              "      <td>202110133000036002000013</td>\n",
              "      <td>183386.09</td>\n",
              "    </tr>\n",
              "    <tr>\n",
              "      <th>2273921</th>\n",
              "      <td>202110133000041004000011</td>\n",
              "      <td>187600.00</td>\n",
              "    </tr>\n",
              "    <tr>\n",
              "      <th>2273922</th>\n",
              "      <td>202110133000041004000011</td>\n",
              "      <td>187600.00</td>\n",
              "    </tr>\n",
              "    <tr>\n",
              "      <th>2273923</th>\n",
              "      <td>202110133000041004000012</td>\n",
              "      <td>18265.60</td>\n",
              "    </tr>\n",
              "    <tr>\n",
              "      <th>2273924</th>\n",
              "      <td>202110136000060001000004</td>\n",
              "      <td>11416.00</td>\n",
              "    </tr>\n",
              "  </tbody>\n",
              "</table>\n",
              "<p>2273925 rows × 2 columns</p>\n",
              "</div>"
            ],
            "text/plain": [
              "                   positionNumber    maxPrice\n",
              "0        202003133000034001000001  1182667.50\n",
              "1        202001131000070001000071  2455872.74\n",
              "2        202001131000070001000075  3479931.94\n",
              "3        202001131000070001000009   203000.00\n",
              "4        202001131000070001000010  1190400.00\n",
              "...                           ...         ...\n",
              "2273920  202110133000036002000013   183386.09\n",
              "2273921  202110133000041004000011   187600.00\n",
              "2273922  202110133000041004000011   187600.00\n",
              "2273923  202110133000041004000012    18265.60\n",
              "2273924  202110136000060001000004    11416.00\n",
              "\n",
              "[2273925 rows x 2 columns]"
            ]
          },
          "metadata": {
            "tags": []
          },
          "execution_count": 99
        }
      ]
    },
    {
      "cell_type": "code",
      "metadata": {
        "colab": {
          "base_uri": "https://localhost:8080/",
          "height": 419
        },
        "id": "LNus47CYuk6G",
        "outputId": "cd94a681-087b-43bc-f88a-e354d484f94b"
      },
      "source": [
        "new_data = pd.concat([data2, data3])\n",
        "new_data = new_data.reset_index(drop=True)\n",
        "new_data"
      ],
      "execution_count": null,
      "outputs": [
        {
          "output_type": "execute_result",
          "data": {
            "text/html": [
              "<div>\n",
              "<style scoped>\n",
              "    .dataframe tbody tr th:only-of-type {\n",
              "        vertical-align: middle;\n",
              "    }\n",
              "\n",
              "    .dataframe tbody tr th {\n",
              "        vertical-align: top;\n",
              "    }\n",
              "\n",
              "    .dataframe thead th {\n",
              "        text-align: right;\n",
              "    }\n",
              "</style>\n",
              "<table border=\"1\" class=\"dataframe\">\n",
              "  <thead>\n",
              "    <tr style=\"text-align: right;\">\n",
              "      <th></th>\n",
              "      <th>positionNumber</th>\n",
              "      <th>maxPrice</th>\n",
              "    </tr>\n",
              "  </thead>\n",
              "  <tbody>\n",
              "    <tr>\n",
              "      <th>0</th>\n",
              "      <td>201701133000009002000003</td>\n",
              "      <td>182000.00</td>\n",
              "    </tr>\n",
              "    <tr>\n",
              "      <th>1</th>\n",
              "      <td>201701133000022002000001</td>\n",
              "      <td>104531.29</td>\n",
              "    </tr>\n",
              "    <tr>\n",
              "      <th>2</th>\n",
              "      <td>201701133000022002000002</td>\n",
              "      <td>944987.46</td>\n",
              "    </tr>\n",
              "    <tr>\n",
              "      <th>3</th>\n",
              "      <td>201701133000022002000003</td>\n",
              "      <td>1490403.76</td>\n",
              "    </tr>\n",
              "    <tr>\n",
              "      <th>4</th>\n",
              "      <td>201701133000022002000004</td>\n",
              "      <td>22345.62</td>\n",
              "    </tr>\n",
              "    <tr>\n",
              "      <th>...</th>\n",
              "      <td>...</td>\n",
              "      <td>...</td>\n",
              "    </tr>\n",
              "    <tr>\n",
              "      <th>8006675</th>\n",
              "      <td>202110133000036002000013</td>\n",
              "      <td>183386.09</td>\n",
              "    </tr>\n",
              "    <tr>\n",
              "      <th>8006676</th>\n",
              "      <td>202110133000041004000011</td>\n",
              "      <td>187600.00</td>\n",
              "    </tr>\n",
              "    <tr>\n",
              "      <th>8006677</th>\n",
              "      <td>202110133000041004000011</td>\n",
              "      <td>187600.00</td>\n",
              "    </tr>\n",
              "    <tr>\n",
              "      <th>8006678</th>\n",
              "      <td>202110133000041004000012</td>\n",
              "      <td>18265.60</td>\n",
              "    </tr>\n",
              "    <tr>\n",
              "      <th>8006679</th>\n",
              "      <td>202110136000060001000004</td>\n",
              "      <td>11416.00</td>\n",
              "    </tr>\n",
              "  </tbody>\n",
              "</table>\n",
              "<p>8006680 rows × 2 columns</p>\n",
              "</div>"
            ],
            "text/plain": [
              "                   positionNumber    maxPrice\n",
              "0        201701133000009002000003   182000.00\n",
              "1        201701133000022002000001   104531.29\n",
              "2        201701133000022002000002   944987.46\n",
              "3        201701133000022002000003  1490403.76\n",
              "4        201701133000022002000004    22345.62\n",
              "...                           ...         ...\n",
              "8006675  202110133000036002000013   183386.09\n",
              "8006676  202110133000041004000011   187600.00\n",
              "8006677  202110133000041004000011   187600.00\n",
              "8006678  202110133000041004000012    18265.60\n",
              "8006679  202110136000060001000004    11416.00\n",
              "\n",
              "[8006680 rows x 2 columns]"
            ]
          },
          "metadata": {
            "tags": []
          },
          "execution_count": 100
        }
      ]
    },
    {
      "cell_type": "code",
      "metadata": {
        "id": "gsXZPY_M-jlk"
      },
      "source": [
        "new_data.drop_duplicates(['positionNumber'], inplace = True)\n",
        "data.drop_duplicates(['positionNumber'], inplace = True)"
      ],
      "execution_count": null,
      "outputs": []
    },
    {
      "cell_type": "code",
      "metadata": {
        "colab": {
          "base_uri": "https://localhost:8080/",
          "height": 453
        },
        "id": "wcK_-3vZ-p22",
        "outputId": "e9a92b16-fa28-4045-a638-07dbc40db760"
      },
      "source": [
        "new_data = new_data.reset_index(drop=True)\n",
        "new_data['log_maxPrice'] = np.log(new_data['maxPrice'])\n",
        "new_data"
      ],
      "execution_count": null,
      "outputs": [
        {
          "output_type": "stream",
          "text": [
            "/usr/local/lib/python3.7/dist-packages/pandas/core/series.py:726: RuntimeWarning: divide by zero encountered in log\n",
            "  result = getattr(ufunc, method)(*inputs, **kwargs)\n"
          ],
          "name": "stderr"
        },
        {
          "output_type": "execute_result",
          "data": {
            "text/html": [
              "<div>\n",
              "<style scoped>\n",
              "    .dataframe tbody tr th:only-of-type {\n",
              "        vertical-align: middle;\n",
              "    }\n",
              "\n",
              "    .dataframe tbody tr th {\n",
              "        vertical-align: top;\n",
              "    }\n",
              "\n",
              "    .dataframe thead th {\n",
              "        text-align: right;\n",
              "    }\n",
              "</style>\n",
              "<table border=\"1\" class=\"dataframe\">\n",
              "  <thead>\n",
              "    <tr style=\"text-align: right;\">\n",
              "      <th></th>\n",
              "      <th>positionNumber</th>\n",
              "      <th>maxPrice</th>\n",
              "      <th>log_maxPrice</th>\n",
              "    </tr>\n",
              "  </thead>\n",
              "  <tbody>\n",
              "    <tr>\n",
              "      <th>0</th>\n",
              "      <td>201701133000009002000003</td>\n",
              "      <td>182000.00</td>\n",
              "      <td>12.111762</td>\n",
              "    </tr>\n",
              "    <tr>\n",
              "      <th>1</th>\n",
              "      <td>201701133000022002000001</td>\n",
              "      <td>104531.29</td>\n",
              "      <td>11.557242</td>\n",
              "    </tr>\n",
              "    <tr>\n",
              "      <th>2</th>\n",
              "      <td>201701133000022002000002</td>\n",
              "      <td>944987.46</td>\n",
              "      <td>13.758927</td>\n",
              "    </tr>\n",
              "    <tr>\n",
              "      <th>3</th>\n",
              "      <td>201701133000022002000003</td>\n",
              "      <td>1490403.76</td>\n",
              "      <td>14.214558</td>\n",
              "    </tr>\n",
              "    <tr>\n",
              "      <th>4</th>\n",
              "      <td>201701133000022002000004</td>\n",
              "      <td>22345.62</td>\n",
              "      <td>10.014386</td>\n",
              "    </tr>\n",
              "    <tr>\n",
              "      <th>...</th>\n",
              "      <td>...</td>\n",
              "      <td>...</td>\n",
              "      <td>...</td>\n",
              "    </tr>\n",
              "    <tr>\n",
              "      <th>190202</th>\n",
              "      <td>202110133000034001000009</td>\n",
              "      <td>153354.83</td>\n",
              "      <td>11.940510</td>\n",
              "    </tr>\n",
              "    <tr>\n",
              "      <th>190203</th>\n",
              "      <td>202110133000036002000013</td>\n",
              "      <td>183386.09</td>\n",
              "      <td>12.119349</td>\n",
              "    </tr>\n",
              "    <tr>\n",
              "      <th>190204</th>\n",
              "      <td>202110133000041004000011</td>\n",
              "      <td>187600.00</td>\n",
              "      <td>12.142067</td>\n",
              "    </tr>\n",
              "    <tr>\n",
              "      <th>190205</th>\n",
              "      <td>202110133000041004000012</td>\n",
              "      <td>18265.60</td>\n",
              "      <td>9.812775</td>\n",
              "    </tr>\n",
              "    <tr>\n",
              "      <th>190206</th>\n",
              "      <td>202110136000060001000004</td>\n",
              "      <td>11416.00</td>\n",
              "      <td>9.342771</td>\n",
              "    </tr>\n",
              "  </tbody>\n",
              "</table>\n",
              "<p>190207 rows × 3 columns</p>\n",
              "</div>"
            ],
            "text/plain": [
              "                  positionNumber    maxPrice  log_maxPrice\n",
              "0       201701133000009002000003   182000.00     12.111762\n",
              "1       201701133000022002000001   104531.29     11.557242\n",
              "2       201701133000022002000002   944987.46     13.758927\n",
              "3       201701133000022002000003  1490403.76     14.214558\n",
              "4       201701133000022002000004    22345.62     10.014386\n",
              "...                          ...         ...           ...\n",
              "190202  202110133000034001000009   153354.83     11.940510\n",
              "190203  202110133000036002000013   183386.09     12.119349\n",
              "190204  202110133000041004000011   187600.00     12.142067\n",
              "190205  202110133000041004000012    18265.60      9.812775\n",
              "190206  202110136000060001000004    11416.00      9.342771\n",
              "\n",
              "[190207 rows x 3 columns]"
            ]
          },
          "metadata": {
            "tags": []
          },
          "execution_count": 111
        }
      ]
    },
    {
      "cell_type": "code",
      "metadata": {
        "colab": {
          "base_uri": "https://localhost:8080/",
          "height": 439
        },
        "id": "nA3HxWMY_ZRw",
        "outputId": "931594a1-1fbb-4aee-c7b0-a575b590a7eb"
      },
      "source": [
        "data = data.reset_index(drop=True)\n",
        "data"
      ],
      "execution_count": null,
      "outputs": [
        {
          "output_type": "execute_result",
          "data": {
            "text/html": [
              "<div>\n",
              "<style scoped>\n",
              "    .dataframe tbody tr th:only-of-type {\n",
              "        vertical-align: middle;\n",
              "    }\n",
              "\n",
              "    .dataframe tbody tr th {\n",
              "        vertical-align: top;\n",
              "    }\n",
              "\n",
              "    .dataframe thead th {\n",
              "        text-align: right;\n",
              "    }\n",
              "</style>\n",
              "<table border=\"1\" class=\"dataframe\">\n",
              "  <thead>\n",
              "    <tr style=\"text-align: right;\">\n",
              "      <th></th>\n",
              "      <th>plan_number</th>\n",
              "      <th>customer_legal_form</th>\n",
              "      <th>OKFS</th>\n",
              "      <th>positionNumber</th>\n",
              "      <th>KVRInfo</th>\n",
              "      <th>positionCanceled</th>\n",
              "      <th>publicDiscussion</th>\n",
              "      <th>total</th>\n",
              "      <th>time</th>\n",
              "      <th>OKPD</th>\n",
              "      <th>log_total</th>\n",
              "    </tr>\n",
              "  </thead>\n",
              "  <tbody>\n",
              "    <tr>\n",
              "      <th>0</th>\n",
              "      <td>201703133000188001</td>\n",
              "      <td>75403</td>\n",
              "      <td>14.0</td>\n",
              "      <td>201703133000188001000001</td>\n",
              "      <td>244.0</td>\n",
              "      <td>False</td>\n",
              "      <td>False</td>\n",
              "      <td>524637.0</td>\n",
              "      <td>731</td>\n",
              "      <td>35.14.10.000</td>\n",
              "      <td>13.170462</td>\n",
              "    </tr>\n",
              "    <tr>\n",
              "      <th>1</th>\n",
              "      <td>201703133000164001</td>\n",
              "      <td>75404</td>\n",
              "      <td>14.0</td>\n",
              "      <td>201703133000164001000002</td>\n",
              "      <td>244.0</td>\n",
              "      <td>False</td>\n",
              "      <td>False</td>\n",
              "      <td>30000.0</td>\n",
              "      <td>182</td>\n",
              "      <td>35.11.10.110</td>\n",
              "      <td>10.308953</td>\n",
              "    </tr>\n",
              "    <tr>\n",
              "      <th>2</th>\n",
              "      <td>201703133000499001</td>\n",
              "      <td>75403</td>\n",
              "      <td>14.0</td>\n",
              "      <td>201703133000499001000001</td>\n",
              "      <td>244.0</td>\n",
              "      <td>False</td>\n",
              "      <td>False</td>\n",
              "      <td>188000.0</td>\n",
              "      <td>182</td>\n",
              "      <td>35.30.11.120</td>\n",
              "      <td>12.144197</td>\n",
              "    </tr>\n",
              "    <tr>\n",
              "      <th>3</th>\n",
              "      <td>201703131000014001</td>\n",
              "      <td>75103</td>\n",
              "      <td>12.0</td>\n",
              "      <td>201703131000014001000001</td>\n",
              "      <td>244.0</td>\n",
              "      <td>False</td>\n",
              "      <td>False</td>\n",
              "      <td>7800000.0</td>\n",
              "      <td>1461</td>\n",
              "      <td>35.30.11.120</td>\n",
              "      <td>15.869634</td>\n",
              "    </tr>\n",
              "    <tr>\n",
              "      <th>4</th>\n",
              "      <td>201703131000014001</td>\n",
              "      <td>75103</td>\n",
              "      <td>12.0</td>\n",
              "      <td>201703131000014001000003</td>\n",
              "      <td>244.0</td>\n",
              "      <td>False</td>\n",
              "      <td>False</td>\n",
              "      <td>3675000.0</td>\n",
              "      <td>731</td>\n",
              "      <td>35.11.10.110</td>\n",
              "      <td>15.117064</td>\n",
              "    </tr>\n",
              "    <tr>\n",
              "      <th>...</th>\n",
              "      <td>...</td>\n",
              "      <td>...</td>\n",
              "      <td>...</td>\n",
              "      <td>...</td>\n",
              "      <td>...</td>\n",
              "      <td>...</td>\n",
              "      <td>...</td>\n",
              "      <td>...</td>\n",
              "      <td>...</td>\n",
              "      <td>...</td>\n",
              "      <td>...</td>\n",
              "    </tr>\n",
              "    <tr>\n",
              "      <th>71954</th>\n",
              "      <td>201903131000005001</td>\n",
              "      <td>75104</td>\n",
              "      <td>12.0</td>\n",
              "      <td>201903131000005001000007</td>\n",
              "      <td>244.0</td>\n",
              "      <td>False</td>\n",
              "      <td>False</td>\n",
              "      <td>110000.0</td>\n",
              "      <td>149</td>\n",
              "      <td>53.20.11.110</td>\n",
              "      <td>11.608236</td>\n",
              "    </tr>\n",
              "    <tr>\n",
              "      <th>71955</th>\n",
              "      <td>201901131000007001</td>\n",
              "      <td>75104</td>\n",
              "      <td>12.0</td>\n",
              "      <td>201901131000007001000031</td>\n",
              "      <td>244.0</td>\n",
              "      <td>False</td>\n",
              "      <td>False</td>\n",
              "      <td>120000.0</td>\n",
              "      <td>46</td>\n",
              "      <td>17.23.12.110</td>\n",
              "      <td>11.695247</td>\n",
              "    </tr>\n",
              "    <tr>\n",
              "      <th>71956</th>\n",
              "      <td>201903133000472003</td>\n",
              "      <td>75404</td>\n",
              "      <td>14.0</td>\n",
              "      <td>201903133000472003000164</td>\n",
              "      <td>242.0</td>\n",
              "      <td>False</td>\n",
              "      <td>False</td>\n",
              "      <td>701000.0</td>\n",
              "      <td>114</td>\n",
              "      <td>62.01</td>\n",
              "      <td>13.460263</td>\n",
              "    </tr>\n",
              "    <tr>\n",
              "      <th>71957</th>\n",
              "      <td>201903133000472003</td>\n",
              "      <td>75404</td>\n",
              "      <td>14.0</td>\n",
              "      <td>201903133000472003000165</td>\n",
              "      <td>242.0</td>\n",
              "      <td>False</td>\n",
              "      <td>False</td>\n",
              "      <td>600000.0</td>\n",
              "      <td>113</td>\n",
              "      <td>62.02</td>\n",
              "      <td>13.304685</td>\n",
              "    </tr>\n",
              "    <tr>\n",
              "      <th>71958</th>\n",
              "      <td>201903133000056002</td>\n",
              "      <td>75404</td>\n",
              "      <td>14.0</td>\n",
              "      <td>201903133000056002000061</td>\n",
              "      <td>244.0</td>\n",
              "      <td>False</td>\n",
              "      <td>False</td>\n",
              "      <td>40000.0</td>\n",
              "      <td>92</td>\n",
              "      <td>62.09.20.190</td>\n",
              "      <td>10.596635</td>\n",
              "    </tr>\n",
              "  </tbody>\n",
              "</table>\n",
              "<p>71959 rows × 11 columns</p>\n",
              "</div>"
            ],
            "text/plain": [
              "              plan_number customer_legal_form  ...          OKPD  log_total\n",
              "0      201703133000188001               75403  ...  35.14.10.000  13.170462\n",
              "1      201703133000164001               75404  ...  35.11.10.110  10.308953\n",
              "2      201703133000499001               75403  ...  35.30.11.120  12.144197\n",
              "3      201703131000014001               75103  ...  35.30.11.120  15.869634\n",
              "4      201703131000014001               75103  ...  35.11.10.110  15.117064\n",
              "...                   ...                 ...  ...           ...        ...\n",
              "71954  201903131000005001               75104  ...  53.20.11.110  11.608236\n",
              "71955  201901131000007001               75104  ...  17.23.12.110  11.695247\n",
              "71956  201903133000472003               75404  ...         62.01  13.460263\n",
              "71957  201903133000472003               75404  ...         62.02  13.304685\n",
              "71958  201903133000056002               75404  ...  62.09.20.190  10.596635\n",
              "\n",
              "[71959 rows x 11 columns]"
            ]
          },
          "metadata": {
            "tags": []
          },
          "execution_count": 110
        }
      ]
    },
    {
      "cell_type": "code",
      "metadata": {
        "id": "LSwzP_42AUF_"
      },
      "source": [
        "data = data.join(new_data.set_index('positionNumber'), on = 'positionNumber')"
      ],
      "execution_count": null,
      "outputs": []
    },
    {
      "cell_type": "code",
      "metadata": {
        "colab": {
          "base_uri": "https://localhost:8080/",
          "height": 439
        },
        "id": "wrcBe5JIC95d",
        "outputId": "8191ac95-0420-4c12-8144-65c70718280f"
      },
      "source": [
        "data.dropna(inplace = True)\n",
        "data = data.reset_index(drop=True)\n",
        "data"
      ],
      "execution_count": null,
      "outputs": [
        {
          "output_type": "execute_result",
          "data": {
            "text/html": [
              "<div>\n",
              "<style scoped>\n",
              "    .dataframe tbody tr th:only-of-type {\n",
              "        vertical-align: middle;\n",
              "    }\n",
              "\n",
              "    .dataframe tbody tr th {\n",
              "        vertical-align: top;\n",
              "    }\n",
              "\n",
              "    .dataframe thead th {\n",
              "        text-align: right;\n",
              "    }\n",
              "</style>\n",
              "<table border=\"1\" class=\"dataframe\">\n",
              "  <thead>\n",
              "    <tr style=\"text-align: right;\">\n",
              "      <th></th>\n",
              "      <th>plan_number</th>\n",
              "      <th>customer_legal_form</th>\n",
              "      <th>OKFS</th>\n",
              "      <th>positionNumber</th>\n",
              "      <th>KVRInfo</th>\n",
              "      <th>positionCanceled</th>\n",
              "      <th>publicDiscussion</th>\n",
              "      <th>total</th>\n",
              "      <th>time</th>\n",
              "      <th>OKPD</th>\n",
              "      <th>log_total</th>\n",
              "      <th>maxPrice</th>\n",
              "      <th>log_maxPrice</th>\n",
              "    </tr>\n",
              "  </thead>\n",
              "  <tbody>\n",
              "    <tr>\n",
              "      <th>0</th>\n",
              "      <td>201703133000188001</td>\n",
              "      <td>75403</td>\n",
              "      <td>14.0</td>\n",
              "      <td>201703133000188001000001</td>\n",
              "      <td>244.0</td>\n",
              "      <td>False</td>\n",
              "      <td>False</td>\n",
              "      <td>524637.00</td>\n",
              "      <td>731</td>\n",
              "      <td>35.14.10.000</td>\n",
              "      <td>13.170462</td>\n",
              "      <td>174879.00</td>\n",
              "      <td>12.071850</td>\n",
              "    </tr>\n",
              "    <tr>\n",
              "      <th>1</th>\n",
              "      <td>201703133000164001</td>\n",
              "      <td>75404</td>\n",
              "      <td>14.0</td>\n",
              "      <td>201703133000164001000002</td>\n",
              "      <td>244.0</td>\n",
              "      <td>False</td>\n",
              "      <td>False</td>\n",
              "      <td>30000.00</td>\n",
              "      <td>182</td>\n",
              "      <td>35.11.10.110</td>\n",
              "      <td>10.308953</td>\n",
              "      <td>11700.00</td>\n",
              "      <td>9.367344</td>\n",
              "    </tr>\n",
              "    <tr>\n",
              "      <th>2</th>\n",
              "      <td>201703131000014001</td>\n",
              "      <td>75103</td>\n",
              "      <td>12.0</td>\n",
              "      <td>201703131000014001000001</td>\n",
              "      <td>244.0</td>\n",
              "      <td>False</td>\n",
              "      <td>False</td>\n",
              "      <td>7800000.00</td>\n",
              "      <td>1461</td>\n",
              "      <td>35.30.11.120</td>\n",
              "      <td>15.869634</td>\n",
              "      <td>2600000.00</td>\n",
              "      <td>14.771022</td>\n",
              "    </tr>\n",
              "    <tr>\n",
              "      <th>3</th>\n",
              "      <td>201703131000014001</td>\n",
              "      <td>75103</td>\n",
              "      <td>12.0</td>\n",
              "      <td>201703131000014001000003</td>\n",
              "      <td>244.0</td>\n",
              "      <td>False</td>\n",
              "      <td>False</td>\n",
              "      <td>3675000.00</td>\n",
              "      <td>731</td>\n",
              "      <td>35.11.10.110</td>\n",
              "      <td>15.117064</td>\n",
              "      <td>1225000.00</td>\n",
              "      <td>14.018451</td>\n",
              "    </tr>\n",
              "    <tr>\n",
              "      <th>4</th>\n",
              "      <td>201703131000014001</td>\n",
              "      <td>75103</td>\n",
              "      <td>12.0</td>\n",
              "      <td>201703131000014001000002</td>\n",
              "      <td>244.0</td>\n",
              "      <td>False</td>\n",
              "      <td>False</td>\n",
              "      <td>900000.00</td>\n",
              "      <td>731</td>\n",
              "      <td>35.30.12.120</td>\n",
              "      <td>13.710150</td>\n",
              "      <td>300000.00</td>\n",
              "      <td>12.611538</td>\n",
              "    </tr>\n",
              "    <tr>\n",
              "      <th>...</th>\n",
              "      <td>...</td>\n",
              "      <td>...</td>\n",
              "      <td>...</td>\n",
              "      <td>...</td>\n",
              "      <td>...</td>\n",
              "      <td>...</td>\n",
              "      <td>...</td>\n",
              "      <td>...</td>\n",
              "      <td>...</td>\n",
              "      <td>...</td>\n",
              "      <td>...</td>\n",
              "      <td>...</td>\n",
              "      <td>...</td>\n",
              "    </tr>\n",
              "    <tr>\n",
              "      <th>48641</th>\n",
              "      <td>201903131000048001</td>\n",
              "      <td>75104</td>\n",
              "      <td>12.0</td>\n",
              "      <td>201903131000048001000059</td>\n",
              "      <td>244.0</td>\n",
              "      <td>False</td>\n",
              "      <td>False</td>\n",
              "      <td>572198.52</td>\n",
              "      <td>365</td>\n",
              "      <td>81.21</td>\n",
              "      <td>13.257241</td>\n",
              "      <td>572198.52</td>\n",
              "      <td>13.257241</td>\n",
              "    </tr>\n",
              "    <tr>\n",
              "      <th>48642</th>\n",
              "      <td>201903131000048001</td>\n",
              "      <td>75104</td>\n",
              "      <td>12.0</td>\n",
              "      <td>201903131000048001000063</td>\n",
              "      <td>244.0</td>\n",
              "      <td>False</td>\n",
              "      <td>False</td>\n",
              "      <td>50000.00</td>\n",
              "      <td>365</td>\n",
              "      <td>36.00.11.000</td>\n",
              "      <td>10.819778</td>\n",
              "      <td>50000.00</td>\n",
              "      <td>10.819778</td>\n",
              "    </tr>\n",
              "    <tr>\n",
              "      <th>48643</th>\n",
              "      <td>201903131000048001</td>\n",
              "      <td>75104</td>\n",
              "      <td>12.0</td>\n",
              "      <td>201903131000048001000062</td>\n",
              "      <td>244.0</td>\n",
              "      <td>False</td>\n",
              "      <td>False</td>\n",
              "      <td>280000.00</td>\n",
              "      <td>365</td>\n",
              "      <td>53.10</td>\n",
              "      <td>12.542545</td>\n",
              "      <td>280000.00</td>\n",
              "      <td>12.542545</td>\n",
              "    </tr>\n",
              "    <tr>\n",
              "      <th>48644</th>\n",
              "      <td>201903131000048001</td>\n",
              "      <td>75104</td>\n",
              "      <td>12.0</td>\n",
              "      <td>201903131000048001000054</td>\n",
              "      <td>244.0</td>\n",
              "      <td>False</td>\n",
              "      <td>False</td>\n",
              "      <td>300000.00</td>\n",
              "      <td>365</td>\n",
              "      <td>43.39.1</td>\n",
              "      <td>12.611538</td>\n",
              "      <td>300000.00</td>\n",
              "      <td>12.611538</td>\n",
              "    </tr>\n",
              "    <tr>\n",
              "      <th>48645</th>\n",
              "      <td>201903131000019001</td>\n",
              "      <td>75104</td>\n",
              "      <td>12.0</td>\n",
              "      <td>201903131000019001000006</td>\n",
              "      <td>244.0</td>\n",
              "      <td>False</td>\n",
              "      <td>False</td>\n",
              "      <td>288142.00</td>\n",
              "      <td>365</td>\n",
              "      <td>35.12.10.110</td>\n",
              "      <td>12.571209</td>\n",
              "      <td>288142.00</td>\n",
              "      <td>12.571209</td>\n",
              "    </tr>\n",
              "  </tbody>\n",
              "</table>\n",
              "<p>48646 rows × 13 columns</p>\n",
              "</div>"
            ],
            "text/plain": [
              "              plan_number customer_legal_form  ...    maxPrice log_maxPrice\n",
              "0      201703133000188001               75403  ...   174879.00    12.071850\n",
              "1      201703133000164001               75404  ...    11700.00     9.367344\n",
              "2      201703131000014001               75103  ...  2600000.00    14.771022\n",
              "3      201703131000014001               75103  ...  1225000.00    14.018451\n",
              "4      201703131000014001               75103  ...   300000.00    12.611538\n",
              "...                   ...                 ...  ...         ...          ...\n",
              "48641  201903131000048001               75104  ...   572198.52    13.257241\n",
              "48642  201903131000048001               75104  ...    50000.00    10.819778\n",
              "48643  201903131000048001               75104  ...   280000.00    12.542545\n",
              "48644  201903131000048001               75104  ...   300000.00    12.611538\n",
              "48645  201903131000019001               75104  ...   288142.00    12.571209\n",
              "\n",
              "[48646 rows x 13 columns]"
            ]
          },
          "metadata": {
            "tags": []
          },
          "execution_count": 114
        }
      ]
    },
    {
      "cell_type": "code",
      "metadata": {
        "id": "PG-3Lo98EV1s"
      },
      "source": [
        "data = data.drop(['positionNumber'], axis=1)"
      ],
      "execution_count": null,
      "outputs": []
    },
    {
      "cell_type": "code",
      "metadata": {
        "id": "4Il590rbsoSs"
      },
      "source": [
        "data.to_csv('/content/drive/MyDrive/Модели-предсказатели завершенности тендеров/purchase_plans.csv', index = False)"
      ],
      "execution_count": null,
      "outputs": []
    }
  ]
}