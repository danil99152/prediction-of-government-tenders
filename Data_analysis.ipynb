{
  "nbformat": 4,
  "nbformat_minor": 0,
  "metadata": {
    "colab": {
      "name": "Data_analysis.ipynb",
      "provenance": [],
      "collapsed_sections": [
        "kjQaz79l37QS",
        "bvBdCvHEWED1",
        "Tn6sNKnQP_c1",
        "I60tO3o-rLs8",
        "wi5qeuqpQvo2",
        "cg7aiSpsFaS5",
        "8iudseh4h2Qt",
        "mHiuV16vh6pw",
        "1W0ht33g5UYu",
        "3dqVHZAE9v1v",
        "JYaqFDoCqFtX",
        "IPyfRzKiBkr3",
        "zmqgTggwuMFu",
        "rCcQmUL87z46",
        "iz7gKZqM78sE",
        "1cEkbPiPGZsz"
      ],
      "toc_visible": true,
      "include_colab_link": true
    },
    "kernelspec": {
      "display_name": "Python 3",
      "language": "python",
      "name": "python3"
    },
    "language_info": {
      "codemirror_mode": {
        "name": "ipython",
        "version": 3
      },
      "file_extension": ".py",
      "mimetype": "text/x-python",
      "name": "python",
      "nbconvert_exporter": "python",
      "pygments_lexer": "ipython3",
      "version": "3.8.5"
    }
  },
  "cells": [
    {
      "cell_type": "markdown",
      "metadata": {
        "id": "view-in-github",
        "colab_type": "text"
      },
      "source": [
        "<a href=\"https://colab.research.google.com/github/danil99152/prediction-of-government-tenders/blob/main/Data_analysis.ipynb\" target=\"_parent\"><img src=\"https://colab.research.google.com/assets/colab-badge.svg\" alt=\"Open In Colab\"/></a>"
      ]
    },
    {
      "cell_type": "markdown",
      "metadata": {
        "id": "kjQaz79l37QS"
      },
      "source": [
        "# Changelog\n",
        "\n"
      ]
    },
    {
      "cell_type": "markdown",
      "metadata": {
        "id": "Roj74uenItls"
      },
      "source": [
        "25.01.21\n",
        "*   Удаление выбросов по времени\n",
        "*   Смена графика цена время с line на scatter\n",
        "\n"
      ]
    },
    {
      "cell_type": "markdown",
      "metadata": {
        "id": "WYqWI9p8bnJE"
      },
      "source": [
        "30.01.21\n",
        "\n",
        "*   Обработку даты с использованием встроенных методов pandas\n",
        "*   Новые  столбцы в dataframe\n",
        "*   Удаление контрактов-дупликатов по номеру в реестре\n",
        "*   Обновление данных о стадии выполнения\n",
        "*   Рефактор кода\n",
        "*   Средняя цена/кол-во контрактов по поставщикам\n",
        "*   Диаграмма завершенность/форма покупателя\n",
        "*   Catplot и joinplot зависимостей завершенности от времени и завершенности от цены\n",
        "\n"
      ]
    },
    {
      "cell_type": "markdown",
      "metadata": {
        "id": "n68Rv7beQfp4"
      },
      "source": [
        "02.02.21\n",
        "\n",
        "\n",
        "*   Добавил Pandas Summary\n",
        "*   Обновил датасет\n",
        "*   Добавил описание полей данных\n"
      ]
    },
    {
      "cell_type": "markdown",
      "metadata": {
        "id": "yxBccTki9ZqU"
      },
      "source": [
        "04.02.21\n",
        "\n",
        "\n",
        "*   Добавил соотнесение устаревших и новых кодов ОКПОФ\n",
        "*   Обновил датасет(добавлен регион Москва ~1млн контрактов)\n",
        "*   Добавил категорию 'Unknown' в стадии завершения контракта(Возможно такие контракты надо отфилтровать?)"
      ]
    },
    {
      "cell_type": "markdown",
      "metadata": {
        "id": "bvBdCvHEWED1"
      },
      "source": [
        "# Импорт"
      ]
    },
    {
      "cell_type": "code",
      "metadata": {
        "colab": {
          "base_uri": "https://localhost:8080/"
        },
        "id": "KlGrec1yL42r",
        "outputId": "1a806729-7b39-4719-9604-c1c54e190b2f"
      },
      "source": [
        "pip install pandas_summary"
      ],
      "execution_count": null,
      "outputs": [
        {
          "output_type": "stream",
          "text": [
            "Requirement already satisfied: pandas_summary in /usr/local/lib/python3.7/dist-packages (0.0.7)\n",
            "Requirement already satisfied: numpy in /usr/local/lib/python3.7/dist-packages (from pandas_summary) (1.19.5)\n",
            "Requirement already satisfied: pandas in /usr/local/lib/python3.7/dist-packages (from pandas_summary) (1.1.5)\n",
            "Requirement already satisfied: pytz>=2017.2 in /usr/local/lib/python3.7/dist-packages (from pandas->pandas_summary) (2018.9)\n",
            "Requirement already satisfied: python-dateutil>=2.7.3 in /usr/local/lib/python3.7/dist-packages (from pandas->pandas_summary) (2.8.1)\n",
            "Requirement already satisfied: six>=1.5 in /usr/local/lib/python3.7/dist-packages (from python-dateutil>=2.7.3->pandas->pandas_summary) (1.15.0)\n"
          ],
          "name": "stdout"
        }
      ]
    },
    {
      "cell_type": "code",
      "metadata": {
        "id": "pCOkqRxO_osX",
        "colab": {
          "base_uri": "https://localhost:8080/"
        },
        "outputId": "651bd52a-c628-46f9-daa5-b876f394ca4b"
      },
      "source": [
        "from datetime import datetime, date\n",
        "import math\n",
        "import re\n",
        "import gc\n",
        "\n",
        "import pandas as pd\n",
        "import numpy as np\n",
        "from scipy import stats\n",
        "import seaborn as sbs\n",
        "from statsmodels.graphics.mosaicplot import mosaic\n",
        "\n",
        "\n",
        "from matplotlib.ticker import MultipleLocator\n",
        "import matplotlib.pyplot as plt\n",
        "%matplotlib inline\n",
        "from pandas_summary import DataFrameSummary"
      ],
      "execution_count": null,
      "outputs": [
        {
          "output_type": "stream",
          "text": [
            "/usr/local/lib/python3.7/dist-packages/statsmodels/tools/_testing.py:19: FutureWarning: pandas.util.testing is deprecated. Use the functions in the public API at pandas.testing instead.\n",
            "  import pandas.util.testing as tm\n"
          ],
          "name": "stderr"
        }
      ]
    },
    {
      "cell_type": "markdown",
      "metadata": {
        "id": "z9RLW5qSWHa8"
      },
      "source": [
        "# Подготовка и загрузка данных"
      ]
    },
    {
      "cell_type": "code",
      "metadata": {
        "colab": {
          "base_uri": "https://localhost:8080/"
        },
        "id": "u85P_FgXj_f-",
        "outputId": "d14a7c5d-7387-4515-a08f-b4497a29c9cf"
      },
      "source": [
        "# Загрузка данных\n",
        "!gdown --id 1c1YVqpXVvcRioLkelDFwyD0hIYAemo5r"
      ],
      "execution_count": null,
      "outputs": [
        {
          "output_type": "stream",
          "text": [
            "Downloading...\n",
            "From: https://drive.google.com/uc?id=1c1YVqpXVvcRioLkelDFwyD0hIYAemo5r\n",
            "To: /content/contracts.csv\n",
            "1.55GB [00:09, 161MB/s]\n"
          ],
          "name": "stdout"
        }
      ]
    },
    {
      "cell_type": "code",
      "metadata": {
        "colab": {
          "base_uri": "https://localhost:8080/"
        },
        "id": "tJFGT8ZTnCwR",
        "outputId": "da955b8f-3c91-453d-ebc7-baf8a21cd758"
      },
      "source": [
        "#Загрузка степеней завершенности контракта\n",
        "!gdown --id 1JBZgSb9pWvR_wOuXytHFCwsWnHbRLqp2"
      ],
      "execution_count": null,
      "outputs": [
        {
          "output_type": "stream",
          "text": [
            "Downloading...\n",
            "From: https://drive.google.com/uc?id=1JBZgSb9pWvR_wOuXytHFCwsWnHbRLqp2\n",
            "To: /content/contract_stages.csv\n",
            "274MB [00:02, 132MB/s]\n"
          ],
          "name": "stdout"
        }
      ]
    },
    {
      "cell_type": "markdown",
      "metadata": {
        "id": "JoMlrleVA3c7"
      },
      "source": [
        "**Поля контракта:**\n",
        "\n",
        "\n",
        "*   reg_num - реестровый номер контракта в системе ЕИС\n",
        "*   id - UID докумета загруженного в открытую систему гос закупок(Встречаются дубликаты - ошибка парсинга или разные регионы? - посмотреть на содержание контрактов с одинаковыми id)\n",
        "*   publish_date - дата загрузки(публикации) документа в системе\n",
        "*   customer_inn - ИНН организации-покупателя(считаем его как GUID для покупателя)\n",
        "*   customer_legal_form - организационно-правовая форма покупателя по [ОКОПФ](https://classifikators.ru/okopf)\n",
        "*   price - цена контракта\n",
        "*   product_code - класс первого продукта в контракте по [ОКПД2](https://classifikators.ru/okpd)\n",
        "*   supplier_inn - ИНН организации-поставщика(считаем его как GUID для поставщика)\n",
        "*   current_contract_stage - степень выполнения контракта на момент последнего обновления\n",
        "*   execution_period_start - начало выполнения контракта(по договору)\n",
        "*   execution_period_start - конец выполнения контракта(по договору)\n",
        "\n",
        "\n",
        "**Также вводятся дополнительные поля:**\n",
        "\n",
        "\n",
        "*   time - период выполнения контракта в днях\n",
        "\n",
        "\n",
        "\n"
      ]
    },
    {
      "cell_type": "markdown",
      "metadata": {
        "id": "wPjlaTtINAqA"
      },
      "source": [
        "Считывание данных о контрактах"
      ]
    },
    {
      "cell_type": "code",
      "metadata": {
        "id": "LtGGYHcnAeed"
      },
      "source": [
        "contract_path = 'contracts.csv'\n",
        "dtypes = {'product_code' : 'category', \n",
        "          'customer_inn' : 'category', \n",
        "          'customer_legal_form' : 'category', \n",
        "          'product_code' : 'category', \n",
        "          'supplier_inn' : 'category',\n",
        "          'supplier_legal_form' : 'category', \n",
        "          'current_contract_stage' : 'category',\n",
        "          'reg_num' : 'string'}\n",
        "parse_dates = ['publish_date',\n",
        "               'execution_period_end',\n",
        "               'execution_period_start',\n",
        "               'supplier_registration_date']\n",
        "data = pd.read_csv(contract_path, dtype = dtypes, parse_dates = parse_dates, infer_datetime_format = True)\n",
        "gc.collect()\n",
        "data['execution_period_start'] = pd.to_datetime(data['execution_period_start'], format = \"%Y-%m-%d\", errors = 'coerce')\n",
        "data['execution_period_end'] = pd.to_datetime(data['execution_period_end'], format = \"%Y-%m-%d\", errors = 'coerce')\n",
        "data['supplier_registration_date'] = pd.to_datetime(data['supplier_registration_date'], format = \"%Y-%m-%d\", errors = 'coerce')\n"
      ],
      "execution_count": null,
      "outputs": []
    },
    {
      "cell_type": "markdown",
      "metadata": {
        "id": "hyWP0MaQT4ig"
      },
      "source": [
        "Статистика по столбцам характеристик"
      ]
    },
    {
      "cell_type": "code",
      "metadata": {
        "id": "_g00aG81T4Gc",
        "colab": {
          "base_uri": "https://localhost:8080/"
        },
        "outputId": "ccd9d060-8c83-40fc-ce83-a8eb3e86c823"
      },
      "source": [
        "dfs = DataFrameSummary(data)\n",
        "print(dfs.columns_stats)\n",
        "\n",
        "gc.collect()"
      ],
      "execution_count": null,
      "outputs": [
        {
          "output_type": "stream",
          "text": [
            "               reg_num  ... supplier_registration_date\n",
            "counts        10274045  ...                   10272808\n",
            "uniques       10274045  ...                      13467\n",
            "missing              0  ...                       1237\n",
            "missing_perc        0%  ...                      0.01%\n",
            "types           unique  ...                       date\n",
            "\n",
            "[5 rows x 13 columns]\n"
          ],
          "name": "stdout"
        },
        {
          "output_type": "execute_result",
          "data": {
            "text/plain": [
              "12"
            ]
          },
          "metadata": {
            "tags": []
          },
          "execution_count": 6
        }
      ]
    },
    {
      "cell_type": "markdown",
      "metadata": {
        "id": "MVYtoDqQMHhX"
      },
      "source": [
        "Удаление дубликатов по номеру в реестре (Оставляем только самый поздний контракт)   \n",
        "[Причина](https://colab.research.google.com/drive/1ByRmW2tG3X9OddgTpvjbCLLCWMlD8k8X#scrollTo=wi5qeuqpQvo2&line=1&uniqifier=1)"
      ]
    },
    {
      "cell_type": "code",
      "metadata": {
        "id": "6uXgmJvxlFPt"
      },
      "source": [
        "data.sort_values('publish_date', ascending=False, inplace = True)\n",
        "data.drop_duplicates(['reg_num'], inplace = True)"
      ],
      "execution_count": null,
      "outputs": []
    },
    {
      "cell_type": "markdown",
      "metadata": {
        "id": "dgJQJ462TOPb"
      },
      "source": [
        "Удаление строк с пропущенными значениями"
      ]
    },
    {
      "cell_type": "code",
      "metadata": {
        "id": "guGTGdwDTNw5"
      },
      "source": [
        "data.dropna(inplace = True)"
      ],
      "execution_count": null,
      "outputs": []
    },
    {
      "cell_type": "markdown",
      "metadata": {
        "id": "uGyQGRjVTIl2"
      },
      "source": [
        "Удаление выбросов по продолжительности  \n",
        "Убираем явные опечатки(Контракты до образования России и контракты с опкечатками в виде 2107 вместо 2017)"
      ]
    },
    {
      "cell_type": "code",
      "metadata": {
        "id": "la9zJ3w78Qxx"
      },
      "source": [
        "data = data[(data['execution_period_end'] < pd.to_datetime('2100-01-01', format=\"%Y-%m-%d\")) & (data['execution_period_start'] > pd.to_datetime('1991-01-01', format=\"%Y-%m-%d\"))]"
      ],
      "execution_count": null,
      "outputs": []
    },
    {
      "cell_type": "markdown",
      "metadata": {
        "id": "LuH8UrdTM7co"
      },
      "source": [
        "Добавление столбца с продолжительностью контракта"
      ]
    },
    {
      "cell_type": "code",
      "metadata": {
        "id": "XlNUwFMkZUCI",
        "colab": {
          "base_uri": "https://localhost:8080/"
        },
        "outputId": "9c02eedd-0146-42e5-f775-5dd69ad3aa7a"
      },
      "source": [
        "def calculate_time_period(row):\n",
        "  return ((row['execution_period_end'] - row['execution_period_start']).days + 1)\n",
        "\n",
        "data['time'] = data[['execution_period_end', 'execution_period_start']].apply(calculate_time_period, axis=1)\n",
        "gc.collect()"
      ],
      "execution_count": null,
      "outputs": [
        {
          "output_type": "stream",
          "text": [
            "/usr/local/lib/python3.7/dist-packages/ipykernel_launcher.py:4: SettingWithCopyWarning: \n",
            "A value is trying to be set on a copy of a slice from a DataFrame.\n",
            "Try using .loc[row_indexer,col_indexer] = value instead\n",
            "\n",
            "See the caveats in the documentation: https://pandas.pydata.org/pandas-docs/stable/user_guide/indexing.html#returning-a-view-versus-a-copy\n",
            "  after removing the cwd from sys.path.\n"
          ],
          "name": "stderr"
        },
        {
          "output_type": "execute_result",
          "data": {
            "text/plain": [
              "0"
            ]
          },
          "metadata": {
            "tags": []
          },
          "execution_count": 10
        }
      ]
    },
    {
      "cell_type": "code",
      "metadata": {
        "colab": {
          "base_uri": "https://localhost:8080/"
        },
        "id": "rlAkZk04VwXV",
        "outputId": "45b3fd12-9607-4d4e-aa7a-8aa78a9cdc24"
      },
      "source": [
        "def calculate_time_after_registration(row):\n",
        "  return ((row['execution_period_start'] - row['supplier_registration_date']).days + 1)\n",
        "\n",
        "data['registration_period'] = data[['execution_period_start', 'supplier_registration_date']].apply(calculate_time_after_registration, axis=1)\n",
        "gc.collect()"
      ],
      "execution_count": null,
      "outputs": [
        {
          "output_type": "stream",
          "text": [
            "/usr/local/lib/python3.7/dist-packages/ipykernel_launcher.py:4: SettingWithCopyWarning: \n",
            "A value is trying to be set on a copy of a slice from a DataFrame.\n",
            "Try using .loc[row_indexer,col_indexer] = value instead\n",
            "\n",
            "See the caveats in the documentation: https://pandas.pydata.org/pandas-docs/stable/user_guide/indexing.html#returning-a-view-versus-a-copy\n",
            "  after removing the cwd from sys.path.\n"
          ],
          "name": "stderr"
        },
        {
          "output_type": "execute_result",
          "data": {
            "text/plain": [
              "0"
            ]
          },
          "metadata": {
            "tags": []
          },
          "execution_count": 11
        }
      ]
    },
    {
      "cell_type": "markdown",
      "metadata": {
        "id": "s58wPGc9M8q1"
      },
      "source": [
        "Считывание данных о стадиях выполнения"
      ]
    },
    {
      "cell_type": "code",
      "metadata": {
        "id": "PyfN0FIhnlfe",
        "colab": {
          "base_uri": "https://localhost:8080/"
        },
        "outputId": "659372a7-efee-4f65-9dd3-73df33739fdf"
      },
      "source": [
        "stages_path = 'contract_stages.csv'\n",
        "dtypes = {'current_contract_stage' : 'category',\n",
        "          'reg_num' : 'string'}\n",
        "data_stages = pd.read_csv(stages_path, dtype=dtypes)\n",
        "gc.collect()"
      ],
      "execution_count": null,
      "outputs": [
        {
          "output_type": "execute_result",
          "data": {
            "text/plain": [
              "0"
            ]
          },
          "metadata": {
            "tags": []
          },
          "execution_count": 12
        }
      ]
    },
    {
      "cell_type": "markdown",
      "metadata": {
        "id": "dU8a4n-zMz5h"
      },
      "source": [
        "Обновление степени завершенности контрактов"
      ]
    },
    {
      "cell_type": "code",
      "metadata": {
        "id": "vu9-oolFncCq",
        "colab": {
          "base_uri": "https://localhost:8080/"
        },
        "outputId": "a0dfe5c0-1fd8-4530-9ebd-a1c3947c4dff"
      },
      "source": [
        "data = data.set_index('reg_num')\n",
        "data_stages = data_stages.set_index('reg_num')\n",
        "\n",
        "data.update(data_stages)\n",
        "\n",
        "data_stages = data_stages.reset_index()\n",
        "data = data.reset_index()\n",
        "\n",
        "del data_stages\n",
        "gc.collect()"
      ],
      "execution_count": null,
      "outputs": [
        {
          "output_type": "execute_result",
          "data": {
            "text/plain": [
              "50"
            ]
          },
          "metadata": {
            "tags": []
          },
          "execution_count": 13
        }
      ]
    },
    {
      "cell_type": "markdown",
      "metadata": {
        "id": "VgUDSq3yEnk3"
      },
      "source": [
        "Если дата конца контракта прошла, но он не завершился - ставим статус Unknown"
      ]
    },
    {
      "cell_type": "code",
      "metadata": {
        "id": "s6N9_3p_Entw"
      },
      "source": [
        "data['current_contract_stage'].mask((data['execution_period_end'] < pd.to_datetime('today')) & (data['current_contract_stage'] == 'E'), 'Unknown', inplace = True)"
      ],
      "execution_count": null,
      "outputs": []
    },
    {
      "cell_type": "markdown",
      "metadata": {
        "id": "Pq5MeK9BwPFh"
      },
      "source": [
        "Всвязи с изменениями ОКОПФ Приказом Росстандарта от 12.12.2014 №2011-ст и\n",
        " Приказом Росстандарта от 24.10.2018 N 839-ст, заменяем коды ОКОПФ покупателей на аналогичные, либо ставим null для тех, у которых нельзя точно определить аналог.\t  "
      ]
    },
    {
      "cell_type": "code",
      "metadata": {
        "id": "MDpx2qAtwPPT"
      },
      "source": [
        "OKOPF_old = {\n",
        "    '12100' : '10000',\n",
        "    '12165' : '12300', #Общества с ограниченной ответственностью\n",
        "    '12166' : '10000', \n",
        "    '15000' : '65000', #Унитарные предприятия\n",
        "    '15100' : '65100',  #Унитарные предприятия, основанные на праве оперативного управления (казенные предприятия)\n",
        "    '15141' : '65141', #Федеральные казенные предприятия\n",
        "    '15142' : '65142', #Казенные предприятия субъектов Российской Федерации\n",
        "    '15143' : '65143', #Муниципальные казенные предприятия\n",
        "    '15200' : '65200', #Унитарные предприятия, основанные на праве хозяйственного ведения\n",
        "    '15241' : '65241', #Федеральные государственные унитарные предприятия\n",
        "    '15242' : '65242', #Государственные унитарные предприятия субъектов Российской Федерации\n",
        "    '15243' : '65243', #Муниципальные унитарные предприятия\n",
        "    '20114' : 'Not Applicable',\n",
        "    '20300' : '71500', \n",
        "    '20400' : '70400', #Фонды\n",
        "    '20401' : '70401', #Благотворительные фонды\n",
        "    '20402' : '70402', #Негосударственные пенсионные фонды\n",
        "    '20403' : '70403', #Общественные фонды\n",
        "    '20404' : '70404', #Экологические фонды\n",
        "    '20500' : '20614', #Некоммерческие партнерства\n",
        "    '20617' : 'Not Applicable',\n",
        "    '20618' : 'Not Applicable',\n",
        "    '20701' : '20702',\n",
        "    '20800' : '20600',\n",
        "    '20801' : '20609',\n",
        "    '20802' : '20610',\n",
        "    '20803' : '20611',\n",
        "    '20810' : '21200',\n",
        "    '20816' : '20716',\n",
        "    '20900' : '75000', #Учреждения\n",
        "    '20901' : '75000', #Автономные учреждения -> Учреждения, из-за подразделения на уровни в новом ОКОПФ\n",
        "    '20902' : '75502', #Благотворительные учреждения\n",
        "    '20903' : '75000', #Бюджетные учреждения, Аналогично Автономным учреждениям\n",
        "    '20904' : '75000', #Казеннные учреждения, Аналогично Автономным учреждениям\n",
        "    '20905' : '75505', #Общественные учреждения\n",
        "    '20906' : '75500', #Учреждения\n",
        "    '20907' : '75000', #Учреждения акакдемий наук, в новом классификаторе такая категория отсутсвует поэтому переставляем на более общую категорию\n",
        "    '20908' : '75000', #Учреждения религиозных организаций, в новом классификаторе такая категория отсутсвует поэтому переставляем на более общую категорию\n",
        "    '21001' : '20701', #Садоводческие, огороднические или дачные некоммерческие товарищества\n",
        "    '28000' : 'Not Applicable',   #Иные Некоммерческие организации\n",
        "    '28001' : '71400', #Автономные некоммерческие организации\n",
        "    '28002' : '20615',\n",
        "    '28003' : '75300',\n",
        "    '28004' : '71602', #Государственные компании\n",
        "    '28005' : '71601', #Государственные корпорации\t\n",
        "    '28006' : '21100', #Казачьи общества -> Казачьи общества, внесенные в государственный реестр казачьих обществ в Российской Федерации\t\n",
        "    '28007' : '20616',\n",
        "    '28008' : '20108',\n",
        "    '28010' : '21200',\n",
        "    '28012' : '20612',\n",
        "    '28013' : 'Not Applicable',\n",
        "    '28014' : '71610',\n",
        "    '28016' : '20716',\n",
        "    '28017' : '20217', #Территориальные общественные самоуправления\t\t\n",
        "    '29000' : 'Not Applicable',   #Иные Некоммерческие организации\n",
        "}"
      ],
      "execution_count": null,
      "outputs": []
    },
    {
      "cell_type": "code",
      "metadata": {
        "id": "nKQAwHp7OLzu"
      },
      "source": [
        "data['customer_legal_form'] = data['customer_legal_form'].map(OKOPF_old).fillna(data['customer_legal_form'])\n",
        "data = data[data['customer_legal_form'] != 'Not Applicable']"
      ],
      "execution_count": null,
      "outputs": []
    },
    {
      "cell_type": "code",
      "metadata": {
        "id": "nqKA6uAlJ_vH"
      },
      "source": [
        "data['supplier_legal_form'] = data['supplier_legal_form'].map(OKOPF_old).fillna(data['supplier_legal_form'])\n",
        "data = data[data['supplier_legal_form'] != 'Not Applicable']"
      ],
      "execution_count": null,
      "outputs": []
    },
    {
      "cell_type": "markdown",
      "metadata": {
        "id": "XL1reReR5MWg"
      },
      "source": [
        "Удаляем контракты с ценой ноль, так как это означает, что не указана суммарная цена всех поставок"
      ]
    },
    {
      "cell_type": "code",
      "metadata": {
        "id": "JJ1NHOSp5L7n"
      },
      "source": [
        "data = data[(data['price'] > 0)]"
      ],
      "execution_count": null,
      "outputs": []
    },
    {
      "cell_type": "markdown",
      "metadata": {
        "id": "Tn6sNKnQP_c1"
      },
      "source": [
        "# Описание полей"
      ]
    },
    {
      "cell_type": "markdown",
      "metadata": {
        "id": "I60tO3o-rLs8"
      },
      "source": [
        "## product_code"
      ]
    },
    {
      "cell_type": "markdown",
      "metadata": {
        "id": "BzEYtAkTn8pg"
      },
      "source": [
        "Общероссийский классификатор продукции по видам экономической деятельности ( [ОКПД](https://classifikators.ru/okpd)).  \n",
        "(Расшифровки в текстовом виде будут добавлены позже, пока используйте dict в коде)"
      ]
    },
    {
      "cell_type": "markdown",
      "metadata": {
        "id": "0l5EQOpbsq-_"
      },
      "source": [
        "### ОКПД Dict для использования в коде"
      ]
    },
    {
      "cell_type": "code",
      "metadata": {
        "id": "CJoDxC1MrSvl"
      },
      "source": [
        "OKPD = {\n",
        "    '01' : 'Продукция и услуги сельского хозяйства и охоты',\n",
        "    '02' : 'Продукция лесоводства, лесозаготовок и связанные с этим услуги',\n",
        "    '03' : 'Рыба и прочая продукция рыболовства и рыбоводства; услуги, связанные с рыболовством и рыбоводством',\n",
        "    '05' : 'Уголь',\n",
        "    '06' : 'Нефть и газ природный',\n",
        "    '07' : 'Руды металлические',\n",
        "    '08' : 'Продукция горнодобывающих производств прочая',\n",
        "    '09' : 'Услуги в области добычи полезных ископаемых',\n",
        "    '10' : 'Продукты пищевые',\n",
        "    '11' : 'Напитки',\n",
        "    '12' : 'Изделия табачные',\n",
        "    '13' : 'Текстиль и изделия текстильные',\n",
        "    '14' : 'Одежда',\n",
        "    '15' : 'Кожа и изделия из кожи',\n",
        "    '16' : 'Древесина и изделия из дерева и пробки, кроме мебели; изделия из соломки и материалов для плетения',\n",
        "    '17' : 'Бумага и изделия из бумаги',\n",
        "    '18' : 'Услуги печатные и услуги по копированию звуко- и видеозаписей, а также программных средств',\n",
        "    '19' : 'Кокс и нефтепродукты',\n",
        "    '20' : 'Вещества химические и продукты химические',\n",
        "    '21' : 'Средства лекарственные и материалы, применяемые в медицинских целях',\n",
        "    '22' : 'Изделия резиновые и пластмассовые',\n",
        "    '23' : 'Продукты минеральные неметаллические прочие',\n",
        "    '24' : 'Металлы основные',\n",
        "    '25' : 'Изделия металлические готовые, кроме машин и оборудования',\n",
        "    '26' : 'Оборудование компьютерное, электронное и оптическое',\n",
        "    '27' : 'Оборудование электрическое',\n",
        "    '28' : 'Машины и оборудование, не включенные в другие группировки',\n",
        "    '29' : 'Средства автотранспортные, прицепы и полуприцепы',\n",
        "    '30' : 'Средства транспортные и оборудование, прочие',\n",
        "    '31' : 'Мебель',\n",
        "    '32' : 'Изделия готовые прочие',\n",
        "    '33' : 'Услуги по ремонту и монтажу машин и оборудования',\n",
        "    '35' : 'Электроэнергия, газ, пар и кондиционирование воздуха',\n",
        "    '36' : 'Вода природная; услуги по очистке воды и водоснабжению',\n",
        "    '37' : 'Услуги по водоотведению; шлам сточных вод',\n",
        "    '38' : 'Услуги по сбору, обработке и удалению отходов; услуги по утилизации отходов',\n",
        "    '39' : 'Услуги по рекультивации и прочие услуги по утилизации отходов',\n",
        "    '41' : 'Здания и работы по возведению зданий',\n",
        "    '42' : 'Сооружения и строительные работы в области гражданского строительства',\n",
        "    '43' : 'Работы строительные специализированные',\n",
        "    '45' : 'Услуги по оптовой и розничной торговле и услуги по ремонту автотранспортных средств и мотоциклов',\n",
        "    '46' : 'Услуги по оптовой торговле, кроме оптовой торговли автотранспортными средствами и мотоциклами',\n",
        "    '47' : 'Услуги по розничной торговле, кроме розничной торговли автотранспортными средствами и мотоциклами',\n",
        "    '49' : 'Услуги сухопутного и трубопроводного транспорта',\n",
        "    '50' : 'Услуги водного транспорта',\n",
        "    '51' : 'Услуги воздушного и космического транспорта',\n",
        "    '52' : 'Услуги по складированию и вспомогательные транспортные услуги',\n",
        "    '53' : 'Услуги почтовой связи и услуги курьерские',\n",
        "    '55' : 'Услуги по предоставлению мест для временного проживания',\n",
        "    '56' : 'Услуги общественного питания',\n",
        "    '58' : 'Услуги издательские',\n",
        "    '59' : 'Услуги по производству кинофильмов, видеофильмов и телевизионных программ, звукозаписей и изданию музыкальных записей',\n",
        "    '60' : 'Услуги в области теле- и радиовещания',\n",
        "    '61' : 'Услуги телекоммуникационные',\n",
        "    '62' : 'Продукты программные и услуги по разработке программного обеспечения; консультационные и аналогичные услуги в области информационных технологий',\n",
        "    '63' : 'Услуги в области информационных технологий',\n",
        "    '64' : 'Услуги финансовые, кроме услуг по страхованию и пенсионному обеспечению',\n",
        "    '65' : 'Услуги по страхованию, перестрахованию и негосударственному пенсионному обеспечению, кроме обязательного социального обеспечения',\n",
        "    '66' : 'Услуги вспомогательные, связанные с услугами финансового посредничества и страхования',\n",
        "    '68' : 'Услуги по операциям с недвижимым имуществом',\n",
        "    '69' : 'Услуги юридические и бухгалтерские',\n",
        "    '70' : 'Услуги головных офисов; услуги консультативные в области управления предприятием',\n",
        "    '71' : 'Услуги в области архитектуры и инженерно-технического проектирования, технических испытаний, исследований и анализа',\n",
        "    '72' : 'Услуги и работы, связанные с научными исследованиями и экспериментальными разработками',\n",
        "    '73' : 'Услуги рекламные и услуги по исследованию конъюнктуры рынка',\n",
        "    '74' : 'Услуги профессиональные, научные и технические, прочие',\n",
        "    '75' : 'Услуги ветеринарные',\n",
        "    '77' : 'Услуги по аренде и лизингу',\n",
        "    '78' : 'Услуги по трудоустройству и подбору персонала',\n",
        "    '79' : 'Услуги туристических агентств, туроператоров и прочие услуги по бронированию и сопутствующие им услуги',\n",
        "    '80' : 'Услуги по обеспечению безопасности и проведению расследований',\n",
        "    '81' : 'Услуги по обслуживанию зданий и территорий',\n",
        "    '82' : 'Услуги в области административного, хозяйственного и прочего вспомогательного обслуживания',\n",
        "    '84' : 'Услуги в области государственного управления и обеспечения военной безопасности, услуги в области обязательного социального обеспечения',\n",
        "    '85' : 'Услуги в области образования',\n",
        "    '86' : 'Услуги в области здравоохранения',\n",
        "    '87' : 'Услуги по предоставлению ухода с обеспечением проживания',\n",
        "    '88' : 'Услуги социальные без обеспечения проживания',\n",
        "    '90' : 'Услуги в области творчества, искусства и развлечений',\n",
        "    '91' : 'Услуги библиотек, архивов, музеев и прочие услуги в области культуры',\n",
        "    '92' : 'Услуги по организации и проведению азартных игр и заключению пари, лотерей',\n",
        "    '93' : 'Услуги, связанные со спортом, и услуги по организации развлечений и отдыха',\n",
        "    '94' : 'Услуги общественных организаций',\n",
        "    '95' : 'Услуги по ремонту компьютеров, предметов личного потребления и бытовых товаров',\n",
        "    '96' : 'Услуги персональные прочие',\n",
        "    '97' : 'Услуги домашних хозяйств с наемными работниками',\n",
        "    '98' : 'Продукция и различные услуги частных домашних хозяйств для собственных нужд',\n",
        "    '99' : 'Услуги, предоставляемые экстерриториальными организациями и органами'\n",
        "    }"
      ],
      "execution_count": null,
      "outputs": []
    },
    {
      "cell_type": "markdown",
      "metadata": {
        "id": "ef15RwKuQDOl"
      },
      "source": [
        "## customer_legal_form  \n",
        "Организационно-правовая форма покупателя по [ОКПОФ](https://classifikators.ru/okopf)  \n",
        "Организацио́нно-правова́я фо́рма хозяйствующего субъекта — признаваемая законодательством той или иной страны форма хозяйствующего субъекта, фиксирующая способ закрепления и использования имущества хозяйствующим субъектом и вытекающие из этого его правовое положение и цели деятельности. ([Википедия](https://ru.wikipedia.org/wiki/%D0%9E%D1%80%D0%B3%D0%B0%D0%BD%D0%B8%D0%B7%D0%B0%D1%86%D0%B8%D0%BE%D0%BD%D0%BD%D0%BE-%D0%BF%D1%80%D0%B0%D0%B2%D0%BE%D0%B2%D0%B0%D1%8F_%D1%84%D0%BE%D1%80%D0%BC%D0%B0))\n",
        "\n"
      ]
    },
    {
      "cell_type": "markdown",
      "metadata": {
        "id": "GI9AsYW_cSxf"
      },
      "source": [
        "### Dict для использования"
      ]
    },
    {
      "cell_type": "code",
      "metadata": {
        "id": "Z7qxTmRhXm2E"
      },
      "source": [
        "OKOPF = {\n",
        "    '10000' : 'Юридические лица - коммерческие корпоративные организации',\n",
        "    '11000' : 'Хозяйственные товарищества',\n",
        "    '11051' : 'Полные товарищества',\n",
        "    '11064' : 'Товарищества на вере (коммандитные товарищества)',\n",
        "    '12000' : 'Хозяйственные общества',\n",
        "    '12200' : 'Акционерные общества',\n",
        "    '12247' : 'Публичные акционерные общества',\n",
        "    '12267' : 'Непубличные акционерные общества',\n",
        "    '12300' : 'Общества с ограниченной ответственностью',\n",
        "    '13000' : 'Хозяйственные партнерства',\n",
        "    '14000' : 'Производственные кооперативы (артели)',\n",
        "    '14100' : 'Сельскохозяйственные производственные кооперативы',\n",
        "    '14153' : 'Сельскохозяйственные артели (колхозы)',\n",
        "    '14154' : 'Рыболовецкие артели (колхозы)',\n",
        "    '14155' : 'Кооперативные хозяйства (коопхозы)',\n",
        "    '14200' : 'Производственные кооперативы',\n",
        "    '15300' : 'Крестьянские (фермерские) хозяйства',\n",
        "    '19000' : 'Юридические лица - прочие коммерческие организации',\n",
        "    '20000' : 'Юридические лица - некоммерческие корпоративные организации',\n",
        "    '20100' : 'Потребительские кооперативы',\n",
        "    '20101' : 'Гаражные и гаражно-строительные кооперативы',\n",
        "    '20102' : 'Жилищные или жилищно-строительные кооперативы',\n",
        "    '20103' : 'Жилищные накопительные кооперативы',\n",
        "    '20104' : 'Кредитные потребительские кооперативы',\n",
        "    '20105' : 'Кредитные потребительские кооперативы граждан',\n",
        "    '20106' : 'Кредитные кооперативы второго уровня',\n",
        "    '20107' : 'Потребительские общества',\n",
        "    '20108' : 'Общества взаимного страхования',\n",
        "    '20109' : 'Сельскохозяйственные потребительские перерабатывающие кооперативы',\n",
        "    '20110' : 'Сельскохозяйственные потребительские сбытовые (торговые) кооперативы',\n",
        "    '20111' : 'Сельскохозяйственные потребительские обслуживающие кооперативы',\n",
        "    '20112' : 'Сельскохозяйственные потребительские снабженческие кооперативы',\n",
        "    '20113' : 'Объединения фермерских хозяйств',\n",
        "    '20115' : 'Сельскохозяйственные потребительские животноводческие кооперативы',\n",
        "    '20121' : 'Фонды проката',\n",
        "    '20200' : 'Общественные организации',\n",
        "    '20201' : 'Политические партии',\n",
        "    '20202' : 'Профсоюзные организации',\n",
        "    '20210' : 'Общественные движения',\n",
        "    '20211' : 'Органы общественной самодеятельности',\n",
        "    '20217' : 'Территориальные общественные самоуправления',\n",
        "    '20600' : 'Ассоциации (союзы)',\n",
        "    '20601' : 'Ассоциации (союзы) экономического взаимодействия субъектов Российской Федерации',\n",
        "    '20603' : 'Советы муниципальных образований субъектов РФ',\n",
        "    '20604' : 'Союзы (ассоциации) кредитных кооперативов',\n",
        "    '20605' : 'Союзы (ассоциации) кооперативов',\n",
        "    '20606' : 'Союзы (ассоциации) общественных объединений',\n",
        "    '20608' : 'Союзы потребительских обществ',\n",
        "    '20609' : 'Адвокатские палаты',\n",
        "    '20610' : 'Нотариальные палаты',\n",
        "    '20611' : 'Торгово-промышленные палаты',\n",
        "    '20612' : 'Объединения работодателей',\n",
        "    '20613' : 'Объединения фермерских хозяйств',\n",
        "    '20614' : 'Некоммерческие партнерства',\n",
        "    '20615' : 'Адвокатские бюро',\n",
        "    '20616' : 'Коллегии адвокатов',\n",
        "    '20619' : 'Саморегулируемые организации',\n",
        "    '20620' : 'Объединения (ассоциации и союзы) благотворительных организаций',\n",
        "    '20700' : 'Товарищества собственников недвижимости',\n",
        "    '20702' : 'Садоводческие или огороднические некоммерческие товарищества',\n",
        "    '20716' : 'Товарищества собственников жилья',\n",
        "    '21100' : 'Казачьи общества',\n",
        "    '21200' : 'Общины коренных малочисленных народов РФ',\n",
        "    '30000' : 'Организации без прав юридического лица',\n",
        "    '30001' : 'Представительства юридических лиц',\n",
        "    '30002' : 'Филиалы юридических лиц',\n",
        "    '30003' : 'Обособленные подразделения юридических лиц',\n",
        "    '30004' : 'Структурные подразделения обособленных подразделений юридических лиц',\n",
        "    '30005' : 'Паевые инвестиционные фонды',\n",
        "    '30006' : 'Простые товарищества',\n",
        "    '30008' : 'Районные суды, городские суды, межрайонные суды (районные суды)',\n",
        "    '40000' : 'Международные организации на территории РФ',\n",
        "    '40001' : 'Межправительственные международные организации',\n",
        "    '40002' : 'Неправительственные международные организации',\n",
        "    '50000' : 'Физическое лицо',\n",
        "    '50100' : 'Организационно-правовые формы для коммерческой деятельности граждан',\n",
        "    '50101' : 'Главы крестьянских (фермерских) хозяйств',\n",
        "    '50102' : 'Индивидуальные предприниматели',\n",
        "    '50200' : 'Организационно-правовые формы для деятельности граждан, не отнесенной к предпринимательству',\n",
        "    '50201' : 'Адвокаты, учредившие адвокатский кабинет',\n",
        "    '50202' : 'Нотариусы, занимающиеся частной практикой',\n",
        "    '60000' : 'Юридические лица - коммерческие унитарные организации',\n",
        "    '65000' : 'Унитарные предприятия',\n",
        "    '65100' : 'Казенные предприятия',\n",
        "    '65141' : 'Федеральные казенные предприятия',\n",
        "    '65142' : 'Казенные предприятия субъектов РФ',\n",
        "    '65143' : 'Муниципальные казенные предприятия',\n",
        "    '65200' : 'Унитарные предприятия, основанные на праве хозяйственного ведения',\n",
        "    '65241' : 'Федеральные государственные унитарные предприятия',\n",
        "    '65242' : 'Государственные унитарные предприятия субъектов РФ',\n",
        "    '65243' : 'Муниципальные унитарные предприятия',\n",
        "    '70000' : 'Юридические лица - некоммерческие унитарные организации',\n",
        "    '70400' : 'Фонды',\n",
        "    '70401' : 'Благотворительные фонды',\n",
        "    '70402' : 'Негосударственные пенсионные фонды',\n",
        "    '70403' : 'Общественные фонды',\n",
        "    '70404' : 'Экологические фонды',\n",
        "    '71400' : 'Автономные некоммерческие организации',\n",
        "    '71500' : 'Религиозные организации',\n",
        "    '71600' : 'Публично-правовые компании',\n",
        "    '71601' : 'Государственные корпорации',\n",
        "    '71602' : 'Государственные компании',\n",
        "    '71610' : 'Отделения иностранных некоммерческих неправительственных организаций',\n",
        "    '75000' : 'Учреждения',\n",
        "    '75100' : 'Учреждения, созданные Российской Федерацией',\n",
        "    '75101' : 'Федеральные государственные автономные учреждения',\n",
        "    '75103' : 'Федеральные государственные бюджетные учреждения',\n",
        "    '75104' : 'Федеральные государственные казенные учреждения',\n",
        "    '75200' : 'Учреждения, созданные субъектом РФ',\n",
        "    '75201' : 'Государственные автономные учреждения субъектов РФ',\n",
        "    '75203' : 'Государственные бюджетные учреждения субъектов РФ',\n",
        "    '75204' : 'Государственные казенные учреждения субъектов РФ',\n",
        "    '75300' : 'Государственные академии наук',\n",
        "    '75400' : 'Муниципальные учреждения',\n",
        "    '75401' : 'Муниципальные автономные учреждения',\n",
        "    '75403' : 'Муниципальные бюджетные учреждения',\n",
        "    '75404' : 'Муниципальные казенные учреждения',\n",
        "    '75500' : 'Частные учреждения',\n",
        "    '75502' : 'Благотворительные учреждения',\n",
        "    '75505' : 'Общественные учреждения',\n",
        "}"
      ],
      "execution_count": null,
      "outputs": []
    },
    {
      "cell_type": "markdown",
      "metadata": {
        "id": "A3sIxkJLQ4qk"
      },
      "source": [
        "\n",
        "\n",
        "### 10000\t- Организационно-правовые формы юридических лиц, являющихся коммерческими корпоративными организациями  \n",
        "*   11000 — Хозяйственные товарищества\n",
        "*   *   11051 — Полные товарищества\n",
        "*   *   11064 — Товарищества на вере (коммандитные товарищества)\n",
        "*   12000 — Хозяйственные общества\n",
        "*   *   12200 — Акционерные общества\n",
        "*   *   *  12247 — Публичные акционерные общества\n",
        "*   *   *  12267 — Непубличные акционерные общества\n",
        "*   *   12300 — Общества с ограниченной ответственностью\n",
        "*   13000 — Хозяйственные партнерства\n",
        "*   14000 — Производственные кооперативы (артели)\n",
        "*   *   14100 — Сельскохозяйственные производственные кооперативы\n",
        "*   *   *  14153 — Сельскохозяйственные артели (колхозы)\n",
        "*   *   *  14154 — Рыболовецкие артели (колхозы)\n",
        "*   *   *  14155 — Кооперативные хозяйства (коопхозы)\n",
        "*   *   14200  — Производственные кооперативы (кроме сельскохозяйственных производственных кооперативов)\n",
        "*   19000  — Прочие юридические лица, являющиеся коммерческими организациями\n",
        "\n",
        "\n"
      ]
    },
    {
      "cell_type": "markdown",
      "metadata": {
        "id": "6CKwCvciSI-e"
      },
      "source": [
        "### 20000\t- Организационно-правовые формы юридических лиц, являющихся некоммерческими корпоративными организациями  \n",
        "*   20100 — Потребительские кооперативы\n",
        "*   20200 — Общественные организации\n",
        "*  *  20201 — Политические партии\n",
        "*  *  20202 — Профсоюзные организации\n",
        "*  *  20210 — Общественные движения\n",
        "*  *  20211 — Органы общественной самодеятельности\n",
        "*  *  20217 — Территориальные общественные самоуправления\n",
        "*   20600 — Ассоциации (союзы)\n",
        "*   *   ....\n",
        "*   *   20603 — Советы муниципальных образований субъектов Российской Федерации\n",
        "*   20700 — Товарищества собственников недвижимости\n",
        "*   21100 — Казачьи общества, внесенные в государственный реестр казачьих обществ в Российской Федерации\t\n",
        "*   21200 — Общины коренных малочисленных народов Российской Федерации"
      ]
    },
    {
      "cell_type": "markdown",
      "metadata": {
        "id": "FunLOzUCTaPY"
      },
      "source": [
        "### 30000 — Организационно-правовые формы организаций, созданных без прав юридического лица\n",
        "*   30001 — Представительства юридических лиц\n",
        "*   30002 — Филиалы юридических лиц\n",
        "*   30003 — Обособленные подразделения юридических лиц\n",
        "*   30004 — \tСтруктурные подразделения обособленных подразделений юридических лиц\n",
        "*   30005 — Паевые инвестиционные фонды\n",
        "*   30006 — Простые товарищества\n",
        "*   30008 — Районные суды, городские суды, межрайонные суды (районные суды)\n"
      ]
    },
    {
      "cell_type": "markdown",
      "metadata": {
        "id": "VGkvyjvzUl9p"
      },
      "source": [
        "### 40000 Организационно-правовые формы международных организаций, осуществляющих деятельность на территории российской федерации\n",
        "\n",
        "\n",
        "*   40001 — Межправительственные международные организации\n",
        "*   40002 — Неправительственные международные организации\n",
        "\n",
        "\n"
      ]
    },
    {
      "cell_type": "markdown",
      "metadata": {
        "id": "NLFbMW-DU3nk"
      },
      "source": [
        "### 50000 — Организационно-правовые формы для деятельности граждан (физических лиц)\n",
        "\n",
        "\n",
        "*   ...\n",
        "\n"
      ]
    },
    {
      "cell_type": "markdown",
      "metadata": {
        "id": "uHnS1st8VE8A"
      },
      "source": [
        "### 60000 — Организационно-правовые формы юридических лиц, являющихся коммерческими унитарными организациями\n",
        "\n",
        "\n",
        "*   65000 — Унитарные предприятия\n",
        "*   *  65100 — Унитарные предприятия, основанные на праве оперативного управления (казенные предприятия)\n",
        "*   *  *  65141 — Федеральные казенные предприятия\n",
        "*   *  *  65142 — Казенные предприятия субъектов Российской Федерации\n",
        "*   *  *  65143 — Муниципальные казенные предприятия\n",
        "*   *  65200 — Унитарные предприятия, основанные на праве хозяйственного ведения\n",
        "*   *  *  65241 — Федеральные государственные унитарные предприятия\n",
        "*   *  *  65242 — Государственные унитарные предприятия субъектов Российской Федерации\n",
        "*   *  *  65243 — Муниципальные унитарные предприятия\n",
        "\n"
      ]
    },
    {
      "cell_type": "markdown",
      "metadata": {
        "id": "azCvSTT_WB6V"
      },
      "source": [
        "### 70000 — Организационно-правовые формы юридических лиц, являющихся некоммерческими унитарными организациями\n",
        "\n",
        "*   70400 — Фонды\n",
        "*   *  70401 — Благотворительные фонды\n",
        "*   *  70402 — Негосударственные пенсионные фонды\n",
        "*   *  70403 — Общественные фонды\n",
        "*   *  70404 — Экологические фонды\n",
        "*   71400 — Автономные некоммерческие организации\n",
        "*   71500 — Религиозные организации\n",
        "*   71600 — Публично-правовые компании\n",
        "*   *  71601 — Государственные корпорации\n",
        "*   *  71602 — Государственные компании\n",
        "*   *  71610 — Отделения иностранных некоммерческих неправительственных организаций\n",
        "*   75000 — Учреждения\n",
        "*   *  75100 — Учреждения, созданные Российской Федерацией\n",
        "*   *   *  75101 — Федеральные государственные автономные учреждения\n",
        "*   *   *  75103 — Федеральные государственные бюджетные учреждения\n",
        "*   *   *  75104 — Федеральные государственные казенные учреждения\n",
        "*   *  75200 — Учреждения, созданные субъектом Российской Федерации\n",
        "*   *   *  75201 — Государственные автономные учреждения субъектов Российской Федерации\n",
        "*   *   *  75203 — Государственные бюджетные учреждения субъектов Российской Федерации\n",
        "*   *   *  75204 — Государственные казенные учреждения субъектов Российской Федерации\n",
        "*   *  75300 — Государственные академии наук\n",
        "*   *  75400 — Учреждения, созданные муниципальным образованием (муниципальные учреждения)\n",
        "*   *   *  75401 — Муниципальные автономные учреждения\n",
        "*   *   *  75403 — Муниципальные бюджетные учреждения\n",
        "*   *   *  75404 — Муниципальные казенные учреждения\n",
        "*   *  75500 — Частные учреждения\n",
        "*   *   *  75502 — Благотворительные учреждения\n",
        "*   *   *  75505 — Общественные учреждения\n"
      ]
    },
    {
      "cell_type": "markdown",
      "metadata": {
        "id": "peiEkKztmZsE"
      },
      "source": [
        "## current_contract_stage"
      ]
    },
    {
      "cell_type": "markdown",
      "metadata": {
        "id": "Kq_0JjIkmhir"
      },
      "source": [
        "Данный параметр может содержать следующие возможные значения:  \n",
        "*   Из системы госзакупок:\n",
        "*   *   EC - Завершен\n",
        "*   *   E  - Выполяется\n",
        "*   *   ET - Исполнение прекращено\n",
        "*   *   IN - Контракт Аннулирован\n",
        "*   Добавленные:\n",
        "*   *   Unknown - Результат неизвестен\n",
        "\n",
        "\n"
      ]
    },
    {
      "cell_type": "markdown",
      "metadata": {
        "id": "FpEZ6DgmpgkC"
      },
      "source": [
        "Пояснения:  \n",
        "*   Контракт завершен - успешное выполнение контракта.  \n",
        "*   Исполнение прекращено - исполнение прекращено по договору о расторжении.  \n",
        "*   Контракт аннулирован - контракт был признан недействительным по заявлению одной из сторон или по иску ФАС.  \n",
        "*   Unknown - контракт должен был завершиться, но это не отмечено в системе (Т.е. контракт могли продлить, он мог завершиться или его исполнение могли прекратить, но данные еще не были выложены в систему). "
      ]
    },
    {
      "cell_type": "markdown",
      "metadata": {
        "id": "OH7YqsNenVVl"
      },
      "source": [
        "Данная характеристика, хоть и содержится в самом документе контракта, но актуальные данные должны быть получены из документов, являющихся процедурами по обновлению состояния контракта."
      ]
    },
    {
      "cell_type": "markdown",
      "metadata": {
        "id": "l-YEytZbcUlD"
      },
      "source": [
        "# Просмотр данных\n"
      ]
    },
    {
      "cell_type": "code",
      "metadata": {
        "id": "5lwx42O9cQ6C",
        "colab": {
          "base_uri": "https://localhost:8080/"
        },
        "outputId": "2fbfb5c8-f744-42dd-8ddc-66f6bb497538"
      },
      "source": [
        "data.sort_values('time')"
      ],
      "execution_count": null,
      "outputs": [
        {
          "output_type": "execute_result",
          "data": {
            "text/html": [
              "<div>\n",
              "<style scoped>\n",
              "    .dataframe tbody tr th:only-of-type {\n",
              "        vertical-align: middle;\n",
              "    }\n",
              "\n",
              "    .dataframe tbody tr th {\n",
              "        vertical-align: top;\n",
              "    }\n",
              "\n",
              "    .dataframe thead th {\n",
              "        text-align: right;\n",
              "    }\n",
              "</style>\n",
              "<table border=\"1\" class=\"dataframe\">\n",
              "  <thead>\n",
              "    <tr style=\"text-align: right;\">\n",
              "      <th></th>\n",
              "      <th>reg_num</th>\n",
              "      <th>id</th>\n",
              "      <th>publish_date</th>\n",
              "      <th>customer_inn</th>\n",
              "      <th>customer_legal_form</th>\n",
              "      <th>price</th>\n",
              "      <th>execution_period_start</th>\n",
              "      <th>execution_period_end</th>\n",
              "      <th>product_code</th>\n",
              "      <th>supplier_legal_form</th>\n",
              "      <th>supplier_inn</th>\n",
              "      <th>current_contract_stage</th>\n",
              "      <th>supplier_registration_date</th>\n",
              "      <th>time</th>\n",
              "      <th>registration_period</th>\n",
              "    </tr>\n",
              "  </thead>\n",
              "  <tbody>\n",
              "    <tr>\n",
              "      <th>8619489</th>\n",
              "      <td>2025601755715000105</td>\n",
              "      <td>20279315</td>\n",
              "      <td>2015-03-03 12:36:41.486000+05:00</td>\n",
              "      <td>0256017557</td>\n",
              "      <td>75000</td>\n",
              "      <td>104030.40</td>\n",
              "      <td>2015-03-02</td>\n",
              "      <td>2015-03-02</td>\n",
              "      <td>33.10.15.190</td>\n",
              "      <td>12300</td>\n",
              "      <td>0277018329</td>\n",
              "      <td>EC</td>\n",
              "      <td>1993-04-20</td>\n",
              "      <td>1</td>\n",
              "      <td>7987</td>\n",
              "    </tr>\n",
              "    <tr>\n",
              "      <th>5963662</th>\n",
              "      <td>2222200663117000025</td>\n",
              "      <td>32237607</td>\n",
              "      <td>2017-02-03 14:28:42.765000+07:00</td>\n",
              "      <td>2222006631</td>\n",
              "      <td>75203</td>\n",
              "      <td>196430.39</td>\n",
              "      <td>2017-01-10</td>\n",
              "      <td>2017-01-10</td>\n",
              "      <td>32.50.50.000</td>\n",
              "      <td>65242</td>\n",
              "      <td>2224006700</td>\n",
              "      <td>EC</td>\n",
              "      <td>1994-02-13</td>\n",
              "      <td>1</td>\n",
              "      <td>8368</td>\n",
              "    </tr>\n",
              "    <tr>\n",
              "      <th>5253144</th>\n",
              "      <td>3234901099917000008</td>\n",
              "      <td>35510741</td>\n",
              "      <td>2017-07-26 11:22:14.485000+03:00</td>\n",
              "      <td>2349010999</td>\n",
              "      <td>75403</td>\n",
              "      <td>223405.00</td>\n",
              "      <td>2017-07-25</td>\n",
              "      <td>2017-07-25</td>\n",
              "      <td>46.71.12.000</td>\n",
              "      <td>12300</td>\n",
              "      <td>2309085910</td>\n",
              "      <td>EC</td>\n",
              "      <td>2003-12-09</td>\n",
              "      <td>1</td>\n",
              "      <td>4978</td>\n",
              "    </tr>\n",
              "    <tr>\n",
              "      <th>8637962</th>\n",
              "      <td>1422700198315000003</td>\n",
              "      <td>20210616</td>\n",
              "      <td>2015-02-27 10:51:37.965000+07:00</td>\n",
              "      <td>4227001983</td>\n",
              "      <td>75000</td>\n",
              "      <td>1199998.25</td>\n",
              "      <td>2015-02-17</td>\n",
              "      <td>2015-02-17</td>\n",
              "      <td>40.11.10.112</td>\n",
              "      <td>12300</td>\n",
              "      <td>7706284124</td>\n",
              "      <td>EC</td>\n",
              "      <td>2006-02-28</td>\n",
              "      <td>1</td>\n",
              "      <td>3277</td>\n",
              "    </tr>\n",
              "    <tr>\n",
              "      <th>8245393</th>\n",
              "      <td>1230108632615000201</td>\n",
              "      <td>23006133</td>\n",
              "      <td>2015-09-04 13:54:36.082000+03:00</td>\n",
              "      <td>2301086326</td>\n",
              "      <td>75104</td>\n",
              "      <td>84500.00</td>\n",
              "      <td>2015-09-04</td>\n",
              "      <td>2015-09-04</td>\n",
              "      <td>21.12.14.190</td>\n",
              "      <td>12300</td>\n",
              "      <td>2310144704</td>\n",
              "      <td>EC</td>\n",
              "      <td>2010-03-04</td>\n",
              "      <td>1</td>\n",
              "      <td>2011</td>\n",
              "    </tr>\n",
              "    <tr>\n",
              "      <th>...</th>\n",
              "      <td>...</td>\n",
              "      <td>...</td>\n",
              "      <td>...</td>\n",
              "      <td>...</td>\n",
              "      <td>...</td>\n",
              "      <td>...</td>\n",
              "      <td>...</td>\n",
              "      <td>...</td>\n",
              "      <td>...</td>\n",
              "      <td>...</td>\n",
              "      <td>...</td>\n",
              "      <td>...</td>\n",
              "      <td>...</td>\n",
              "      <td>...</td>\n",
              "      <td>...</td>\n",
              "    </tr>\n",
              "    <tr>\n",
              "      <th>1152767</th>\n",
              "      <td>3290100316020000023</td>\n",
              "      <td>56535702</td>\n",
              "      <td>2020-03-20 10:23:31.397000+03:00</td>\n",
              "      <td>2901003160</td>\n",
              "      <td>65243</td>\n",
              "      <td>88907.00</td>\n",
              "      <td>2018-11-02</td>\n",
              "      <td>2068-02-18</td>\n",
              "      <td>84.11.19.110</td>\n",
              "      <td>75404</td>\n",
              "      <td>2901065991</td>\n",
              "      <td>E</td>\n",
              "      <td>1996-09-16</td>\n",
              "      <td>18006</td>\n",
              "      <td>8083</td>\n",
              "    </tr>\n",
              "    <tr>\n",
              "      <th>1930</th>\n",
              "      <td>3860316921019000324</td>\n",
              "      <td>63286365</td>\n",
              "      <td>2021-01-29 17:13:12.624000+05:00</td>\n",
              "      <td>8603169210</td>\n",
              "      <td>75404</td>\n",
              "      <td>2917986.36</td>\n",
              "      <td>2018-08-30</td>\n",
              "      <td>2067-12-31</td>\n",
              "      <td>68.20.12.000</td>\n",
              "      <td>75404</td>\n",
              "      <td>8603032896</td>\n",
              "      <td>E</td>\n",
              "      <td>1994-11-11</td>\n",
              "      <td>18021</td>\n",
              "      <td>8694</td>\n",
              "    </tr>\n",
              "    <tr>\n",
              "      <th>4776668</th>\n",
              "      <td>3290100316017000069</td>\n",
              "      <td>37642830</td>\n",
              "      <td>2017-11-22 14:24:02.504000+03:00</td>\n",
              "      <td>2901003160</td>\n",
              "      <td>65243</td>\n",
              "      <td>1355095.00</td>\n",
              "      <td>2017-08-16</td>\n",
              "      <td>2066-12-31</td>\n",
              "      <td>84.11.19.110</td>\n",
              "      <td>75404</td>\n",
              "      <td>2901078408</td>\n",
              "      <td>EC</td>\n",
              "      <td>1996-09-26</td>\n",
              "      <td>18035</td>\n",
              "      <td>7630</td>\n",
              "    </tr>\n",
              "    <tr>\n",
              "      <th>456738</th>\n",
              "      <td>1410002321720000020</td>\n",
              "      <td>60805580</td>\n",
              "      <td>2020-11-12 17:47:56.228000+12:00</td>\n",
              "      <td>4100023217</td>\n",
              "      <td>75104</td>\n",
              "      <td>54417.21</td>\n",
              "      <td>2016-01-01</td>\n",
              "      <td>2065-09-07</td>\n",
              "      <td>68.31.14.130</td>\n",
              "      <td>75404</td>\n",
              "      <td>4101131945</td>\n",
              "      <td>E</td>\n",
              "      <td>2009-07-14</td>\n",
              "      <td>18148</td>\n",
              "      <td>2363</td>\n",
              "    </tr>\n",
              "    <tr>\n",
              "      <th>6063597</th>\n",
              "      <td>1771427690617000001</td>\n",
              "      <td>31810061</td>\n",
              "      <td>2017-01-17 16:06:19.466000+03:00</td>\n",
              "      <td>7714276906</td>\n",
              "      <td>65241</td>\n",
              "      <td>2544719.45</td>\n",
              "      <td>2017-01-17</td>\n",
              "      <td>2066-12-31</td>\n",
              "      <td>68.20.12.000</td>\n",
              "      <td>75104</td>\n",
              "      <td>7714549744</td>\n",
              "      <td>E</td>\n",
              "      <td>2004-04-28</td>\n",
              "      <td>18246</td>\n",
              "      <td>4648</td>\n",
              "    </tr>\n",
              "  </tbody>\n",
              "</table>\n",
              "<p>8900019 rows × 15 columns</p>\n",
              "</div>"
            ],
            "text/plain": [
              "                     reg_num        id  ...   time registration_period\n",
              "8619489  2025601755715000105  20279315  ...      1                7987\n",
              "5963662  2222200663117000025  32237607  ...      1                8368\n",
              "5253144  3234901099917000008  35510741  ...      1                4978\n",
              "8637962  1422700198315000003  20210616  ...      1                3277\n",
              "8245393  1230108632615000201  23006133  ...      1                2011\n",
              "...                      ...       ...  ...    ...                 ...\n",
              "1152767  3290100316020000023  56535702  ...  18006                8083\n",
              "1930     3860316921019000324  63286365  ...  18021                8694\n",
              "4776668  3290100316017000069  37642830  ...  18035                7630\n",
              "456738   1410002321720000020  60805580  ...  18148                2363\n",
              "6063597  1771427690617000001  31810061  ...  18246                4648\n",
              "\n",
              "[8900019 rows x 15 columns]"
            ]
          },
          "metadata": {
            "tags": []
          },
          "execution_count": 21
        }
      ]
    },
    {
      "cell_type": "code",
      "metadata": {
        "id": "i9rmHAIKcSEg",
        "colab": {
          "base_uri": "https://localhost:8080/"
        },
        "outputId": "c0a524e1-e79e-45b1-806b-93534a448524"
      },
      "source": [
        "data.sort_values('price')"
      ],
      "execution_count": null,
      "outputs": [
        {
          "output_type": "execute_result",
          "data": {
            "text/html": [
              "<div>\n",
              "<style scoped>\n",
              "    .dataframe tbody tr th:only-of-type {\n",
              "        vertical-align: middle;\n",
              "    }\n",
              "\n",
              "    .dataframe tbody tr th {\n",
              "        vertical-align: top;\n",
              "    }\n",
              "\n",
              "    .dataframe thead th {\n",
              "        text-align: right;\n",
              "    }\n",
              "</style>\n",
              "<table border=\"1\" class=\"dataframe\">\n",
              "  <thead>\n",
              "    <tr style=\"text-align: right;\">\n",
              "      <th></th>\n",
              "      <th>reg_num</th>\n",
              "      <th>id</th>\n",
              "      <th>publish_date</th>\n",
              "      <th>customer_inn</th>\n",
              "      <th>customer_legal_form</th>\n",
              "      <th>price</th>\n",
              "      <th>execution_period_start</th>\n",
              "      <th>execution_period_end</th>\n",
              "      <th>product_code</th>\n",
              "      <th>supplier_legal_form</th>\n",
              "      <th>supplier_inn</th>\n",
              "      <th>current_contract_stage</th>\n",
              "      <th>supplier_registration_date</th>\n",
              "      <th>time</th>\n",
              "      <th>registration_period</th>\n",
              "    </tr>\n",
              "  </thead>\n",
              "  <tbody>\n",
              "    <tr>\n",
              "      <th>240778</th>\n",
              "      <td>2420514479420000066</td>\n",
              "      <td>61728969</td>\n",
              "      <td>2020-12-19 23:47:18.809000+07:00</td>\n",
              "      <td>4205144794</td>\n",
              "      <td>75204</td>\n",
              "      <td>1.000000e-02</td>\n",
              "      <td>2020-12-16</td>\n",
              "      <td>2021-12-15</td>\n",
              "      <td>49.39.11.110</td>\n",
              "      <td>65242</td>\n",
              "      <td>4223077050</td>\n",
              "      <td>E</td>\n",
              "      <td>2015-06-26</td>\n",
              "      <td>365</td>\n",
              "      <td>2001</td>\n",
              "    </tr>\n",
              "    <tr>\n",
              "      <th>4854585</th>\n",
              "      <td>1402709652217000028</td>\n",
              "      <td>37286900</td>\n",
              "      <td>2017-11-02 09:34:20.349000+03:00</td>\n",
              "      <td>4027096522</td>\n",
              "      <td>75104</td>\n",
              "      <td>1.000000e-02</td>\n",
              "      <td>2017-10-19</td>\n",
              "      <td>2017-12-29</td>\n",
              "      <td>47.19.20.000</td>\n",
              "      <td>12300</td>\n",
              "      <td>7728282160</td>\n",
              "      <td>Unknown</td>\n",
              "      <td>2015-10-13</td>\n",
              "      <td>72</td>\n",
              "      <td>738</td>\n",
              "    </tr>\n",
              "    <tr>\n",
              "      <th>6474182</th>\n",
              "      <td>3503615483916000168</td>\n",
              "      <td>30058650</td>\n",
              "      <td>2016-10-25 10:45:50.384000+03:00</td>\n",
              "      <td>5036154839</td>\n",
              "      <td>75404</td>\n",
              "      <td>1.000000e-02</td>\n",
              "      <td>2016-10-03</td>\n",
              "      <td>2016-12-31</td>\n",
              "      <td>49.31.21.110</td>\n",
              "      <td>12300</td>\n",
              "      <td>5048014434</td>\n",
              "      <td>EC</td>\n",
              "      <td>2006-09-19</td>\n",
              "      <td>90</td>\n",
              "      <td>3668</td>\n",
              "    </tr>\n",
              "    <tr>\n",
              "      <th>8671501</th>\n",
              "      <td>3505500025615000014</td>\n",
              "      <td>20084373</td>\n",
              "      <td>2015-02-19 17:48:05.851000+03:00</td>\n",
              "      <td>5055000256</td>\n",
              "      <td>75000</td>\n",
              "      <td>1.000000e-02</td>\n",
              "      <td>2015-01-13</td>\n",
              "      <td>2015-12-31</td>\n",
              "      <td>40.12.10.110</td>\n",
              "      <td>12247</td>\n",
              "      <td>7736520080</td>\n",
              "      <td>EC</td>\n",
              "      <td>2005-04-01</td>\n",
              "      <td>353</td>\n",
              "      <td>3575</td>\n",
              "    </tr>\n",
              "    <tr>\n",
              "      <th>2176225</th>\n",
              "      <td>3421402090019000025</td>\n",
              "      <td>50559499</td>\n",
              "      <td>2019-06-27 14:31:22.603000+07:00</td>\n",
              "      <td>4214020900</td>\n",
              "      <td>75404</td>\n",
              "      <td>1.000000e-02</td>\n",
              "      <td>2019-06-24</td>\n",
              "      <td>2020-01-31</td>\n",
              "      <td>49.31.21.110</td>\n",
              "      <td>12300</td>\n",
              "      <td>4214020354</td>\n",
              "      <td>Unknown</td>\n",
              "      <td>2003-11-10</td>\n",
              "      <td>222</td>\n",
              "      <td>5706</td>\n",
              "    </tr>\n",
              "    <tr>\n",
              "      <th>...</th>\n",
              "      <td>...</td>\n",
              "      <td>...</td>\n",
              "      <td>...</td>\n",
              "      <td>...</td>\n",
              "      <td>...</td>\n",
              "      <td>...</td>\n",
              "      <td>...</td>\n",
              "      <td>...</td>\n",
              "      <td>...</td>\n",
              "      <td>...</td>\n",
              "      <td>...</td>\n",
              "      <td>...</td>\n",
              "      <td>...</td>\n",
              "      <td>...</td>\n",
              "      <td>...</td>\n",
              "    </tr>\n",
              "    <tr>\n",
              "      <th>867065</th>\n",
              "      <td>1770641334820000055</td>\n",
              "      <td>58276870</td>\n",
              "      <td>2020-06-17 14:15:31.545000+03:00</td>\n",
              "      <td>7706413348</td>\n",
              "      <td>71601</td>\n",
              "      <td>1.275770e+11</td>\n",
              "      <td>2020-04-23</td>\n",
              "      <td>2027-12-15</td>\n",
              "      <td>30.11.33.190</td>\n",
              "      <td>12300</td>\n",
              "      <td>2503032517</td>\n",
              "      <td>E</td>\n",
              "      <td>2015-12-17</td>\n",
              "      <td>2793</td>\n",
              "      <td>1590</td>\n",
              "    </tr>\n",
              "    <tr>\n",
              "      <th>115882</th>\n",
              "      <td>2770203815020000913</td>\n",
              "      <td>62354952</td>\n",
              "      <td>2020-12-30 12:51:02.924000+03:00</td>\n",
              "      <td>7702038150</td>\n",
              "      <td>65242</td>\n",
              "      <td>1.354438e+11</td>\n",
              "      <td>2020-09-09</td>\n",
              "      <td>2023-12-31</td>\n",
              "      <td>30.20.32.130</td>\n",
              "      <td>12200</td>\n",
              "      <td>5029006702</td>\n",
              "      <td>E</td>\n",
              "      <td>2002-10-16</td>\n",
              "      <td>1209</td>\n",
              "      <td>6539</td>\n",
              "    </tr>\n",
              "    <tr>\n",
              "      <th>280426</th>\n",
              "      <td>0173100000414000011</td>\n",
              "      <td>61639904</td>\n",
              "      <td>2020-12-15 17:35:24.914000+03:00</td>\n",
              "      <td>7710549038</td>\n",
              "      <td>75104</td>\n",
              "      <td>1.385575e+11</td>\n",
              "      <td>2014-05-13</td>\n",
              "      <td>2024-05-13</td>\n",
              "      <td>61.10.11.190</td>\n",
              "      <td>75104</td>\n",
              "      <td>7710549038</td>\n",
              "      <td>E</td>\n",
              "      <td>2014-04-04</td>\n",
              "      <td>3654</td>\n",
              "      <td>40</td>\n",
              "    </tr>\n",
              "    <tr>\n",
              "      <th>125291</th>\n",
              "      <td>2772838158719000703</td>\n",
              "      <td>62303959</td>\n",
              "      <td>2020-12-29 22:03:17.273000+03:00</td>\n",
              "      <td>7728381587</td>\n",
              "      <td>75204</td>\n",
              "      <td>1.386960e+11</td>\n",
              "      <td>2019-11-25</td>\n",
              "      <td>2023-12-31</td>\n",
              "      <td>42.11.20.000</td>\n",
              "      <td>12200</td>\n",
              "      <td>7701885820</td>\n",
              "      <td>E</td>\n",
              "      <td>2015-09-22</td>\n",
              "      <td>1498</td>\n",
              "      <td>1526</td>\n",
              "    </tr>\n",
              "    <tr>\n",
              "      <th>233710</th>\n",
              "      <td>1490908343515000003</td>\n",
              "      <td>61862906</td>\n",
              "      <td>2020-12-21 17:15:55.049000+03:00</td>\n",
              "      <td>4909083435</td>\n",
              "      <td>75104</td>\n",
              "      <td>2.236274e+11</td>\n",
              "      <td>2015-02-17</td>\n",
              "      <td>2020-12-31</td>\n",
              "      <td>71.12.12.000</td>\n",
              "      <td>12267</td>\n",
              "      <td>9729299794</td>\n",
              "      <td>Unknown</td>\n",
              "      <td>2020-09-04</td>\n",
              "      <td>2145</td>\n",
              "      <td>-2025</td>\n",
              "    </tr>\n",
              "  </tbody>\n",
              "</table>\n",
              "<p>8900019 rows × 15 columns</p>\n",
              "</div>"
            ],
            "text/plain": [
              "                     reg_num        id  ...  time registration_period\n",
              "240778   2420514479420000066  61728969  ...   365                2001\n",
              "4854585  1402709652217000028  37286900  ...    72                 738\n",
              "6474182  3503615483916000168  30058650  ...    90                3668\n",
              "8671501  3505500025615000014  20084373  ...   353                3575\n",
              "2176225  3421402090019000025  50559499  ...   222                5706\n",
              "...                      ...       ...  ...   ...                 ...\n",
              "867065   1770641334820000055  58276870  ...  2793                1590\n",
              "115882   2770203815020000913  62354952  ...  1209                6539\n",
              "280426   0173100000414000011  61639904  ...  3654                  40\n",
              "125291   2772838158719000703  62303959  ...  1498                1526\n",
              "233710   1490908343515000003  61862906  ...  2145               -2025\n",
              "\n",
              "[8900019 rows x 15 columns]"
            ]
          },
          "metadata": {
            "tags": []
          },
          "execution_count": 22
        }
      ]
    },
    {
      "cell_type": "code",
      "metadata": {
        "id": "Ld7zFx_BVabi",
        "colab": {
          "base_uri": "https://localhost:8080/"
        },
        "outputId": "ec159e58-8939-4cbf-9916-b9f7519c599e"
      },
      "source": [
        "data.sort_values('customer_legal_form')"
      ],
      "execution_count": null,
      "outputs": [
        {
          "output_type": "execute_result",
          "data": {
            "text/html": [
              "<div>\n",
              "<style scoped>\n",
              "    .dataframe tbody tr th:only-of-type {\n",
              "        vertical-align: middle;\n",
              "    }\n",
              "\n",
              "    .dataframe tbody tr th {\n",
              "        vertical-align: top;\n",
              "    }\n",
              "\n",
              "    .dataframe thead th {\n",
              "        text-align: right;\n",
              "    }\n",
              "</style>\n",
              "<table border=\"1\" class=\"dataframe\">\n",
              "  <thead>\n",
              "    <tr style=\"text-align: right;\">\n",
              "      <th></th>\n",
              "      <th>reg_num</th>\n",
              "      <th>id</th>\n",
              "      <th>publish_date</th>\n",
              "      <th>customer_inn</th>\n",
              "      <th>customer_legal_form</th>\n",
              "      <th>price</th>\n",
              "      <th>execution_period_start</th>\n",
              "      <th>execution_period_end</th>\n",
              "      <th>product_code</th>\n",
              "      <th>supplier_legal_form</th>\n",
              "      <th>supplier_inn</th>\n",
              "      <th>current_contract_stage</th>\n",
              "      <th>supplier_registration_date</th>\n",
              "      <th>time</th>\n",
              "      <th>registration_period</th>\n",
              "    </tr>\n",
              "  </thead>\n",
              "  <tbody>\n",
              "    <tr>\n",
              "      <th>8573220</th>\n",
              "      <td>3271701793215000009</td>\n",
              "      <td>21681457</td>\n",
              "      <td>2015-06-03 22:14:47.872000+10:00</td>\n",
              "      <td>2717017932</td>\n",
              "      <td>12000</td>\n",
              "      <td>6.358650e+05</td>\n",
              "      <td>2015-07-01</td>\n",
              "      <td>2016-01-31</td>\n",
              "      <td>15.51.11.121</td>\n",
              "      <td>12247</td>\n",
              "      <td>2726000036</td>\n",
              "      <td>ET</td>\n",
              "      <td>1994-06-29</td>\n",
              "      <td>215</td>\n",
              "      <td>7673</td>\n",
              "    </tr>\n",
              "    <tr>\n",
              "      <th>8549345</th>\n",
              "      <td>3271701793215000010</td>\n",
              "      <td>21752250</td>\n",
              "      <td>2015-06-10 22:27:24.019000+10:00</td>\n",
              "      <td>2717017932</td>\n",
              "      <td>12000</td>\n",
              "      <td>4.425678e+05</td>\n",
              "      <td>2015-07-01</td>\n",
              "      <td>2016-01-31</td>\n",
              "      <td>15.12.12.112</td>\n",
              "      <td>12300</td>\n",
              "      <td>2712009769</td>\n",
              "      <td>ET</td>\n",
              "      <td>2014-08-08</td>\n",
              "      <td>215</td>\n",
              "      <td>328</td>\n",
              "    </tr>\n",
              "    <tr>\n",
              "      <th>4642953</th>\n",
              "      <td>1780565428817000009</td>\n",
              "      <td>38049937</td>\n",
              "      <td>2017-12-15 12:38:51.630000+03:00</td>\n",
              "      <td>7805654288</td>\n",
              "      <td>12200</td>\n",
              "      <td>4.969470e+06</td>\n",
              "      <td>2017-12-07</td>\n",
              "      <td>2018-01-31</td>\n",
              "      <td>26.51.62.110</td>\n",
              "      <td>12300</td>\n",
              "      <td>7804306217</td>\n",
              "      <td>EC</td>\n",
              "      <td>2004-10-27</td>\n",
              "      <td>56</td>\n",
              "      <td>4790</td>\n",
              "    </tr>\n",
              "    <tr>\n",
              "      <th>8224854</th>\n",
              "      <td>1771590006615000050</td>\n",
              "      <td>12905159</td>\n",
              "      <td>2015-09-11 09:23:34.577000+03:00</td>\n",
              "      <td>7715900066</td>\n",
              "      <td>12200</td>\n",
              "      <td>9.028600e+06</td>\n",
              "      <td>2013-12-09</td>\n",
              "      <td>2013-12-25</td>\n",
              "      <td>52.45.21.110</td>\n",
              "      <td>12300</td>\n",
              "      <td>7810018520</td>\n",
              "      <td>Unknown</td>\n",
              "      <td>2005-01-31</td>\n",
              "      <td>17</td>\n",
              "      <td>3235</td>\n",
              "    </tr>\n",
              "    <tr>\n",
              "      <th>7164902</th>\n",
              "      <td>1771428805915000001</td>\n",
              "      <td>27312474</td>\n",
              "      <td>2016-04-21 15:17:53.452000+03:00</td>\n",
              "      <td>7714288059</td>\n",
              "      <td>12200</td>\n",
              "      <td>1.653306e+08</td>\n",
              "      <td>2015-10-26</td>\n",
              "      <td>2016-03-15</td>\n",
              "      <td>45.21.13.110</td>\n",
              "      <td>12300</td>\n",
              "      <td>7743862302</td>\n",
              "      <td>EC</td>\n",
              "      <td>2012-08-28</td>\n",
              "      <td>142</td>\n",
              "      <td>1155</td>\n",
              "    </tr>\n",
              "    <tr>\n",
              "      <th>...</th>\n",
              "      <td>...</td>\n",
              "      <td>...</td>\n",
              "      <td>...</td>\n",
              "      <td>...</td>\n",
              "      <td>...</td>\n",
              "      <td>...</td>\n",
              "      <td>...</td>\n",
              "      <td>...</td>\n",
              "      <td>...</td>\n",
              "      <td>...</td>\n",
              "      <td>...</td>\n",
              "      <td>...</td>\n",
              "      <td>...</td>\n",
              "      <td>...</td>\n",
              "      <td>...</td>\n",
              "    </tr>\n",
              "    <tr>\n",
              "      <th>8252555</th>\n",
              "      <td>2781203515115000060</td>\n",
              "      <td>22988145</td>\n",
              "      <td>2015-09-02 18:36:06.837000+03:00</td>\n",
              "      <td>7812035151</td>\n",
              "      <td>75505</td>\n",
              "      <td>9.970000e+05</td>\n",
              "      <td>2015-08-31</td>\n",
              "      <td>2015-11-20</td>\n",
              "      <td>92.34.13.190</td>\n",
              "      <td>12300</td>\n",
              "      <td>7814518926</td>\n",
              "      <td>EC</td>\n",
              "      <td>2011-11-17</td>\n",
              "      <td>82</td>\n",
              "      <td>1384</td>\n",
              "    </tr>\n",
              "    <tr>\n",
              "      <th>8056524</th>\n",
              "      <td>2781203515115000072</td>\n",
              "      <td>23730753</td>\n",
              "      <td>2015-10-28 16:39:56.767000+03:00</td>\n",
              "      <td>7812035151</td>\n",
              "      <td>75505</td>\n",
              "      <td>7.400000e+06</td>\n",
              "      <td>2015-10-28</td>\n",
              "      <td>2015-12-05</td>\n",
              "      <td>91.33.13.110</td>\n",
              "      <td>12300</td>\n",
              "      <td>7804416932</td>\n",
              "      <td>EC</td>\n",
              "      <td>2009-06-14</td>\n",
              "      <td>39</td>\n",
              "      <td>2328</td>\n",
              "    </tr>\n",
              "    <tr>\n",
              "      <th>8063768</th>\n",
              "      <td>2781203515115000056</td>\n",
              "      <td>23706711</td>\n",
              "      <td>2015-10-27 12:36:09.873000+03:00</td>\n",
              "      <td>7812035151</td>\n",
              "      <td>75505</td>\n",
              "      <td>8.830000e+05</td>\n",
              "      <td>2015-07-02</td>\n",
              "      <td>2015-10-20</td>\n",
              "      <td>60.23.11.130</td>\n",
              "      <td>75500</td>\n",
              "      <td>7810436101</td>\n",
              "      <td>EC</td>\n",
              "      <td>2011-06-21</td>\n",
              "      <td>111</td>\n",
              "      <td>1473</td>\n",
              "    </tr>\n",
              "    <tr>\n",
              "      <th>8105394</th>\n",
              "      <td>2781203515115000059</td>\n",
              "      <td>23548233</td>\n",
              "      <td>2015-10-15 10:51:02.513000+03:00</td>\n",
              "      <td>7812035151</td>\n",
              "      <td>75505</td>\n",
              "      <td>4.995000e+05</td>\n",
              "      <td>2015-08-31</td>\n",
              "      <td>2015-09-30</td>\n",
              "      <td>91.33.13.110</td>\n",
              "      <td>70400</td>\n",
              "      <td>7840290900</td>\n",
              "      <td>EC</td>\n",
              "      <td>2013-11-26</td>\n",
              "      <td>31</td>\n",
              "      <td>644</td>\n",
              "    </tr>\n",
              "    <tr>\n",
              "      <th>8342800</th>\n",
              "      <td>2781203515115000029</td>\n",
              "      <td>22631006</td>\n",
              "      <td>2015-08-06 18:14:22.948000+03:00</td>\n",
              "      <td>7812035151</td>\n",
              "      <td>75505</td>\n",
              "      <td>1.499000e+06</td>\n",
              "      <td>2015-04-27</td>\n",
              "      <td>2015-05-20</td>\n",
              "      <td>91.33.14.110</td>\n",
              "      <td>75103</td>\n",
              "      <td>7812043522</td>\n",
              "      <td>EC</td>\n",
              "      <td>2003-06-30</td>\n",
              "      <td>24</td>\n",
              "      <td>4320</td>\n",
              "    </tr>\n",
              "  </tbody>\n",
              "</table>\n",
              "<p>8900019 rows × 15 columns</p>\n",
              "</div>"
            ],
            "text/plain": [
              "                     reg_num        id  ... time registration_period\n",
              "8573220  3271701793215000009  21681457  ...  215                7673\n",
              "8549345  3271701793215000010  21752250  ...  215                 328\n",
              "4642953  1780565428817000009  38049937  ...   56                4790\n",
              "8224854  1771590006615000050  12905159  ...   17                3235\n",
              "7164902  1771428805915000001  27312474  ...  142                1155\n",
              "...                      ...       ...  ...  ...                 ...\n",
              "8252555  2781203515115000060  22988145  ...   82                1384\n",
              "8056524  2781203515115000072  23730753  ...   39                2328\n",
              "8063768  2781203515115000056  23706711  ...  111                1473\n",
              "8105394  2781203515115000059  23548233  ...   31                 644\n",
              "8342800  2781203515115000029  22631006  ...   24                4320\n",
              "\n",
              "[8900019 rows x 15 columns]"
            ]
          },
          "metadata": {
            "tags": []
          },
          "execution_count": 23
        }
      ]
    },
    {
      "cell_type": "code",
      "metadata": {
        "id": "bh-bJHr1YGv_",
        "colab": {
          "base_uri": "https://localhost:8080/"
        },
        "outputId": "5361e28b-e5dd-4583-e17f-12766a636b6e"
      },
      "source": [
        "data.sort_values('execution_period_start')"
      ],
      "execution_count": null,
      "outputs": [
        {
          "output_type": "execute_result",
          "data": {
            "text/html": [
              "<div>\n",
              "<style scoped>\n",
              "    .dataframe tbody tr th:only-of-type {\n",
              "        vertical-align: middle;\n",
              "    }\n",
              "\n",
              "    .dataframe tbody tr th {\n",
              "        vertical-align: top;\n",
              "    }\n",
              "\n",
              "    .dataframe thead th {\n",
              "        text-align: right;\n",
              "    }\n",
              "</style>\n",
              "<table border=\"1\" class=\"dataframe\">\n",
              "  <thead>\n",
              "    <tr style=\"text-align: right;\">\n",
              "      <th></th>\n",
              "      <th>reg_num</th>\n",
              "      <th>id</th>\n",
              "      <th>publish_date</th>\n",
              "      <th>customer_inn</th>\n",
              "      <th>customer_legal_form</th>\n",
              "      <th>price</th>\n",
              "      <th>execution_period_start</th>\n",
              "      <th>execution_period_end</th>\n",
              "      <th>product_code</th>\n",
              "      <th>supplier_legal_form</th>\n",
              "      <th>supplier_inn</th>\n",
              "      <th>current_contract_stage</th>\n",
              "      <th>supplier_registration_date</th>\n",
              "      <th>time</th>\n",
              "      <th>registration_period</th>\n",
              "    </tr>\n",
              "  </thead>\n",
              "  <tbody>\n",
              "    <tr>\n",
              "      <th>199877</th>\n",
              "      <td>0172200001111000038</td>\n",
              "      <td>62018063</td>\n",
              "      <td>2020-12-23 17:47:07.803000+03:00</td>\n",
              "      <td>7830001853</td>\n",
              "      <td>75204</td>\n",
              "      <td>5.463938e+10</td>\n",
              "      <td>1991-03-01</td>\n",
              "      <td>2024-12-31</td>\n",
              "      <td>42.12.20.190</td>\n",
              "      <td>12247</td>\n",
              "      <td>7813046910</td>\n",
              "      <td>E</td>\n",
              "      <td>1993-01-31</td>\n",
              "      <td>12360</td>\n",
              "      <td>-701</td>\n",
              "    </tr>\n",
              "    <tr>\n",
              "      <th>7133944</th>\n",
              "      <td>0372100024314000012</td>\n",
              "      <td>26784762</td>\n",
              "      <td>2016-04-28 21:29:05.178000+03:00</td>\n",
              "      <td>7807019500</td>\n",
              "      <td>75000</td>\n",
              "      <td>2.430000e+06</td>\n",
              "      <td>1991-08-23</td>\n",
              "      <td>2015-12-31</td>\n",
              "      <td>40.30.10.111</td>\n",
              "      <td>65242</td>\n",
              "      <td>7830001028</td>\n",
              "      <td>Unknown</td>\n",
              "      <td>1993-07-09</td>\n",
              "      <td>8897</td>\n",
              "      <td>-685</td>\n",
              "    </tr>\n",
              "    <tr>\n",
              "      <th>6156118</th>\n",
              "      <td>0372100024314000024</td>\n",
              "      <td>31303396</td>\n",
              "      <td>2016-12-27 15:27:31.533000+03:00</td>\n",
              "      <td>7807019500</td>\n",
              "      <td>75000</td>\n",
              "      <td>6.300000e+05</td>\n",
              "      <td>1991-11-10</td>\n",
              "      <td>2016-12-31</td>\n",
              "      <td>40.30.10.111</td>\n",
              "      <td>65242</td>\n",
              "      <td>7830001028</td>\n",
              "      <td>Unknown</td>\n",
              "      <td>1993-07-09</td>\n",
              "      <td>9184</td>\n",
              "      <td>-606</td>\n",
              "    </tr>\n",
              "    <tr>\n",
              "      <th>7943200</th>\n",
              "      <td>2780702580015000037</td>\n",
              "      <td>24147909</td>\n",
              "      <td>2015-11-26 11:03:15+03:00</td>\n",
              "      <td>7807025800</td>\n",
              "      <td>75000</td>\n",
              "      <td>2.242960e+04</td>\n",
              "      <td>1992-04-10</td>\n",
              "      <td>2015-12-31</td>\n",
              "      <td>40.30.10.113</td>\n",
              "      <td>65242</td>\n",
              "      <td>7830001028</td>\n",
              "      <td>EC</td>\n",
              "      <td>2002-12-11</td>\n",
              "      <td>8666</td>\n",
              "      <td>-3896</td>\n",
              "    </tr>\n",
              "    <tr>\n",
              "      <th>8112314</th>\n",
              "      <td>1771301079815000169</td>\n",
              "      <td>23523780</td>\n",
              "      <td>2015-10-13 16:54:00.940000+03:00</td>\n",
              "      <td>7713010798</td>\n",
              "      <td>30002</td>\n",
              "      <td>1.166400e+05</td>\n",
              "      <td>1992-07-06</td>\n",
              "      <td>1992-09-30</td>\n",
              "      <td>45.11.23.190</td>\n",
              "      <td>12300</td>\n",
              "      <td>7702377829</td>\n",
              "      <td>EC</td>\n",
              "      <td>2015-03-10</td>\n",
              "      <td>87</td>\n",
              "      <td>-8281</td>\n",
              "    </tr>\n",
              "    <tr>\n",
              "      <th>...</th>\n",
              "      <td>...</td>\n",
              "      <td>...</td>\n",
              "      <td>...</td>\n",
              "      <td>...</td>\n",
              "      <td>...</td>\n",
              "      <td>...</td>\n",
              "      <td>...</td>\n",
              "      <td>...</td>\n",
              "      <td>...</td>\n",
              "      <td>...</td>\n",
              "      <td>...</td>\n",
              "      <td>...</td>\n",
              "      <td>...</td>\n",
              "      <td>...</td>\n",
              "      <td>...</td>\n",
              "    </tr>\n",
              "    <tr>\n",
              "      <th>67751</th>\n",
              "      <td>1222123045420000115</td>\n",
              "      <td>62737937</td>\n",
              "      <td>2021-01-19 08:09:50.691000+07:00</td>\n",
              "      <td>2221230454</td>\n",
              "      <td>75104</td>\n",
              "      <td>3.000000e+03</td>\n",
              "      <td>2022-12-01</td>\n",
              "      <td>2023-01-30</td>\n",
              "      <td>68.20.12.000</td>\n",
              "      <td>12300</td>\n",
              "      <td>2256002441</td>\n",
              "      <td>E</td>\n",
              "      <td>2013-01-01</td>\n",
              "      <td>61</td>\n",
              "      <td>3622</td>\n",
              "    </tr>\n",
              "    <tr>\n",
              "      <th>67725</th>\n",
              "      <td>1222123045420000114</td>\n",
              "      <td>62746502</td>\n",
              "      <td>2021-01-19 08:26:33.938000+07:00</td>\n",
              "      <td>2221230454</td>\n",
              "      <td>75104</td>\n",
              "      <td>1.109900e+05</td>\n",
              "      <td>2022-12-01</td>\n",
              "      <td>2023-01-24</td>\n",
              "      <td>68.20.12.000</td>\n",
              "      <td>12300</td>\n",
              "      <td>2204084605</td>\n",
              "      <td>E</td>\n",
              "      <td>2017-09-15</td>\n",
              "      <td>55</td>\n",
              "      <td>1904</td>\n",
              "    </tr>\n",
              "    <tr>\n",
              "      <th>186038</th>\n",
              "      <td>1503602907320000034</td>\n",
              "      <td>61979772</td>\n",
              "      <td>2020-12-24 16:49:14.999000+03:00</td>\n",
              "      <td>5036029073</td>\n",
              "      <td>75104</td>\n",
              "      <td>2.604700e+05</td>\n",
              "      <td>2022-12-01</td>\n",
              "      <td>2022-12-31</td>\n",
              "      <td>68.20.12.000</td>\n",
              "      <td>12300</td>\n",
              "      <td>5074032278</td>\n",
              "      <td>E</td>\n",
              "      <td>2006-01-20</td>\n",
              "      <td>31</td>\n",
              "      <td>6160</td>\n",
              "    </tr>\n",
              "    <tr>\n",
              "      <th>312287</th>\n",
              "      <td>1770675389820000131</td>\n",
              "      <td>61442519</td>\n",
              "      <td>2020-12-10 18:59:21.631000+03:00</td>\n",
              "      <td>7706753898</td>\n",
              "      <td>75104</td>\n",
              "      <td>9.000000e+05</td>\n",
              "      <td>2022-12-01</td>\n",
              "      <td>2023-01-18</td>\n",
              "      <td>35.11.10.116</td>\n",
              "      <td>12267</td>\n",
              "      <td>7736520080</td>\n",
              "      <td>E</td>\n",
              "      <td>2005-04-01</td>\n",
              "      <td>49</td>\n",
              "      <td>6454</td>\n",
              "    </tr>\n",
              "    <tr>\n",
              "      <th>179050</th>\n",
              "      <td>1222506656520000302</td>\n",
              "      <td>62029075</td>\n",
              "      <td>2020-12-25 14:33:11.315000+07:00</td>\n",
              "      <td>2225066565</td>\n",
              "      <td>75104</td>\n",
              "      <td>1.041416e+05</td>\n",
              "      <td>2022-12-01</td>\n",
              "      <td>2022-12-31</td>\n",
              "      <td>68.20.12.000</td>\n",
              "      <td>12300</td>\n",
              "      <td>7204030888</td>\n",
              "      <td>E</td>\n",
              "      <td>2014-08-01</td>\n",
              "      <td>31</td>\n",
              "      <td>3045</td>\n",
              "    </tr>\n",
              "  </tbody>\n",
              "</table>\n",
              "<p>8900019 rows × 15 columns</p>\n",
              "</div>"
            ],
            "text/plain": [
              "                     reg_num        id  ...   time registration_period\n",
              "199877   0172200001111000038  62018063  ...  12360                -701\n",
              "7133944  0372100024314000012  26784762  ...   8897                -685\n",
              "6156118  0372100024314000024  31303396  ...   9184                -606\n",
              "7943200  2780702580015000037  24147909  ...   8666               -3896\n",
              "8112314  1771301079815000169  23523780  ...     87               -8281\n",
              "...                      ...       ...  ...    ...                 ...\n",
              "67751    1222123045420000115  62737937  ...     61                3622\n",
              "67725    1222123045420000114  62746502  ...     55                1904\n",
              "186038   1503602907320000034  61979772  ...     31                6160\n",
              "312287   1770675389820000131  61442519  ...     49                6454\n",
              "179050   1222506656520000302  62029075  ...     31                3045\n",
              "\n",
              "[8900019 rows x 15 columns]"
            ]
          },
          "metadata": {
            "tags": []
          },
          "execution_count": 24
        }
      ]
    },
    {
      "cell_type": "code",
      "metadata": {
        "id": "Nz_56yIsYI-_",
        "colab": {
          "base_uri": "https://localhost:8080/"
        },
        "outputId": "6a0fec79-6c3b-4f2b-e53a-06bf26394073"
      },
      "source": [
        "data.sort_values('execution_period_end')"
      ],
      "execution_count": null,
      "outputs": [
        {
          "output_type": "execute_result",
          "data": {
            "text/html": [
              "<div>\n",
              "<style scoped>\n",
              "    .dataframe tbody tr th:only-of-type {\n",
              "        vertical-align: middle;\n",
              "    }\n",
              "\n",
              "    .dataframe tbody tr th {\n",
              "        vertical-align: top;\n",
              "    }\n",
              "\n",
              "    .dataframe thead th {\n",
              "        text-align: right;\n",
              "    }\n",
              "</style>\n",
              "<table border=\"1\" class=\"dataframe\">\n",
              "  <thead>\n",
              "    <tr style=\"text-align: right;\">\n",
              "      <th></th>\n",
              "      <th>reg_num</th>\n",
              "      <th>id</th>\n",
              "      <th>publish_date</th>\n",
              "      <th>customer_inn</th>\n",
              "      <th>customer_legal_form</th>\n",
              "      <th>price</th>\n",
              "      <th>execution_period_start</th>\n",
              "      <th>execution_period_end</th>\n",
              "      <th>product_code</th>\n",
              "      <th>supplier_legal_form</th>\n",
              "      <th>supplier_inn</th>\n",
              "      <th>current_contract_stage</th>\n",
              "      <th>supplier_registration_date</th>\n",
              "      <th>time</th>\n",
              "      <th>registration_period</th>\n",
              "    </tr>\n",
              "  </thead>\n",
              "  <tbody>\n",
              "    <tr>\n",
              "      <th>8112314</th>\n",
              "      <td>1771301079815000169</td>\n",
              "      <td>23523780</td>\n",
              "      <td>2015-10-13 16:54:00.940000+03:00</td>\n",
              "      <td>7713010798</td>\n",
              "      <td>30002</td>\n",
              "      <td>116640.00</td>\n",
              "      <td>1992-07-06</td>\n",
              "      <td>1992-09-30</td>\n",
              "      <td>45.11.23.190</td>\n",
              "      <td>12300</td>\n",
              "      <td>7702377829</td>\n",
              "      <td>EC</td>\n",
              "      <td>2015-03-10</td>\n",
              "      <td>87</td>\n",
              "      <td>-8281</td>\n",
              "    </tr>\n",
              "    <tr>\n",
              "      <th>7969619</th>\n",
              "      <td>0376100003811000001</td>\n",
              "      <td>24051613</td>\n",
              "      <td>2015-11-20 12:58:19.683000+03:00</td>\n",
              "      <td>7718084994</td>\n",
              "      <td>75103</td>\n",
              "      <td>13106670.00</td>\n",
              "      <td>2006-05-11</td>\n",
              "      <td>2006-06-30</td>\n",
              "      <td>70.20.12.000</td>\n",
              "      <td>12300</td>\n",
              "      <td>6167070140</td>\n",
              "      <td>Unknown</td>\n",
              "      <td>2003-12-02</td>\n",
              "      <td>51</td>\n",
              "      <td>892</td>\n",
              "    </tr>\n",
              "    <tr>\n",
              "      <th>2455997</th>\n",
              "      <td>2054102576419000001</td>\n",
              "      <td>49198139</td>\n",
              "      <td>2019-04-09 18:09:34.621000+03:00</td>\n",
              "      <td>0541025764</td>\n",
              "      <td>75204</td>\n",
              "      <td>3306000.00</td>\n",
              "      <td>2007-05-03</td>\n",
              "      <td>2007-11-30</td>\n",
              "      <td>42.21.12.120</td>\n",
              "      <td>12300</td>\n",
              "      <td>0560030463</td>\n",
              "      <td>Unknown</td>\n",
              "      <td>2006-02-11</td>\n",
              "      <td>212</td>\n",
              "      <td>447</td>\n",
              "    </tr>\n",
              "    <tr>\n",
              "      <th>8816422</th>\n",
              "      <td>1301500981215000026</td>\n",
              "      <td>19458618</td>\n",
              "      <td>2015-01-27 17:35:44.654000+03:00</td>\n",
              "      <td>3015009812</td>\n",
              "      <td>75000</td>\n",
              "      <td>327577.99</td>\n",
              "      <td>2008-03-04</td>\n",
              "      <td>2008-03-04</td>\n",
              "      <td>70.20.12.000</td>\n",
              "      <td>65242</td>\n",
              "      <td>3015002775</td>\n",
              "      <td>Unknown</td>\n",
              "      <td>1993-10-13</td>\n",
              "      <td>1</td>\n",
              "      <td>5257</td>\n",
              "    </tr>\n",
              "    <tr>\n",
              "      <th>8820095</th>\n",
              "      <td>1390613284415000003</td>\n",
              "      <td>19438409</td>\n",
              "      <td>2015-01-27 11:53:50.791000+02:00</td>\n",
              "      <td>3906132844</td>\n",
              "      <td>75000</td>\n",
              "      <td>1401685.44</td>\n",
              "      <td>2008-06-27</td>\n",
              "      <td>2008-06-27</td>\n",
              "      <td>70.20.12.000</td>\n",
              "      <td>65242</td>\n",
              "      <td>3904001081</td>\n",
              "      <td>EC</td>\n",
              "      <td>2013-12-20</td>\n",
              "      <td>1</td>\n",
              "      <td>-2001</td>\n",
              "    </tr>\n",
              "    <tr>\n",
              "      <th>...</th>\n",
              "      <td>...</td>\n",
              "      <td>...</td>\n",
              "      <td>...</td>\n",
              "      <td>...</td>\n",
              "      <td>...</td>\n",
              "      <td>...</td>\n",
              "      <td>...</td>\n",
              "      <td>...</td>\n",
              "      <td>...</td>\n",
              "      <td>...</td>\n",
              "      <td>...</td>\n",
              "      <td>...</td>\n",
              "      <td>...</td>\n",
              "      <td>...</td>\n",
              "      <td>...</td>\n",
              "    </tr>\n",
              "    <tr>\n",
              "      <th>655250</th>\n",
              "      <td>2770203815020000899</td>\n",
              "      <td>59685017</td>\n",
              "      <td>2020-09-07 11:13:35.413000+03:00</td>\n",
              "      <td>7702038150</td>\n",
              "      <td>65242</td>\n",
              "      <td>5965.51</td>\n",
              "      <td>2020-09-07</td>\n",
              "      <td>2068-12-31</td>\n",
              "      <td>68.20.12.000</td>\n",
              "      <td>75204</td>\n",
              "      <td>7705031674</td>\n",
              "      <td>E</td>\n",
              "      <td>2005-01-01</td>\n",
              "      <td>17648</td>\n",
              "      <td>5729</td>\n",
              "    </tr>\n",
              "    <tr>\n",
              "      <th>705100</th>\n",
              "      <td>2770203815020000828</td>\n",
              "      <td>59369491</td>\n",
              "      <td>2020-08-17 10:43:05.091000+03:00</td>\n",
              "      <td>7702038150</td>\n",
              "      <td>65242</td>\n",
              "      <td>210.54</td>\n",
              "      <td>2020-08-14</td>\n",
              "      <td>2068-12-31</td>\n",
              "      <td>68.20.12.000</td>\n",
              "      <td>75204</td>\n",
              "      <td>7705031674</td>\n",
              "      <td>E</td>\n",
              "      <td>2005-01-01</td>\n",
              "      <td>17672</td>\n",
              "      <td>5705</td>\n",
              "    </tr>\n",
              "    <tr>\n",
              "      <th>664637</th>\n",
              "      <td>2770203815020000882</td>\n",
              "      <td>59631211</td>\n",
              "      <td>2020-09-03 12:11:39.406000+03:00</td>\n",
              "      <td>7702038150</td>\n",
              "      <td>65242</td>\n",
              "      <td>399.06</td>\n",
              "      <td>2020-09-02</td>\n",
              "      <td>2068-12-31</td>\n",
              "      <td>68.20.12.000</td>\n",
              "      <td>75204</td>\n",
              "      <td>7705031674</td>\n",
              "      <td>E</td>\n",
              "      <td>2005-01-01</td>\n",
              "      <td>17653</td>\n",
              "      <td>5724</td>\n",
              "    </tr>\n",
              "    <tr>\n",
              "      <th>520521</th>\n",
              "      <td>2770500260220000412</td>\n",
              "      <td>60468550</td>\n",
              "      <td>2020-10-23 14:11:21.698000+03:00</td>\n",
              "      <td>7705002602</td>\n",
              "      <td>65242</td>\n",
              "      <td>4073332.78</td>\n",
              "      <td>2020-10-16</td>\n",
              "      <td>2069-02-25</td>\n",
              "      <td>68.20.12.000</td>\n",
              "      <td>75204</td>\n",
              "      <td>7705031674</td>\n",
              "      <td>E</td>\n",
              "      <td>2005-01-01</td>\n",
              "      <td>17665</td>\n",
              "      <td>5768</td>\n",
              "    </tr>\n",
              "    <tr>\n",
              "      <th>336951</th>\n",
              "      <td>2773511700820000062</td>\n",
              "      <td>61372531</td>\n",
              "      <td>2020-12-08 11:25:56.048000+03:00</td>\n",
              "      <td>7735117008</td>\n",
              "      <td>75204</td>\n",
              "      <td>0.48</td>\n",
              "      <td>2020-07-08</td>\n",
              "      <td>2069-04-01</td>\n",
              "      <td>68.20.12.000</td>\n",
              "      <td>75204</td>\n",
              "      <td>7705031674</td>\n",
              "      <td>E</td>\n",
              "      <td>2005-01-01</td>\n",
              "      <td>17800</td>\n",
              "      <td>5668</td>\n",
              "    </tr>\n",
              "  </tbody>\n",
              "</table>\n",
              "<p>8900019 rows × 15 columns</p>\n",
              "</div>"
            ],
            "text/plain": [
              "                     reg_num        id  ...   time registration_period\n",
              "8112314  1771301079815000169  23523780  ...     87               -8281\n",
              "7969619  0376100003811000001  24051613  ...     51                 892\n",
              "2455997  2054102576419000001  49198139  ...    212                 447\n",
              "8816422  1301500981215000026  19458618  ...      1                5257\n",
              "8820095  1390613284415000003  19438409  ...      1               -2001\n",
              "...                      ...       ...  ...    ...                 ...\n",
              "655250   2770203815020000899  59685017  ...  17648                5729\n",
              "705100   2770203815020000828  59369491  ...  17672                5705\n",
              "664637   2770203815020000882  59631211  ...  17653                5724\n",
              "520521   2770500260220000412  60468550  ...  17665                5768\n",
              "336951   2773511700820000062  61372531  ...  17800                5668\n",
              "\n",
              "[8900019 rows x 15 columns]"
            ]
          },
          "metadata": {
            "tags": []
          },
          "execution_count": 25
        }
      ]
    },
    {
      "cell_type": "code",
      "metadata": {
        "colab": {
          "base_uri": "https://localhost:8080/"
        },
        "id": "TjEMu4P47sN3",
        "outputId": "7610ec94-b3bd-48c9-8131-fb58646d8608"
      },
      "source": [
        "data.sort_values('supplier_legal_form')"
      ],
      "execution_count": null,
      "outputs": [
        {
          "output_type": "execute_result",
          "data": {
            "text/html": [
              "<div>\n",
              "<style scoped>\n",
              "    .dataframe tbody tr th:only-of-type {\n",
              "        vertical-align: middle;\n",
              "    }\n",
              "\n",
              "    .dataframe tbody tr th {\n",
              "        vertical-align: top;\n",
              "    }\n",
              "\n",
              "    .dataframe thead th {\n",
              "        text-align: right;\n",
              "    }\n",
              "</style>\n",
              "<table border=\"1\" class=\"dataframe\">\n",
              "  <thead>\n",
              "    <tr style=\"text-align: right;\">\n",
              "      <th></th>\n",
              "      <th>reg_num</th>\n",
              "      <th>id</th>\n",
              "      <th>publish_date</th>\n",
              "      <th>customer_inn</th>\n",
              "      <th>customer_legal_form</th>\n",
              "      <th>price</th>\n",
              "      <th>execution_period_start</th>\n",
              "      <th>execution_period_end</th>\n",
              "      <th>product_code</th>\n",
              "      <th>supplier_legal_form</th>\n",
              "      <th>supplier_inn</th>\n",
              "      <th>current_contract_stage</th>\n",
              "      <th>supplier_registration_date</th>\n",
              "      <th>time</th>\n",
              "      <th>registration_period</th>\n",
              "    </tr>\n",
              "  </thead>\n",
              "  <tbody>\n",
              "    <tr>\n",
              "      <th>1647403</th>\n",
              "      <td>2312813818119000458</td>\n",
              "      <td>53377445</td>\n",
              "      <td>2019-12-04 12:16:44.996000+03:00</td>\n",
              "      <td>3128138181</td>\n",
              "      <td>75203</td>\n",
              "      <td>22593.00</td>\n",
              "      <td>2020-01-01</td>\n",
              "      <td>2020-12-31</td>\n",
              "      <td>21.20.10.232</td>\n",
              "      <td>10000</td>\n",
              "      <td>2636052865</td>\n",
              "      <td>EC</td>\n",
              "      <td>2007-10-05</td>\n",
              "      <td>366</td>\n",
              "      <td>4472</td>\n",
              "    </tr>\n",
              "    <tr>\n",
              "      <th>4816921</th>\n",
              "      <td>2010501738617000186</td>\n",
              "      <td>37454026</td>\n",
              "      <td>2017-11-13 12:16:22.214000+03:00</td>\n",
              "      <td>0105017386</td>\n",
              "      <td>75203</td>\n",
              "      <td>631842.00</td>\n",
              "      <td>2017-11-10</td>\n",
              "      <td>2017-12-31</td>\n",
              "      <td>26.20.11.110</td>\n",
              "      <td>10000</td>\n",
              "      <td>2312011361</td>\n",
              "      <td>EC</td>\n",
              "      <td>2014-03-05</td>\n",
              "      <td>52</td>\n",
              "      <td>1347</td>\n",
              "    </tr>\n",
              "    <tr>\n",
              "      <th>8714108</th>\n",
              "      <td>2162600742015000004</td>\n",
              "      <td>19752512</td>\n",
              "      <td>2015-02-12 14:54:22.340000+03:00</td>\n",
              "      <td>1626007420</td>\n",
              "      <td>75000</td>\n",
              "      <td>23626.00</td>\n",
              "      <td>2015-02-04</td>\n",
              "      <td>2015-12-31</td>\n",
              "      <td>17.40.12.114</td>\n",
              "      <td>10000</td>\n",
              "      <td>1660105379</td>\n",
              "      <td>EC</td>\n",
              "      <td>2007-09-11</td>\n",
              "      <td>331</td>\n",
              "      <td>2704</td>\n",
              "    </tr>\n",
              "    <tr>\n",
              "      <th>1351182</th>\n",
              "      <td>2390605520520000014</td>\n",
              "      <td>55273607</td>\n",
              "      <td>2020-01-29 14:28:08.424000+02:00</td>\n",
              "      <td>3906055205</td>\n",
              "      <td>75203</td>\n",
              "      <td>24875.00</td>\n",
              "      <td>2020-01-27</td>\n",
              "      <td>2021-03-31</td>\n",
              "      <td>10.61.12.000</td>\n",
              "      <td>10000</td>\n",
              "      <td>3906955005</td>\n",
              "      <td>EC</td>\n",
              "      <td>2015-02-27</td>\n",
              "      <td>430</td>\n",
              "      <td>1796</td>\n",
              "    </tr>\n",
              "    <tr>\n",
              "      <th>4816713</th>\n",
              "      <td>2010501738617000187</td>\n",
              "      <td>37455963</td>\n",
              "      <td>2017-11-13 12:35:05.402000+03:00</td>\n",
              "      <td>0105017386</td>\n",
              "      <td>75203</td>\n",
              "      <td>184000.00</td>\n",
              "      <td>2017-11-13</td>\n",
              "      <td>2017-12-31</td>\n",
              "      <td>14.12.30.132</td>\n",
              "      <td>10000</td>\n",
              "      <td>5263119439</td>\n",
              "      <td>EC</td>\n",
              "      <td>2015-12-12</td>\n",
              "      <td>49</td>\n",
              "      <td>703</td>\n",
              "    </tr>\n",
              "    <tr>\n",
              "      <th>...</th>\n",
              "      <td>...</td>\n",
              "      <td>...</td>\n",
              "      <td>...</td>\n",
              "      <td>...</td>\n",
              "      <td>...</td>\n",
              "      <td>...</td>\n",
              "      <td>...</td>\n",
              "      <td>...</td>\n",
              "      <td>...</td>\n",
              "      <td>...</td>\n",
              "      <td>...</td>\n",
              "      <td>...</td>\n",
              "      <td>...</td>\n",
              "      <td>...</td>\n",
              "      <td>...</td>\n",
              "    </tr>\n",
              "    <tr>\n",
              "      <th>7409180</th>\n",
              "      <td>2760700821116000041</td>\n",
              "      <td>26316923</td>\n",
              "      <td>2016-02-24 09:21:16.553000+03:00</td>\n",
              "      <td>7607008211</td>\n",
              "      <td>75203</td>\n",
              "      <td>13320.00</td>\n",
              "      <td>2016-02-24</td>\n",
              "      <td>2016-02-28</td>\n",
              "      <td>85.42.19.000</td>\n",
              "      <td>75505</td>\n",
              "      <td>7604202228</td>\n",
              "      <td>EC</td>\n",
              "      <td>2013-09-09</td>\n",
              "      <td>5</td>\n",
              "      <td>899</td>\n",
              "    </tr>\n",
              "    <tr>\n",
              "      <th>1129545</th>\n",
              "      <td>2780401014620000012</td>\n",
              "      <td>56722526</td>\n",
              "      <td>2020-03-26 17:58:14.749000+03:00</td>\n",
              "      <td>7804010146</td>\n",
              "      <td>75203</td>\n",
              "      <td>64630.90</td>\n",
              "      <td>2020-03-23</td>\n",
              "      <td>2020-12-31</td>\n",
              "      <td>14.19.32.120</td>\n",
              "      <td>75505</td>\n",
              "      <td>7802110988</td>\n",
              "      <td>EC</td>\n",
              "      <td>1997-12-02</td>\n",
              "      <td>284</td>\n",
              "      <td>8148</td>\n",
              "    </tr>\n",
              "    <tr>\n",
              "      <th>6022995</th>\n",
              "      <td>1773124346717000015</td>\n",
              "      <td>31980072</td>\n",
              "      <td>2017-01-25 11:08:40.233000+03:00</td>\n",
              "      <td>7731243467</td>\n",
              "      <td>75103</td>\n",
              "      <td>2073146.74</td>\n",
              "      <td>2017-01-20</td>\n",
              "      <td>2017-12-31</td>\n",
              "      <td>43.21.10.140</td>\n",
              "      <td>75505</td>\n",
              "      <td>7728400800</td>\n",
              "      <td>EC</td>\n",
              "      <td>2014-08-27</td>\n",
              "      <td>346</td>\n",
              "      <td>878</td>\n",
              "    </tr>\n",
              "    <tr>\n",
              "      <th>1535872</th>\n",
              "      <td>3311000935419000002</td>\n",
              "      <td>54018159</td>\n",
              "      <td>2019-12-24 15:04:21.858000+03:00</td>\n",
              "      <td>3110009354</td>\n",
              "      <td>75404</td>\n",
              "      <td>617351.70</td>\n",
              "      <td>2020-01-01</td>\n",
              "      <td>2020-06-30</td>\n",
              "      <td>84.25.11.120</td>\n",
              "      <td>75505</td>\n",
              "      <td>3123231250</td>\n",
              "      <td>EC</td>\n",
              "      <td>2011-10-06</td>\n",
              "      <td>182</td>\n",
              "      <td>3010</td>\n",
              "    </tr>\n",
              "    <tr>\n",
              "      <th>8153070</th>\n",
              "      <td>3504200962115000229</td>\n",
              "      <td>23370187</td>\n",
              "      <td>2015-10-01 15:59:10.382000+03:00</td>\n",
              "      <td>5042009621</td>\n",
              "      <td>75000</td>\n",
              "      <td>128000.00</td>\n",
              "      <td>2015-09-25</td>\n",
              "      <td>2015-12-31</td>\n",
              "      <td>93.03.12.111</td>\n",
              "      <td>75505</td>\n",
              "      <td>5042057142</td>\n",
              "      <td>EC</td>\n",
              "      <td>1999-03-03</td>\n",
              "      <td>98</td>\n",
              "      <td>6051</td>\n",
              "    </tr>\n",
              "  </tbody>\n",
              "</table>\n",
              "<p>8900019 rows × 15 columns</p>\n",
              "</div>"
            ],
            "text/plain": [
              "                     reg_num        id  ... time registration_period\n",
              "1647403  2312813818119000458  53377445  ...  366                4472\n",
              "4816921  2010501738617000186  37454026  ...   52                1347\n",
              "8714108  2162600742015000004  19752512  ...  331                2704\n",
              "1351182  2390605520520000014  55273607  ...  430                1796\n",
              "4816713  2010501738617000187  37455963  ...   49                 703\n",
              "...                      ...       ...  ...  ...                 ...\n",
              "7409180  2760700821116000041  26316923  ...    5                 899\n",
              "1129545  2780401014620000012  56722526  ...  284                8148\n",
              "6022995  1773124346717000015  31980072  ...  346                 878\n",
              "1535872  3311000935419000002  54018159  ...  182                3010\n",
              "8153070  3504200962115000229  23370187  ...   98                6051\n",
              "\n",
              "[8900019 rows x 15 columns]"
            ]
          },
          "metadata": {
            "tags": []
          },
          "execution_count": 26
        }
      ]
    },
    {
      "cell_type": "code",
      "metadata": {
        "id": "t9CiTp0hi4mR",
        "colab": {
          "base_uri": "https://localhost:8080/"
        },
        "outputId": "acf06bce-b114-4a40-a3d1-9cab5f4d68f9"
      },
      "source": [
        "print('Размер выборки: {}'.format(data.shape))\n",
        "data.sample(20)"
      ],
      "execution_count": null,
      "outputs": [
        {
          "output_type": "stream",
          "text": [
            "Размер выборки: (8900019, 15)\n"
          ],
          "name": "stdout"
        },
        {
          "output_type": "execute_result",
          "data": {
            "text/html": [
              "<div>\n",
              "<style scoped>\n",
              "    .dataframe tbody tr th:only-of-type {\n",
              "        vertical-align: middle;\n",
              "    }\n",
              "\n",
              "    .dataframe tbody tr th {\n",
              "        vertical-align: top;\n",
              "    }\n",
              "\n",
              "    .dataframe thead th {\n",
              "        text-align: right;\n",
              "    }\n",
              "</style>\n",
              "<table border=\"1\" class=\"dataframe\">\n",
              "  <thead>\n",
              "    <tr style=\"text-align: right;\">\n",
              "      <th></th>\n",
              "      <th>reg_num</th>\n",
              "      <th>id</th>\n",
              "      <th>publish_date</th>\n",
              "      <th>customer_inn</th>\n",
              "      <th>customer_legal_form</th>\n",
              "      <th>price</th>\n",
              "      <th>execution_period_start</th>\n",
              "      <th>execution_period_end</th>\n",
              "      <th>product_code</th>\n",
              "      <th>supplier_legal_form</th>\n",
              "      <th>supplier_inn</th>\n",
              "      <th>current_contract_stage</th>\n",
              "      <th>supplier_registration_date</th>\n",
              "      <th>time</th>\n",
              "      <th>registration_period</th>\n",
              "    </tr>\n",
              "  </thead>\n",
              "  <tbody>\n",
              "    <tr>\n",
              "      <th>4668038</th>\n",
              "      <td>3503003336217000002</td>\n",
              "      <td>38124065</td>\n",
              "      <td>2017-12-12 19:41:49.745000+03:00</td>\n",
              "      <td>5030033362</td>\n",
              "      <td>75403</td>\n",
              "      <td>1302980.48</td>\n",
              "      <td>2016-01-11</td>\n",
              "      <td>2016-12-31</td>\n",
              "      <td>56.29.19.000</td>\n",
              "      <td>12300</td>\n",
              "      <td>5030077391</td>\n",
              "      <td>EC</td>\n",
              "      <td>2012-06-04</td>\n",
              "      <td>356</td>\n",
              "      <td>1317</td>\n",
              "    </tr>\n",
              "    <tr>\n",
              "      <th>6956597</th>\n",
              "      <td>2165005330816000036</td>\n",
              "      <td>28151247</td>\n",
              "      <td>2016-06-20 08:48:23.511000+03:00</td>\n",
              "      <td>1650053308</td>\n",
              "      <td>75000</td>\n",
              "      <td>15000.00</td>\n",
              "      <td>2016-06-20</td>\n",
              "      <td>2016-12-31</td>\n",
              "      <td>32.50.11.000</td>\n",
              "      <td>12300</td>\n",
              "      <td>1659086763</td>\n",
              "      <td>EC</td>\n",
              "      <td>2008-09-30</td>\n",
              "      <td>195</td>\n",
              "      <td>2821</td>\n",
              "    </tr>\n",
              "    <tr>\n",
              "      <th>8307261</th>\n",
              "      <td>1390402054215000149</td>\n",
              "      <td>22777170</td>\n",
              "      <td>2015-08-18 12:42:38.869000+02:00</td>\n",
              "      <td>3904020542</td>\n",
              "      <td>75000</td>\n",
              "      <td>41517.73</td>\n",
              "      <td>2015-08-18</td>\n",
              "      <td>2015-12-20</td>\n",
              "      <td>10.10.10.141</td>\n",
              "      <td>12300</td>\n",
              "      <td>3915452079</td>\n",
              "      <td>EC</td>\n",
              "      <td>2006-08-10</td>\n",
              "      <td>125</td>\n",
              "      <td>3296</td>\n",
              "    </tr>\n",
              "    <tr>\n",
              "      <th>6090659</th>\n",
              "      <td>2760607981215000317</td>\n",
              "      <td>31702927</td>\n",
              "      <td>2017-01-12 19:55:51+03:00</td>\n",
              "      <td>7606079812</td>\n",
              "      <td>75203</td>\n",
              "      <td>97000.00</td>\n",
              "      <td>2016-01-01</td>\n",
              "      <td>2017-02-28</td>\n",
              "      <td>70.32.13.821</td>\n",
              "      <td>12300</td>\n",
              "      <td>3702057966</td>\n",
              "      <td>EC</td>\n",
              "      <td>2004-07-21</td>\n",
              "      <td>425</td>\n",
              "      <td>4182</td>\n",
              "    </tr>\n",
              "    <tr>\n",
              "      <th>5272004</th>\n",
              "      <td>1027500646217000094</td>\n",
              "      <td>35433492</td>\n",
              "      <td>2017-07-21 14:57:15.094000+05:00</td>\n",
              "      <td>0275006462</td>\n",
              "      <td>75104</td>\n",
              "      <td>756168.00</td>\n",
              "      <td>2017-07-13</td>\n",
              "      <td>2017-12-25</td>\n",
              "      <td>20.59.59.000</td>\n",
              "      <td>12300</td>\n",
              "      <td>1658001510</td>\n",
              "      <td>EC</td>\n",
              "      <td>1994-01-10</td>\n",
              "      <td>166</td>\n",
              "      <td>8586</td>\n",
              "    </tr>\n",
              "    <tr>\n",
              "      <th>6221940</th>\n",
              "      <td>2380819740216000003</td>\n",
              "      <td>31029761</td>\n",
              "      <td>2016-12-20 17:11:20.098000+08:00</td>\n",
              "      <td>3808197402</td>\n",
              "      <td>75204</td>\n",
              "      <td>37926.88</td>\n",
              "      <td>2016-11-01</td>\n",
              "      <td>2016-12-31</td>\n",
              "      <td>35.11.10.116</td>\n",
              "      <td>12300</td>\n",
              "      <td>3808166404</td>\n",
              "      <td>Unknown</td>\n",
              "      <td>2003-11-11</td>\n",
              "      <td>61</td>\n",
              "      <td>4740</td>\n",
              "    </tr>\n",
              "    <tr>\n",
              "      <th>152376</th>\n",
              "      <td>2222502906620000356</td>\n",
              "      <td>62155783</td>\n",
              "      <td>2020-12-28 17:49:47.652000+07:00</td>\n",
              "      <td>2225029066</td>\n",
              "      <td>75203</td>\n",
              "      <td>456886.00</td>\n",
              "      <td>2020-08-12</td>\n",
              "      <td>2021-01-31</td>\n",
              "      <td>21.20.10.119</td>\n",
              "      <td>12267</td>\n",
              "      <td>7726311464</td>\n",
              "      <td>Unknown</td>\n",
              "      <td>2013-10-31</td>\n",
              "      <td>173</td>\n",
              "      <td>2478</td>\n",
              "    </tr>\n",
              "    <tr>\n",
              "      <th>7022250</th>\n",
              "      <td>3890303272016000013</td>\n",
              "      <td>27883276</td>\n",
              "      <td>2016-05-31 17:39:53.905000+05:00</td>\n",
              "      <td>8903032720</td>\n",
              "      <td>75404</td>\n",
              "      <td>328370.40</td>\n",
              "      <td>2016-04-01</td>\n",
              "      <td>2017-01-31</td>\n",
              "      <td>35.11.10.114</td>\n",
              "      <td>12267</td>\n",
              "      <td>8901025421</td>\n",
              "      <td>ET</td>\n",
              "      <td>2011-07-11</td>\n",
              "      <td>306</td>\n",
              "      <td>1727</td>\n",
              "    </tr>\n",
              "    <tr>\n",
              "      <th>107355</th>\n",
              "      <td>3301801300620000004</td>\n",
              "      <td>62316366</td>\n",
              "      <td>2020-12-30 19:39:32.073000+04:00</td>\n",
              "      <td>3018013006</td>\n",
              "      <td>75403</td>\n",
              "      <td>1102655.00</td>\n",
              "      <td>2021-01-01</td>\n",
              "      <td>2021-12-31</td>\n",
              "      <td>35.30.11.111</td>\n",
              "      <td>65243</td>\n",
              "      <td>3018010781</td>\n",
              "      <td>E</td>\n",
              "      <td>2002-10-10</td>\n",
              "      <td>365</td>\n",
              "      <td>6659</td>\n",
              "    </tr>\n",
              "    <tr>\n",
              "      <th>6662763</th>\n",
              "      <td>1281900219516000043</td>\n",
              "      <td>29332960</td>\n",
              "      <td>2016-09-05 16:18:37.978000+09:00</td>\n",
              "      <td>2819002195</td>\n",
              "      <td>75000</td>\n",
              "      <td>20000.00</td>\n",
              "      <td>2016-07-01</td>\n",
              "      <td>2016-09-30</td>\n",
              "      <td>86.10.19.000</td>\n",
              "      <td>75203</td>\n",
              "      <td>2819001240</td>\n",
              "      <td>EC</td>\n",
              "      <td>1999-12-10</td>\n",
              "      <td>92</td>\n",
              "      <td>6049</td>\n",
              "    </tr>\n",
              "    <tr>\n",
              "      <th>7002196</th>\n",
              "      <td>2780410487716000165</td>\n",
              "      <td>27961549</td>\n",
              "      <td>2016-06-06 12:27:32.928000+03:00</td>\n",
              "      <td>7804104877</td>\n",
              "      <td>75000</td>\n",
              "      <td>6350.00</td>\n",
              "      <td>2016-06-03</td>\n",
              "      <td>2016-12-31</td>\n",
              "      <td>21.20.10.134</td>\n",
              "      <td>12300</td>\n",
              "      <td>7816540518</td>\n",
              "      <td>Unknown</td>\n",
              "      <td>2012-08-18</td>\n",
              "      <td>212</td>\n",
              "      <td>1386</td>\n",
              "    </tr>\n",
              "    <tr>\n",
              "      <th>3034102</th>\n",
              "      <td>2782100677418000381</td>\n",
              "      <td>46235083</td>\n",
              "      <td>2018-12-19 19:07:55.991000+03:00</td>\n",
              "      <td>7821006774</td>\n",
              "      <td>75203</td>\n",
              "      <td>112625.00</td>\n",
              "      <td>2018-12-19</td>\n",
              "      <td>2019-12-31</td>\n",
              "      <td>58.29.50.000</td>\n",
              "      <td>12300</td>\n",
              "      <td>7813224345</td>\n",
              "      <td>EC</td>\n",
              "      <td>2015-06-18</td>\n",
              "      <td>378</td>\n",
              "      <td>1281</td>\n",
              "    </tr>\n",
              "    <tr>\n",
              "      <th>6664703</th>\n",
              "      <td>2772568726316000008</td>\n",
              "      <td>29320762</td>\n",
              "      <td>2016-09-03 18:03:02.360000+03:00</td>\n",
              "      <td>7725687263</td>\n",
              "      <td>75203</td>\n",
              "      <td>21527.17</td>\n",
              "      <td>2016-09-01</td>\n",
              "      <td>2016-12-31</td>\n",
              "      <td>33.13.19.000</td>\n",
              "      <td>12300</td>\n",
              "      <td>5018151747</td>\n",
              "      <td>EC</td>\n",
              "      <td>2012-06-04</td>\n",
              "      <td>122</td>\n",
              "      <td>1551</td>\n",
              "    </tr>\n",
              "    <tr>\n",
              "      <th>1380886</th>\n",
              "      <td>1770989550920000134</td>\n",
              "      <td>55017934</td>\n",
              "      <td>2020-01-24 11:11:03.193000+03:00</td>\n",
              "      <td>7709895509</td>\n",
              "      <td>75104</td>\n",
              "      <td>11254158.20</td>\n",
              "      <td>2020-01-01</td>\n",
              "      <td>2021-12-31</td>\n",
              "      <td>35.30.12.110</td>\n",
              "      <td>12247</td>\n",
              "      <td>7720518494</td>\n",
              "      <td>E</td>\n",
              "      <td>2018-07-05</td>\n",
              "      <td>731</td>\n",
              "      <td>546</td>\n",
              "    </tr>\n",
              "    <tr>\n",
              "      <th>3370215</th>\n",
              "      <td>3504015062918000001</td>\n",
              "      <td>44477344</td>\n",
              "      <td>2018-09-28 16:27:10.757000+03:00</td>\n",
              "      <td>5040150629</td>\n",
              "      <td>75403</td>\n",
              "      <td>50000.00</td>\n",
              "      <td>2018-11-01</td>\n",
              "      <td>2018-12-31</td>\n",
              "      <td>69.20.29.000</td>\n",
              "      <td>75403</td>\n",
              "      <td>5040088610</td>\n",
              "      <td>EC</td>\n",
              "      <td>2008-12-30</td>\n",
              "      <td>61</td>\n",
              "      <td>3594</td>\n",
              "    </tr>\n",
              "    <tr>\n",
              "      <th>3568720</th>\n",
              "      <td>3501303952618000019</td>\n",
              "      <td>43420412</td>\n",
              "      <td>2018-07-30 17:07:34.061000+03:00</td>\n",
              "      <td>5013039526</td>\n",
              "      <td>75403</td>\n",
              "      <td>59087.91</td>\n",
              "      <td>2018-07-30</td>\n",
              "      <td>2018-12-31</td>\n",
              "      <td>13.92.12.114</td>\n",
              "      <td>12300</td>\n",
              "      <td>5001103304</td>\n",
              "      <td>EC</td>\n",
              "      <td>2015-05-22</td>\n",
              "      <td>155</td>\n",
              "      <td>1166</td>\n",
              "    </tr>\n",
              "    <tr>\n",
              "      <th>6432686</th>\n",
              "      <td>3165008426415000018</td>\n",
              "      <td>30008661</td>\n",
              "      <td>2016-11-07 11:08:09.112000+03:00</td>\n",
              "      <td>1650084264</td>\n",
              "      <td>75403</td>\n",
              "      <td>1240237.57</td>\n",
              "      <td>2016-01-01</td>\n",
              "      <td>2016-12-31</td>\n",
              "      <td>40.12.10.110</td>\n",
              "      <td>12247</td>\n",
              "      <td>1657082308</td>\n",
              "      <td>ET</td>\n",
              "      <td>2009-02-01</td>\n",
              "      <td>366</td>\n",
              "      <td>2526</td>\n",
              "    </tr>\n",
              "    <tr>\n",
              "      <th>8348886</th>\n",
              "      <td>2230602136115000005</td>\n",
              "      <td>22611157</td>\n",
              "      <td>2015-08-05 12:34:50.555000+03:00</td>\n",
              "      <td>2306021361</td>\n",
              "      <td>75000</td>\n",
              "      <td>42805.77</td>\n",
              "      <td>2015-03-27</td>\n",
              "      <td>2015-07-31</td>\n",
              "      <td>23.20.11.233</td>\n",
              "      <td>12300</td>\n",
              "      <td>2309085910</td>\n",
              "      <td>ET</td>\n",
              "      <td>2003-12-09</td>\n",
              "      <td>127</td>\n",
              "      <td>4127</td>\n",
              "    </tr>\n",
              "    <tr>\n",
              "      <th>2909032</th>\n",
              "      <td>2212900931719000011</td>\n",
              "      <td>46866096</td>\n",
              "      <td>2019-01-11 10:43:11.567000+03:00</td>\n",
              "      <td>2129009317</td>\n",
              "      <td>75203</td>\n",
              "      <td>1100000.00</td>\n",
              "      <td>2019-01-01</td>\n",
              "      <td>2020-01-30</td>\n",
              "      <td>35.12.10.110</td>\n",
              "      <td>12247</td>\n",
              "      <td>2128700232</td>\n",
              "      <td>ET</td>\n",
              "      <td>2006-05-19</td>\n",
              "      <td>395</td>\n",
              "      <td>4611</td>\n",
              "    </tr>\n",
              "    <tr>\n",
              "      <th>8463878</th>\n",
              "      <td>3762000500115000007</td>\n",
              "      <td>22083641</td>\n",
              "      <td>2015-07-05 16:08:09.085000+03:00</td>\n",
              "      <td>7620005001</td>\n",
              "      <td>75000</td>\n",
              "      <td>842521.00</td>\n",
              "      <td>2015-07-01</td>\n",
              "      <td>2015-09-29</td>\n",
              "      <td>45.23.12.159</td>\n",
              "      <td>65242</td>\n",
              "      <td>7627000228</td>\n",
              "      <td>ET</td>\n",
              "      <td>1992-08-07</td>\n",
              "      <td>91</td>\n",
              "      <td>8364</td>\n",
              "    </tr>\n",
              "  </tbody>\n",
              "</table>\n",
              "</div>"
            ],
            "text/plain": [
              "                     reg_num        id  ... time registration_period\n",
              "4668038  3503003336217000002  38124065  ...  356                1317\n",
              "6956597  2165005330816000036  28151247  ...  195                2821\n",
              "8307261  1390402054215000149  22777170  ...  125                3296\n",
              "6090659  2760607981215000317  31702927  ...  425                4182\n",
              "5272004  1027500646217000094  35433492  ...  166                8586\n",
              "6221940  2380819740216000003  31029761  ...   61                4740\n",
              "152376   2222502906620000356  62155783  ...  173                2478\n",
              "7022250  3890303272016000013  27883276  ...  306                1727\n",
              "107355   3301801300620000004  62316366  ...  365                6659\n",
              "6662763  1281900219516000043  29332960  ...   92                6049\n",
              "7002196  2780410487716000165  27961549  ...  212                1386\n",
              "3034102  2782100677418000381  46235083  ...  378                1281\n",
              "6664703  2772568726316000008  29320762  ...  122                1551\n",
              "1380886  1770989550920000134  55017934  ...  731                 546\n",
              "3370215  3504015062918000001  44477344  ...   61                3594\n",
              "3568720  3501303952618000019  43420412  ...  155                1166\n",
              "6432686  3165008426415000018  30008661  ...  366                2526\n",
              "8348886  2230602136115000005  22611157  ...  127                4127\n",
              "2909032  2212900931719000011  46866096  ...  395                4611\n",
              "8463878  3762000500115000007  22083641  ...   91                8364\n",
              "\n",
              "[20 rows x 15 columns]"
            ]
          },
          "metadata": {
            "tags": []
          },
          "execution_count": 27
        }
      ]
    },
    {
      "cell_type": "code",
      "metadata": {
        "id": "1grjVe36lDOd",
        "colab": {
          "base_uri": "https://localhost:8080/"
        },
        "outputId": "b3915a32-f1d4-404c-f5dc-190e690db76d"
      },
      "source": [
        "data.head()"
      ],
      "execution_count": null,
      "outputs": [
        {
          "output_type": "execute_result",
          "data": {
            "text/html": [
              "<div>\n",
              "<style scoped>\n",
              "    .dataframe tbody tr th:only-of-type {\n",
              "        vertical-align: middle;\n",
              "    }\n",
              "\n",
              "    .dataframe tbody tr th {\n",
              "        vertical-align: top;\n",
              "    }\n",
              "\n",
              "    .dataframe thead th {\n",
              "        text-align: right;\n",
              "    }\n",
              "</style>\n",
              "<table border=\"1\" class=\"dataframe\">\n",
              "  <thead>\n",
              "    <tr style=\"text-align: right;\">\n",
              "      <th></th>\n",
              "      <th>reg_num</th>\n",
              "      <th>id</th>\n",
              "      <th>publish_date</th>\n",
              "      <th>customer_inn</th>\n",
              "      <th>customer_legal_form</th>\n",
              "      <th>price</th>\n",
              "      <th>execution_period_start</th>\n",
              "      <th>execution_period_end</th>\n",
              "      <th>product_code</th>\n",
              "      <th>supplier_legal_form</th>\n",
              "      <th>supplier_inn</th>\n",
              "      <th>current_contract_stage</th>\n",
              "      <th>supplier_registration_date</th>\n",
              "      <th>time</th>\n",
              "      <th>registration_period</th>\n",
              "    </tr>\n",
              "  </thead>\n",
              "  <tbody>\n",
              "    <tr>\n",
              "      <th>0</th>\n",
              "      <td>2870901298820000009</td>\n",
              "      <td>63267072</td>\n",
              "      <td>2021-02-01 08:59:46.322000+12:00</td>\n",
              "      <td>8709012988</td>\n",
              "      <td>75204</td>\n",
              "      <td>58297777.46</td>\n",
              "      <td>2020-08-03</td>\n",
              "      <td>2021-12-31</td>\n",
              "      <td>42.99.22.110</td>\n",
              "      <td>12267</td>\n",
              "      <td>8704000668</td>\n",
              "      <td>E</td>\n",
              "      <td>1994-05-20</td>\n",
              "      <td>516</td>\n",
              "      <td>9573</td>\n",
              "    </tr>\n",
              "    <tr>\n",
              "      <th>1</th>\n",
              "      <td>2870900123121000012</td>\n",
              "      <td>63263005</td>\n",
              "      <td>2021-02-01 08:54:06.595000+12:00</td>\n",
              "      <td>8709001231</td>\n",
              "      <td>75200</td>\n",
              "      <td>154171.44</td>\n",
              "      <td>2021-01-01</td>\n",
              "      <td>2021-12-31</td>\n",
              "      <td>38.11.11.000</td>\n",
              "      <td>12300</td>\n",
              "      <td>8709013004</td>\n",
              "      <td>E</td>\n",
              "      <td>2020-12-14</td>\n",
              "      <td>365</td>\n",
              "      <td>19</td>\n",
              "    </tr>\n",
              "    <tr>\n",
              "      <th>2</th>\n",
              "      <td>3391300051021000010</td>\n",
              "      <td>63308066</td>\n",
              "      <td>2021-01-31 20:53:45.149000+02:00</td>\n",
              "      <td>3913000510</td>\n",
              "      <td>75404</td>\n",
              "      <td>373524.23</td>\n",
              "      <td>2020-11-02</td>\n",
              "      <td>2021-11-02</td>\n",
              "      <td>35.22.10.110</td>\n",
              "      <td>12267</td>\n",
              "      <td>3906214945</td>\n",
              "      <td>E</td>\n",
              "      <td>2010-01-20</td>\n",
              "      <td>366</td>\n",
              "      <td>3940</td>\n",
              "    </tr>\n",
              "    <tr>\n",
              "      <th>3</th>\n",
              "      <td>3391300051021000006</td>\n",
              "      <td>63307800</td>\n",
              "      <td>2021-01-31 20:53:44.708000+02:00</td>\n",
              "      <td>3913000510</td>\n",
              "      <td>75404</td>\n",
              "      <td>219446.49</td>\n",
              "      <td>2020-12-30</td>\n",
              "      <td>2021-12-31</td>\n",
              "      <td>35.22.10.110</td>\n",
              "      <td>12267</td>\n",
              "      <td>3906214945</td>\n",
              "      <td>E</td>\n",
              "      <td>2010-01-20</td>\n",
              "      <td>367</td>\n",
              "      <td>3998</td>\n",
              "    </tr>\n",
              "    <tr>\n",
              "      <th>4</th>\n",
              "      <td>3391300051021000005</td>\n",
              "      <td>63307569</td>\n",
              "      <td>2021-01-31 20:53:44.683000+02:00</td>\n",
              "      <td>3913000510</td>\n",
              "      <td>75404</td>\n",
              "      <td>1929.55</td>\n",
              "      <td>2020-12-30</td>\n",
              "      <td>2021-12-31</td>\n",
              "      <td>35.22.10.110</td>\n",
              "      <td>12267</td>\n",
              "      <td>3906214945</td>\n",
              "      <td>E</td>\n",
              "      <td>2010-01-20</td>\n",
              "      <td>367</td>\n",
              "      <td>3998</td>\n",
              "    </tr>\n",
              "  </tbody>\n",
              "</table>\n",
              "</div>"
            ],
            "text/plain": [
              "               reg_num        id  ... time registration_period\n",
              "0  2870901298820000009  63267072  ...  516                9573\n",
              "1  2870900123121000012  63263005  ...  365                  19\n",
              "2  3391300051021000010  63308066  ...  366                3940\n",
              "3  3391300051021000006  63307800  ...  367                3998\n",
              "4  3391300051021000005  63307569  ...  367                3998\n",
              "\n",
              "[5 rows x 15 columns]"
            ]
          },
          "metadata": {
            "tags": []
          },
          "execution_count": 28
        }
      ]
    },
    {
      "cell_type": "markdown",
      "metadata": {
        "id": "I7mYKtKfWNcu"
      },
      "source": [
        "# Анализ"
      ]
    },
    {
      "cell_type": "markdown",
      "metadata": {
        "id": "wi5qeuqpQvo2"
      },
      "source": [
        "## Дубликаты контрактов"
      ]
    },
    {
      "cell_type": "markdown",
      "metadata": {
        "id": "BRAVtBkZQy5P"
      },
      "source": [
        "  **Проблема**: Дупликаты контрактов по номеру регистрации в реестре(поле reg_num). По данному номеру проводятся процедуры(изменения в стадии завершенности контракта).  \n",
        "  **Анализ**: на примере контракта 0313300112714000004"
      ]
    },
    {
      "cell_type": "code",
      "metadata": {
        "id": "Hh4p7-GZQ_tp",
        "colab": {
          "base_uri": "https://localhost:8080/"
        },
        "outputId": "a5287f81-16b7-427c-efba-45f334e5324b"
      },
      "source": [
        "index = data.index[data['reg_num'] == '0313300112714000004'].tolist()\n",
        "data.loc[index]"
      ],
      "execution_count": null,
      "outputs": [
        {
          "output_type": "execute_result",
          "data": {
            "text/html": [
              "<div>\n",
              "<style scoped>\n",
              "    .dataframe tbody tr th:only-of-type {\n",
              "        vertical-align: middle;\n",
              "    }\n",
              "\n",
              "    .dataframe tbody tr th {\n",
              "        vertical-align: top;\n",
              "    }\n",
              "\n",
              "    .dataframe thead th {\n",
              "        text-align: right;\n",
              "    }\n",
              "</style>\n",
              "<table border=\"1\" class=\"dataframe\">\n",
              "  <thead>\n",
              "    <tr style=\"text-align: right;\">\n",
              "      <th></th>\n",
              "      <th>reg_num</th>\n",
              "      <th>id</th>\n",
              "      <th>publish_date</th>\n",
              "      <th>customer_inn</th>\n",
              "      <th>customer_legal_form</th>\n",
              "      <th>price</th>\n",
              "      <th>execution_period_start</th>\n",
              "      <th>execution_period_end</th>\n",
              "      <th>product_code</th>\n",
              "      <th>supplier_legal_form</th>\n",
              "      <th>supplier_inn</th>\n",
              "      <th>current_contract_stage</th>\n",
              "      <th>supplier_registration_date</th>\n",
              "      <th>time</th>\n",
              "      <th>registration_period</th>\n",
              "    </tr>\n",
              "  </thead>\n",
              "  <tbody>\n",
              "    <tr>\n",
              "      <th>5558934</th>\n",
              "      <td>0313300112714000004</td>\n",
              "      <td>34140811</td>\n",
              "      <td>2017-05-16 11:31:36.369000+04:00</td>\n",
              "      <td>1822003937</td>\n",
              "      <td>75403</td>\n",
              "      <td>65382.46</td>\n",
              "      <td>2014-07-18</td>\n",
              "      <td>2015-01-31</td>\n",
              "      <td>15.51.52.111</td>\n",
              "      <td>12300</td>\n",
              "      <td>1834048072</td>\n",
              "      <td>Unknown</td>\n",
              "      <td>2009-05-18</td>\n",
              "      <td>198</td>\n",
              "      <td>1888</td>\n",
              "    </tr>\n",
              "  </tbody>\n",
              "</table>\n",
              "</div>"
            ],
            "text/plain": [
              "                     reg_num        id  ... time registration_period\n",
              "5558934  0313300112714000004  34140811  ...  198                1888\n",
              "\n",
              "[1 rows x 15 columns]"
            ]
          },
          "metadata": {
            "tags": []
          },
          "execution_count": 29
        }
      ]
    },
    {
      "cell_type": "markdown",
      "metadata": {
        "id": "BLUEHCuCTQ1L"
      },
      "source": [
        "Различия дата публикации, код по ОКОПФ (обновлен до более нового), цена контракта. \n",
        "Вопрос: Почему идет совпадение?\n",
        "Предположение: Выгрузка идет из внутренней системы по обновленному договору  \n",
        "Решение на данный момент: Оставлять только обновленный договор, так как он содержит самую 'свежую' информацию"
      ]
    },
    {
      "cell_type": "markdown",
      "metadata": {
        "id": "cg7aiSpsFaS5"
      },
      "source": [
        "## Общая характеристика категорий"
      ]
    },
    {
      "cell_type": "markdown",
      "metadata": {
        "id": "y5kYQY6mTqBc"
      },
      "source": [
        "Перечисление характеристик численных и категорий"
      ]
    },
    {
      "cell_type": "code",
      "metadata": {
        "id": "Skzj4fHgdP_v"
      },
      "source": [
        "num_var = ['price', 'time']\n",
        "cat_var = ['customer_inn', 'customer_legal_form', 'product_code', 'supplier_inn', 'supplier_legal_form', 'current_contract_stage', 'reg_num']"
      ],
      "execution_count": null,
      "outputs": []
    },
    {
      "cell_type": "markdown",
      "metadata": {
        "id": "4dh6u1NyTk69"
      },
      "source": [
        "Описание численных характеристик"
      ]
    },
    {
      "cell_type": "code",
      "metadata": {
        "id": "omzNKtIei4mV",
        "colab": {
          "base_uri": "https://localhost:8080/"
        },
        "outputId": "2afb93c3-2cfa-4e95-ab59-80a6abd48913"
      },
      "source": [
        "data[num_var].describe()"
      ],
      "execution_count": null,
      "outputs": [
        {
          "output_type": "execute_result",
          "data": {
            "text/html": [
              "<div>\n",
              "<style scoped>\n",
              "    .dataframe tbody tr th:only-of-type {\n",
              "        vertical-align: middle;\n",
              "    }\n",
              "\n",
              "    .dataframe tbody tr th {\n",
              "        vertical-align: top;\n",
              "    }\n",
              "\n",
              "    .dataframe thead th {\n",
              "        text-align: right;\n",
              "    }\n",
              "</style>\n",
              "<table border=\"1\" class=\"dataframe\">\n",
              "  <thead>\n",
              "    <tr style=\"text-align: right;\">\n",
              "      <th></th>\n",
              "      <th>price</th>\n",
              "      <th>time</th>\n",
              "    </tr>\n",
              "  </thead>\n",
              "  <tbody>\n",
              "    <tr>\n",
              "      <th>count</th>\n",
              "      <td>8.900019e+06</td>\n",
              "      <td>8.900019e+06</td>\n",
              "    </tr>\n",
              "    <tr>\n",
              "      <th>mean</th>\n",
              "      <td>3.465055e+06</td>\n",
              "      <td>2.277795e+02</td>\n",
              "    </tr>\n",
              "    <tr>\n",
              "      <th>std</th>\n",
              "      <td>1.760279e+08</td>\n",
              "      <td>2.252874e+02</td>\n",
              "    </tr>\n",
              "    <tr>\n",
              "      <th>min</th>\n",
              "      <td>1.000000e-02</td>\n",
              "      <td>1.000000e+00</td>\n",
              "    </tr>\n",
              "    <tr>\n",
              "      <th>25%</th>\n",
              "      <td>4.492570e+04</td>\n",
              "      <td>9.100000e+01</td>\n",
              "    </tr>\n",
              "    <tr>\n",
              "      <th>50%</th>\n",
              "      <td>1.760800e+05</td>\n",
              "      <td>2.050000e+02</td>\n",
              "    </tr>\n",
              "    <tr>\n",
              "      <th>75%</th>\n",
              "      <td>6.422500e+05</td>\n",
              "      <td>3.550000e+02</td>\n",
              "    </tr>\n",
              "    <tr>\n",
              "      <th>max</th>\n",
              "      <td>2.236274e+11</td>\n",
              "      <td>1.824600e+04</td>\n",
              "    </tr>\n",
              "  </tbody>\n",
              "</table>\n",
              "</div>"
            ],
            "text/plain": [
              "              price          time\n",
              "count  8.900019e+06  8.900019e+06\n",
              "mean   3.465055e+06  2.277795e+02\n",
              "std    1.760279e+08  2.252874e+02\n",
              "min    1.000000e-02  1.000000e+00\n",
              "25%    4.492570e+04  9.100000e+01\n",
              "50%    1.760800e+05  2.050000e+02\n",
              "75%    6.422500e+05  3.550000e+02\n",
              "max    2.236274e+11  1.824600e+04"
            ]
          },
          "metadata": {
            "tags": []
          },
          "execution_count": 31
        }
      ]
    },
    {
      "cell_type": "markdown",
      "metadata": {
        "id": "jcxa2ygmTi2m"
      },
      "source": [
        "Описание категорий"
      ]
    },
    {
      "cell_type": "code",
      "metadata": {
        "id": "lIBS933Clbke",
        "colab": {
          "base_uri": "https://localhost:8080/"
        },
        "outputId": "06b69f33-d8e0-4b62-b46b-ebb4628314c5"
      },
      "source": [
        "data[cat_var].describe()"
      ],
      "execution_count": null,
      "outputs": [
        {
          "output_type": "execute_result",
          "data": {
            "text/html": [
              "<div>\n",
              "<style scoped>\n",
              "    .dataframe tbody tr th:only-of-type {\n",
              "        vertical-align: middle;\n",
              "    }\n",
              "\n",
              "    .dataframe tbody tr th {\n",
              "        vertical-align: top;\n",
              "    }\n",
              "\n",
              "    .dataframe thead th {\n",
              "        text-align: right;\n",
              "    }\n",
              "</style>\n",
              "<table border=\"1\" class=\"dataframe\">\n",
              "  <thead>\n",
              "    <tr style=\"text-align: right;\">\n",
              "      <th></th>\n",
              "      <th>customer_inn</th>\n",
              "      <th>customer_legal_form</th>\n",
              "      <th>product_code</th>\n",
              "      <th>supplier_inn</th>\n",
              "      <th>supplier_legal_form</th>\n",
              "      <th>current_contract_stage</th>\n",
              "      <th>reg_num</th>\n",
              "    </tr>\n",
              "  </thead>\n",
              "  <tbody>\n",
              "    <tr>\n",
              "      <th>count</th>\n",
              "      <td>8900019</td>\n",
              "      <td>8900019</td>\n",
              "      <td>8900019</td>\n",
              "      <td>8900019</td>\n",
              "      <td>8900019</td>\n",
              "      <td>8900019</td>\n",
              "      <td>8900019</td>\n",
              "    </tr>\n",
              "    <tr>\n",
              "      <th>unique</th>\n",
              "      <td>90265</td>\n",
              "      <td>51</td>\n",
              "      <td>24340</td>\n",
              "      <td>289138</td>\n",
              "      <td>121</td>\n",
              "      <td>4</td>\n",
              "      <td>8900019</td>\n",
              "    </tr>\n",
              "    <tr>\n",
              "      <th>top</th>\n",
              "      <td>7714338609</td>\n",
              "      <td>75203</td>\n",
              "      <td>35.30.11.120</td>\n",
              "      <td>7707049388</td>\n",
              "      <td>12300</td>\n",
              "      <td>EC</td>\n",
              "      <td>3235700431817000002</td>\n",
              "    </tr>\n",
              "    <tr>\n",
              "      <th>freq</th>\n",
              "      <td>26027</td>\n",
              "      <td>2932962</td>\n",
              "      <td>216261</td>\n",
              "      <td>221228</td>\n",
              "      <td>5915051</td>\n",
              "      <td>6161790</td>\n",
              "      <td>1</td>\n",
              "    </tr>\n",
              "  </tbody>\n",
              "</table>\n",
              "</div>"
            ],
            "text/plain": [
              "       customer_inn  ...              reg_num\n",
              "count       8900019  ...              8900019\n",
              "unique        90265  ...              8900019\n",
              "top      7714338609  ...  3235700431817000002\n",
              "freq          26027  ...                    1\n",
              "\n",
              "[4 rows x 7 columns]"
            ]
          },
          "metadata": {
            "tags": []
          },
          "execution_count": 32
        }
      ]
    },
    {
      "cell_type": "markdown",
      "metadata": {
        "id": "4ikQje6OThbX"
      },
      "source": [
        "Покупатели:Поставщики = 1:6"
      ]
    },
    {
      "cell_type": "code",
      "metadata": {
        "id": "Lfa4royxU3ug"
      },
      "source": [
        "dfs = DataFrameSummary(data)"
      ],
      "execution_count": null,
      "outputs": []
    },
    {
      "cell_type": "code",
      "metadata": {
        "id": "TGZWW0CYG8ae",
        "colab": {
          "base_uri": "https://localhost:8080/"
        },
        "outputId": "f972f4f8-fcf3-4c7d-c671-13a72d68205e"
      },
      "source": [
        "dfs.columns_stats"
      ],
      "execution_count": null,
      "outputs": [
        {
          "output_type": "execute_result",
          "data": {
            "text/html": [
              "<div>\n",
              "<style scoped>\n",
              "    .dataframe tbody tr th:only-of-type {\n",
              "        vertical-align: middle;\n",
              "    }\n",
              "\n",
              "    .dataframe tbody tr th {\n",
              "        vertical-align: top;\n",
              "    }\n",
              "\n",
              "    .dataframe thead th {\n",
              "        text-align: right;\n",
              "    }\n",
              "</style>\n",
              "<table border=\"1\" class=\"dataframe\">\n",
              "  <thead>\n",
              "    <tr style=\"text-align: right;\">\n",
              "      <th></th>\n",
              "      <th>reg_num</th>\n",
              "      <th>id</th>\n",
              "      <th>publish_date</th>\n",
              "      <th>customer_inn</th>\n",
              "      <th>customer_legal_form</th>\n",
              "      <th>price</th>\n",
              "      <th>execution_period_start</th>\n",
              "      <th>execution_period_end</th>\n",
              "      <th>product_code</th>\n",
              "      <th>supplier_legal_form</th>\n",
              "      <th>supplier_inn</th>\n",
              "      <th>current_contract_stage</th>\n",
              "      <th>supplier_registration_date</th>\n",
              "      <th>time</th>\n",
              "      <th>registration_period</th>\n",
              "    </tr>\n",
              "  </thead>\n",
              "  <tbody>\n",
              "    <tr>\n",
              "      <th>counts</th>\n",
              "      <td>8900019</td>\n",
              "      <td>8900019</td>\n",
              "      <td>8900019</td>\n",
              "      <td>8900019</td>\n",
              "      <td>8900019</td>\n",
              "      <td>8900019</td>\n",
              "      <td>8900019</td>\n",
              "      <td>8900019</td>\n",
              "      <td>8900019</td>\n",
              "      <td>8900019</td>\n",
              "      <td>8900019</td>\n",
              "      <td>8900019</td>\n",
              "      <td>8900019</td>\n",
              "      <td>8900019</td>\n",
              "      <td>8900019</td>\n",
              "    </tr>\n",
              "    <tr>\n",
              "      <th>uniques</th>\n",
              "      <td>8900019</td>\n",
              "      <td>8900019</td>\n",
              "      <td>8895168</td>\n",
              "      <td>90265</td>\n",
              "      <td>51</td>\n",
              "      <td>5158300</td>\n",
              "      <td>4956</td>\n",
              "      <td>4876</td>\n",
              "      <td>24340</td>\n",
              "      <td>121</td>\n",
              "      <td>289138</td>\n",
              "      <td>4</td>\n",
              "      <td>11633</td>\n",
              "      <td>4268</td>\n",
              "      <td>14401</td>\n",
              "    </tr>\n",
              "    <tr>\n",
              "      <th>missing</th>\n",
              "      <td>0</td>\n",
              "      <td>0</td>\n",
              "      <td>0</td>\n",
              "      <td>0</td>\n",
              "      <td>0</td>\n",
              "      <td>0</td>\n",
              "      <td>0</td>\n",
              "      <td>0</td>\n",
              "      <td>0</td>\n",
              "      <td>0</td>\n",
              "      <td>0</td>\n",
              "      <td>0</td>\n",
              "      <td>0</td>\n",
              "      <td>0</td>\n",
              "      <td>0</td>\n",
              "    </tr>\n",
              "    <tr>\n",
              "      <th>missing_perc</th>\n",
              "      <td>0%</td>\n",
              "      <td>0%</td>\n",
              "      <td>0%</td>\n",
              "      <td>0%</td>\n",
              "      <td>0%</td>\n",
              "      <td>0%</td>\n",
              "      <td>0%</td>\n",
              "      <td>0%</td>\n",
              "      <td>0%</td>\n",
              "      <td>0%</td>\n",
              "      <td>0%</td>\n",
              "      <td>0%</td>\n",
              "      <td>0%</td>\n",
              "      <td>0%</td>\n",
              "      <td>0%</td>\n",
              "    </tr>\n",
              "    <tr>\n",
              "      <th>types</th>\n",
              "      <td>unique</td>\n",
              "      <td>numeric</td>\n",
              "      <td>categorical</td>\n",
              "      <td>categorical</td>\n",
              "      <td>categorical</td>\n",
              "      <td>numeric</td>\n",
              "      <td>date</td>\n",
              "      <td>date</td>\n",
              "      <td>categorical</td>\n",
              "      <td>categorical</td>\n",
              "      <td>categorical</td>\n",
              "      <td>categorical</td>\n",
              "      <td>date</td>\n",
              "      <td>numeric</td>\n",
              "      <td>numeric</td>\n",
              "    </tr>\n",
              "  </tbody>\n",
              "</table>\n",
              "</div>"
            ],
            "text/plain": [
              "              reg_num       id  ...     time registration_period\n",
              "counts        8900019  8900019  ...  8900019             8900019\n",
              "uniques       8900019  8900019  ...     4268               14401\n",
              "missing             0        0  ...        0                   0\n",
              "missing_perc       0%       0%  ...       0%                  0%\n",
              "types          unique  numeric  ...  numeric             numeric\n",
              "\n",
              "[5 rows x 15 columns]"
            ]
          },
          "metadata": {
            "tags": []
          },
          "execution_count": 34
        }
      ]
    },
    {
      "cell_type": "code",
      "metadata": {
        "id": "EttpQg4qQRh_",
        "colab": {
          "base_uri": "https://localhost:8080/"
        },
        "outputId": "644089cc-416d-49bc-a0c7-9aa8d193fbea"
      },
      "source": [
        "dfs.columns_types"
      ],
      "execution_count": null,
      "outputs": [
        {
          "output_type": "execute_result",
          "data": {
            "text/plain": [
              "categorical    7\n",
              "numeric        4\n",
              "date           3\n",
              "unique         1\n",
              "Name: types, dtype: int64"
            ]
          },
          "metadata": {
            "tags": []
          },
          "execution_count": 35
        }
      ]
    },
    {
      "cell_type": "code",
      "metadata": {
        "id": "RduqyacJi4mV",
        "colab": {
          "base_uri": "https://localhost:8080/"
        },
        "outputId": "c9d1e5dc-7d3d-421c-d78f-394bd04d44a9"
      },
      "source": [
        "# Мода, медиана, среднее\n",
        "result = {'mode': [], 'median': [], 'mean': []}\n",
        "for nv in num_var:\n",
        "    result['mode'].append(int(data[nv].mode()[0]))\n",
        "    result['median'].append(int(data[nv].median()))\n",
        "    result['mean'].append(int(data[nv].mean()))\n",
        "\n",
        "result = pd.DataFrame(result, index=num_var)\n",
        "result = result[['mode', 'median', 'mean']]\n",
        "result"
      ],
      "execution_count": null,
      "outputs": [
        {
          "output_type": "execute_result",
          "data": {
            "text/html": [
              "<div>\n",
              "<style scoped>\n",
              "    .dataframe tbody tr th:only-of-type {\n",
              "        vertical-align: middle;\n",
              "    }\n",
              "\n",
              "    .dataframe tbody tr th {\n",
              "        vertical-align: top;\n",
              "    }\n",
              "\n",
              "    .dataframe thead th {\n",
              "        text-align: right;\n",
              "    }\n",
              "</style>\n",
              "<table border=\"1\" class=\"dataframe\">\n",
              "  <thead>\n",
              "    <tr style=\"text-align: right;\">\n",
              "      <th></th>\n",
              "      <th>mode</th>\n",
              "      <th>median</th>\n",
              "      <th>mean</th>\n",
              "    </tr>\n",
              "  </thead>\n",
              "  <tbody>\n",
              "    <tr>\n",
              "      <th>price</th>\n",
              "      <td>100000</td>\n",
              "      <td>176080</td>\n",
              "      <td>3465055</td>\n",
              "    </tr>\n",
              "    <tr>\n",
              "      <th>time</th>\n",
              "      <td>365</td>\n",
              "      <td>205</td>\n",
              "      <td>227</td>\n",
              "    </tr>\n",
              "  </tbody>\n",
              "</table>\n",
              "</div>"
            ],
            "text/plain": [
              "         mode  median     mean\n",
              "price  100000  176080  3465055\n",
              "time      365     205      227"
            ]
          },
          "metadata": {
            "tags": []
          },
          "execution_count": 36
        }
      ]
    },
    {
      "cell_type": "markdown",
      "metadata": {
        "id": "8iudseh4h2Qt"
      },
      "source": [
        "## Цена от типа клиента"
      ]
    },
    {
      "cell_type": "markdown",
      "metadata": {
        "id": "Xuw5TOshdpVa"
      },
      "source": [
        "Гипотеза: есть корреляция между типом клиента и средней ценой контракта"
      ]
    },
    {
      "cell_type": "code",
      "metadata": {
        "id": "ULVmeDIhiFKz"
      },
      "source": [
        "def OKOPF_sub(x):\n",
        "  return f\"({x}) {OKOPF[x]}\""
      ],
      "execution_count": null,
      "outputs": []
    },
    {
      "cell_type": "code",
      "metadata": {
        "id": "8L7cnzovbd-U"
      },
      "source": [
        "with sbs.plotting_context(font_scale=1.6):\n",
        "  data_to_plot = data.filter(['customer_legal_form', 'price'], axis=1).sort_values('customer_legal_form')\n",
        "  data_to_plot['customer_legal_form'] = data_to_plot['customer_legal_form'].map(OKOPF_sub)\n",
        "  g = sbs.catplot(y = 'customer_legal_form', x = 'price', kind ='box', height = 10, aspect = 2, data = data_to_plot, orient = 'h')\n",
        "  g.set(xscale = 'log', xlabel = 'Цена', ylabel = 'Типы Клиентов')\n",
        "  \n",
        "del data_to_plot\n",
        "del g\n",
        "gc.collect()"
      ],
      "execution_count": null,
      "outputs": []
    },
    {
      "cell_type": "markdown",
      "metadata": {
        "id": "EXQzOOQ-dwvX"
      },
      "source": [
        "Результат: некоторая корреляция присутсвует"
      ]
    },
    {
      "cell_type": "markdown",
      "metadata": {
        "id": "DWc6irTL7MkL"
      },
      "source": [
        "## Цена и тип поставщика"
      ]
    },
    {
      "cell_type": "code",
      "metadata": {
        "id": "I-n1_oOv7Q3V"
      },
      "source": [
        "\n",
        "def OKOPF_sub(x):\n",
        "  return f\"({x}) {OKOPF[x]}\""
      ],
      "execution_count": null,
      "outputs": []
    },
    {
      "cell_type": "code",
      "metadata": {
        "id": "ImEoJYZu7SoF"
      },
      "source": [
        "with sbs.plotting_context(font_scale=1.6):\n",
        "  data_to_plot = data.filter(['supplier_legal_form', 'price'], axis=1).sort_values('supplier_legal_form')\n",
        "  data_to_plot['supplier_legal_form'] = data_to_plot['supplier_legal_form'].map(OKOPF_sub)\n",
        "  g = sbs.catplot(y = 'supplier_legal_form', x = 'price', kind ='box', height = 15, aspect = 2, data = data_to_plot, orient = 'h')\n",
        "  g.set(xscale = 'log', xlabel = 'Цена', ylabel = 'Типы Поставщиков')\n",
        "  \n",
        "del data_to_plot\n",
        "del g\n",
        "gc.collect()"
      ],
      "execution_count": null,
      "outputs": []
    },
    {
      "cell_type": "markdown",
      "metadata": {
        "id": "mHiuV16vh6pw"
      },
      "source": [
        "## Цена и тип продукта"
      ]
    },
    {
      "cell_type": "markdown",
      "metadata": {
        "id": "uFD1Ze6jGOeW"
      },
      "source": [
        "Гипотеза: разные категории требуют разной цены контракта"
      ]
    },
    {
      "cell_type": "code",
      "metadata": {
        "id": "1FdcMBsJd5sp"
      },
      "source": [
        "def OKPD_mapping(row):\n",
        "  x, y , z = row.split(\".\", 2)\n",
        "  if x in OKPD:\n",
        "    return OKPD[x]\n",
        "  return 'Устаревшие категории'"
      ],
      "execution_count": null,
      "outputs": []
    },
    {
      "cell_type": "code",
      "metadata": {
        "id": "iRdYvsIErP72"
      },
      "source": [
        "with sbs.plotting_context(font_scale=1.6):\n",
        "  data_to_plot = data.filter(['product_code', 'price'])\n",
        "  data_to_plot['product_code'] = data_to_plot['product_code'].map(OKPD_mapping)\n",
        "  g = sbs.catplot(y = 'product_code', x = 'price', kind ='box', height = 22, aspect = 0.5, data = data_to_plot, orient = 'h')\n",
        "  g.set(xscale = 'log', xlabel = 'Цена', ylabel = 'ОКПД')\n",
        "\n",
        "del data_to_plot\n",
        "del g\n",
        "gc.collect()"
      ],
      "execution_count": null,
      "outputs": []
    },
    {
      "cell_type": "markdown",
      "metadata": {
        "id": "ZOS2XajTeDjj"
      },
      "source": [
        "Результат: некоторая корреляция присутсвует"
      ]
    },
    {
      "cell_type": "markdown",
      "metadata": {
        "id": "1W0ht33g5UYu"
      },
      "source": [
        "## Цена и продолжительность"
      ]
    },
    {
      "cell_type": "markdown",
      "metadata": {
        "id": "jRqh6XO4FC1d"
      },
      "source": [
        "Гипотеза: время и цена коррелируют. \n",
        "Выше продолжительность -> Выше цена."
      ]
    },
    {
      "cell_type": "code",
      "metadata": {
        "id": "OW8nHP4Di4mW"
      },
      "source": [
        "# Корреляционная матрица\n",
        "data[list(set(num_var))].corr()"
      ],
      "execution_count": null,
      "outputs": []
    },
    {
      "cell_type": "code",
      "metadata": {
        "id": "WokmXaoNvroA"
      },
      "source": [
        "g = sbs.scatterplot(x = 'time', y = 'price', data = data)\n",
        "g.set(xscale = 'log', yscale = 'log', xlabel = 'Продолжительность контракта', ylabel = 'Цена')\n",
        "\n",
        "del g\n",
        "gc.collect()"
      ],
      "execution_count": null,
      "outputs": []
    },
    {
      "cell_type": "code",
      "metadata": {
        "id": "QgbmkE5QyTWW"
      },
      "source": [
        "def period_mapping(time):\n",
        "  if (time <= 30):\n",
        "    return '0-30'\n",
        "  elif (30 < time <= 120):\n",
        "    return '30-120'\n",
        "  elif (120 < time <= 360):\n",
        "    return '120-360'\n",
        "  elif (360 < time <= 720):\n",
        "    return '360-720'\n",
        "  else:\n",
        "    return '>720'"
      ],
      "execution_count": null,
      "outputs": []
    },
    {
      "cell_type": "code",
      "metadata": {
        "id": "uiP0WUiszGl0"
      },
      "source": [
        "with sbs.plotting_context(font_scale=1.6):\n",
        "  data_to_plot = data.filter(['time', 'price'], axis = 1).sort_values('time')\n",
        "  data_to_plot['time'] = data_to_plot['time'].map(period_mapping)\n",
        "  g = sbs.catplot(x = 'time', y = 'price', kind ='box', aspect = 1, data = data_to_plot)\n",
        "  g.set(yscale = 'log', xlabel = 'Время(в днях)', ylabel = 'Цена')\n",
        "\n",
        "del data_to_plot\n",
        "del g\n",
        "gc.collect()"
      ],
      "execution_count": null,
      "outputs": []
    },
    {
      "cell_type": "markdown",
      "metadata": {
        "id": "CufNpIEVKTil"
      },
      "source": [
        "Результат: Время и цена коррелируют слабо до продолжиткельности ~720 дней, после этого идет тренд на повышение цен"
      ]
    },
    {
      "cell_type": "markdown",
      "metadata": {
        "id": "3dqVHZAE9v1v"
      },
      "source": [
        "## Продолжительность и тип клиента"
      ]
    },
    {
      "cell_type": "markdown",
      "metadata": {
        "id": "WNgln-YJgjIv"
      },
      "source": [
        "Гипотеза: тип клиента и продолжительность контракта коррелируют"
      ]
    },
    {
      "cell_type": "code",
      "metadata": {
        "id": "zDCZc5nJ90VQ"
      },
      "source": [
        "with sbs.plotting_context(font_scale=1.6):\n",
        "  data_to_plot = data.filter(['customer_legal_form', 'time'], axis=1)\n",
        "  data_to_plot['customer_legal_form'] = data_to_plot['customer_legal_form'].map(OKOPF_sub)\n",
        "  g = sbs.catplot(y = 'customer_legal_form', x = 'time', kind ='box', height = 10, aspect = 2, data = data_to_plot, orient = 'h')\n",
        "  g.set(xscale = 'log', xlabel = 'Время', ylabel = 'Типы Клиентов')\n",
        "\n",
        "del data_to_plot\n",
        "del g\n",
        "gc.collect()"
      ],
      "execution_count": null,
      "outputs": []
    },
    {
      "cell_type": "markdown",
      "metadata": {
        "id": "BV0W_1EShLSC"
      },
      "source": [
        "Результат: Есть некоторые категории покупателей в которых продолжительность заключена в ограниченые рамки(юридические лица и их производные), в остальных же не наблюдается явной зависимости"
      ]
    },
    {
      "cell_type": "markdown",
      "metadata": {
        "id": "kCvUwLxgVDyh"
      },
      "source": [
        "## Продолжительность и тип поставщика"
      ]
    },
    {
      "cell_type": "markdown",
      "metadata": {
        "id": "y7L4oyN_VDyq"
      },
      "source": [
        "Гипотеза: тип поставщика и продолжительность контракта коррелируют"
      ]
    },
    {
      "cell_type": "code",
      "metadata": {
        "id": "ykt6Wb_zVDyq"
      },
      "source": [
        "with sbs.plotting_context(font_scale=1.6):\n",
        "  data_to_plot = data.filter(['supplier_legal_form', 'time'], axis=1)\n",
        "  data_to_plot['supplier_legal_form'] = data_to_plot['supplier_legal_form'].map(OKOPF_sub)\n",
        "  g = sbs.catplot(y = 'supplier_legal_form', x = 'time', kind ='box', height = 15, aspect = 2, data = data_to_plot, orient = 'h')\n",
        "  g.set(xscale = 'log', xlabel = 'Время', ylabel = 'Типы Поставщиков')\n",
        "\n",
        "del data_to_plot\n",
        "del g\n",
        "gc.collect()"
      ],
      "execution_count": null,
      "outputs": []
    },
    {
      "cell_type": "markdown",
      "metadata": {
        "id": "JYaqFDoCqFtX"
      },
      "source": [
        "## Продолжительность и тип продукта"
      ]
    },
    {
      "cell_type": "markdown",
      "metadata": {
        "id": "_1_RHbkAstDy"
      },
      "source": [
        "Гипотеза: от типа поставляемого продукта зависит продолжительность контракта"
      ]
    },
    {
      "cell_type": "code",
      "metadata": {
        "id": "AqL7auaMqI46"
      },
      "source": [
        "with sbs.plotting_context(font_scale=1.6):\n",
        "  data_to_plot = data.filter(['product_code', 'time'])\n",
        "  data_to_plot['product_code'] = data_to_plot['product_code'].map(OKPD_mapping)\n",
        "  g = sbs.catplot(y = 'product_code', x = 'time', kind ='box', height = 22, aspect = 0.5, data = data_to_plot, orient = 'h')\n",
        "  g.set(xscale = 'log', xlabel = 'Продолжительность', ylabel = 'ОКПД')\n",
        "\n",
        "\n",
        "del data_to_plot\n",
        "del g\n",
        "gc.collect()"
      ],
      "execution_count": null,
      "outputs": []
    },
    {
      "cell_type": "markdown",
      "metadata": {
        "id": "cMGkXKTztxUy"
      },
      "source": [
        "Результат: Корреляция (в среднем) наблюдается, нет четкой нижней границы у многих категорий"
      ]
    },
    {
      "cell_type": "markdown",
      "metadata": {
        "id": "IPyfRzKiBkr3"
      },
      "source": [
        "## Типы продукта и типы покупателя"
      ]
    },
    {
      "cell_type": "markdown",
      "metadata": {
        "id": "sh8wh3rwBbuo"
      },
      "source": [
        "Гипотеза: Некоторые типы покупателей заключают относительно небольшой список типов товаров"
      ]
    },
    {
      "cell_type": "markdown",
      "metadata": {
        "id": "8KiFohd-wPkA"
      },
      "source": [
        "Разнообразие типов продукта в контрактах покупателя"
      ]
    },
    {
      "cell_type": "markdown",
      "metadata": {
        "id": "YACJsHah8UD3"
      },
      "source": [
        "Мера разнообразия может служить как связующий элемент для объяснения зависимости некоторых категорий(продолжительность-тип продукта-тип покупателя,цена-тип продукта-тип покупателя), а также демонстрирует зависимость некоторых типов покупателя и типов продукта ими приобретаемых."
      ]
    },
    {
      "cell_type": "code",
      "metadata": {
        "id": "0HXkqmi6wkQT"
      },
      "source": [
        "#Формула Шеннона\n",
        "def variety_index(row):\n",
        "  variety_index = 0.0\n",
        "  sum = row.sum()\n",
        "  for i in row:\n",
        "    if i > 0:\n",
        "      p = i / sum\n",
        "      variety_index -= p * math.log(p, 2) \n",
        "  return variety_index\n",
        "  \n",
        "\n",
        "with sbs.plotting_context(font_scale=1.6):\n",
        "  data_to_plot = data.filter(['customer_legal_form', 'product_code', 'reg_num'], axis=1)\n",
        "  data_to_plot['customer_legal_form'] = data_to_plot['customer_legal_form'].map(OKOPF_sub)\n",
        "  customer_legal_form_variety_index = data_to_plot.groupby(['customer_legal_form', 'product_code']).size().unstack().apply(variety_index, axis=1)\n",
        "  a4_dims = (10, 10)\n",
        "  fig, ax = plt.subplots(figsize=a4_dims)\n",
        "  g = sbs.barplot(ax = ax, x = customer_legal_form_variety_index.values, y = customer_legal_form_variety_index.index, orient = 'h')\n",
        "  g.set(xscale = 'linear', xlabel = 'Мера разнообразия', ylabel = 'Типы Клиентов')\n",
        "  g.set_title('Мера разнообразия продуктов в зависимости от типа Клиентов \\n Больше мера - более равномерное распределение категорий')\n",
        "\n",
        "del fig, ax\n",
        "del g\n",
        "del data_to_plot, customer_legal_form_variety_index\n",
        "gc.collect()"
      ],
      "execution_count": null,
      "outputs": []
    },
    {
      "cell_type": "markdown",
      "metadata": {
        "id": "zCZVlVbK-Pmm"
      },
      "source": [
        "Тип клиента и самый часто закупаемый им тип продукта"
      ]
    },
    {
      "cell_type": "code",
      "metadata": {
        "id": "vfBh3OTj-WB-"
      },
      "source": [
        "with sbs.plotting_context(font_scale=1.6):\n",
        "  data_to_plot = data.filter(['customer_legal_form', 'product_code', 'reg_num'], axis=1)\n",
        "  data_to_plot['customer_legal_form'] = data_to_plot['customer_legal_form'].map(OKOPF_sub)\n",
        "  data_to_plot['product_code'] = data_to_plot['product_code'].map(OKPD_mapping)\n",
        "  customer_legal_form_product_type = data_to_plot.groupby(['customer_legal_form', 'product_code']).size().unstack().transpose().idxmax()\n",
        "  print(customer_legal_form_product_type)\n",
        "\n",
        "\n",
        "del data_to_plot, customer_legal_form_product_type\n",
        "gc.collect()"
      ],
      "execution_count": null,
      "outputs": []
    },
    {
      "cell_type": "markdown",
      "metadata": {
        "id": "iUa7yJaKB36Y"
      },
      "source": [
        "Результат: типы продуктов и типы покупателей проявляют некоторую корреляцию(в типах клиентов с низкой мерой разнообразия), что позволяет объяснить корреляцию некоторых типов покупателей с ценой и продолжительностью контракта(Акционерные общества, Юридические лица, ООО)"
      ]
    },
    {
      "cell_type": "markdown",
      "metadata": {
        "id": "zmqgTggwuMFu"
      },
      "source": [
        "## Общее распределение завершенности"
      ]
    },
    {
      "cell_type": "markdown",
      "metadata": {
        "id": "dkRvK8J2CxNb"
      },
      "source": [
        "Распределение контрактов по степеням завершенности - ожидаемое, малое кол-во продолжающихся контрактов, большое количество разорванных и заверщенных контрактов."
      ]
    },
    {
      "cell_type": "code",
      "metadata": {
        "id": "5sHlv9XSuRne"
      },
      "source": [
        "g = sbs.countplot(x = 'current_contract_stage', data = data)\n",
        "g.set(xlabel = 'Степень завершенности контракта', ylabel = 'Количество контрактов')\n",
        "\n",
        "del g\n",
        "gc.collect()"
      ],
      "execution_count": null,
      "outputs": []
    },
    {
      "cell_type": "markdown",
      "metadata": {
        "id": "PKq0D1Pu940b"
      },
      "source": [
        "Для каждого из типов клиента сохраняется похожее распределение, кроме типов с малым кол-вом контрактов и муниципальных бюджетных учреждений(примерно 50% прекращенных контрактов), для других типов доля ЕС к ЕТ колеблется от 4:1 до 10:1."
      ]
    },
    {
      "cell_type": "code",
      "metadata": {
        "id": "dZUxE_kWnvtE"
      },
      "source": [
        "with sbs.plotting_context(font_scale=1.6):\n",
        "  data_to_plot = data.filter(['customer_legal_form', 'current_contract_stage', 'reg_num'], axis=1)\n",
        "  data_to_plot['customer_legal_form'] = data_to_plot['customer_legal_form'].map(OKOPF_sub)\n",
        "  customer_legal_form_x_stage = data_to_plot.groupby(['customer_legal_form', 'current_contract_stage']).size().unstack()\n",
        "  a4_dims = (5, 15)\n",
        "  fig, ax = plt.subplots(figsize=a4_dims)\n",
        "  sbs.heatmap(ax = ax, data = customer_legal_form_x_stage, annot=True, fmt='0.0f')\n",
        "\n",
        "del fig, ax\n",
        "del data_to_plot, customer_legal_form_x_stage\n",
        "gc.collect()"
      ],
      "execution_count": null,
      "outputs": []
    },
    {
      "cell_type": "markdown",
      "metadata": {
        "id": "rCcQmUL87z46"
      },
      "source": [
        "## Завершенность и продолжительность"
      ]
    },
    {
      "cell_type": "markdown",
      "metadata": {
        "id": "-k80I0-vC9C6"
      },
      "source": [
        "Продолжающиеся контракты разбиваются на две группы - продолжительные(большинство, так как накапливаются за продолжительное время) и короткие(меньшинство, так как быстро заканчиваются).\n",
        "Большинство завершенных контрактов - короткие."
      ]
    },
    {
      "cell_type": "code",
      "metadata": {
        "id": "TDqeBpYUitCb"
      },
      "source": [
        "g = sbs.catplot(x = 'current_contract_stage', y = 'time', kind ='violin', aspect = 1, data = data)\n",
        "g.set(yscale = 'log', xlabel = 'Завершенность', ylabel = 'Время')\n",
        "\n",
        "del g\n",
        "gc.collect()"
      ],
      "execution_count": null,
      "outputs": []
    },
    {
      "cell_type": "markdown",
      "metadata": {
        "id": "i05lhktn-t5n"
      },
      "source": [
        "Подобное распределение сохраняется для кажого типа клиента в отдельности, однако, стоит отметить, что контракты ЕС в среднем короче(на 33-50%) чем контракты ЕТ, что плохо видно на графике выше."
      ]
    },
    {
      "cell_type": "code",
      "metadata": {
        "id": "Urf7OZrqqlLd"
      },
      "source": [
        "with sbs.plotting_context(font_scale=1.6):\n",
        "  data_to_plot = data.filter(['customer_legal_form', 'current_contract_stage', 'time'], axis=1)\n",
        "  data_to_plot['customer_legal_form'] = data_to_plot['customer_legal_form'].map(OKOPF_sub)\n",
        "  customer_legal_form_x_mean_time = data_to_plot.groupby(['customer_legal_form', 'current_contract_stage']).mean(['time'])['time'].unstack()\n",
        "  a4_dims = (7, 15)\n",
        "  fig, ax = plt.subplots(figsize=a4_dims)\n",
        "  sbs.heatmap(ax = ax, data = customer_legal_form_x_mean_time, annot=True, fmt='.0f')\n",
        "\n",
        "del fig, ax\n",
        "del data_to_plot, customer_legal_form_x_mean_time\n",
        "gc.collect()"
      ],
      "execution_count": null,
      "outputs": []
    },
    {
      "cell_type": "markdown",
      "metadata": {
        "id": "iz7gKZqM78sE"
      },
      "source": [
        "## Завершенность и цена"
      ]
    },
    {
      "cell_type": "markdown",
      "metadata": {
        "id": "itD7xmifDS_X"
      },
      "source": [
        "Цена продолжающихся контрактов - выше среднего"
      ]
    },
    {
      "cell_type": "code",
      "metadata": {
        "id": "Ku_ydaWkity8"
      },
      "source": [
        "g = sbs.catplot(x = 'current_contract_stage', y = 'price', kind ='box', aspect = 1, data = data)\n",
        "g.set(yscale = 'log', xlabel = 'Завершенность', ylabel = 'Цена')\n",
        "\n",
        "del g\n",
        "gc.collect()"
      ],
      "execution_count": null,
      "outputs": []
    },
    {
      "cell_type": "code",
      "metadata": {
        "id": "z3CFMbeFrZad"
      },
      "source": [
        "with sbs.plotting_context(font_scale=1.6):\n",
        "  data_to_plot = data.filter(['customer_legal_form', 'current_contract_stage', 'price'], axis=1)\n",
        "  data_to_plot['customer_legal_form'] = data_to_plot['customer_legal_form'].map(OKOPF_sub)\n",
        "  customer_legal_form_x_mean_price = data_to_plot.groupby(['customer_legal_form', 'current_contract_stage']).mean(['price'])['price'].unstack()\n",
        "  a4_dims = (7, 15)\n",
        "  fig, ax = plt.subplots(figsize=a4_dims)\n",
        "  sbs.heatmap(ax = ax, data = customer_legal_form_x_mean_price, annot=True, fmt='.4e')\n",
        "\n",
        "del fig, ax\n",
        "del data_to_plot, customer_legal_form_x_mean_price\n",
        "gc.collect()"
      ],
      "execution_count": null,
      "outputs": []
    },
    {
      "cell_type": "markdown",
      "metadata": {
        "id": "1cEkbPiPGZsz"
      },
      "source": [
        "##Средняя цена поставщика и кол-во контрактов"
      ]
    },
    {
      "cell_type": "markdown",
      "metadata": {
        "id": "a465KqXMe4oz"
      },
      "source": [
        "Гипотеза: кол-во контрактов поставщика коррелирует со средней ценой контракта"
      ]
    },
    {
      "cell_type": "code",
      "metadata": {
        "id": "vUObpJktiCCp"
      },
      "source": [
        "sup_data = data.groupby('supplier_inn').agg({'price' : ['mean'], 'reg_num' : ['count']})\n",
        "sup_data = sup_data.dropna()"
      ],
      "execution_count": null,
      "outputs": []
    },
    {
      "cell_type": "code",
      "metadata": {
        "id": "MoxBeDDFm5ha"
      },
      "source": [
        "sup_data.sort_values(('price', 'mean'))"
      ],
      "execution_count": null,
      "outputs": []
    },
    {
      "cell_type": "code",
      "metadata": {
        "id": "iEoz2T2cm61D"
      },
      "source": [
        "sup_data.sort_values(('reg_num', 'count'))"
      ],
      "execution_count": null,
      "outputs": []
    },
    {
      "cell_type": "code",
      "metadata": {
        "id": "bfRkQWtpUFN5"
      },
      "source": [
        "sup_data.describe()"
      ],
      "execution_count": null,
      "outputs": []
    },
    {
      "cell_type": "code",
      "metadata": {
        "id": "DO_9_7GHCQk_"
      },
      "source": [
        "g = sbs.scatterplot(x = ('reg_num', 'count'), y = ('price', 'mean'), data = sup_data)\n",
        "g.set(xscale = 'log', yscale = 'log', xlabel = 'Кол-во Контрактов', ylabel = 'Средняя цена')\n",
        "\n",
        "del g\n",
        "gc.collect()"
      ],
      "execution_count": null,
      "outputs": []
    },
    {
      "cell_type": "markdown",
      "metadata": {
        "id": "arcMK9lDAjOE"
      },
      "source": [
        "Результат: Большее количество контрактов ограничивает среднюю цену в некотором промежутке. Больше контрактов -> цена стремится к \"средней\"."
      ]
    }
  ]
}